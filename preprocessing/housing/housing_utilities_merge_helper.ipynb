{
 "cells": [
  {
   "cell_type": "markdown",
   "metadata": {},
   "source": [
    "### note: change all of the paths to your correct path when loading in data"
   ]
  },
  {
   "cell_type": "code",
   "execution_count": 1,
   "metadata": {},
   "outputs": [],
   "source": [
    "import numpy as np\n",
    "import pandas as pd\n",
    "import matplotlib as mpl\n",
    "import matplotlib.pyplot as plt\n",
    "import scipy as scp\n",
    "from scipy import stats\n",
    "import statsmodels.api as sm\n",
    "import statsmodels.formula.api as smf\n",
    "import sklearn\n",
    "from sklearn.linear_model import LinearRegression\n",
    "import os\n",
    "import Levenshtein"
   ]
  },
  {
   "cell_type": "code",
   "execution_count": 2,
   "metadata": {},
   "outputs": [],
   "source": [
    "pd.options.display.max_rows = 600\n",
    "pd.options.display.max_columns = 85"
   ]
  },
  {
   "cell_type": "code",
   "execution_count": 4,
   "metadata": {},
   "outputs": [],
   "source": [
    "home_tmp = pd.read_csv('~/Dropbox/CDS-2019-AlbanyHub/Raw-Data/mismatched_home.csv', header = None)\n",
    "cdbg_tmp = pd.read_csv('~/Dropbox/CDS-2019-AlbanyHub/Raw-Data/mismatched_cdbg.csv', header = None)\n",
    "mismatched_home = home_tmp.iloc[:,0]\n",
    "mismatched_cdbg = cdbg_tmp.iloc[:,0]"
   ]
  },
  {
   "cell_type": "code",
   "execution_count": 5,
   "metadata": {},
   "outputs": [
    {
     "data": {
      "text/plain": [
       "99"
      ]
     },
     "execution_count": 5,
     "metadata": {},
     "output_type": "execute_result"
    }
   ],
   "source": [
    "mismatched_home.shape[0] + mismatched_cdbg.shape[0]"
   ]
  },
  {
   "cell_type": "code",
   "execution_count": 7,
   "metadata": {},
   "outputs": [
    {
     "name": "stderr",
     "output_type": "stream",
     "text": [
      "/anaconda3/envs/cds_env/lib/python3.7/site-packages/IPython/core/interactiveshell.py:3049: DtypeWarning: Columns (1) have mixed types. Specify dtype option on import or set low_memory=False.\n",
      "  interactivity=interactivity, compiler=compiler, result=result)\n",
      "/anaconda3/envs/cds_env/lib/python3.7/site-packages/IPython/core/interactiveshell.py:3049: DtypeWarning: Columns (4,9) have mixed types. Specify dtype option on import or set low_memory=False.\n",
      "  interactivity=interactivity, compiler=compiler, result=result)\n"
     ]
    }
   ],
   "source": [
    "df_utilities2012 = pd.read_csv('~/Dropbox/CDS-2019-AlbanyHub/Processed-Data/Totals2012.csv')\n",
    "df_utilities2013 = pd.read_csv('~/Dropbox/CDS-2019-AlbanyHub/Processed-Data/Totals2013.csv')\n",
    "df_utilities2014 = pd.read_csv('~/Dropbox/CDS-2019-AlbanyHub/Processed-Data/Totals2014.csv')\n",
    "df_utilities2015 = pd.read_csv('~/Dropbox/CDS-2019-AlbanyHub/Processed-Data/Totals2015.csv')\n",
    "df_utilities2016 = pd.read_csv('~/Dropbox/CDS-2019-AlbanyHub/Processed-Data/Totals2016.csv')\n",
    "df_utilities2017 = pd.read_csv('~/Dropbox/CDS-2019-AlbanyHub/Processed-Data/Totals2017.csv')\n",
    "df_utilities2018 = pd.read_csv('~/Dropbox/CDS-2019-AlbanyHub/Processed-Data/Totals2018.csv')\n",
    "df_utilities2019 = pd.read_csv('~/Dropbox/CDS-2019-AlbanyHub/Processed-Data/Totals2019.csv')\n",
    "df_utilities_list = [df_utilities2012,df_utilities2013,df_utilities2014,df_utilities2015,\n",
    "                    df_utilities2016,df_utilities2017,df_utilities2018,df_utilities2019]"
   ]
  },
  {
   "cell_type": "code",
   "execution_count": 8,
   "metadata": {},
   "outputs": [],
   "source": [
    "list1 = []\n",
    "list2 = []\n",
    "for df_u in df_utilities_list:\n",
    "    list1.append(df_u['Premise Address'])\n",
    "for series_u in list1:\n",
    "    for row in series_u:\n",
    "        list2.append(row)\n",
    "series_utilities = pd.Series(list2)"
   ]
  },
  {
   "cell_type": "code",
   "execution_count": 9,
   "metadata": {},
   "outputs": [],
   "source": [
    "s_utilities = series_utilities.unique()"
   ]
  },
  {
   "cell_type": "code",
   "execution_count": 11,
   "metadata": {},
   "outputs": [],
   "source": [
    "xlsx = pd.ExcelFile('~/Dropbox/CDS-2019-AlbanyHub/Raw-Data/All CED Funded Projects 2007-2017.xlsx')\n",
    "df1_original = pd.read_excel(xlsx, 'HOME Funded Projects')\n",
    "df2_original = pd.read_excel(xlsx, 'CDBG Funded Projects')\n",
    "df_original = pd.concat([df1_original, df2_original])\n",
    "df_original.index = range(850)"
   ]
  },
  {
   "cell_type": "markdown",
   "metadata": {},
   "source": [
    "### helper functions"
   ]
  },
  {
   "cell_type": "code",
   "execution_count": 12,
   "metadata": {},
   "outputs": [],
   "source": [
    "def lev_list(address_list, address, i):\n",
    "    temp_list = []\n",
    "    temp_list_u = []\n",
    "    for u_address in address_list:\n",
    "        if Levenshtein.distance(address, u_address.upper()) <= i:\n",
    "            temp_list.append(address)\n",
    "            temp_list_u.append(u_address.upper())\n",
    "    temp_list_series = pd.Series(temp_list)\n",
    "    temp_list_u_series = pd.Series(temp_list_u)\n",
    "    return temp_list_u_series"
   ]
  },
  {
   "cell_type": "code",
   "execution_count": 13,
   "metadata": {},
   "outputs": [],
   "source": [
    "def space_fix_utilities(s_util):\n",
    "    s_util_to_series = []\n",
    "    for address in s_util:\n",
    "        full_address = address.split()\n",
    "        length = len(full_address)\n",
    "        word = full_address[0] + \"  \"\n",
    "        for i in range(1, length-1):\n",
    "            word += full_address[i] + \" \"\n",
    "        word += \" \" + full_address[length-1]\n",
    "        word = word.strip()\n",
    "        s_util_to_series.append(word)\n",
    "    return pd.Series(s_util_to_series)"
   ]
  },
  {
   "cell_type": "code",
   "execution_count": 14,
   "metadata": {},
   "outputs": [],
   "source": [
    "def construct_fixed_addresses(list_series):\n",
    "    tmp_to_series = []\n",
    "    for (apt, dup, sno, snm, stp) in zip(list_series[0],list_series[1],list_series[2],\n",
    "                                         list_series[3],list_series[4]):\n",
    "        word = \"\"\n",
    "        if sno != \"NA\":\n",
    "            word += sno + \"  \"\n",
    "        if snm != \"NA\":\n",
    "            word += snm + \"  \"\n",
    "        if stp != \"NA\":\n",
    "            word += stp\n",
    "        tmp_to_series.append(word.strip())\n",
    "    return pd.Series(tmp_to_series)"
   ]
  },
  {
   "cell_type": "code",
   "execution_count": 15,
   "metadata": {},
   "outputs": [],
   "source": [
    "def gen_list_none(address_list, mismatched, i):\n",
    "    tmp_list = []\n",
    "    for address in mismatched:\n",
    "        if address == \"UNKNOWN ADDRESS\" or address == \"SUPPRESSED ADDRESS\":\n",
    "            continue\n",
    "        if lev_list(address_list, address, i).shape[0] == 0:\n",
    "            tmp_list.append(address)\n",
    "    return pd.Series(tmp_list)"
   ]
  },
  {
   "cell_type": "markdown",
   "metadata": {},
   "source": [
    "### Read in more data"
   ]
  },
  {
   "cell_type": "code",
   "execution_count": 31,
   "metadata": {},
   "outputs": [],
   "source": [
    "# s_utilities = space_fix_utilities(s_utilities)\n",
    "df_parsehome = pd.read_csv('~/Dropbox/CDS-2019-AlbanyHub/Raw-Data/fixed_home_v02.csv')\n",
    "df_parsecdbg = pd.read_csv('~/Dropbox/CDS-2019-AlbanyHub/Raw-Data/fixed_cdbg.csv')"
   ]
  },
  {
   "cell_type": "code",
   "execution_count": 18,
   "metadata": {},
   "outputs": [],
   "source": [
    "s_parsehome = df_parsehome['Address']\n",
    "s_parsecdbg = df_parsecdbg['Address']"
   ]
  },
  {
   "cell_type": "code",
   "execution_count": 19,
   "metadata": {},
   "outputs": [],
   "source": [
    "def containsAPT(series):\n",
    "    apt_list = []\n",
    "    for address in series:\n",
    "        if \"APT\" in address:\n",
    "            apt_list.append(address)\n",
    "    return pd.Series(apt_list)"
   ]
  },
  {
   "cell_type": "code",
   "execution_count": 20,
   "metadata": {},
   "outputs": [],
   "source": [
    "def containsDUP(series):\n",
    "    dup_list = []\n",
    "    for address in series:\n",
    "        full_address = address.split(' ')\n",
    "        length = len(full_address)\n",
    "        for i in range(length - 1):\n",
    "            word = full_address[i]\n",
    "            if len(word) == 1:\n",
    "                if not ((word == 'N') or (word == 'E')\n",
    "                or (word == 'S') or (word == 'W')):\n",
    "                    dup_list.append(address)\n",
    "    return pd.Series(dup_list)"
   ]
  },
  {
   "cell_type": "code",
   "execution_count": 21,
   "metadata": {},
   "outputs": [],
   "source": [
    "def clean(series):\n",
    "    tmp_list = []\n",
    "    for address in series:\n",
    "        full_address = address.split(' ')\n",
    "        length = len(full_address)\n",
    "        if any(char.isdigit() for char in full_address[length-1]):\n",
    "            tmp_list.append(address)\n",
    "        else:\n",
    "            tmp_list.append(\"---\")\n",
    "    return pd.Series(tmp_list)"
   ]
  },
  {
   "cell_type": "code",
   "execution_count": 22,
   "metadata": {},
   "outputs": [],
   "source": [
    "def splitter(series):\n",
    "    apt_list = set(containsAPT(series))\n",
    "    dup_list = set(containsDUP(series))\n",
    "    sno_to_series = []\n",
    "    snm_to_series = []\n",
    "    stp_to_series = []\n",
    "    apt_to_series = []\n",
    "    dup_to_series = []\n",
    "\n",
    "    for address in series:\n",
    "        full_address = address.split()\n",
    "        length = len(full_address)\n",
    "        begin_index = 1\n",
    "        end_index = length - 1\n",
    "        #mutually exclusive apt and duplex\n",
    "        if address == \"UNKNOWN ADDRESS\":\n",
    "            sno_to_series.append(\"NA\")\n",
    "            snm_to_series.append(\"UNKNOWN ADDRESS\")\n",
    "            stp_to_series.append(\"NA\")\n",
    "            apt_to_series.append(\"NA\")\n",
    "            dup_to_series.append(\"NA\")\n",
    "            continue\n",
    "        if address == \"SUPPRESSED ADDRESS\":\n",
    "            sno_to_series.append(\"NA\")\n",
    "            snm_to_series.append(\"SUPPRESSED ADDRESS\")\n",
    "            stp_to_series.append(\"NA\")\n",
    "            apt_to_series.append(\"NA\")\n",
    "            dup_to_series.append(\"NA\")\n",
    "            continue\n",
    "        if address in apt_list:\n",
    "            apt_to_series.append(full_address[length-1])\n",
    "            stp_to_series.append(full_address[length-3])\n",
    "            end_index -= 2\n",
    "        else:\n",
    "            apt_to_series.append(\"NA\")\n",
    "            stp_to_series.append(full_address[length-1])\n",
    "            \n",
    "        if address in dup_list:\n",
    "            dup_to_series.append(full_address[1])\n",
    "            begin_index += 1\n",
    "        else:\n",
    "            dup_to_series.append(\"NA\")\n",
    "        sno_to_series.append(full_address[0])\n",
    "        to_str = full_address[begin_index:end_index]\n",
    "        word = \"\"\n",
    "        for part in to_str:\n",
    "            word += part + \" \"\n",
    "        snm_to_series.append(word.strip())\n",
    "    series_apt = pd.Series(apt_to_series)\n",
    "    series_dup = pd.Series(dup_to_series)\n",
    "    series_sno = pd.Series(sno_to_series)\n",
    "    series_snm = pd.Series(snm_to_series)\n",
    "    series_stp = pd.Series(stp_to_series)\n",
    "    return (series_apt, series_dup, series_sno, series_snm, series_stp)"
   ]
  },
  {
   "cell_type": "code",
   "execution_count": 23,
   "metadata": {},
   "outputs": [],
   "source": [
    "series_apt_home, series_dup_home, series_sno_home, series_snm_home, series_stp_home = splitter(s_parsehome)\n",
    "series_apt_cdbg, series_dup_cdbg, series_sno_cdbg, series_snm_cdbg, series_stp_cdbg = splitter(s_parsecdbg)"
   ]
  },
  {
   "cell_type": "code",
   "execution_count": 24,
   "metadata": {},
   "outputs": [
    {
     "name": "stdout",
     "output_type": "stream",
     "text": [
      "(286,)\n",
      "(286,)\n",
      "(286,)\n",
      "(286,)\n",
      "(286,)\n",
      "(564,)\n",
      "(564,)\n",
      "(564,)\n",
      "(564,)\n",
      "(564,)\n"
     ]
    }
   ],
   "source": [
    "home = [series_apt_home, series_dup_home, series_sno_home, series_snm_home, series_stp_home]\n",
    "cdbg = [series_apt_cdbg, series_dup_cdbg, series_sno_cdbg, series_snm_cdbg, series_stp_cdbg]\n",
    "for hom in home:\n",
    "    print(hom.shape)\n",
    "for cdb in cdbg:\n",
    "    print(cdb.shape)"
   ]
  },
  {
   "cell_type": "code",
   "execution_count": 25,
   "metadata": {},
   "outputs": [],
   "source": [
    "def checker(list_series):\n",
    "    tmp_to_series = []\n",
    "    for (apt, dup, sno, snm, stp) in zip(list_series[0],list_series[1],list_series[2],\n",
    "                                         list_series[3],list_series[4]):\n",
    "        word = \"\"\n",
    "        if sno != \"NA\":\n",
    "            word += sno + \" \"\n",
    "        if dup != \"NA\":\n",
    "            word += dup + \" \"\n",
    "        word += snm + \" \"\n",
    "        if stp != \"NA\":\n",
    "            word += stp + \" \"\n",
    "        if apt != \"NA\":\n",
    "            word += \"APT \" + apt\n",
    "        word = word.strip()\n",
    "        tmp_to_series.append(word)\n",
    "    return pd.Series(tmp_to_series)"
   ]
  },
  {
   "cell_type": "code",
   "execution_count": 26,
   "metadata": {},
   "outputs": [
    {
     "data": {
      "text/plain": [
       "Series([], Name: Address, dtype: object)"
      ]
     },
     "execution_count": 26,
     "metadata": {},
     "output_type": "execute_result"
    }
   ],
   "source": [
    "s_parsehome[checker(home) != s_parsehome]"
   ]
  },
  {
   "cell_type": "code",
   "execution_count": 27,
   "metadata": {},
   "outputs": [],
   "source": [
    "df_all_addresses = pd.read_csv('~/Dropbox/CDS-2019-AlbanyHub/Processed-Data/all_addresses.csv')\n",
    "df_all_addresses = df_all_addresses.drop('Unnamed: 0', axis = 1)\n",
    "s_all_addresses = df_all_addresses['line1']"
   ]
  },
  {
   "cell_type": "markdown",
   "metadata": {},
   "source": [
    "### Workflow"
   ]
  },
  {
   "cell_type": "markdown",
   "metadata": {},
   "source": [
    "s_utilities is a list of all addresses that show up in the utilities data <br>\n",
    "s_all_addresses is a list of all addresses in Albany <br>\n",
    "df_original is a list of all housing projects <br>\n",
    "lev_list takes in one of the two lists above, an address, and a threshold. <br>\n",
    "If the address is within the threshold distance (string comparison) of an address in the two lists, it will print out."
   ]
  },
  {
   "cell_type": "markdown",
   "metadata": {},
   "source": [
    "### example (note the spacing difference between addresses in utilities and the full addr list)"
   ]
  },
  {
   "cell_type": "code",
   "execution_count": 28,
   "metadata": {},
   "outputs": [
    {
     "data": {
      "text/plain": [
       "0    2624  S MADISON  ST\n",
       "1    2622  S MADISON  ST\n",
       "2    2220  S MADISON  ST\n",
       "3    2120  S MADISON  ST\n",
       "4    2020  S MADISON  ST\n",
       "dtype: object"
      ]
     },
     "execution_count": 28,
     "metadata": {},
     "output_type": "execute_result"
    }
   ],
   "source": [
    "lev_list(s_utilities, \"2620  S MADISON  ST\", 1)"
   ]
  },
  {
   "cell_type": "code",
   "execution_count": 29,
   "metadata": {},
   "outputs": [
    {
     "data": {
      "text/plain": [
       "0    2624 S MADISON ST\n",
       "1    2622 S MADISON ST\n",
       "2    2620 S MADISON ST\n",
       "3    2600 S MADISON ST\n",
       "4    2220 S MADISON ST\n",
       "5    2120 S MADISON ST\n",
       "6    2020 S MADISON ST\n",
       "dtype: object"
      ]
     },
     "execution_count": 29,
     "metadata": {},
     "output_type": "execute_result"
    }
   ],
   "source": [
    "lev_list(s_all_addresses, \"2620 S MADISON ST\", 1)"
   ]
  },
  {
   "cell_type": "markdown",
   "metadata": {},
   "source": [
    "So in the above example, 2620 S Madison St is found in the list of all addresses, but not found in the utilities data. Record this fact in the google doc. Then, look up the project type in the housing project data to also record what type of project it was. I'm looking to see if there is any trend with demolition or disposition projects not being found in utilities data."
   ]
  },
  {
   "cell_type": "markdown",
   "metadata": {},
   "source": [
    "### example (note the capitalization difference)"
   ]
  },
  {
   "cell_type": "code",
   "execution_count": 30,
   "metadata": {},
   "outputs": [
    {
     "data": {
      "text/html": [
       "<div>\n",
       "<style scoped>\n",
       "    .dataframe tbody tr th:only-of-type {\n",
       "        vertical-align: middle;\n",
       "    }\n",
       "\n",
       "    .dataframe tbody tr th {\n",
       "        vertical-align: top;\n",
       "    }\n",
       "\n",
       "    .dataframe thead th {\n",
       "        text-align: right;\n",
       "    }\n",
       "</style>\n",
       "<table border=\"1\" class=\"dataframe\">\n",
       "  <thead>\n",
       "    <tr style=\"text-align: right;\">\n",
       "      <th></th>\n",
       "      <th>Parcel ID</th>\n",
       "      <th>Address</th>\n",
       "      <th>City</th>\n",
       "      <th>State</th>\n",
       "      <th>XY Coordinates</th>\n",
       "      <th>Plan Year</th>\n",
       "      <th>IDIS Project</th>\n",
       "      <th>Project</th>\n",
       "      <th>IDIS Activity ID</th>\n",
       "      <th>Activity Status</th>\n",
       "      <th>Program</th>\n",
       "      <th>Funded Amount</th>\n",
       "      <th>Draw Amount</th>\n",
       "      <th>Balance</th>\n",
       "    </tr>\n",
       "  </thead>\n",
       "  <tbody>\n",
       "    <tr>\n",
       "      <th>57</th>\n",
       "      <td>00012/00004/011</td>\n",
       "      <td>2620 S. Madison</td>\n",
       "      <td>Albany</td>\n",
       "      <td>GA</td>\n",
       "      <td>31.5319347, -84.1596916</td>\n",
       "      <td>2010</td>\n",
       "      <td>22</td>\n",
       "      <td>Acquisition/Rehabilitation</td>\n",
       "      <td>928</td>\n",
       "      <td>Completed</td>\n",
       "      <td>HOME</td>\n",
       "      <td>53553.46</td>\n",
       "      <td>53553.46</td>\n",
       "      <td>0.0</td>\n",
       "    </tr>\n",
       "    <tr>\n",
       "      <th>645</th>\n",
       "      <td>NaN</td>\n",
       "      <td>1308 S. Madison</td>\n",
       "      <td>Albany</td>\n",
       "      <td>GA</td>\n",
       "      <td>NaN</td>\n",
       "      <td>2014</td>\n",
       "      <td>9</td>\n",
       "      <td>Emergency Repairs</td>\n",
       "      <td>1247</td>\n",
       "      <td>Completed</td>\n",
       "      <td>CDBG</td>\n",
       "      <td>2987.00</td>\n",
       "      <td>2987.00</td>\n",
       "      <td>0.0</td>\n",
       "    </tr>\n",
       "    <tr>\n",
       "      <th>739</th>\n",
       "      <td>NaN</td>\n",
       "      <td>2221 S. Madison</td>\n",
       "      <td>Albany</td>\n",
       "      <td>GA</td>\n",
       "      <td>NaN</td>\n",
       "      <td>2015</td>\n",
       "      <td>16</td>\n",
       "      <td>Demolition</td>\n",
       "      <td>1334</td>\n",
       "      <td>Completed</td>\n",
       "      <td>CDBG</td>\n",
       "      <td>5092.00</td>\n",
       "      <td>5092.00</td>\n",
       "      <td>0.0</td>\n",
       "    </tr>\n",
       "  </tbody>\n",
       "</table>\n",
       "</div>"
      ],
      "text/plain": [
       "           Parcel ID          Address    City State           XY Coordinates  \\\n",
       "57   00012/00004/011  2620 S. Madison  Albany    GA  31.5319347, -84.1596916   \n",
       "645              NaN  1308 S. Madison  Albany    GA                      NaN   \n",
       "739              NaN  2221 S. Madison  Albany    GA                      NaN   \n",
       "\n",
       "     Plan Year  IDIS Project                     Project  IDIS Activity ID  \\\n",
       "57        2010            22  Acquisition/Rehabilitation               928   \n",
       "645       2014             9           Emergency Repairs              1247   \n",
       "739       2015            16                  Demolition              1334   \n",
       "\n",
       "    Activity Status Program  Funded Amount  Draw Amount  Balance  \n",
       "57        Completed    HOME       53553.46     53553.46      0.0  \n",
       "645       Completed    CDBG        2987.00      2987.00      0.0  \n",
       "739       Completed    CDBG        5092.00      5092.00      0.0  "
      ]
     },
     "execution_count": 30,
     "metadata": {},
     "output_type": "execute_result"
    }
   ],
   "source": [
    "df_original[df_original['Address'].str.contains('Madison')]"
   ]
  },
  {
   "cell_type": "markdown",
   "metadata": {},
   "source": [
    "### Tests"
   ]
  },
  {
   "cell_type": "code",
   "execution_count": 32,
   "metadata": {},
   "outputs": [
    {
     "data": {
      "text/plain": [
       "0             2620  S MADISON  ST\n",
       "1               529  COCHRAN  AVE\n",
       "2          2226  OLD DOMINION  DR\n",
       "3             2701  DONCASTER  RD\n",
       "4            250  BONNY VIEW  AVE\n",
       "5            249  BONNY VIEW  AVE\n",
       "6            248  BONNY VIEW  AVE\n",
       "7            251  BONNY VIEW  AVE\n",
       "8            253  BONNY VIEW  AVE\n",
       "9            247  BONNY VIEW  AVE\n",
       "10           254  BONNY VIEW  AVE\n",
       "11           243  BONNY VIEW  AVE\n",
       "12           245  BONNY VIEW  AVE\n",
       "13           252  BONNY VIEW  AVE\n",
       "14            2010  LAFAYETTE  CR\n",
       "15              20  S JACKSON  ST\n",
       "16               603  N HALEY  ST\n",
       "17           1112  PEACHTREE  TER\n",
       "18             2517  CARDINAL  DR\n",
       "19            2006  LAFAYETTE  CR\n",
       "20              818  WESTVIEW  DR\n",
       "21              2501  REDWOOD  CR\n",
       "22              933  RANDOLPH  DR\n",
       "23            2201  CHAMPAGNE  DR\n",
       "24              215  BROADWAY  ST\n",
       "25              1003  HOLLAND  DR\n",
       "26            2200  CHAMPAGNE  LN\n",
       "27           1019  UNIVERSITY  DR\n",
       "28            509  WESTOVER  BLVD\n",
       "29            2312  GLENEAGLE  DR\n",
       "30          421  N WESTOVER  BLVD\n",
       "31          421  N WESTOVER  BLVD\n",
       "32           2710  W OAKRDIGE  DR\n",
       "33    1404  WHISPERING PINES  AVE\n",
       "Name: 0, dtype: object"
      ]
     },
     "execution_count": 32,
     "metadata": {},
     "output_type": "execute_result"
    }
   ],
   "source": [
    "mismatched_home"
   ]
  },
  {
   "cell_type": "code",
   "execution_count": 148,
   "metadata": {},
   "outputs": [
    {
     "data": {
      "text/plain": [
       "0    2312  GLENEAGLES  DR\n",
       "dtype: object"
      ]
     },
     "execution_count": 148,
     "metadata": {},
     "output_type": "execute_result"
    }
   ],
   "source": [
    "lev_list(s_utilities, \"2312  GLENEAGLE  DR\", 1)"
   ]
  },
  {
   "cell_type": "code",
   "execution_count": 150,
   "metadata": {},
   "outputs": [
    {
     "data": {
      "text/plain": [
       "0    2312 GLENEAGLES DR\n",
       "dtype: object"
      ]
     },
     "execution_count": 150,
     "metadata": {},
     "output_type": "execute_result"
    }
   ],
   "source": [
    "lev_list(s_all_addresses, \"2312 GLENEAGLE DR\", 1)"
   ]
  },
  {
   "cell_type": "code",
   "execution_count": 151,
   "metadata": {},
   "outputs": [
    {
     "data": {
      "text/html": [
       "<div>\n",
       "<style scoped>\n",
       "    .dataframe tbody tr th:only-of-type {\n",
       "        vertical-align: middle;\n",
       "    }\n",
       "\n",
       "    .dataframe tbody tr th {\n",
       "        vertical-align: top;\n",
       "    }\n",
       "\n",
       "    .dataframe thead th {\n",
       "        text-align: right;\n",
       "    }\n",
       "</style>\n",
       "<table border=\"1\" class=\"dataframe\">\n",
       "  <thead>\n",
       "    <tr style=\"text-align: right;\">\n",
       "      <th></th>\n",
       "      <th>Parcel ID</th>\n",
       "      <th>Address</th>\n",
       "      <th>City</th>\n",
       "      <th>State</th>\n",
       "      <th>XY Coordinates</th>\n",
       "      <th>Plan Year</th>\n",
       "      <th>IDIS Project</th>\n",
       "      <th>Project</th>\n",
       "      <th>IDIS Activity ID</th>\n",
       "      <th>Activity Status</th>\n",
       "      <th>Program</th>\n",
       "      <th>Funded Amount</th>\n",
       "      <th>Draw Amount</th>\n",
       "      <th>Balance</th>\n",
       "    </tr>\n",
       "  </thead>\n",
       "  <tbody>\n",
       "    <tr>\n",
       "      <th>232</th>\n",
       "      <td>00238/00047/003</td>\n",
       "      <td>2312 Gleneagle Drive Apt. B</td>\n",
       "      <td>Albany</td>\n",
       "      <td>GA</td>\n",
       "      <td>31.5532888, -84.2080964</td>\n",
       "      <td>2016</td>\n",
       "      <td>19</td>\n",
       "      <td>Tenant Based Rental Assistance</td>\n",
       "      <td>1476</td>\n",
       "      <td>Completed</td>\n",
       "      <td>HOME</td>\n",
       "      <td>1026.31</td>\n",
       "      <td>1026.31</td>\n",
       "      <td>0.00</td>\n",
       "    </tr>\n",
       "    <tr>\n",
       "      <th>233</th>\n",
       "      <td>00238/00047/001</td>\n",
       "      <td>2316-B Gleneagles Drive</td>\n",
       "      <td>Albany</td>\n",
       "      <td>GA</td>\n",
       "      <td>31.5532685, -84.2086317</td>\n",
       "      <td>2016</td>\n",
       "      <td>19</td>\n",
       "      <td>Tenant Based Rental Assistance</td>\n",
       "      <td>1412</td>\n",
       "      <td>Completed</td>\n",
       "      <td>HOME</td>\n",
       "      <td>7609.94</td>\n",
       "      <td>7609.94</td>\n",
       "      <td>0.00</td>\n",
       "    </tr>\n",
       "    <tr>\n",
       "      <th>270</th>\n",
       "      <td>00238/00047/003</td>\n",
       "      <td>2312 Gleneagles Drive Apt. B</td>\n",
       "      <td>Albany</td>\n",
       "      <td>GA</td>\n",
       "      <td>31.5532888, -84.2080964</td>\n",
       "      <td>2017</td>\n",
       "      <td>11</td>\n",
       "      <td>Tenant Based Rental Assistance</td>\n",
       "      <td>1494</td>\n",
       "      <td>Open</td>\n",
       "      <td>HOME</td>\n",
       "      <td>6689.00</td>\n",
       "      <td>3866.53</td>\n",
       "      <td>2822.47</td>\n",
       "    </tr>\n",
       "  </tbody>\n",
       "</table>\n",
       "</div>"
      ],
      "text/plain": [
       "           Parcel ID                       Address    City State  \\\n",
       "232  00238/00047/003   2312 Gleneagle Drive Apt. B  Albany    GA   \n",
       "233  00238/00047/001       2316-B Gleneagles Drive  Albany    GA   \n",
       "270  00238/00047/003  2312 Gleneagles Drive Apt. B  Albany    GA   \n",
       "\n",
       "              XY Coordinates  Plan Year  IDIS Project  \\\n",
       "232  31.5532888, -84.2080964       2016            19   \n",
       "233  31.5532685, -84.2086317       2016            19   \n",
       "270  31.5532888, -84.2080964       2017            11   \n",
       "\n",
       "                            Project  IDIS Activity ID Activity Status Program  \\\n",
       "232  Tenant Based Rental Assistance              1476       Completed    HOME   \n",
       "233  Tenant Based Rental Assistance              1412       Completed    HOME   \n",
       "270  Tenant Based Rental Assistance              1494            Open    HOME   \n",
       "\n",
       "     Funded Amount  Draw Amount  Balance  \n",
       "232        1026.31      1026.31     0.00  \n",
       "233        7609.94      7609.94     0.00  \n",
       "270        6689.00      3866.53  2822.47  "
      ]
     },
     "execution_count": 151,
     "metadata": {},
     "output_type": "execute_result"
    }
   ],
   "source": [
    "df_original[df_original['Address'].str.contains('Gleneagle')]"
   ]
  },
  {
   "cell_type": "code",
   "execution_count": null,
   "metadata": {},
   "outputs": [],
   "source": []
  }
 ],
 "metadata": {
  "kernelspec": {
   "display_name": "Python [conda env:cds_env] *",
   "language": "python",
   "name": "conda-env-cds_env-py"
  },
  "language_info": {
   "codemirror_mode": {
    "name": "ipython",
    "version": 3
   },
   "file_extension": ".py",
   "mimetype": "text/x-python",
   "name": "python",
   "nbconvert_exporter": "python",
   "pygments_lexer": "ipython3",
   "version": "3.7.3"
  }
 },
 "nbformat": 4,
 "nbformat_minor": 2
}
