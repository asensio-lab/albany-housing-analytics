{
 "cells": [
  {
   "cell_type": "code",
   "execution_count": 1,
   "metadata": {},
   "outputs": [],
   "source": [
    "import pandas as pd\n",
    "import numpy as np\n",
    "import Levenshtein\n",
    "import math"
   ]
  },
  {
   "cell_type": "code",
   "execution_count": 2,
   "metadata": {},
   "outputs": [],
   "source": [
    "pd.options.display.max_columns = 22\n",
    "pd.options.display.max_rows = 1000"
   ]
  },
  {
   "cell_type": "markdown",
   "metadata": {},
   "source": [
    "## Functions"
   ]
  },
  {
   "cell_type": "code",
   "execution_count": 3,
   "metadata": {},
   "outputs": [],
   "source": [
    "def lev_list(address_list, address, i): # will help us find near matches\n",
    "    temp_list = []\n",
    "    temp_list_u = []\n",
    "    for u_address in address_list:\n",
    "        if Levenshtein.distance(address, u_address.upper()) <= i:\n",
    "            temp_list.append(address)\n",
    "            temp_list_u.append(u_address.upper())\n",
    "    temp_list_series = pd.Series(temp_list)\n",
    "    temp_list_u_series = pd.Series(temp_list_u)\n",
    "    return temp_list_u_series"
   ]
  },
  {
   "cell_type": "code",
   "execution_count": 4,
   "metadata": {},
   "outputs": [],
   "source": [
    "def gen_list_none(address_list, mismatched, i): # just to find how many addresses are so far off from anything in full\n",
    "    tmp_list = []\n",
    "    for address in mismatched:\n",
    "        if address == \"UNKNOWN ADDRESS\" or address == \"SUPPRESSED ADDRESS\":\n",
    "            continue\n",
    "        if lev_list(address_list, address, i).shape[0] == 0:\n",
    "            tmp_list.append(address)\n",
    "    return pd.Series(tmp_list)"
   ]
  },
  {
   "cell_type": "code",
   "execution_count": 5,
   "metadata": {},
   "outputs": [],
   "source": [
    "def hasNumbers(inputString): # from stackoverflow\n",
    "    return any(char.isdigit() for char in inputString)"
   ]
  },
  {
   "cell_type": "code",
   "execution_count": 6,
   "metadata": {},
   "outputs": [],
   "source": [
    "def combine(row):\n",
    "    word = \"\"\n",
    "    for r in row:\n",
    "        if r != None:\n",
    "            word += r + \" \"\n",
    "    return word.strip()"
   ]
  },
  {
   "cell_type": "code",
   "execution_count": 7,
   "metadata": {},
   "outputs": [],
   "source": [
    "def find_numbers(addresses):\n",
    "    test_addr = addresses.str.split(expand=True)\n",
    "    test_addr = test_addr.drop(0, axis=1)\n",
    "    test_addr = test_addr.apply(combine, axis=1)\n",
    "    uniq = test_addr[test_addr.apply(hasNumbers)].unique()\n",
    "    return pd.Series(uniq)"
   ]
  },
  {
   "cell_type": "code",
   "execution_count": 8,
   "metadata": {},
   "outputs": [],
   "source": [
    "def construct_number_dictionary():\n",
    "    string = ['FIRST', 'SECOND', 'THIRD', 'FOURTH', 'FIFTH', 'SIXTH', 'SEVENTH',\n",
    "             'EIGHTH', 'NINTH', 'TENTH', 'ELEVENTH', 'TWELFTH', 'THIRTEENTH',\n",
    "             'FOURTEENTH', 'FIFTEENTH', 'SIXTEENTH', 'SEVENTEENTH', 'EIGHTEENTH',\n",
    "             'NINETEENTH', 'TWENTIETH']\n",
    "    numeric = ['1ST', '2ND', '3RD', '4TH', '5TH', '6TH', '7TH', '8TH', '9TH',\n",
    "              '10TH', '11TH', '12TH', '13TH', '14TH', '15TH', '16T', '17TH',\n",
    "              '18TH', '19TH', '20TH']\n",
    "    return dict(zip(string, numeric))"
   ]
  },
  {
   "cell_type": "code",
   "execution_count": 9,
   "metadata": {},
   "outputs": [],
   "source": [
    "def contains_cardinal(addr): # returns None if no cardinal direction, and direction otherwise\n",
    "    directions = [' E ', ' W ', ' N ', ' S ', ' NE ', ' NW ', ' SW ', ' SE ']\n",
    "    count = 0\n",
    "    for car in directions:\n",
    "        if car in addr:\n",
    "            if \"JOHNNY W WILLIAMS\" in addr:\n",
    "                return None\n",
    "            return car # tested earlier, only one instance of each in every single address (no double directions)\n",
    "    return None"
   ]
  },
  {
   "cell_type": "code",
   "execution_count": 10,
   "metadata": {},
   "outputs": [],
   "source": [
    "def construct_st_name(address): # returns the street name of the address w/o number, direction, or ending\n",
    "    split = address.split()\n",
    "    end = split[-1]\n",
    "    first = \"NA\"\n",
    "    start_index = 0\n",
    "    end_index = len(split) - 1\n",
    "    if split[0].isnumeric():\n",
    "        start_index += 1\n",
    "    if contains_cardinal(address) != None:\n",
    "        start_index += 1\n",
    "    first = split[start_index:end_index]\n",
    "    word = \"\"\n",
    "    for a in first:\n",
    "        word += a + \" \"\n",
    "    word = word.strip()\n",
    "    return word"
   ]
  },
  {
   "cell_type": "code",
   "execution_count": 11,
   "metadata": {},
   "outputs": [],
   "source": [
    "def construct_dictionary(): # constructs dictionary from full addresses to create master lookup for endings\n",
    "    endings = {'AVE', 'DR', 'RD', 'ST', 'LN', 'CT', 'BLVD', 'CIR', \n",
    "               'WAY', 'PL', 'EXPY', 'ALY', 'TRL', 'PKWY', 'TER'}\n",
    "    dictionary = {}\n",
    "    counter = 0\n",
    "    for i in range(len(f_addresses)):\n",
    "        split = f_addresses[i].split()\n",
    "        end = split[-1]\n",
    "        if end in endings:\n",
    "            st_name = construct_st_name(f_addresses[i])\n",
    "            if st_name in dictionary.keys():\n",
    "                existing_endings = dictionary[st_name]\n",
    "                if end not in existing_endings:\n",
    "                    counter += 1\n",
    "                    existing_endings.append(end)\n",
    "            else:\n",
    "                dictionary[st_name] = [end]\n",
    "    return dictionary"
   ]
  },
  {
   "cell_type": "code",
   "execution_count": 12,
   "metadata": {},
   "outputs": [],
   "source": [
    "def test(): # takes in the dictionary and tests to see if a new ending for a given address can be found in full data\n",
    "    f_addresses_set = set(f_addresses)\n",
    "    t_addresses_set = set(t_addresses)\n",
    "    lis = []\n",
    "    newly_found = []\n",
    "    replace_in_tax = {}\n",
    "    words = []\n",
    "    dictionary = construct_dictionary()\n",
    "    counter = 0\n",
    "    for i in range(len(no_tax)):\n",
    "        split = no_tax.iloc[i].split()\n",
    "        word = split[:-1]\n",
    "        wordo = \"\"\n",
    "        for a in word:\n",
    "            wordo += a + \" \"\n",
    "        wordo = wordo.strip()\n",
    "        st_name = construct_st_name(no_tax.iloc[i])\n",
    "        found = False\n",
    "        if st_name in dictionary.keys():\n",
    "            for ending in dictionary[st_name]: #test a full address\n",
    "                test = wordo + \" \" + ending\n",
    "                words.append(test)\n",
    "                if test in t_addresses_set:\n",
    "                    newly_found.append(test)\n",
    "                    replace_in_tax[test] = no_tax.iloc[i]\n",
    "                    found = True\n",
    "                    continue\n",
    "            if not found:\n",
    "                newly_found.append(no_tax.iloc[i])\n",
    "        else:\n",
    "            newly_found.append(no_tax.iloc[i])\n",
    "            \n",
    "    return pd.Series(newly_found), replace_in_tax"
   ]
  },
  {
   "cell_type": "markdown",
   "metadata": {},
   "source": [
    "## Read in data"
   ]
  },
  {
   "cell_type": "code",
   "execution_count": 13,
   "metadata": {},
   "outputs": [],
   "source": [
    "PATH = '/Users/william/Dropbox (Amherst College)/CDS-2019-AlbanyHub/'\n",
    "df_sales = pd.read_csv(PATH + 'Raw-Data/DoughertyCountyGASales_2007_2019.csv')\n",
    "df_addr = pd.read_csv(PATH + 'ToDatabase/addr_junct_table.csv')"
   ]
  },
  {
   "cell_type": "code",
   "execution_count": 14,
   "metadata": {},
   "outputs": [
    {
     "data": {
      "text/html": [
       "<div>\n",
       "<style scoped>\n",
       "    .dataframe tbody tr th:only-of-type {\n",
       "        vertical-align: middle;\n",
       "    }\n",
       "\n",
       "    .dataframe tbody tr th {\n",
       "        vertical-align: top;\n",
       "    }\n",
       "\n",
       "    .dataframe thead th {\n",
       "        text-align: right;\n",
       "    }\n",
       "</style>\n",
       "<table border=\"1\" class=\"dataframe\">\n",
       "  <thead>\n",
       "    <tr style=\"text-align: right;\">\n",
       "      <th></th>\n",
       "      <th>Parcel ID</th>\n",
       "      <th>Address</th>\n",
       "      <th>Sale Date</th>\n",
       "      <th>Sale Price</th>\n",
       "      <th>Qualified Sales</th>\n",
       "      <th>Reason</th>\n",
       "      <th>Acres</th>\n",
       "      <th>Parcel  Class</th>\n",
       "      <th>Year  Built</th>\n",
       "      <th>Square Ft</th>\n",
       "      <th>Price Per  Square Ft</th>\n",
       "      <th>Neighborhood</th>\n",
       "    </tr>\n",
       "  </thead>\n",
       "  <tbody>\n",
       "    <tr>\n",
       "      <th>0</th>\n",
       "      <td>0000L/00009/009</td>\n",
       "      <td>203 BARFIELD AVE</td>\n",
       "      <td>8/16/2017</td>\n",
       "      <td>$0.00</td>\n",
       "      <td>Unqualified</td>\n",
       "      <td>17</td>\n",
       "      <td>0.30</td>\n",
       "      <td>Residential</td>\n",
       "      <td>1959.0</td>\n",
       "      <td>1030.0</td>\n",
       "      <td>$0.00</td>\n",
       "      <td>MAP L</td>\n",
       "    </tr>\n",
       "    <tr>\n",
       "      <th>1</th>\n",
       "      <td>0000L/00009/009</td>\n",
       "      <td>203 BARFIELD AVE</td>\n",
       "      <td>8/16/2017</td>\n",
       "      <td>$18,000.00</td>\n",
       "      <td>Unqualified</td>\n",
       "      <td>17</td>\n",
       "      <td>0.30</td>\n",
       "      <td>Residential</td>\n",
       "      <td>1959.0</td>\n",
       "      <td>1030.0</td>\n",
       "      <td>$17.48</td>\n",
       "      <td>MAP L</td>\n",
       "    </tr>\n",
       "    <tr>\n",
       "      <th>2</th>\n",
       "      <td>00059/00018/016</td>\n",
       "      <td>1912 RIDGEMONT DR</td>\n",
       "      <td>10/4/2011</td>\n",
       "      <td>$0.00</td>\n",
       "      <td>Unqualified</td>\n",
       "      <td>05</td>\n",
       "      <td>0.42</td>\n",
       "      <td>Residential</td>\n",
       "      <td>1969.0</td>\n",
       "      <td>1933.0</td>\n",
       "      <td>$0.00</td>\n",
       "      <td>NaN</td>\n",
       "    </tr>\n",
       "    <tr>\n",
       "      <th>3</th>\n",
       "      <td>00059/00018/016</td>\n",
       "      <td>1912 RIDGEMONT DR</td>\n",
       "      <td>10/4/2011</td>\n",
       "      <td>$0.00</td>\n",
       "      <td>Unqualified</td>\n",
       "      <td>03</td>\n",
       "      <td>0.42</td>\n",
       "      <td>Residential</td>\n",
       "      <td>1969.0</td>\n",
       "      <td>1933.0</td>\n",
       "      <td>$0.00</td>\n",
       "      <td>NaN</td>\n",
       "    </tr>\n",
       "    <tr>\n",
       "      <th>4</th>\n",
       "      <td>00059/00018/016</td>\n",
       "      <td>1912 RIDGEMONT DR</td>\n",
       "      <td>5/10/2019</td>\n",
       "      <td>$0.00</td>\n",
       "      <td>Unqualified</td>\n",
       "      <td>35</td>\n",
       "      <td>0.42</td>\n",
       "      <td>Residential</td>\n",
       "      <td>1969.0</td>\n",
       "      <td>1933.0</td>\n",
       "      <td>$0.00</td>\n",
       "      <td>NaN</td>\n",
       "    </tr>\n",
       "  </tbody>\n",
       "</table>\n",
       "</div>"
      ],
      "text/plain": [
       "         Parcel ID            Address  Sale Date  Sale Price Qualified Sales  \\\n",
       "0  0000L/00009/009   203 BARFIELD AVE  8/16/2017       $0.00     Unqualified   \n",
       "1  0000L/00009/009   203 BARFIELD AVE  8/16/2017  $18,000.00     Unqualified   \n",
       "2  00059/00018/016  1912 RIDGEMONT DR  10/4/2011       $0.00     Unqualified   \n",
       "3  00059/00018/016  1912 RIDGEMONT DR  10/4/2011       $0.00     Unqualified   \n",
       "4  00059/00018/016  1912 RIDGEMONT DR  5/10/2019       $0.00     Unqualified   \n",
       "\n",
       "  Reason  Acres Parcel  Class   Year  Built   Square Ft   \\\n",
       "0     17   0.30    Residential        1959.0      1030.0   \n",
       "1     17   0.30    Residential        1959.0      1030.0   \n",
       "2     05   0.42    Residential        1969.0      1933.0   \n",
       "3     03   0.42    Residential        1969.0      1933.0   \n",
       "4     35   0.42    Residential        1969.0      1933.0   \n",
       "\n",
       "  Price Per  Square Ft  Neighborhood  \n",
       "0                 $0.00        MAP L  \n",
       "1                $17.48        MAP L  \n",
       "2                 $0.00          NaN  \n",
       "3                 $0.00          NaN  \n",
       "4                 $0.00          NaN  "
      ]
     },
     "execution_count": 14,
     "metadata": {},
     "output_type": "execute_result"
    }
   ],
   "source": [
    "df_sales.head()"
   ]
  },
  {
   "cell_type": "code",
   "execution_count": 15,
   "metadata": {},
   "outputs": [
    {
     "data": {
      "text/html": [
       "<div>\n",
       "<style scoped>\n",
       "    .dataframe tbody tr th:only-of-type {\n",
       "        vertical-align: middle;\n",
       "    }\n",
       "\n",
       "    .dataframe tbody tr th {\n",
       "        vertical-align: top;\n",
       "    }\n",
       "\n",
       "    .dataframe thead th {\n",
       "        text-align: right;\n",
       "    }\n",
       "</style>\n",
       "<table border=\"1\" class=\"dataframe\">\n",
       "  <thead>\n",
       "    <tr style=\"text-align: right;\">\n",
       "      <th></th>\n",
       "      <th>Id</th>\n",
       "      <th>Address</th>\n",
       "      <th>Xcoord</th>\n",
       "      <th>Ycoord</th>\n",
       "      <th>Tract</th>\n",
       "      <th>BlockGroup</th>\n",
       "      <th>Block</th>\n",
       "    </tr>\n",
       "  </thead>\n",
       "  <tbody>\n",
       "    <tr>\n",
       "      <th>0</th>\n",
       "      <td>0</td>\n",
       "      <td>501 S MADISON ST</td>\n",
       "      <td>31.570488</td>\n",
       "      <td>-84.162164</td>\n",
       "      <td>1500.0</td>\n",
       "      <td>1.0</td>\n",
       "      <td>13.0</td>\n",
       "    </tr>\n",
       "    <tr>\n",
       "      <th>1</th>\n",
       "      <td>1</td>\n",
       "      <td>525 LINCOLN AVE</td>\n",
       "      <td>31.569466</td>\n",
       "      <td>-84.161175</td>\n",
       "      <td>1500.0</td>\n",
       "      <td>1.0</td>\n",
       "      <td>12.0</td>\n",
       "    </tr>\n",
       "    <tr>\n",
       "      <th>2</th>\n",
       "      <td>2</td>\n",
       "      <td>609 S JACKSON ST</td>\n",
       "      <td>31.568513</td>\n",
       "      <td>-84.153922</td>\n",
       "      <td>1403.0</td>\n",
       "      <td>1.0</td>\n",
       "      <td>27.0</td>\n",
       "    </tr>\n",
       "    <tr>\n",
       "      <th>3</th>\n",
       "      <td>3</td>\n",
       "      <td>602 S MONROE ST</td>\n",
       "      <td>31.568661</td>\n",
       "      <td>-84.158641</td>\n",
       "      <td>1403.0</td>\n",
       "      <td>1.0</td>\n",
       "      <td>25.0</td>\n",
       "    </tr>\n",
       "    <tr>\n",
       "      <th>4</th>\n",
       "      <td>4</td>\n",
       "      <td>509 W GORDON AVE</td>\n",
       "      <td>31.568554</td>\n",
       "      <td>-84.159772</td>\n",
       "      <td>1500.0</td>\n",
       "      <td>1.0</td>\n",
       "      <td>17.0</td>\n",
       "    </tr>\n",
       "  </tbody>\n",
       "</table>\n",
       "</div>"
      ],
      "text/plain": [
       "   Id           Address     Xcoord     Ycoord   Tract  BlockGroup  Block\n",
       "0   0  501 S MADISON ST  31.570488 -84.162164  1500.0         1.0   13.0\n",
       "1   1   525 LINCOLN AVE  31.569466 -84.161175  1500.0         1.0   12.0\n",
       "2   2  609 S JACKSON ST  31.568513 -84.153922  1403.0         1.0   27.0\n",
       "3   3   602 S MONROE ST  31.568661 -84.158641  1403.0         1.0   25.0\n",
       "4   4  509 W GORDON AVE  31.568554 -84.159772  1500.0         1.0   17.0"
      ]
     },
     "execution_count": 15,
     "metadata": {},
     "output_type": "execute_result"
    }
   ],
   "source": [
    "df_addr.head()"
   ]
  },
  {
   "cell_type": "code",
   "execution_count": 16,
   "metadata": {},
   "outputs": [],
   "source": [
    "s_addresses = df_sales['Address']\n",
    "f_addresses = df_addr['Address']"
   ]
  },
  {
   "cell_type": "code",
   "execution_count": 17,
   "metadata": {},
   "outputs": [
    {
     "data": {
      "text/plain": [
       "(2508,)"
      ]
     },
     "execution_count": 17,
     "metadata": {},
     "output_type": "execute_result"
    }
   ],
   "source": [
    "s_addresses.shape"
   ]
  },
  {
   "cell_type": "code",
   "execution_count": 18,
   "metadata": {},
   "outputs": [
    {
     "data": {
      "text/plain": [
       "(30721,)"
      ]
     },
     "execution_count": 18,
     "metadata": {},
     "output_type": "execute_result"
    }
   ],
   "source": [
    "f_addresses.shape"
   ]
  },
  {
   "cell_type": "code",
   "execution_count": 19,
   "metadata": {},
   "outputs": [
    {
     "data": {
      "text/plain": [
       "(1020,)"
      ]
     },
     "execution_count": 19,
     "metadata": {},
     "output_type": "execute_result"
    }
   ],
   "source": [
    "s_addresses[~(s_addresses.isin(f_addresses))].shape # makes not much sense -- needs cleaning!"
   ]
  },
  {
   "cell_type": "code",
   "execution_count": 20,
   "metadata": {},
   "outputs": [
    {
     "data": {
      "text/plain": [
       "(30147,)"
      ]
     },
     "execution_count": 20,
     "metadata": {},
     "output_type": "execute_result"
    }
   ],
   "source": [
    "f_addresses[~(f_addresses.isin(s_addresses))].shape # makes somewhat sense"
   ]
  },
  {
   "cell_type": "markdown",
   "metadata": {},
   "source": [
    "## Cleaning addresses"
   ]
  },
  {
   "cell_type": "code",
   "execution_count": 21,
   "metadata": {},
   "outputs": [],
   "source": [
    "not_found = s_addresses[~(s_addresses.isin(f_addresses))]"
   ]
  },
  {
   "cell_type": "markdown",
   "metadata": {},
   "source": [
    "#### Exploratory using levenshtein"
   ]
  },
  {
   "cell_type": "code",
   "execution_count": 22,
   "metadata": {},
   "outputs": [
    {
     "data": {
      "text/plain": [
       "2        1912 RIDGEMONT DR\n",
       "3        1912 RIDGEMONT DR\n",
       "4        1912 RIDGEMONT DR\n",
       "5          2714 FLEMING RD\n",
       "6             618 PINE AVE\n",
       "11    1131 E ROOSEVELT AVE\n",
       "13    1419 E RESIDENCE AVE\n",
       "14         113 COLLINS AVE\n",
       "16         1418 GORDON AVE\n",
       "17         1418 GORDON AVE\n",
       "Name: Address, dtype: object"
      ]
     },
     "execution_count": 22,
     "metadata": {},
     "output_type": "execute_result"
    }
   ],
   "source": [
    "not_found.iloc[0:10]"
   ]
  },
  {
   "cell_type": "code",
   "execution_count": 23,
   "metadata": {},
   "outputs": [
    {
     "data": {
      "text/plain": [
       "0    1902 RIDGEMONT RD\n",
       "1    1910 RIDGEMONT RD\n",
       "2    1912 RIDGEMONT RD\n",
       "3    1915 RIDGEMONT RD\n",
       "4    1913 RIDGEMONT RD\n",
       "5    1911 RIDGEMONT RD\n",
       "dtype: object"
      ]
     },
     "execution_count": 23,
     "metadata": {},
     "output_type": "execute_result"
    }
   ],
   "source": [
    "lev_list(f_addresses, \"1912 RIDGEMONT DR\", 3)"
   ]
  },
  {
   "cell_type": "code",
   "execution_count": 24,
   "metadata": {},
   "outputs": [
    {
     "data": {
      "text/plain": [
       "Series([], dtype: float64)"
      ]
     },
     "execution_count": 24,
     "metadata": {},
     "output_type": "execute_result"
    }
   ],
   "source": [
    "lev_list(f_addresses, \"2714 FLEMING RD\", 3)"
   ]
  },
  {
   "cell_type": "code",
   "execution_count": 25,
   "metadata": {},
   "outputs": [
    {
     "data": {
      "text/plain": [
       "0     112 PINE AVE\n",
       "1     603 PINE AVE\n",
       "2     128 PINE AVE\n",
       "3    1018 PINE AVE\n",
       "4     119 PINE AVE\n",
       "dtype: object"
      ]
     },
     "execution_count": 25,
     "metadata": {},
     "output_type": "execute_result"
    }
   ],
   "source": [
    "lev_list(f_addresses, \"618 PINE AVE\", 2).head() # too many entries"
   ]
  },
  {
   "cell_type": "code",
   "execution_count": 26,
   "metadata": {},
   "outputs": [
    {
     "data": {
      "text/plain": [
       "0    1001 E ROOSEVELT AVE\n",
       "1    1121 E ROOSEVELT AVE\n",
       "2    1118 E ROOSEVELT AVE\n",
       "3    1104 E ROOSEVELT AVE\n",
       "4    1128 E ROOSEVELT AVE\n",
       "dtype: object"
      ]
     },
     "execution_count": 26,
     "metadata": {},
     "output_type": "execute_result"
    }
   ],
   "source": [
    "lev_list(f_addresses, \"1131 E ROOSEVELT AVE\", 2).head() # too many entries"
   ]
  },
  {
   "cell_type": "code",
   "execution_count": 27,
   "metadata": {},
   "outputs": [
    {
     "data": {
      "text/plain": [
       "0    1509 E RESIDENCE AVE\n",
       "1    1420 E RESIDENCE AVE\n",
       "2    1409 E RESIDENCE AVE\n",
       "3    1519 E RESIDENCE AVE\n",
       "4    1210 E RESIDENCE AVE\n",
       "dtype: object"
      ]
     },
     "execution_count": 27,
     "metadata": {},
     "output_type": "execute_result"
    }
   ],
   "source": [
    "lev_list(f_addresses, \"1419 E RESIDENCE AVE\", 2).head() # too many entries"
   ]
  },
  {
   "cell_type": "code",
   "execution_count": 28,
   "metadata": {},
   "outputs": [
    {
     "data": {
      "text/plain": [
       "0    113 COLLINS ST\n",
       "dtype: object"
      ]
     },
     "execution_count": 28,
     "metadata": {},
     "output_type": "execute_result"
    }
   ],
   "source": [
    "lev_list(f_addresses, \"113 COLLINS AVE\", 3)"
   ]
  },
  {
   "cell_type": "code",
   "execution_count": 29,
   "metadata": {},
   "outputs": [
    {
     "data": {
      "text/plain": [
       "0     1401 E GORDON AVE\n",
       "1     1411 E GORDON AVE\n",
       "2     1408 E GORDON AVE\n",
       "3     1118 W GORDON AVE\n",
       "4      514 W GORDON AVE\n",
       "5      614 W GORDON AVE\n",
       "6        1 W GORDON AVE\n",
       "7     1218 W GORDON AVE\n",
       "8     1401 W GORDON AVE\n",
       "9     1411 W GORDON AVE\n",
       "10    1413 W GORDON AVE\n",
       "11    1415 W GORDON AVE\n",
       "12    1417 W GORDON AVE\n",
       "13    1419 W GORDON AVE\n",
       "14    1421 W GORDON AVE\n",
       "15    1418 W GORDON AVE\n",
       "16    1416 W GORDON AVE\n",
       "17    1414 W GORDON AVE\n",
       "18    1412 W GORDON AVE\n",
       "19    1410 W GORDON AVE\n",
       "20    1408 W GORDON AVE\n",
       "21     814 W GORDON AVE\n",
       "dtype: object"
      ]
     },
     "execution_count": 29,
     "metadata": {},
     "output_type": "execute_result"
    }
   ],
   "source": [
    "lev_list(f_addresses, \"1418 GORDON AVE\", 3) # should be w gordon "
   ]
  },
  {
   "cell_type": "markdown",
   "metadata": {},
   "source": [
    "#### Exploratory using gen list none"
   ]
  },
  {
   "cell_type": "code",
   "execution_count": 30,
   "metadata": {},
   "outputs": [],
   "source": [
    "no_close = gen_list_none(f_addresses, not_found, 3)"
   ]
  },
  {
   "cell_type": "code",
   "execution_count": 31,
   "metadata": {},
   "outputs": [
    {
     "data": {
      "text/plain": [
       "(282,)"
      ]
     },
     "execution_count": 31,
     "metadata": {},
     "output_type": "execute_result"
    }
   ],
   "source": [
    "no_close.shape # 282 entries that are no where near any addresses in our dataset"
   ]
  },
  {
   "cell_type": "code",
   "execution_count": 32,
   "metadata": {},
   "outputs": [
    {
     "data": {
      "text/plain": [
       "0          2714 FLEMING RD\n",
       "1     3624 SPRING FLATS RD\n",
       "2     3624 SPRING FLATS RD\n",
       "3        1008 ELEVENTH AVE\n",
       "4        1008 ELEVENTH AVE\n",
       "5       4525 SYLVESTER HWY\n",
       "6       4525 SYLVESTER HWY\n",
       "7       4525 SYLVESTER HWY\n",
       "8       4525 SYLVESTER HWY\n",
       "9         1200 GAISSERT RD\n",
       "10        1200 GAISSERT RD\n",
       "11        1200 GAISSERT RD\n",
       "12        1200 GAISSERT RD\n",
       "13        1200 GAISSERT RD\n",
       "14        1601 TWELFTH AVE\n",
       "15        1601 TWELFTH AVE\n",
       "16        1601 TWELFTH AVE\n",
       "17        1601 TWELFTH AVE\n",
       "18            WYANDOTTE DR\n",
       "19            WYANDOTTE DR\n",
       "dtype: object"
      ]
     },
     "execution_count": 32,
     "metadata": {},
     "output_type": "execute_result"
    }
   ],
   "source": [
    "no_close.head(20) # some of these could be based upon numbering. eleventh to 11th"
   ]
  },
  {
   "cell_type": "markdown",
   "metadata": {},
   "source": [
    "#### find numbers that we need to replace in the streets"
   ]
  },
  {
   "cell_type": "code",
   "execution_count": 33,
   "metadata": {},
   "outputs": [
    {
     "data": {
      "text/plain": [
       "18    E 2ND AVE\n",
       "19    E 3RD AVE\n",
       "20      5TH AVE\n",
       "21      6TH AVE\n",
       "22    W 2ND AVE\n",
       "23      9TH AVE\n",
       "24     12TH AVE\n",
       "dtype: object"
      ]
     },
     "execution_count": 33,
     "metadata": {},
     "output_type": "execute_result"
    }
   ],
   "source": [
    "find_numbers(f_addresses).iloc[18:25] # sample relevant output"
   ]
  },
  {
   "cell_type": "code",
   "execution_count": 34,
   "metadata": {},
   "outputs": [
    {
     "data": {
      "text/plain": [
       "Series([], dtype: object)"
      ]
     },
     "execution_count": 34,
     "metadata": {},
     "output_type": "execute_result"
    }
   ],
   "source": [
    "find_numbers(s_addresses)"
   ]
  },
  {
   "cell_type": "code",
   "execution_count": 35,
   "metadata": {},
   "outputs": [],
   "source": [
    "str_to_num = construct_number_dictionary()\n",
    "s_addresses = s_addresses.replace(str_to_num, regex=True)"
   ]
  },
  {
   "cell_type": "code",
   "execution_count": 36,
   "metadata": {},
   "outputs": [
    {
     "data": {
      "text/plain": [
       "Series([], Name: Address, dtype: object)"
      ]
     },
     "execution_count": 36,
     "metadata": {},
     "output_type": "execute_result"
    }
   ],
   "source": [
    "s_addresses[s_addresses.str.contains(\"FIRST\")]"
   ]
  },
  {
   "cell_type": "code",
   "execution_count": 37,
   "metadata": {},
   "outputs": [],
   "source": [
    "not_found = s_addresses[~(s_addresses.isin(f_addresses))] # check again"
   ]
  },
  {
   "cell_type": "code",
   "execution_count": 38,
   "metadata": {},
   "outputs": [
    {
     "data": {
      "text/plain": [
       "(891,)"
      ]
     },
     "execution_count": 38,
     "metadata": {},
     "output_type": "execute_result"
    }
   ],
   "source": [
    "not_found.shape"
   ]
  },
  {
   "cell_type": "code",
   "execution_count": 39,
   "metadata": {},
   "outputs": [
    {
     "data": {
      "text/plain": [
       "2    1912 RIDGEMONT DR\n",
       "3    1912 RIDGEMONT DR\n",
       "4    1912 RIDGEMONT DR\n",
       "5      2714 FLEMING RD\n",
       "6         618 PINE AVE\n",
       "Name: Address, dtype: object"
      ]
     },
     "execution_count": 39,
     "metadata": {},
     "output_type": "execute_result"
    }
   ],
   "source": [
    "not_found.head(5)"
   ]
  },
  {
   "cell_type": "code",
   "execution_count": 40,
   "metadata": {},
   "outputs": [],
   "source": [
    "no_close = gen_list_none(f_addresses, not_found, 3) # check this again also"
   ]
  },
  {
   "cell_type": "code",
   "execution_count": 41,
   "metadata": {},
   "outputs": [
    {
     "data": {
      "text/plain": [
       "(205,)"
      ]
     },
     "execution_count": 41,
     "metadata": {},
     "output_type": "execute_result"
    }
   ],
   "source": [
    "no_close.shape"
   ]
  },
  {
   "cell_type": "markdown",
   "metadata": {},
   "source": [
    "#### Addresses that we still don't have answers for. Are they in albany? or from dougherty? Useful to keep them all?"
   ]
  },
  {
   "cell_type": "code",
   "execution_count": 42,
   "metadata": {},
   "outputs": [
    {
     "data": {
      "text/plain": [
       "1027 KREG AVE             7\n",
       "MOULTRIE RD               7\n",
       "3221 JACQUELINE DR        6\n",
       "1200 GAISSERT RD          5\n",
       "GIBSON RD                 5\n",
       "3219 JACQUELINE DR        5\n",
       "908 TALLAHASSEE RD        5\n",
       "4529 PALM AVE             5\n",
       "1708 SCHILLING D C AVE    4\n",
       "4914 VAN CISE LN          4\n",
       "3522 GRAVEL HILL RD       4\n",
       "3200 NELMS RD             4\n",
       "ANTIOCH RD                4\n",
       "4525 SYLVESTER HWY        4\n",
       "2501 WILDFAIR RD          4\n",
       "600 MUD CREEK RD          4\n",
       "3356 FLEMING RD           4\n",
       "FLEMING RD                4\n",
       "3220 JACQUELINE DR        4\n",
       "4922 VAN CISE LN          3\n",
       "5001 VAN CISE LN          3\n",
       "224 THE CIRCLE            3\n",
       "222 THE CIRCLE            3\n",
       "715 GABLE RD              3\n",
       "226 THE CIRCLE            3\n",
       "910 ROLAND RD             3\n",
       "728 MUD CREEK RD          3\n",
       "4912 HOLLY HILL RD        3\n",
       "2615 TARVA RD             3\n",
       "2724 QUAIL RUN DR         3\n",
       "2711 HOMESTEAD AVE        3\n",
       "3110 SPRING FLATS RD      3\n",
       "1608 DOROUGH AVE          3\n",
       "5202 DOLES RD             2\n",
       "1050 SPRING HILL DR       2\n",
       "824 PATTERSON AVE         2\n",
       "4703 SAVILLE LN           2\n",
       "6109 JAMES DR             2\n",
       "3203 HIGGINS DR           2\n",
       "1317 DOROUGH AVE          2\n",
       "BLUE SPRINGS RD           2\n",
       "4400 JIMMY GOFF CT        2\n",
       "3012 EAST PARK CT         2\n",
       "3219 HIGGINS DR           2\n",
       "3701 GRAVEL HILL RD       2\n",
       "2511 HOMESTEAD AVE        2\n",
       "3620 SPRING FLATS RD      2\n",
       "6032 ELLIOTT DR           2\n",
       "5304 DOLES RD             2\n",
       "4023 FLEMING RD           2\n",
       "3624 SPRING FLATS RD      2\n",
       "3008 EAST PARK CT         2\n",
       "WYANDOTTE DR              2\n",
       "MCCARTHERN LN             2\n",
       "736 GABLE RD              2\n",
       "MEADOWLARK DR             1\n",
       "912 TALLAHASSEE RD        1\n",
       "4328 HARRIS RD            1\n",
       "604 RIMROCK CT            1\n",
       "1522 PECAN LN             1\n",
       "5212 DOLES RD             1\n",
       "2714 FLEMING RD           1\n",
       "FLINT RIVER               1\n",
       "2503 WILDFAIR RD          1\n",
       "1613 DOROUGH AVE          1\n",
       "DOROUGH AVE               1\n",
       "4520 SEYMOUR LN           1\n",
       "725 GABLE RD              1\n",
       "4817 PINTO DR             1\n",
       "LILY POND RD              1\n",
       "4808 MUSTANG DR           1\n",
       "PINSON RD                 1\n",
       "3625 GRAVEL HILL RD       1\n",
       "1505 NELMS RD             1\n",
       "2816 FORRESTER RD         1\n",
       "NELMS RD                  1\n",
       "6411 GALLOWAY ST          1\n",
       "3721 VICTORY AVE          1\n",
       "100 EVERTON CT            1\n",
       "HIGHGATE CT               1\n",
       "6023 ELLIOTT DR           1\n",
       "TALLAHASSEE RD            1\n",
       "2606 NORTH AVE            1\n",
       "HARVEY RD                 1\n",
       "1617 DOROUGH AVE          1\n",
       "dtype: int64"
      ]
     },
     "execution_count": 42,
     "metadata": {},
     "output_type": "execute_result"
    }
   ],
   "source": [
    "no_close.value_counts() # may not focus as much here"
   ]
  },
  {
   "cell_type": "markdown",
   "metadata": {},
   "source": [
    "## Fixing endings as before"
   ]
  },
  {
   "cell_type": "code",
   "execution_count": 43,
   "metadata": {},
   "outputs": [
    {
     "data": {
      "text/plain": [
       "2    1912 RIDGEMONT DR\n",
       "3    1912 RIDGEMONT DR\n",
       "4    1912 RIDGEMONT DR\n",
       "5      2714 FLEMING RD\n",
       "6         618 PINE AVE\n",
       "Name: Address, dtype: object"
      ]
     },
     "execution_count": 43,
     "metadata": {},
     "output_type": "execute_result"
    }
   ],
   "source": [
    "not_found.head()"
   ]
  },
  {
   "cell_type": "code",
   "execution_count": 44,
   "metadata": {},
   "outputs": [
    {
     "data": {
      "text/html": [
       "<div>\n",
       "<style scoped>\n",
       "    .dataframe tbody tr th:only-of-type {\n",
       "        vertical-align: middle;\n",
       "    }\n",
       "\n",
       "    .dataframe tbody tr th {\n",
       "        vertical-align: top;\n",
       "    }\n",
       "\n",
       "    .dataframe thead th {\n",
       "        text-align: right;\n",
       "    }\n",
       "</style>\n",
       "<table border=\"1\" class=\"dataframe\">\n",
       "  <thead>\n",
       "    <tr style=\"text-align: right;\">\n",
       "      <th></th>\n",
       "      <th>Parcel ID</th>\n",
       "      <th>Address</th>\n",
       "      <th>Sale Date</th>\n",
       "      <th>Sale Price</th>\n",
       "      <th>Qualified Sales</th>\n",
       "      <th>Reason</th>\n",
       "      <th>Acres</th>\n",
       "      <th>Parcel  Class</th>\n",
       "      <th>Year  Built</th>\n",
       "      <th>Square Ft</th>\n",
       "      <th>Price Per  Square Ft</th>\n",
       "      <th>Neighborhood</th>\n",
       "    </tr>\n",
       "  </thead>\n",
       "  <tbody>\n",
       "    <tr>\n",
       "      <th>0</th>\n",
       "      <td>0000L/00009/009</td>\n",
       "      <td>203 BARFIELD AVE</td>\n",
       "      <td>8/16/2017</td>\n",
       "      <td>$0.00</td>\n",
       "      <td>Unqualified</td>\n",
       "      <td>17</td>\n",
       "      <td>0.30</td>\n",
       "      <td>Residential</td>\n",
       "      <td>1959.0</td>\n",
       "      <td>1030.0</td>\n",
       "      <td>$0.00</td>\n",
       "      <td>MAP L</td>\n",
       "    </tr>\n",
       "    <tr>\n",
       "      <th>1</th>\n",
       "      <td>0000L/00009/009</td>\n",
       "      <td>203 BARFIELD AVE</td>\n",
       "      <td>8/16/2017</td>\n",
       "      <td>$18,000.00</td>\n",
       "      <td>Unqualified</td>\n",
       "      <td>17</td>\n",
       "      <td>0.30</td>\n",
       "      <td>Residential</td>\n",
       "      <td>1959.0</td>\n",
       "      <td>1030.0</td>\n",
       "      <td>$17.48</td>\n",
       "      <td>MAP L</td>\n",
       "    </tr>\n",
       "    <tr>\n",
       "      <th>2</th>\n",
       "      <td>00059/00018/016</td>\n",
       "      <td>1912 RIDGEMONT DR</td>\n",
       "      <td>10/4/2011</td>\n",
       "      <td>$0.00</td>\n",
       "      <td>Unqualified</td>\n",
       "      <td>05</td>\n",
       "      <td>0.42</td>\n",
       "      <td>Residential</td>\n",
       "      <td>1969.0</td>\n",
       "      <td>1933.0</td>\n",
       "      <td>$0.00</td>\n",
       "      <td>NaN</td>\n",
       "    </tr>\n",
       "    <tr>\n",
       "      <th>3</th>\n",
       "      <td>00059/00018/016</td>\n",
       "      <td>1912 RIDGEMONT DR</td>\n",
       "      <td>10/4/2011</td>\n",
       "      <td>$0.00</td>\n",
       "      <td>Unqualified</td>\n",
       "      <td>03</td>\n",
       "      <td>0.42</td>\n",
       "      <td>Residential</td>\n",
       "      <td>1969.0</td>\n",
       "      <td>1933.0</td>\n",
       "      <td>$0.00</td>\n",
       "      <td>NaN</td>\n",
       "    </tr>\n",
       "    <tr>\n",
       "      <th>4</th>\n",
       "      <td>00059/00018/016</td>\n",
       "      <td>1912 RIDGEMONT DR</td>\n",
       "      <td>5/10/2019</td>\n",
       "      <td>$0.00</td>\n",
       "      <td>Unqualified</td>\n",
       "      <td>35</td>\n",
       "      <td>0.42</td>\n",
       "      <td>Residential</td>\n",
       "      <td>1969.0</td>\n",
       "      <td>1933.0</td>\n",
       "      <td>$0.00</td>\n",
       "      <td>NaN</td>\n",
       "    </tr>\n",
       "  </tbody>\n",
       "</table>\n",
       "</div>"
      ],
      "text/plain": [
       "         Parcel ID            Address  Sale Date  Sale Price Qualified Sales  \\\n",
       "0  0000L/00009/009   203 BARFIELD AVE  8/16/2017       $0.00     Unqualified   \n",
       "1  0000L/00009/009   203 BARFIELD AVE  8/16/2017  $18,000.00     Unqualified   \n",
       "2  00059/00018/016  1912 RIDGEMONT DR  10/4/2011       $0.00     Unqualified   \n",
       "3  00059/00018/016  1912 RIDGEMONT DR  10/4/2011       $0.00     Unqualified   \n",
       "4  00059/00018/016  1912 RIDGEMONT DR  5/10/2019       $0.00     Unqualified   \n",
       "\n",
       "  Reason  Acres Parcel  Class   Year  Built   Square Ft   \\\n",
       "0     17   0.30    Residential        1959.0      1030.0   \n",
       "1     17   0.30    Residential        1959.0      1030.0   \n",
       "2     05   0.42    Residential        1969.0      1933.0   \n",
       "3     03   0.42    Residential        1969.0      1933.0   \n",
       "4     35   0.42    Residential        1969.0      1933.0   \n",
       "\n",
       "  Price Per  Square Ft  Neighborhood  \n",
       "0                 $0.00        MAP L  \n",
       "1                $17.48        MAP L  \n",
       "2                 $0.00          NaN  \n",
       "3                 $0.00          NaN  \n",
       "4                 $0.00          NaN  "
      ]
     },
     "execution_count": 44,
     "metadata": {},
     "output_type": "execute_result"
    }
   ],
   "source": [
    "df_sales.head()"
   ]
  },
  {
   "cell_type": "code",
   "execution_count": null,
   "metadata": {},
   "outputs": [],
   "source": []
  }
 ],
 "metadata": {
  "kernelspec": {
   "display_name": "Python [conda env:cds] *",
   "language": "python",
   "name": "conda-env-cds-py"
  },
  "language_info": {
   "codemirror_mode": {
    "name": "ipython",
    "version": 3
   },
   "file_extension": ".py",
   "mimetype": "text/x-python",
   "name": "python",
   "nbconvert_exporter": "python",
   "pygments_lexer": "ipython3",
   "version": "3.7.3"
  }
 },
 "nbformat": 4,
 "nbformat_minor": 2
}
