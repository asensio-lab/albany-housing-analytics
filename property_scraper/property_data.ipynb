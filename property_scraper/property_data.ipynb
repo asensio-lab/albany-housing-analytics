{
 "cells": [
  {
   "cell_type": "code",
   "execution_count": 1,
   "metadata": {},
   "outputs": [],
   "source": [
    "import pandas as pd\n",
    "import os\n",
    "import json"
   ]
  },
  {
   "cell_type": "code",
   "execution_count": 3,
   "metadata": {},
   "outputs": [],
   "source": [
    "#Read in the address junction table \n",
    "#df = pd.read_csv('/Users/davidreynolds/Dropbox (GaTech)/CDS-2019-AlbanyHub/ToDatabase/addr_junct_table.csv')\n",
    "directory = '/Users/davidreynolds/Dropbox (GaTech)/CDS-2019-AlbanyHub/Processed-Data/attom_json' #dir of json files"
   ]
  },
  {
   "cell_type": "code",
   "execution_count": 4,
   "metadata": {},
   "outputs": [
    {
     "ename": "OSError",
     "evalue": "[Errno 5] Input/output error: '/Users/davidreynolds/Dropbox (GaTech)/CDS-2019-AlbanyHub/Processed-Data/attom_json/json_dump_12000_12999.json'",
     "output_type": "error",
     "traceback": [
      "\u001b[0;31m---------------------------------------------------------------------------\u001b[0m",
      "\u001b[0;31mOSError\u001b[0m                                   Traceback (most recent call last)",
      "\u001b[0;32m<ipython-input-4-76a0cc7b6a09>\u001b[0m in \u001b[0;36m<module>\u001b[0;34m\u001b[0m\n\u001b[1;32m      3\u001b[0m \u001b[0;32mfor\u001b[0m \u001b[0mfilename\u001b[0m \u001b[0;32min\u001b[0m \u001b[0mos\u001b[0m\u001b[0;34m.\u001b[0m\u001b[0mlistdir\u001b[0m\u001b[0;34m(\u001b[0m\u001b[0mdirectory\u001b[0m\u001b[0;34m)\u001b[0m\u001b[0;34m:\u001b[0m\u001b[0;34m\u001b[0m\u001b[0;34m\u001b[0m\u001b[0m\n\u001b[1;32m      4\u001b[0m     \u001b[0;32mif\u001b[0m \u001b[0mfilename\u001b[0m\u001b[0;34m.\u001b[0m\u001b[0mendswith\u001b[0m\u001b[0;34m(\u001b[0m\u001b[0;34m'.json'\u001b[0m\u001b[0;34m)\u001b[0m\u001b[0;34m:\u001b[0m\u001b[0;34m\u001b[0m\u001b[0;34m\u001b[0m\u001b[0m\n\u001b[0;32m----> 5\u001b[0;31m         \u001b[0mf\u001b[0m \u001b[0;34m=\u001b[0m \u001b[0mopen\u001b[0m\u001b[0;34m(\u001b[0m\u001b[0mdirectory\u001b[0m\u001b[0;34m+\u001b[0m\u001b[0;34m'/'\u001b[0m\u001b[0;34m+\u001b[0m\u001b[0mfilename\u001b[0m\u001b[0;34m)\u001b[0m\u001b[0;34m\u001b[0m\u001b[0;34m\u001b[0m\u001b[0m\n\u001b[0m\u001b[1;32m      6\u001b[0m         \u001b[0mj_list\u001b[0m\u001b[0;34m.\u001b[0m\u001b[0mappend\u001b[0m\u001b[0;34m(\u001b[0m\u001b[0mjson\u001b[0m\u001b[0;34m.\u001b[0m\u001b[0mload\u001b[0m\u001b[0;34m(\u001b[0m\u001b[0mf\u001b[0m\u001b[0;34m)\u001b[0m\u001b[0;34m)\u001b[0m\u001b[0;34m\u001b[0m\u001b[0;34m\u001b[0m\u001b[0m\n\u001b[1;32m      7\u001b[0m         \u001b[0mf\u001b[0m\u001b[0;34m.\u001b[0m\u001b[0mclose\u001b[0m\u001b[0;34m(\u001b[0m\u001b[0;34m)\u001b[0m\u001b[0;34m\u001b[0m\u001b[0;34m\u001b[0m\u001b[0m\n",
      "\u001b[0;31mOSError\u001b[0m: [Errno 5] Input/output error: '/Users/davidreynolds/Dropbox (GaTech)/CDS-2019-AlbanyHub/Processed-Data/attom_json/json_dump_12000_12999.json'"
     ]
    }
   ],
   "source": [
    "#read all json files into a single list\n",
    "j_list=[]\n",
    "for filename in os.listdir(directory):\n",
    "    if filename.endswith('.json'):\n",
    "        f = open(directory+'/'+filename)\n",
    "        j_list.append(json.load(f))\n",
    "        f.close()\n",
    "    "
   ]
  },
  {
   "cell_type": "code",
   "execution_count": null,
   "metadata": {},
   "outputs": [],
   "source": [
    "#Look at all the values available for a single home\n",
    "example_entry = j_list[0][0]\n",
    "example_entry.keys()"
   ]
  },
  {
   "cell_type": "code",
   "execution_count": null,
   "metadata": {},
   "outputs": [],
   "source": [
    "#concatenate j_list into a single list\n",
    "data = [y for x in j_list for y in x]\n",
    "len(data)"
   ]
  },
  {
   "cell_type": "code",
   "execution_count": null,
   "metadata": {},
   "outputs": [],
   "source": [
    "#separate these out by the major keys\n",
    "all_identifiers = [x['identifier'] for x in data if len(x)>0]\n",
    "all_lot = [x['lot'] for x in data if len(x)>0]\n",
    "all_area = [x['area'] for x in data if len(x)>0]\n",
    "all_addresses = [x['address'] for x in data if len(x)>0]\n",
    "all_location = [x['location'] for x in data if len(x)>0]\n",
    "all_summary = [x['summary'] for x in data if len(x)>0]\n",
    "all_utilities = [x['utilities']for x in data if len(x)>0]\n",
    "all_sale = [x['sale'] for x in data if len(x)>0]\n",
    "all_building = [x['building'] for x in data if len(x)>0]\n",
    "all_assessment = [x['assessment'] for x in data if len(x)>0]\n",
    "all_vintage = [x['vintage'] for x in data if len(x)>0]\n",
    "len(all_identifiers) #25030 rows were not found when making api calls"
   ]
  },
  {
   "cell_type": "code",
   "execution_count": null,
   "metadata": {},
   "outputs": [],
   "source": [
    "#convert data from a multi-layered dict into a single dict for a pandas dataframe\n",
    "dict_full = {\n",
    "    'address':[x['line1'] for x in all_addresses],\n",
    "    'lot_size':[x['lotSize1'] for x in all_lot],\n",
    "    'zoningType': [x.get('zoningType') for x in all_lot],\n",
    "    'siteZoningIdent': [x.get('siteZoningIdent') for x in all_lot],\n",
    "    'propClass': [x['propClass'] for x in all_summary],\n",
    "    'yearBuilt':[x['yearBuilt'] for x in all_summary],\n",
    "    'size':[x['size']['grossSizeAdjusted'] for x in all_building],\n",
    "    'baths':[x['rooms']['bathsTotal'] for x in all_building],\n",
    "    'beds':[x['rooms']['beds'] for x in all_building],\n",
    "    'rooms':[x['rooms']['roomsTotal'] for x in all_building],\n",
    "    'floors':[x['interior'].get('floors') for x in all_building],\n",
    "    'condition':[x['construction'].get('condition') for x in all_building],\n",
    "    'foundationType':[x['construction'].get('foundationType') for x in all_building],\n",
    "    'roofCover':[x['construction'].get('roofCover') for x in all_building],\n",
    "    'wallType':[x['construction'].get('wallType') for x in all_building],\n",
    "    'improvementYear':[x['construction'].get('propertyStructureMajorImprovementsYear') for x in all_building],\n",
    "    'assessment':[x['assessed']['assdTtlValue'] for x in all_assessment],\n",
    "    'assessment':[x['market']['mktTtlValue'] for x in all_assessment]\n",
    "}"
   ]
  },
  {
   "cell_type": "code",
   "execution_count": null,
   "metadata": {},
   "outputs": [],
   "source": [
    "#Convert to pandas dataframe\n",
    "dfp = pd.DataFrame(data=dict_full)\n",
    "dfp.drop_duplicates(subset=\"address\")\n",
    "dfp.index = range(len(dfp))\n",
    "len(dfp)"
   ]
  },
  {
   "cell_type": "code",
   "execution_count": null,
   "metadata": {},
   "outputs": [],
   "source": [
    "#get the primary ids in the junction table for each address returned\n",
    "id_dict = {df.loc[x,'Address']:df.loc[x, 'Id'] for x in range(len(df))} #maps address to id, from junct table\n",
    "NOT_FOUND = id_dict['NOT FOUND']\n",
    "prim_ids=[id_dict.get(x, NOT_FOUND) for x in dfp['address']] #id of each addresss in new dataframe"
   ]
  },
  {
   "cell_type": "code",
   "execution_count": null,
   "metadata": {},
   "outputs": [],
   "source": [
    "#find the locs where x is not in the address junction table\n",
    "nf = [dfp.loc[x, 'address'] for x in range(len(prim_ids)) if prim_ids[x]==NOT_FOUND]"
   ]
  },
  {
   "cell_type": "code",
   "execution_count": null,
   "metadata": {},
   "outputs": [],
   "source": [
    "len(nf)"
   ]
  },
  {
   "cell_type": "code",
   "execution_count": null,
   "metadata": {},
   "outputs": [],
   "source": [
    "len(prim_ids) # about 3% of addresses were not found"
   ]
  },
  {
   "cell_type": "code",
   "execution_count": null,
   "metadata": {},
   "outputs": [],
   "source": [
    "dfp['PrimaryID'] = prim_ids"
   ]
  },
  {
   "cell_type": "code",
   "execution_count": null,
   "metadata": {},
   "outputs": [],
   "source": [
    "#replace 0's with None for clarity\n",
    "dfp[dfp['yearBuilt'] == 0]=None\n",
    "dfp[dfp['size']==0] = None\n",
    "dfp[dfp['lot_size'] == 0] = None\n",
    "#Drop rows where address is Nan\n",
    "dfp = dfp.dropna(how='all')"
   ]
  },
  {
   "cell_type": "code",
   "execution_count": null,
   "metadata": {},
   "outputs": [],
   "source": [
    "dfp.to_csv(directory+'/property_data.csv', index=False)"
   ]
  },
  {
   "cell_type": "code",
   "execution_count": null,
   "metadata": {},
   "outputs": [],
   "source": [
    "len(dfp)/len(data) # about 75% of addresses have data"
   ]
  },
  {
   "cell_type": "code",
   "execution_count": null,
   "metadata": {},
   "outputs": [],
   "source": []
  },
  {
   "cell_type": "code",
   "execution_count": null,
   "metadata": {},
   "outputs": [],
   "source": []
  }
 ],
 "metadata": {
  "kernelspec": {
   "display_name": "Python 3",
   "language": "python",
   "name": "python3"
  },
  "language_info": {
   "codemirror_mode": {
    "name": "ipython",
    "version": 3
   },
   "file_extension": ".py",
   "mimetype": "text/x-python",
   "name": "python",
   "nbconvert_exporter": "python",
   "pygments_lexer": "ipython3",
   "version": "3.7.1"
  }
 },
 "nbformat": 4,
 "nbformat_minor": 2
}
