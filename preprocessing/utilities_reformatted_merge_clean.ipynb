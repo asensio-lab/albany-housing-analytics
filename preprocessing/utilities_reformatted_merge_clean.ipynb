{
 "cells": [
  {
   "cell_type": "code",
   "execution_count": 1,
   "metadata": {},
   "outputs": [],
   "source": [
    "import numpy as np\n",
    "import pandas as pd"
   ]
  },
  {
   "cell_type": "code",
   "execution_count": 75,
   "metadata": {},
   "outputs": [],
   "source": [
    "df = pd.read_excel(\"/Users/william/Dropbox (Amherst College)/CDS-2019-AlbanyHub/Raw-Data/Reformatted/2018/2018Dec.xlsx\")"
   ]
  },
  {
   "cell_type": "code",
   "execution_count": 76,
   "metadata": {},
   "outputs": [
    {
     "data": {
      "text/html": [
       "<div>\n",
       "<style scoped>\n",
       "    .dataframe tbody tr th:only-of-type {\n",
       "        vertical-align: middle;\n",
       "    }\n",
       "\n",
       "    .dataframe tbody tr th {\n",
       "        vertical-align: top;\n",
       "    }\n",
       "\n",
       "    .dataframe thead th {\n",
       "        text-align: right;\n",
       "    }\n",
       "</style>\n",
       "<table border=\"1\" class=\"dataframe\">\n",
       "  <thead>\n",
       "    <tr style=\"text-align: right;\">\n",
       "      <th></th>\n",
       "      <th>225</th>\n",
       "      <th>225 W Broad  AVE</th>\n",
       "      <th>ALBANY</th>\n",
       "      <th>GA</th>\n",
       "      <th>47897</th>\n",
       "      <th>Unnamed: 5</th>\n",
       "      <th>800</th>\n",
       "      <th>Unnamed: 7</th>\n",
       "      <th>Unnamed: 8</th>\n",
       "      <th>Unnamed: 9</th>\n",
       "      <th>Unnamed: 10</th>\n",
       "      <th>249.95</th>\n",
       "      <th>2018-12-05 00:00:00</th>\n",
       "    </tr>\n",
       "  </thead>\n",
       "  <tbody>\n",
       "    <tr>\n",
       "      <th>0</th>\n",
       "      <td>1001</td>\n",
       "      <td>636  JEFFERIES  AVE</td>\n",
       "      <td>ALBANY</td>\n",
       "      <td>GA</td>\n",
       "      <td>101320</td>\n",
       "      <td>RELC</td>\n",
       "      <td>100</td>\n",
       "      <td>110W</td>\n",
       "      <td>466</td>\n",
       "      <td>34</td>\n",
       "      <td>KWH</td>\n",
       "      <td>62.96</td>\n",
       "      <td>2018-12-03 00:00:00</td>\n",
       "    </tr>\n",
       "    <tr>\n",
       "      <th>1</th>\n",
       "      <td>1001</td>\n",
       "      <td>636  JEFFERIES  AVE</td>\n",
       "      <td>ALBANY</td>\n",
       "      <td>GA</td>\n",
       "      <td>101320</td>\n",
       "      <td>RGAS</td>\n",
       "      <td>200</td>\n",
       "      <td>120</td>\n",
       "      <td>25</td>\n",
       "      <td>34</td>\n",
       "      <td>CCF</td>\n",
       "      <td>39.98</td>\n",
       "      <td>2018-12-03 00:00:00</td>\n",
       "    </tr>\n",
       "    <tr>\n",
       "      <th>2</th>\n",
       "      <td>1001</td>\n",
       "      <td>636  JEFFERIES  AVE</td>\n",
       "      <td>ALBANY</td>\n",
       "      <td>GA</td>\n",
       "      <td>101320</td>\n",
       "      <td>RWTR</td>\n",
       "      <td>300</td>\n",
       "      <td>130</td>\n",
       "      <td>6</td>\n",
       "      <td>34</td>\n",
       "      <td>TGAL</td>\n",
       "      <td>19.53</td>\n",
       "      <td>2018-12-03 00:00:00</td>\n",
       "    </tr>\n",
       "    <tr>\n",
       "      <th>3</th>\n",
       "      <td>1001</td>\n",
       "      <td>636  JEFFERIES  AVE</td>\n",
       "      <td>ALBANY</td>\n",
       "      <td>GA</td>\n",
       "      <td>101320</td>\n",
       "      <td>RSWR</td>\n",
       "      <td>400</td>\n",
       "      <td>150</td>\n",
       "      <td>6.667</td>\n",
       "      <td>34</td>\n",
       "      <td>NONE</td>\n",
       "      <td>31.65</td>\n",
       "      <td>2018-12-03 00:00:00</td>\n",
       "    </tr>\n",
       "    <tr>\n",
       "      <th>4</th>\n",
       "      <td>1001</td>\n",
       "      <td>636  JEFFERIES  AVE</td>\n",
       "      <td>ALBANY</td>\n",
       "      <td>GA</td>\n",
       "      <td>101320</td>\n",
       "      <td>NaN</td>\n",
       "      <td>500</td>\n",
       "      <td>NaN</td>\n",
       "      <td>NaN</td>\n",
       "      <td>NaN</td>\n",
       "      <td>NaN</td>\n",
       "      <td>32.12</td>\n",
       "      <td>2018-12-03 00:00:00</td>\n",
       "    </tr>\n",
       "  </tbody>\n",
       "</table>\n",
       "</div>"
      ],
      "text/plain": [
       "    225     225 W Broad  AVE  ALBANY  GA   47897 Unnamed: 5  800 Unnamed: 7  \\\n",
       "0  1001  636  JEFFERIES  AVE  ALBANY  GA  101320       RELC  100       110W   \n",
       "1  1001  636  JEFFERIES  AVE  ALBANY  GA  101320       RGAS  200        120   \n",
       "2  1001  636  JEFFERIES  AVE  ALBANY  GA  101320       RWTR  300        130   \n",
       "3  1001  636  JEFFERIES  AVE  ALBANY  GA  101320       RSWR  400        150   \n",
       "4  1001  636  JEFFERIES  AVE  ALBANY  GA  101320        NaN  500        NaN   \n",
       "\n",
       "  Unnamed: 8 Unnamed: 9 Unnamed: 10 249.95  2018-12-05 00:00:00  \n",
       "0        466         34         KWH  62.96  2018-12-03 00:00:00  \n",
       "1         25         34         CCF  39.98  2018-12-03 00:00:00  \n",
       "2          6         34        TGAL  19.53  2018-12-03 00:00:00  \n",
       "3      6.667         34        NONE  31.65  2018-12-03 00:00:00  \n",
       "4        NaN        NaN         NaN  32.12  2018-12-03 00:00:00  "
      ]
     },
     "execution_count": 76,
     "metadata": {},
     "output_type": "execute_result"
    }
   ],
   "source": [
    "df.head()"
   ]
  },
  {
   "cell_type": "code",
   "execution_count": 55,
   "metadata": {},
   "outputs": [],
   "source": [
    "def readexcel(year):\n",
    "    months = [\"Jan\", \"Feb\", \"Mar\", \"Apr\", \"May\", \"Jun\", \"Jul\", \"Aug\", \"Sep\", \"Oct\", \"Nov\", \"Dec\"]\n",
    "    year_list = []\n",
    "    for month in months:\n",
    "        path = '/Users/william/Dropbox (Amherst College)/CDS-2019-AlbanyHub/Raw-Data/Reformatted/' + str(year) + '/' + str(year) + month + '.xlsx'\n",
    "        df = pd.read_excel(path)\n",
    "        df.columns = [col.strip() for col in df.columns]\n",
    "        if \"City\" not in df.columns:\n",
    "            df.insert(2, \"City\", \"ALBANY\")\n",
    "            df.insert(3, \"State\", \"GA\")\n",
    "        df['Charge Date'] = df['Charge Date'].astype(str)\n",
    "        parts = df['Charge Date'].str.split(\"-\", expand=True)\n",
    "        df['Year'] = parts[0]\n",
    "        df['Month'] = parts[1]\n",
    "        df['Day'] = parts[2]\n",
    "        year_list.append(df)\n",
    "        print(month)\n",
    "    return year_list"
   ]
  },
  {
   "cell_type": "code",
   "execution_count": 42,
   "metadata": {},
   "outputs": [],
   "source": [
    "def writedf(year_list, year):\n",
    "    months = [\"Jan\", \"Feb\", \"Mar\", \"Apr\", \"May\", \"Jun\", \"Jul\", \"Aug\", \"Sep\", \"Oct\", \"Nov\", \"Dec\"]\n",
    "    df = year_list[0]\n",
    "    for i in range(1, len(year_list)):\n",
    "        df = pd.concat([df, year_list[i]], ignore_index=True)\n",
    "        print(months[i])\n",
    "    path = '/Users/william/Dropbox (Amherst College)/CDS-2019-AlbanyHub/Raw-Data/ReformattedYears/Totals'+str(year)+'.csv'\n",
    "    df.to_csv(path)"
   ]
  },
  {
   "cell_type": "code",
   "execution_count": 35,
   "metadata": {},
   "outputs": [
    {
     "name": "stdout",
     "output_type": "stream",
     "text": [
      "Jan\n",
      "Feb\n",
      "Mar\n",
      "Apr\n",
      "May\n",
      "Jun\n",
      "Jul\n",
      "Aug\n",
      "Sep\n",
      "Oct\n",
      "Nov\n",
      "Dec\n"
     ]
    }
   ],
   "source": [
    "df2012 = readexcel(\"2012\")"
   ]
  },
  {
   "cell_type": "code",
   "execution_count": 56,
   "metadata": {},
   "outputs": [
    {
     "name": "stdout",
     "output_type": "stream",
     "text": [
      "Jan\n",
      "Feb\n",
      "Mar\n",
      "Apr\n",
      "May\n",
      "Jun\n",
      "Jul\n",
      "Aug\n",
      "Sep\n",
      "Oct\n",
      "Nov\n",
      "Dec\n"
     ]
    }
   ],
   "source": [
    "df2013 = readexcel(\"2013\")"
   ]
  },
  {
   "cell_type": "code",
   "execution_count": 60,
   "metadata": {},
   "outputs": [
    {
     "data": {
      "text/html": [
       "<div>\n",
       "<style scoped>\n",
       "    .dataframe tbody tr th:only-of-type {\n",
       "        vertical-align: middle;\n",
       "    }\n",
       "\n",
       "    .dataframe tbody tr th {\n",
       "        vertical-align: top;\n",
       "    }\n",
       "\n",
       "    .dataframe thead th {\n",
       "        text-align: right;\n",
       "    }\n",
       "</style>\n",
       "<table border=\"1\" class=\"dataframe\">\n",
       "  <thead>\n",
       "    <tr style=\"text-align: right;\">\n",
       "      <th></th>\n",
       "      <th>Premise</th>\n",
       "      <th>Premise Address</th>\n",
       "      <th>City</th>\n",
       "      <th>State</th>\n",
       "      <th>Customer</th>\n",
       "      <th>Service Type</th>\n",
       "      <th>Service Number</th>\n",
       "      <th>Service Rate</th>\n",
       "      <th>Consumption</th>\n",
       "      <th>Days of Service</th>\n",
       "      <th>Unit of Measure</th>\n",
       "      <th>Charge Amount</th>\n",
       "      <th>Charge Date</th>\n",
       "      <th>Year</th>\n",
       "      <th>Month</th>\n",
       "      <th>Day</th>\n",
       "    </tr>\n",
       "  </thead>\n",
       "  <tbody>\n",
       "    <tr>\n",
       "      <th>0</th>\n",
       "      <td>10001</td>\n",
       "      <td>300  ACORN  ST</td>\n",
       "      <td>ALBANY</td>\n",
       "      <td>GA</td>\n",
       "      <td>118225</td>\n",
       "      <td>NaN</td>\n",
       "      <td>NaN</td>\n",
       "      <td>CDEP</td>\n",
       "      <td>NaN</td>\n",
       "      <td>NaN</td>\n",
       "      <td>NaN</td>\n",
       "      <td>100.00</td>\n",
       "      <td>2013-04-19</td>\n",
       "      <td>2013</td>\n",
       "      <td>04</td>\n",
       "      <td>19</td>\n",
       "    </tr>\n",
       "    <tr>\n",
       "      <th>1</th>\n",
       "      <td>10001</td>\n",
       "      <td>300  ACORN  ST</td>\n",
       "      <td>ALBANY</td>\n",
       "      <td>GA</td>\n",
       "      <td>118225</td>\n",
       "      <td>NaN</td>\n",
       "      <td>NaN</td>\n",
       "      <td>NSC</td>\n",
       "      <td>NaN</td>\n",
       "      <td>NaN</td>\n",
       "      <td>NaN</td>\n",
       "      <td>25.00</td>\n",
       "      <td>2013-04-22</td>\n",
       "      <td>2013</td>\n",
       "      <td>04</td>\n",
       "      <td>22</td>\n",
       "    </tr>\n",
       "    <tr>\n",
       "      <th>2</th>\n",
       "      <td>10002</td>\n",
       "      <td>212  ACORN  ST</td>\n",
       "      <td>ALBANY</td>\n",
       "      <td>GA</td>\n",
       "      <td>10002</td>\n",
       "      <td>DELC</td>\n",
       "      <td>100.0</td>\n",
       "      <td>216</td>\n",
       "      <td>294.0</td>\n",
       "      <td>28.0</td>\n",
       "      <td>KWH</td>\n",
       "      <td>78.87</td>\n",
       "      <td>2013-04-05</td>\n",
       "      <td>2013</td>\n",
       "      <td>04</td>\n",
       "      <td>05</td>\n",
       "    </tr>\n",
       "    <tr>\n",
       "      <th>3</th>\n",
       "      <td>10002</td>\n",
       "      <td>212  ACORN  ST</td>\n",
       "      <td>ALBANY</td>\n",
       "      <td>GA</td>\n",
       "      <td>10002</td>\n",
       "      <td>NaN</td>\n",
       "      <td>150.0</td>\n",
       "      <td>NaN</td>\n",
       "      <td>NaN</td>\n",
       "      <td>NaN</td>\n",
       "      <td>NaN</td>\n",
       "      <td>17.12</td>\n",
       "      <td>2013-04-05</td>\n",
       "      <td>2013</td>\n",
       "      <td>04</td>\n",
       "      <td>05</td>\n",
       "    </tr>\n",
       "    <tr>\n",
       "      <th>4</th>\n",
       "      <td>10002</td>\n",
       "      <td>212  ACORN  ST</td>\n",
       "      <td>ALBANY</td>\n",
       "      <td>GA</td>\n",
       "      <td>10002</td>\n",
       "      <td>CGAS</td>\n",
       "      <td>200.0</td>\n",
       "      <td>220</td>\n",
       "      <td>22.0</td>\n",
       "      <td>28.0</td>\n",
       "      <td>CCF</td>\n",
       "      <td>36.47</td>\n",
       "      <td>2013-04-05</td>\n",
       "      <td>2013</td>\n",
       "      <td>04</td>\n",
       "      <td>05</td>\n",
       "    </tr>\n",
       "  </tbody>\n",
       "</table>\n",
       "</div>"
      ],
      "text/plain": [
       "   Premise Premise Address    City State  Customer Service Type  \\\n",
       "0    10001  300  ACORN  ST  ALBANY    GA    118225          NaN   \n",
       "1    10001  300  ACORN  ST  ALBANY    GA    118225          NaN   \n",
       "2    10002  212  ACORN  ST  ALBANY    GA     10002         DELC   \n",
       "3    10002  212  ACORN  ST  ALBANY    GA     10002          NaN   \n",
       "4    10002  212  ACORN  ST  ALBANY    GA     10002         CGAS   \n",
       "\n",
       "   Service Number Service Rate  Consumption  Days of Service Unit of Measure  \\\n",
       "0             NaN         CDEP          NaN              NaN             NaN   \n",
       "1             NaN          NSC          NaN              NaN             NaN   \n",
       "2           100.0          216        294.0             28.0             KWH   \n",
       "3           150.0          NaN          NaN              NaN             NaN   \n",
       "4           200.0          220         22.0             28.0             CCF   \n",
       "\n",
       "   Charge Amount Charge Date  Year Month Day  \n",
       "0         100.00  2013-04-19  2013    04  19  \n",
       "1          25.00  2013-04-22  2013    04  22  \n",
       "2          78.87  2013-04-05  2013    04  05  \n",
       "3          17.12  2013-04-05  2013    04  05  \n",
       "4          36.47  2013-04-05  2013    04  05  "
      ]
     },
     "execution_count": 60,
     "metadata": {},
     "output_type": "execute_result"
    }
   ],
   "source": [
    "df2013[3].head()"
   ]
  },
  {
   "cell_type": "code",
   "execution_count": 51,
   "metadata": {},
   "outputs": [
    {
     "data": {
      "text/html": [
       "<div>\n",
       "<style scoped>\n",
       "    .dataframe tbody tr th:only-of-type {\n",
       "        vertical-align: middle;\n",
       "    }\n",
       "\n",
       "    .dataframe tbody tr th {\n",
       "        vertical-align: top;\n",
       "    }\n",
       "\n",
       "    .dataframe thead th {\n",
       "        text-align: right;\n",
       "    }\n",
       "</style>\n",
       "<table border=\"1\" class=\"dataframe\">\n",
       "  <thead>\n",
       "    <tr style=\"text-align: right;\">\n",
       "      <th></th>\n",
       "      <th>Premise</th>\n",
       "      <th>Premise Address</th>\n",
       "      <th>Customer</th>\n",
       "      <th>Service Type</th>\n",
       "      <th>Service Number</th>\n",
       "      <th>Service Rate</th>\n",
       "      <th>Consumption</th>\n",
       "      <th>Days of Service</th>\n",
       "      <th>Unit of Measure</th>\n",
       "      <th>Charge Amount</th>\n",
       "      <th>Charge Date</th>\n",
       "      <th>Year</th>\n",
       "      <th>Month</th>\n",
       "      <th>Day</th>\n",
       "    </tr>\n",
       "  </thead>\n",
       "  <tbody>\n",
       "    <tr>\n",
       "      <th>0</th>\n",
       "      <td>10002</td>\n",
       "      <td>212  ACORN  ST</td>\n",
       "      <td>10002</td>\n",
       "      <td>DELC</td>\n",
       "      <td>100.0</td>\n",
       "      <td>216</td>\n",
       "      <td>339.0</td>\n",
       "      <td>29.0</td>\n",
       "      <td>KWH</td>\n",
       "      <td>83.68</td>\n",
       "      <td>2013-03-07</td>\n",
       "      <td>2013</td>\n",
       "      <td>03</td>\n",
       "      <td>07</td>\n",
       "    </tr>\n",
       "    <tr>\n",
       "      <th>1</th>\n",
       "      <td>10002</td>\n",
       "      <td>212  ACORN  ST</td>\n",
       "      <td>10002</td>\n",
       "      <td>NaN</td>\n",
       "      <td>150.0</td>\n",
       "      <td>NaN</td>\n",
       "      <td>NaN</td>\n",
       "      <td>NaN</td>\n",
       "      <td>NaN</td>\n",
       "      <td>17.12</td>\n",
       "      <td>2013-03-07</td>\n",
       "      <td>2013</td>\n",
       "      <td>03</td>\n",
       "      <td>07</td>\n",
       "    </tr>\n",
       "    <tr>\n",
       "      <th>2</th>\n",
       "      <td>10002</td>\n",
       "      <td>212  ACORN  ST</td>\n",
       "      <td>10002</td>\n",
       "      <td>CGAS</td>\n",
       "      <td>200.0</td>\n",
       "      <td>220</td>\n",
       "      <td>37.0</td>\n",
       "      <td>29.0</td>\n",
       "      <td>CCF</td>\n",
       "      <td>52.81</td>\n",
       "      <td>2013-03-07</td>\n",
       "      <td>2013</td>\n",
       "      <td>03</td>\n",
       "      <td>07</td>\n",
       "    </tr>\n",
       "    <tr>\n",
       "      <th>3</th>\n",
       "      <td>10002</td>\n",
       "      <td>212  ACORN  ST</td>\n",
       "      <td>10002</td>\n",
       "      <td>CWTR</td>\n",
       "      <td>300.0</td>\n",
       "      <td>230</td>\n",
       "      <td>0.0</td>\n",
       "      <td>29.0</td>\n",
       "      <td>TGAL</td>\n",
       "      <td>10.15</td>\n",
       "      <td>2013-03-07</td>\n",
       "      <td>2013</td>\n",
       "      <td>03</td>\n",
       "      <td>07</td>\n",
       "    </tr>\n",
       "    <tr>\n",
       "      <th>4</th>\n",
       "      <td>10002</td>\n",
       "      <td>212  ACORN  ST</td>\n",
       "      <td>10002</td>\n",
       "      <td>CSWR</td>\n",
       "      <td>400.0</td>\n",
       "      <td>250</td>\n",
       "      <td>0.0</td>\n",
       "      <td>29.0</td>\n",
       "      <td>NONE</td>\n",
       "      <td>8.59</td>\n",
       "      <td>2013-03-07</td>\n",
       "      <td>2013</td>\n",
       "      <td>03</td>\n",
       "      <td>07</td>\n",
       "    </tr>\n",
       "  </tbody>\n",
       "</table>\n",
       "</div>"
      ],
      "text/plain": [
       "   Premise Premise Address  Customer Service Type  Service Number  \\\n",
       "0    10002  212  ACORN  ST     10002         DELC           100.0   \n",
       "1    10002  212  ACORN  ST     10002          NaN           150.0   \n",
       "2    10002  212  ACORN  ST     10002         CGAS           200.0   \n",
       "3    10002  212  ACORN  ST     10002         CWTR           300.0   \n",
       "4    10002  212  ACORN  ST     10002         CSWR           400.0   \n",
       "\n",
       "  Service Rate  Consumption  Days of Service Unit of Measure  Charge Amount  \\\n",
       "0          216        339.0             29.0             KWH          83.68   \n",
       "1          NaN          NaN              NaN             NaN          17.12   \n",
       "2          220         37.0             29.0             CCF          52.81   \n",
       "3          230          0.0             29.0            TGAL          10.15   \n",
       "4          250          0.0             29.0            NONE           8.59   \n",
       "\n",
       "  Charge Date  Year Month Day  \n",
       "0  2013-03-07  2013    03  07  \n",
       "1  2013-03-07  2013    03  07  \n",
       "2  2013-03-07  2013    03  07  \n",
       "3  2013-03-07  2013    03  07  \n",
       "4  2013-03-07  2013    03  07  "
      ]
     },
     "execution_count": 51,
     "metadata": {},
     "output_type": "execute_result"
    }
   ],
   "source": [
    "df2013[2].head()"
   ]
  },
  {
   "cell_type": "code",
   "execution_count": 64,
   "metadata": {},
   "outputs": [
    {
     "name": "stdout",
     "output_type": "stream",
     "text": [
      "Jan\n",
      "Feb\n",
      "Mar\n",
      "Apr\n",
      "May\n",
      "Jun\n",
      "Jul\n",
      "Aug\n",
      "Sep\n",
      "Oct\n",
      "Nov\n",
      "Dec\n"
     ]
    }
   ],
   "source": [
    "df2014 = readexcel(\"2014\")"
   ]
  },
  {
   "cell_type": "code",
   "execution_count": 68,
   "metadata": {},
   "outputs": [
    {
     "name": "stdout",
     "output_type": "stream",
     "text": [
      "Jan\n",
      "Feb\n",
      "Mar\n",
      "Apr\n",
      "May\n",
      "Jun\n",
      "Jul\n",
      "Aug\n",
      "Sep\n",
      "Oct\n",
      "Nov\n",
      "Dec\n"
     ]
    }
   ],
   "source": [
    "df2015 = readexcel(\"2015\")"
   ]
  },
  {
   "cell_type": "code",
   "execution_count": 70,
   "metadata": {},
   "outputs": [
    {
     "name": "stdout",
     "output_type": "stream",
     "text": [
      "Jan\n",
      "Feb\n",
      "Mar\n",
      "Apr\n",
      "May\n",
      "Jun\n",
      "Jul\n",
      "Aug\n",
      "Sep\n",
      "Oct\n",
      "Nov\n",
      "Dec\n"
     ]
    }
   ],
   "source": [
    "df2016 = readexcel(\"2016\")"
   ]
  },
  {
   "cell_type": "code",
   "execution_count": 72,
   "metadata": {},
   "outputs": [
    {
     "name": "stdout",
     "output_type": "stream",
     "text": [
      "Jan\n",
      "Feb\n",
      "Mar\n",
      "Apr\n",
      "May\n",
      "Jun\n",
      "Jul\n",
      "Aug\n",
      "Sep\n",
      "Oct\n",
      "Nov\n",
      "Dec\n"
     ]
    }
   ],
   "source": [
    "df2017 = readexcel(\"2017\")"
   ]
  },
  {
   "cell_type": "code",
   "execution_count": 74,
   "metadata": {},
   "outputs": [
    {
     "name": "stdout",
     "output_type": "stream",
     "text": [
      "Jan\n",
      "Feb\n",
      "Mar\n",
      "Apr\n",
      "May\n",
      "Jun\n",
      "Jul\n",
      "Aug\n",
      "Sep\n",
      "Oct\n",
      "Nov\n"
     ]
    },
    {
     "ename": "AttributeError",
     "evalue": "'int' object has no attribute 'strip'",
     "output_type": "error",
     "traceback": [
      "\u001b[0;31m---------------------------------------------------------------------------\u001b[0m",
      "\u001b[0;31mAttributeError\u001b[0m                            Traceback (most recent call last)",
      "\u001b[0;32m<ipython-input-74-6857a2c22788>\u001b[0m in \u001b[0;36m<module>\u001b[0;34m\u001b[0m\n\u001b[0;32m----> 1\u001b[0;31m \u001b[0mdf2018\u001b[0m \u001b[0;34m=\u001b[0m \u001b[0mreadexcel\u001b[0m\u001b[0;34m(\u001b[0m\u001b[0;34m\"2018\"\u001b[0m\u001b[0;34m)\u001b[0m\u001b[0;34m\u001b[0m\u001b[0;34m\u001b[0m\u001b[0m\n\u001b[0m",
      "\u001b[0;32m<ipython-input-55-7c799d99694f>\u001b[0m in \u001b[0;36mreadexcel\u001b[0;34m(year)\u001b[0m\n\u001b[1;32m      5\u001b[0m         \u001b[0mpath\u001b[0m \u001b[0;34m=\u001b[0m \u001b[0;34m'/Users/william/Dropbox (Amherst College)/CDS-2019-AlbanyHub/Raw-Data/Reformatted/'\u001b[0m \u001b[0;34m+\u001b[0m \u001b[0mstr\u001b[0m\u001b[0;34m(\u001b[0m\u001b[0myear\u001b[0m\u001b[0;34m)\u001b[0m \u001b[0;34m+\u001b[0m \u001b[0;34m'/'\u001b[0m \u001b[0;34m+\u001b[0m \u001b[0mstr\u001b[0m\u001b[0;34m(\u001b[0m\u001b[0myear\u001b[0m\u001b[0;34m)\u001b[0m \u001b[0;34m+\u001b[0m \u001b[0mmonth\u001b[0m \u001b[0;34m+\u001b[0m \u001b[0;34m'.xlsx'\u001b[0m\u001b[0;34m\u001b[0m\u001b[0;34m\u001b[0m\u001b[0m\n\u001b[1;32m      6\u001b[0m         \u001b[0mdf\u001b[0m \u001b[0;34m=\u001b[0m \u001b[0mpd\u001b[0m\u001b[0;34m.\u001b[0m\u001b[0mread_excel\u001b[0m\u001b[0;34m(\u001b[0m\u001b[0mpath\u001b[0m\u001b[0;34m)\u001b[0m\u001b[0;34m\u001b[0m\u001b[0;34m\u001b[0m\u001b[0m\n\u001b[0;32m----> 7\u001b[0;31m         \u001b[0mdf\u001b[0m\u001b[0;34m.\u001b[0m\u001b[0mcolumns\u001b[0m \u001b[0;34m=\u001b[0m \u001b[0;34m[\u001b[0m\u001b[0mcol\u001b[0m\u001b[0;34m.\u001b[0m\u001b[0mstrip\u001b[0m\u001b[0;34m(\u001b[0m\u001b[0;34m)\u001b[0m \u001b[0;32mfor\u001b[0m \u001b[0mcol\u001b[0m \u001b[0;32min\u001b[0m \u001b[0mdf\u001b[0m\u001b[0;34m.\u001b[0m\u001b[0mcolumns\u001b[0m\u001b[0;34m]\u001b[0m\u001b[0;34m\u001b[0m\u001b[0;34m\u001b[0m\u001b[0m\n\u001b[0m\u001b[1;32m      8\u001b[0m         \u001b[0;32mif\u001b[0m \u001b[0;34m\"City\"\u001b[0m \u001b[0;32mnot\u001b[0m \u001b[0;32min\u001b[0m \u001b[0mdf\u001b[0m\u001b[0;34m.\u001b[0m\u001b[0mcolumns\u001b[0m\u001b[0;34m:\u001b[0m\u001b[0;34m\u001b[0m\u001b[0;34m\u001b[0m\u001b[0m\n\u001b[1;32m      9\u001b[0m             \u001b[0mdf\u001b[0m\u001b[0;34m.\u001b[0m\u001b[0minsert\u001b[0m\u001b[0;34m(\u001b[0m\u001b[0;36m2\u001b[0m\u001b[0;34m,\u001b[0m \u001b[0;34m\"City\"\u001b[0m\u001b[0;34m,\u001b[0m \u001b[0;34m\"ALBANY\"\u001b[0m\u001b[0;34m)\u001b[0m\u001b[0;34m\u001b[0m\u001b[0;34m\u001b[0m\u001b[0m\n",
      "\u001b[0;32m<ipython-input-55-7c799d99694f>\u001b[0m in \u001b[0;36m<listcomp>\u001b[0;34m(.0)\u001b[0m\n\u001b[1;32m      5\u001b[0m         \u001b[0mpath\u001b[0m \u001b[0;34m=\u001b[0m \u001b[0;34m'/Users/william/Dropbox (Amherst College)/CDS-2019-AlbanyHub/Raw-Data/Reformatted/'\u001b[0m \u001b[0;34m+\u001b[0m \u001b[0mstr\u001b[0m\u001b[0;34m(\u001b[0m\u001b[0myear\u001b[0m\u001b[0;34m)\u001b[0m \u001b[0;34m+\u001b[0m \u001b[0;34m'/'\u001b[0m \u001b[0;34m+\u001b[0m \u001b[0mstr\u001b[0m\u001b[0;34m(\u001b[0m\u001b[0myear\u001b[0m\u001b[0;34m)\u001b[0m \u001b[0;34m+\u001b[0m \u001b[0mmonth\u001b[0m \u001b[0;34m+\u001b[0m \u001b[0;34m'.xlsx'\u001b[0m\u001b[0;34m\u001b[0m\u001b[0;34m\u001b[0m\u001b[0m\n\u001b[1;32m      6\u001b[0m         \u001b[0mdf\u001b[0m \u001b[0;34m=\u001b[0m \u001b[0mpd\u001b[0m\u001b[0;34m.\u001b[0m\u001b[0mread_excel\u001b[0m\u001b[0;34m(\u001b[0m\u001b[0mpath\u001b[0m\u001b[0;34m)\u001b[0m\u001b[0;34m\u001b[0m\u001b[0;34m\u001b[0m\u001b[0m\n\u001b[0;32m----> 7\u001b[0;31m         \u001b[0mdf\u001b[0m\u001b[0;34m.\u001b[0m\u001b[0mcolumns\u001b[0m \u001b[0;34m=\u001b[0m \u001b[0;34m[\u001b[0m\u001b[0mcol\u001b[0m\u001b[0;34m.\u001b[0m\u001b[0mstrip\u001b[0m\u001b[0;34m(\u001b[0m\u001b[0;34m)\u001b[0m \u001b[0;32mfor\u001b[0m \u001b[0mcol\u001b[0m \u001b[0;32min\u001b[0m \u001b[0mdf\u001b[0m\u001b[0;34m.\u001b[0m\u001b[0mcolumns\u001b[0m\u001b[0;34m]\u001b[0m\u001b[0;34m\u001b[0m\u001b[0;34m\u001b[0m\u001b[0m\n\u001b[0m\u001b[1;32m      8\u001b[0m         \u001b[0;32mif\u001b[0m \u001b[0;34m\"City\"\u001b[0m \u001b[0;32mnot\u001b[0m \u001b[0;32min\u001b[0m \u001b[0mdf\u001b[0m\u001b[0;34m.\u001b[0m\u001b[0mcolumns\u001b[0m\u001b[0;34m:\u001b[0m\u001b[0;34m\u001b[0m\u001b[0;34m\u001b[0m\u001b[0m\n\u001b[1;32m      9\u001b[0m             \u001b[0mdf\u001b[0m\u001b[0;34m.\u001b[0m\u001b[0minsert\u001b[0m\u001b[0;34m(\u001b[0m\u001b[0;36m2\u001b[0m\u001b[0;34m,\u001b[0m \u001b[0;34m\"City\"\u001b[0m\u001b[0;34m,\u001b[0m \u001b[0;34m\"ALBANY\"\u001b[0m\u001b[0;34m)\u001b[0m\u001b[0;34m\u001b[0m\u001b[0;34m\u001b[0m\u001b[0m\n",
      "\u001b[0;31mAttributeError\u001b[0m: 'int' object has no attribute 'strip'"
     ]
    }
   ],
   "source": [
    "df2018 = readexcel(\"2018\")"
   ]
  },
  {
   "cell_type": "code",
   "execution_count": null,
   "metadata": {},
   "outputs": [],
   "source": [
    "df2019 = readexcel(\"2019\")"
   ]
  },
  {
   "cell_type": "code",
   "execution_count": 43,
   "metadata": {},
   "outputs": [
    {
     "name": "stdout",
     "output_type": "stream",
     "text": [
      "Feb\n",
      "Mar\n",
      "Apr\n",
      "May\n",
      "Jun\n",
      "Jul\n",
      "Aug\n",
      "Sep\n",
      "Oct\n",
      "Nov\n",
      "Dec\n"
     ]
    }
   ],
   "source": [
    "writedf(df2012, 2012)"
   ]
  },
  {
   "cell_type": "code",
   "execution_count": 61,
   "metadata": {},
   "outputs": [
    {
     "name": "stdout",
     "output_type": "stream",
     "text": [
      "Feb\n",
      "Mar\n",
      "Apr\n",
      "May\n",
      "Jun\n",
      "Jul\n",
      "Aug\n",
      "Sep\n",
      "Oct\n",
      "Nov\n",
      "Dec\n"
     ]
    }
   ],
   "source": [
    "writedf(df2013, 2013)"
   ]
  },
  {
   "cell_type": "code",
   "execution_count": 65,
   "metadata": {},
   "outputs": [
    {
     "name": "stdout",
     "output_type": "stream",
     "text": [
      "Feb\n",
      "Mar\n",
      "Apr\n",
      "May\n",
      "Jun\n",
      "Jul\n",
      "Aug\n",
      "Sep\n",
      "Oct\n",
      "Nov\n",
      "Dec\n"
     ]
    }
   ],
   "source": [
    "writedf(df2014, 2014)"
   ]
  },
  {
   "cell_type": "code",
   "execution_count": 69,
   "metadata": {},
   "outputs": [
    {
     "name": "stdout",
     "output_type": "stream",
     "text": [
      "Feb\n",
      "Mar\n",
      "Apr\n",
      "May\n",
      "Jun\n",
      "Jul\n",
      "Aug\n",
      "Sep\n",
      "Oct\n",
      "Nov\n",
      "Dec\n"
     ]
    }
   ],
   "source": [
    "writedf(df2015, 2015)"
   ]
  },
  {
   "cell_type": "code",
   "execution_count": 71,
   "metadata": {},
   "outputs": [
    {
     "name": "stdout",
     "output_type": "stream",
     "text": [
      "Feb\n",
      "Mar\n",
      "Apr\n",
      "May\n",
      "Jun\n",
      "Jul\n",
      "Aug\n",
      "Sep\n",
      "Oct\n",
      "Nov\n",
      "Dec\n"
     ]
    }
   ],
   "source": [
    "writedf(df2016, 2016)"
   ]
  },
  {
   "cell_type": "code",
   "execution_count": 73,
   "metadata": {},
   "outputs": [
    {
     "name": "stdout",
     "output_type": "stream",
     "text": [
      "Feb\n",
      "Mar\n",
      "Apr\n",
      "May\n",
      "Jun\n",
      "Jul\n",
      "Aug\n",
      "Sep\n",
      "Oct\n",
      "Nov\n",
      "Dec\n"
     ]
    }
   ],
   "source": [
    "writedf(df2017, 2017)"
   ]
  },
  {
   "cell_type": "code",
   "execution_count": null,
   "metadata": {},
   "outputs": [],
   "source": [
    "writedf(df2018, 2018)"
   ]
  },
  {
   "cell_type": "code",
   "execution_count": null,
   "metadata": {},
   "outputs": [],
   "source": [
    "writedf(df2019, 2019)"
   ]
  },
  {
   "cell_type": "code",
   "execution_count": 66,
   "metadata": {},
   "outputs": [
    {
     "name": "stderr",
     "output_type": "stream",
     "text": [
      "/anaconda3/envs/cds/lib/python3.7/site-packages/IPython/core/interactiveshell.py:3049: DtypeWarning: Columns (3,4,6,8,11) have mixed types. Specify dtype option on import or set low_memory=False.\n",
      "  interactivity=interactivity, compiler=compiler, result=result)\n"
     ]
    }
   ],
   "source": [
    "df_test2014 = pd.read_csv('/Users/william/Dropbox (Amherst College)/CDS-2019-AlbanyHub/Raw-Data/ReformattedYears/Totals2014.csv')"
   ]
  },
  {
   "cell_type": "code",
   "execution_count": 67,
   "metadata": {},
   "outputs": [
    {
     "data": {
      "text/html": [
       "<div>\n",
       "<style scoped>\n",
       "    .dataframe tbody tr th:only-of-type {\n",
       "        vertical-align: middle;\n",
       "    }\n",
       "\n",
       "    .dataframe tbody tr th {\n",
       "        vertical-align: top;\n",
       "    }\n",
       "\n",
       "    .dataframe thead th {\n",
       "        text-align: right;\n",
       "    }\n",
       "</style>\n",
       "<table border=\"1\" class=\"dataframe\">\n",
       "  <thead>\n",
       "    <tr style=\"text-align: right;\">\n",
       "      <th></th>\n",
       "      <th>Unnamed: 0</th>\n",
       "      <th>Premise</th>\n",
       "      <th>Premise Address</th>\n",
       "      <th>City</th>\n",
       "      <th>State</th>\n",
       "      <th>Customer</th>\n",
       "      <th>Service Type</th>\n",
       "      <th>Service Number</th>\n",
       "      <th>Service Rate</th>\n",
       "      <th>Consumption</th>\n",
       "      <th>Days of Service</th>\n",
       "      <th>Unit of Measure</th>\n",
       "      <th>Charge Amount</th>\n",
       "      <th>Charge Date</th>\n",
       "      <th>Year</th>\n",
       "      <th>Month</th>\n",
       "      <th>Day</th>\n",
       "    </tr>\n",
       "  </thead>\n",
       "  <tbody>\n",
       "    <tr>\n",
       "      <th>0</th>\n",
       "      <td>0</td>\n",
       "      <td>10002</td>\n",
       "      <td>212  ACORN  ST</td>\n",
       "      <td>ALBANY</td>\n",
       "      <td>GA</td>\n",
       "      <td>10002</td>\n",
       "      <td>DELC</td>\n",
       "      <td>100.0</td>\n",
       "      <td>216</td>\n",
       "      <td>432.0</td>\n",
       "      <td>37.0</td>\n",
       "      <td>KWH</td>\n",
       "      <td>98.97</td>\n",
       "      <td>2014-01-08</td>\n",
       "      <td>2014</td>\n",
       "      <td>1</td>\n",
       "      <td>8</td>\n",
       "    </tr>\n",
       "    <tr>\n",
       "      <th>1</th>\n",
       "      <td>1</td>\n",
       "      <td>10002</td>\n",
       "      <td>212  ACORN  ST</td>\n",
       "      <td>ALBANY</td>\n",
       "      <td>GA</td>\n",
       "      <td>10002</td>\n",
       "      <td>NaN</td>\n",
       "      <td>150.0</td>\n",
       "      <td>NaN</td>\n",
       "      <td>NaN</td>\n",
       "      <td>NaN</td>\n",
       "      <td>NaN</td>\n",
       "      <td>21.40</td>\n",
       "      <td>2014-01-08</td>\n",
       "      <td>2014</td>\n",
       "      <td>1</td>\n",
       "      <td>8</td>\n",
       "    </tr>\n",
       "    <tr>\n",
       "      <th>2</th>\n",
       "      <td>2</td>\n",
       "      <td>10002</td>\n",
       "      <td>212  ACORN  ST</td>\n",
       "      <td>ALBANY</td>\n",
       "      <td>GA</td>\n",
       "      <td>10002</td>\n",
       "      <td>CGAS</td>\n",
       "      <td>200.0</td>\n",
       "      <td>220</td>\n",
       "      <td>27.0</td>\n",
       "      <td>37.0</td>\n",
       "      <td>CCF</td>\n",
       "      <td>40.58</td>\n",
       "      <td>2014-01-08</td>\n",
       "      <td>2014</td>\n",
       "      <td>1</td>\n",
       "      <td>8</td>\n",
       "    </tr>\n",
       "    <tr>\n",
       "      <th>3</th>\n",
       "      <td>3</td>\n",
       "      <td>10002</td>\n",
       "      <td>212  ACORN  ST</td>\n",
       "      <td>ALBANY</td>\n",
       "      <td>GA</td>\n",
       "      <td>10002</td>\n",
       "      <td>CWTR</td>\n",
       "      <td>300.0</td>\n",
       "      <td>230</td>\n",
       "      <td>4.0</td>\n",
       "      <td>37.0</td>\n",
       "      <td>TGAL</td>\n",
       "      <td>12.78</td>\n",
       "      <td>2014-01-08</td>\n",
       "      <td>2014</td>\n",
       "      <td>1</td>\n",
       "      <td>8</td>\n",
       "    </tr>\n",
       "    <tr>\n",
       "      <th>4</th>\n",
       "      <td>4</td>\n",
       "      <td>10002</td>\n",
       "      <td>212  ACORN  ST</td>\n",
       "      <td>ALBANY</td>\n",
       "      <td>GA</td>\n",
       "      <td>10002</td>\n",
       "      <td>CSWR</td>\n",
       "      <td>400.0</td>\n",
       "      <td>250</td>\n",
       "      <td>4.0</td>\n",
       "      <td>37.0</td>\n",
       "      <td>NONE</td>\n",
       "      <td>19.85</td>\n",
       "      <td>2014-01-08</td>\n",
       "      <td>2014</td>\n",
       "      <td>1</td>\n",
       "      <td>8</td>\n",
       "    </tr>\n",
       "  </tbody>\n",
       "</table>\n",
       "</div>"
      ],
      "text/plain": [
       "   Unnamed: 0  Premise Premise Address    City State  Customer Service Type  \\\n",
       "0           0    10002  212  ACORN  ST  ALBANY    GA     10002         DELC   \n",
       "1           1    10002  212  ACORN  ST  ALBANY    GA     10002          NaN   \n",
       "2           2    10002  212  ACORN  ST  ALBANY    GA     10002         CGAS   \n",
       "3           3    10002  212  ACORN  ST  ALBANY    GA     10002         CWTR   \n",
       "4           4    10002  212  ACORN  ST  ALBANY    GA     10002         CSWR   \n",
       "\n",
       "   Service Number Service Rate  Consumption  Days of Service Unit of Measure  \\\n",
       "0           100.0          216        432.0             37.0             KWH   \n",
       "1           150.0          NaN          NaN              NaN             NaN   \n",
       "2           200.0          220         27.0             37.0             CCF   \n",
       "3           300.0          230          4.0             37.0            TGAL   \n",
       "4           400.0          250          4.0             37.0            NONE   \n",
       "\n",
       "   Charge Amount Charge Date  Year  Month  Day  \n",
       "0          98.97  2014-01-08  2014      1    8  \n",
       "1          21.40  2014-01-08  2014      1    8  \n",
       "2          40.58  2014-01-08  2014      1    8  \n",
       "3          12.78  2014-01-08  2014      1    8  \n",
       "4          19.85  2014-01-08  2014      1    8  "
      ]
     },
     "execution_count": 67,
     "metadata": {},
     "output_type": "execute_result"
    }
   ],
   "source": [
    "df_test2014.head()"
   ]
  },
  {
   "cell_type": "code",
   "execution_count": null,
   "metadata": {},
   "outputs": [],
   "source": []
  }
 ],
 "metadata": {
  "kernelspec": {
   "display_name": "Python [conda env:cds] *",
   "language": "python",
   "name": "conda-env-cds-py"
  },
  "language_info": {
   "codemirror_mode": {
    "name": "ipython",
    "version": 3
   },
   "file_extension": ".py",
   "mimetype": "text/x-python",
   "name": "python",
   "nbconvert_exporter": "python",
   "pygments_lexer": "ipython3",
   "version": "3.7.3"
  }
 },
 "nbformat": 4,
 "nbformat_minor": 2
}
