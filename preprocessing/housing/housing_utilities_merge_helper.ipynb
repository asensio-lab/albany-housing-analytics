{
 "cells": [
  {
   "cell_type": "markdown",
   "metadata": {},
   "source": [
    "### note: change all of the paths to your correct path when loading in data"
   ]
  },
  {
   "cell_type": "code",
   "execution_count": 67,
   "metadata": {},
   "outputs": [],
   "source": [
    "import numpy as np\n",
    "import pandas as pd\n",
    "import matplotlib as mpl\n",
    "import matplotlib.pyplot as plt\n",
    "import scipy as scp\n",
    "from scipy import stats\n",
    "import statsmodels.api as sm\n",
    "import statsmodels.formula.api as smf\n",
    "import sklearn\n",
    "from sklearn.linear_model import LinearRegression\n",
    "import os\n",
    "import Levenshtein"
   ]
  },
  {
   "cell_type": "code",
   "execution_count": 68,
   "metadata": {},
   "outputs": [],
   "source": [
    "pd.options.display.max_rows = 600\n",
    "pd.options.display.max_columns = 85"
   ]
  },
  {
   "cell_type": "code",
   "execution_count": 69,
   "metadata": {},
   "outputs": [],
   "source": [
    "home_tmp = pd.read_csv('~/Dropbox (Amherst College)/CDS-2019-AlbanyHub/Raw-Data/mismatched_home.csv', header = None)\n",
    "cdbg_tmp = pd.read_csv('~/Dropbox (Amherst College)/CDS-2019-AlbanyHub/Raw-Data/mismatched_cdbg.csv', header = None)\n",
    "mismatched_home = home_tmp.iloc[:,0]\n",
    "mismatched_cdbg = cdbg_tmp.iloc[:,0]"
   ]
  },
  {
   "cell_type": "code",
   "execution_count": 70,
   "metadata": {},
   "outputs": [
    {
     "data": {
      "text/plain": [
       "99"
      ]
     },
     "execution_count": 70,
     "metadata": {},
     "output_type": "execute_result"
    }
   ],
   "source": [
    "mismatched_home.shape[0] + mismatched_cdbg.shape[0]"
   ]
  },
  {
   "cell_type": "code",
   "execution_count": 71,
   "metadata": {},
   "outputs": [],
   "source": [
    "df_utilities2012 = pd.read_csv('~/Dropbox (Amherst College)/CDS-2019-AlbanyHub/Processed-Data/Totals2012.csv')\n",
    "df_utilities2013 = pd.read_csv('~/Dropbox (Amherst College)/CDS-2019-AlbanyHub/Processed-Data/Totals2013.csv')\n",
    "df_utilities2014 = pd.read_csv('~/Dropbox (Amherst College)/CDS-2019-AlbanyHub/Processed-Data/Totals2014.csv')\n",
    "df_utilities2015 = pd.read_csv('~/Dropbox (Amherst College)/CDS-2019-AlbanyHub/Processed-Data/Totals2015.csv')\n",
    "df_utilities2016 = pd.read_csv('~/Dropbox (Amherst College)/CDS-2019-AlbanyHub/Processed-Data/Totals2016.csv')\n",
    "df_utilities2017 = pd.read_csv('~/Dropbox (Amherst College)/CDS-2019-AlbanyHub/Processed-Data/Totals2017.csv')\n",
    "df_utilities2018 = pd.read_csv('~/Dropbox (Amherst College)/CDS-2019-AlbanyHub/Processed-Data/Totals2018.csv')\n",
    "df_utilities2019 = pd.read_csv('~/Dropbox (Amherst College)/CDS-2019-AlbanyHub/Processed-Data/Totals2019.csv')\n",
    "df_utilities_list = [df_utilities2012,df_utilities2013,df_utilities2014,df_utilities2015,\n",
    "                    df_utilities2016,df_utilities2017,df_utilities2018,df_utilities2019]"
   ]
  },
  {
   "cell_type": "code",
   "execution_count": 72,
   "metadata": {},
   "outputs": [],
   "source": [
    "list1 = []\n",
    "list2 = []\n",
    "for df_u in df_utilities_list:\n",
    "    list1.append(df_u['Premise Address'])\n",
    "for series_u in list1:\n",
    "    for row in series_u:\n",
    "        list2.append(row)\n",
    "series_utilities = pd.Series(list2)"
   ]
  },
  {
   "cell_type": "code",
   "execution_count": 73,
   "metadata": {},
   "outputs": [],
   "source": [
    "s_utilities = pd.Series(series_utilities.unique())"
   ]
  },
  {
   "cell_type": "code",
   "execution_count": 74,
   "metadata": {},
   "outputs": [],
   "source": [
    "xlsx = pd.ExcelFile('~/Dropbox (Amherst College)/CDS-2019-AlbanyHub/Raw-Data/All CED Funded Projects 2007-2017.xlsx')\n",
    "df1_original = pd.read_excel(xlsx, 'HOME Funded Projects')\n",
    "df2_original = pd.read_excel(xlsx, 'CDBG Funded Projects')\n",
    "df_original = pd.concat([df1_original, df2_original])\n",
    "df_original.index = range(850)"
   ]
  },
  {
   "cell_type": "markdown",
   "metadata": {},
   "source": [
    "### helper functions"
   ]
  },
  {
   "cell_type": "code",
   "execution_count": 75,
   "metadata": {},
   "outputs": [],
   "source": [
    "def lev_list(address_list, address, i):\n",
    "    temp_list = []\n",
    "    temp_list_u = []\n",
    "    for u_address in address_list:\n",
    "        if Levenshtein.distance(address, u_address.upper()) <= i:\n",
    "            temp_list.append(address)\n",
    "            temp_list_u.append(u_address.upper())\n",
    "    temp_list_series = pd.Series(temp_list)\n",
    "    temp_list_u_series = pd.Series(temp_list_u)\n",
    "    return temp_list_u_series"
   ]
  },
  {
   "cell_type": "code",
   "execution_count": 76,
   "metadata": {},
   "outputs": [],
   "source": [
    "def space_fix_utilities(s_util):\n",
    "    s_util_to_series = []\n",
    "    for address in s_util:\n",
    "        full_address = address.split()\n",
    "        length = len(full_address)\n",
    "        word = full_address[0] + \"  \"\n",
    "        for i in range(1, length-1):\n",
    "            word += full_address[i] + \" \"\n",
    "        word += \" \" + full_address[length-1]\n",
    "        word = word.strip()\n",
    "        s_util_to_series.append(word)\n",
    "    return pd.Series(s_util_to_series)"
   ]
  },
  {
   "cell_type": "code",
   "execution_count": 77,
   "metadata": {},
   "outputs": [],
   "source": [
    "def construct_fixed_addresses(list_series):\n",
    "    tmp_to_series = []\n",
    "    for (apt, dup, sno, snm, stp) in zip(list_series[0],list_series[1],list_series[2],\n",
    "                                         list_series[3],list_series[4]):\n",
    "        word = \"\"\n",
    "        if sno != \"NA\":\n",
    "            word += sno + \" \"\n",
    "        if snm != \"NA\":\n",
    "            word += snm + \" \"\n",
    "        if stp != \"NA\":\n",
    "            word += stp\n",
    "        tmp_to_series.append(word.strip())\n",
    "    return pd.Series(tmp_to_series)"
   ]
  },
  {
   "cell_type": "code",
   "execution_count": 78,
   "metadata": {},
   "outputs": [],
   "source": [
    "def gen_list_none(address_list, mismatched, i):\n",
    "    tmp_list = []\n",
    "    for address in mismatched:\n",
    "        if address == \"UNKNOWN ADDRESS\" or address == \"SUPPRESSED ADDRESS\":\n",
    "            continue\n",
    "        if lev_list(address_list, address, i).shape[0] == 0:\n",
    "            tmp_list.append(address)\n",
    "    return pd.Series(tmp_list)"
   ]
  },
  {
   "cell_type": "markdown",
   "metadata": {},
   "source": [
    "### Read in more data"
   ]
  },
  {
   "cell_type": "code",
   "execution_count": 79,
   "metadata": {},
   "outputs": [],
   "source": [
    "#s_utilities = space_fix_utilities(s_utilities)\n",
    "df_parsehome = pd.read_csv('~/Dropbox (Amherst College)/CDS-2019-AlbanyHub/Raw-Data/fixed_home_v02.csv')\n",
    "df_parsecdbg = pd.read_csv('~/Dropbox (Amherst College)/CDS-2019-AlbanyHub/Raw-Data/fixed_cdbg.csv')"
   ]
  },
  {
   "cell_type": "code",
   "execution_count": 80,
   "metadata": {},
   "outputs": [],
   "source": [
    "s_parsehome = df_parsehome['Address']\n",
    "s_parsecdbg = df_parsecdbg['Address']"
   ]
  },
  {
   "cell_type": "code",
   "execution_count": 81,
   "metadata": {},
   "outputs": [],
   "source": [
    "def containsAPT(series):\n",
    "    apt_list = []\n",
    "    for address in series:\n",
    "        if \"APT\" in address:\n",
    "            apt_list.append(address)\n",
    "    return pd.Series(apt_list)"
   ]
  },
  {
   "cell_type": "code",
   "execution_count": 82,
   "metadata": {},
   "outputs": [],
   "source": [
    "def containsDUP(series):\n",
    "    dup_list = []\n",
    "    for address in series:\n",
    "        full_address = address.split(' ')\n",
    "        length = len(full_address)\n",
    "        for i in range(length - 1):\n",
    "            word = full_address[i]\n",
    "            if len(word) == 1:\n",
    "                if not ((word == 'N') or (word == 'E')\n",
    "                or (word == 'S') or (word == 'W')):\n",
    "                    dup_list.append(address)\n",
    "    return pd.Series(dup_list)"
   ]
  },
  {
   "cell_type": "code",
   "execution_count": 83,
   "metadata": {},
   "outputs": [],
   "source": [
    "def clean(series):\n",
    "    tmp_list = []\n",
    "    for address in series:\n",
    "        full_address = address.split(' ')\n",
    "        length = len(full_address)\n",
    "        if any(char.isdigit() for char in full_address[length-1]):\n",
    "            tmp_list.append(address)\n",
    "        else:\n",
    "            tmp_list.append(\"---\")\n",
    "    return pd.Series(tmp_list)"
   ]
  },
  {
   "cell_type": "code",
   "execution_count": 84,
   "metadata": {},
   "outputs": [],
   "source": [
    "def splitter(series):\n",
    "    apt_list = set(containsAPT(series))\n",
    "    dup_list = set(containsDUP(series))\n",
    "    sno_to_series = []\n",
    "    snm_to_series = []\n",
    "    stp_to_series = []\n",
    "    apt_to_series = []\n",
    "    dup_to_series = []\n",
    "\n",
    "    for address in series:\n",
    "        full_address = address.split()\n",
    "        length = len(full_address)\n",
    "        begin_index = 1\n",
    "        end_index = length - 1\n",
    "        #mutually exclusive apt and duplex\n",
    "        if address == \"UNKNOWN ADDRESS\":\n",
    "            sno_to_series.append(\"NA\")\n",
    "            snm_to_series.append(\"UNKNOWN ADDRESS\")\n",
    "            stp_to_series.append(\"NA\")\n",
    "            apt_to_series.append(\"NA\")\n",
    "            dup_to_series.append(\"NA\")\n",
    "            continue\n",
    "        if address == \"SUPPRESSED ADDRESS\":\n",
    "            sno_to_series.append(\"NA\")\n",
    "            snm_to_series.append(\"SUPPRESSED ADDRESS\")\n",
    "            stp_to_series.append(\"NA\")\n",
    "            apt_to_series.append(\"NA\")\n",
    "            dup_to_series.append(\"NA\")\n",
    "            continue\n",
    "        if address in apt_list:\n",
    "            apt_to_series.append(full_address[length-1])\n",
    "            stp_to_series.append(full_address[length-3])\n",
    "            end_index -= 2\n",
    "        else:\n",
    "            apt_to_series.append(\"NA\")\n",
    "            stp_to_series.append(full_address[length-1])\n",
    "            \n",
    "        if address in dup_list:\n",
    "            dup_to_series.append(full_address[1])\n",
    "            begin_index += 1\n",
    "        else:\n",
    "            dup_to_series.append(\"NA\")\n",
    "        sno_to_series.append(full_address[0])\n",
    "        to_str = full_address[begin_index:end_index]\n",
    "        word = \"\"\n",
    "        for part in to_str:\n",
    "            word += part + \" \"\n",
    "        snm_to_series.append(word.strip())\n",
    "    series_apt = pd.Series(apt_to_series)\n",
    "    series_dup = pd.Series(dup_to_series)\n",
    "    series_sno = pd.Series(sno_to_series)\n",
    "    series_snm = pd.Series(snm_to_series)\n",
    "    series_stp = pd.Series(stp_to_series)\n",
    "    return (series_apt, series_dup, series_sno, series_snm, series_stp)"
   ]
  },
  {
   "cell_type": "code",
   "execution_count": 85,
   "metadata": {},
   "outputs": [],
   "source": [
    "series_apt_home, series_dup_home, series_sno_home, series_snm_home, series_stp_home = splitter(s_parsehome)\n",
    "series_apt_cdbg, series_dup_cdbg, series_sno_cdbg, series_snm_cdbg, series_stp_cdbg = splitter(s_parsecdbg)"
   ]
  },
  {
   "cell_type": "code",
   "execution_count": 86,
   "metadata": {},
   "outputs": [
    {
     "name": "stdout",
     "output_type": "stream",
     "text": [
      "(286,)\n",
      "(286,)\n",
      "(286,)\n",
      "(286,)\n",
      "(286,)\n",
      "(564,)\n",
      "(564,)\n",
      "(564,)\n",
      "(564,)\n",
      "(564,)\n"
     ]
    }
   ],
   "source": [
    "home = [series_apt_home, series_dup_home, series_sno_home, series_snm_home, series_stp_home]\n",
    "cdbg = [series_apt_cdbg, series_dup_cdbg, series_sno_cdbg, series_snm_cdbg, series_stp_cdbg]\n",
    "for hom in home:\n",
    "    print(hom.shape)\n",
    "for cdb in cdbg:\n",
    "    print(cdb.shape)"
   ]
  },
  {
   "cell_type": "code",
   "execution_count": 87,
   "metadata": {},
   "outputs": [],
   "source": [
    "def checker(list_series):\n",
    "    tmp_to_series = []\n",
    "    for (apt, dup, sno, snm, stp) in zip(list_series[0],list_series[1],list_series[2],\n",
    "                                         list_series[3],list_series[4]):\n",
    "        word = \"\"\n",
    "        if sno != \"NA\":\n",
    "            word += sno + \" \"\n",
    "        if dup != \"NA\":\n",
    "            word += dup + \" \"\n",
    "        word += snm + \" \"\n",
    "        if stp != \"NA\":\n",
    "            word += stp + \" \"\n",
    "        if apt != \"NA\":\n",
    "            word += \"APT \" + apt\n",
    "        word = word.strip()\n",
    "        tmp_to_series.append(word)\n",
    "    return pd.Series(tmp_to_series)"
   ]
  },
  {
   "cell_type": "code",
   "execution_count": 88,
   "metadata": {},
   "outputs": [
    {
     "data": {
      "text/plain": [
       "Series([], Name: Address, dtype: object)"
      ]
     },
     "execution_count": 88,
     "metadata": {},
     "output_type": "execute_result"
    }
   ],
   "source": [
    "s_parsehome[checker(home) != s_parsehome]"
   ]
  },
  {
   "cell_type": "code",
   "execution_count": 89,
   "metadata": {},
   "outputs": [],
   "source": [
    "df_all_addresses = pd.read_csv('~/Dropbox (Amherst College)/CDS-2019-AlbanyHub/Processed-Data/all_addresses.csv')\n",
    "df_all_addresses = df_all_addresses.drop('Unnamed: 0', axis = 1)\n",
    "s_all_addresses = df_all_addresses['line1']"
   ]
  },
  {
   "cell_type": "markdown",
   "metadata": {},
   "source": [
    "### Workflow"
   ]
  },
  {
   "cell_type": "markdown",
   "metadata": {},
   "source": [
    "s_utilities is a list of all addresses that show up in the utilities data <br>\n",
    "s_all_addresses is a list of all addresses in Albany <br>\n",
    "df_original is a list of all housing projects <br>\n",
    "lev_list takes in one of the two lists above, an address, and a threshold. <br>\n",
    "If the address is within the threshold distance (string comparison) of an address in the two lists, it will print out."
   ]
  },
  {
   "cell_type": "code",
   "execution_count": 90,
   "metadata": {},
   "outputs": [
    {
     "data": {
      "text/plain": [
       "0             2620  S MADISON  ST\n",
       "1               529  COCHRAN  AVE\n",
       "2          2226  OLD DOMINION  DR\n",
       "3             2701  DONCASTER  RD\n",
       "4            250  BONNY VIEW  AVE\n",
       "5            249  BONNY VIEW  AVE\n",
       "6            248  BONNY VIEW  AVE\n",
       "7            251  BONNY VIEW  AVE\n",
       "8            253  BONNY VIEW  AVE\n",
       "9            247  BONNY VIEW  AVE\n",
       "10           254  BONNY VIEW  AVE\n",
       "11           243  BONNY VIEW  AVE\n",
       "12           245  BONNY VIEW  AVE\n",
       "13           252  BONNY VIEW  AVE\n",
       "14            2010  LAFAYETTE  CR\n",
       "15              20  S JACKSON  ST\n",
       "16               603  N HALEY  ST\n",
       "17           1112  PEACHTREE  TER\n",
       "18             2517  CARDINAL  DR\n",
       "19            2006  LAFAYETTE  CR\n",
       "20              818  WESTVIEW  DR\n",
       "21              2501  REDWOOD  CR\n",
       "22              933  RANDOLPH  DR\n",
       "23            2201  CHAMPAGNE  DR\n",
       "24              215  BROADWAY  ST\n",
       "25              1003  HOLLAND  DR\n",
       "26            2200  CHAMPAGNE  LN\n",
       "27           1019  UNIVERSITY  DR\n",
       "28            509  WESTOVER  BLVD\n",
       "29            2312  GLENEAGLE  DR\n",
       "30          421  N WESTOVER  BLVD\n",
       "31          421  N WESTOVER  BLVD\n",
       "32           2710  W OAKRDIGE  DR\n",
       "33    1404  WHISPERING PINES  AVE\n",
       "Name: 0, dtype: object"
      ]
     },
     "execution_count": 90,
     "metadata": {},
     "output_type": "execute_result"
    }
   ],
   "source": [
    "mismatched_home"
   ]
  },
  {
   "cell_type": "code",
   "execution_count": 91,
   "metadata": {
    "scrolled": true
   },
   "outputs": [
    {
     "data": {
      "text/plain": [
       "0                         UNKNOWN ADDRESS\n",
       "1                          400  EBONY  LN\n",
       "2                    638  W HIGHLAND  AVE\n",
       "3                         UNKNOWN ADDRESS\n",
       "4                         UNKNOWN ADDRESS\n",
       "5                         UNKNOWN ADDRESS\n",
       "6                  230  S JACKSON ST  250\n",
       "7                         UNKNOWN ADDRESS\n",
       "8                         UNKNOWN ADDRESS\n",
       "9                         UNKNOWN ADDRESS\n",
       "10                       302  S CASON  ST\n",
       "11                        UNKNOWN ADDRESS\n",
       "12                     SUPPRESSED ADDRESS\n",
       "13                     225  S JACKSON  ST\n",
       "14                   1010  W LINCOLN  AVE\n",
       "15    1401  E CAMPBELL ST/108 CARROLL  ST\n",
       "16                     2572  CRESCENT  DR\n",
       "17                     2572  CRESCENT  DR\n",
       "18                       4835  IMPALA  LN\n",
       "19                         507  EMILY  ST\n",
       "20                    608  RESIDENCE  AVE\n",
       "21                       614  ROADWAY  ST\n",
       "22                       706  E TOWNE  RD\n",
       "23                     SUPPRESSED ADDRESS\n",
       "24                        743  E TOWN  RD\n",
       "25                     SUPPRESSED ADDRESS\n",
       "26                     2004  WHITNEY  AVE\n",
       "27                732  W OGLETHORPE  BLVD\n",
       "28                  215  BROADWAY CT  #13\n",
       "29                  215  BROADWAY CT  #10\n",
       "30                     SUPPRESSED ADDRESS\n",
       "31                   2116  W WADDELL  AVE\n",
       "32                       1306  NEWTON  RD\n",
       "33                        UNKNOWN ADDRESS\n",
       "34                242  E OGLETHORPE  BLVD\n",
       "35                244  E OGLETHORPE  BLVD\n",
       "36                246  E OGLETHORPE  BLVD\n",
       "37                248  E OGLETHORPE  BLVD\n",
       "38                250  E OGLETHORPE  BLVD\n",
       "39                252  E OGLETHORPE  BLVD\n",
       "40                254  E OGLETHORPE  BLVD\n",
       "41                255  E OGLETHORPE  BLVD\n",
       "42                256  E OGLETHORPE  BLVD\n",
       "43                257  E OGLETHORPE  BLVD\n",
       "44                258  E OGLETHORPE  BLVD\n",
       "45                259  E OGLETHORPE  BLVD\n",
       "46                260  E OGLETHORPE  BLVD\n",
       "47               1817  W OGLETHORPE  BLVD\n",
       "48                      1819  EDGERLY  DR\n",
       "49                      1921  EDGERLY  DR\n",
       "50                     214  N BROADAY  ST\n",
       "51                     2536  CRESCENT  DR\n",
       "52                      502  LINCOLN  AVE\n",
       "53                      607  COCHRAN  AVE\n",
       "54                        622  CEDAR  AVE\n",
       "55                       703  GILBERT  LN\n",
       "56                     410  W MERCER  AVE\n",
       "57                       2301  GEORGE  ST\n",
       "58                    1012  W MERCER  AVE\n",
       "59                 1934  S RIVERVIEW  CIR\n",
       "60                  2028  N RIVERVIEW  DR\n",
       "61        3019  MARTIN LUTHER KING JR  DR\n",
       "62              9001300  BLOCK MOBILE  RD\n",
       "63              700  BLOCK NETHERLAND  LN\n",
       "64               405  JOHNNY WILLIAMS  RD\n",
       "Name: 0, dtype: object"
      ]
     },
     "execution_count": 91,
     "metadata": {},
     "output_type": "execute_result"
    }
   ],
   "source": [
    "mismatched_cdbg"
   ]
  },
  {
   "cell_type": "markdown",
   "metadata": {},
   "source": [
    "### example (note the spacing difference between addresses in utilities and the full addr list)"
   ]
  },
  {
   "cell_type": "code",
   "execution_count": 100,
   "metadata": {},
   "outputs": [
    {
     "data": {
      "text/plain": [
       "0    1014 W LINCOLN AVE\n",
       "1    1810 W LINCOLN AVE\n",
       "2    1710 W LINCOLN AVE\n",
       "3    1510 W LINCOLN AVE\n",
       "4    1410 W LINCOLN AVE\n",
       "5    1110 W LINCOLN AVE\n",
       "6    1310 W LINCOLN AVE\n",
       "7    1000 W LINCOLN AVE\n",
       "8    1020 W LINCOLN AVE\n",
       "dtype: object"
      ]
     },
     "execution_count": 100,
     "metadata": {},
     "output_type": "execute_result"
    }
   ],
   "source": [
    "lev_list(s_utilities, \"1010 W LINCOLN AVE\", 1)"
   ]
  },
  {
   "cell_type": "code",
   "execution_count": 98,
   "metadata": {},
   "outputs": [
    {
     "data": {
      "text/plain": [
       "0      1310 W LINCOLN AVE\n",
       "1      1308 W LINCOLN AVE\n",
       "2      1306 W LINCOLN AVE\n",
       "3      1304 W LINCOLN AVE\n",
       "4      1302 W LINCOLN AVE\n",
       "5      1300 W LINCOLN AVE\n",
       "6      1230 W LINCOLN AVE\n",
       "7      1228 W LINCOLN AVE\n",
       "8      1226 W LINCOLN AVE\n",
       "9      1224 W LINCOLN AVE\n",
       "10     1224 W LINCOLN AVE\n",
       "11     1222 W LINCOLN AVE\n",
       "12     1220 W LINCOLN AVE\n",
       "13     1218 W LINCOLN AVE\n",
       "14     1218 W LINCOLN AVE\n",
       "15     1216 W LINCOLN AVE\n",
       "16     1212 W LINCOLN AVE\n",
       "17     1208 W LINCOLN AVE\n",
       "18     1206 W LINCOLN AVE\n",
       "19     1204 W LINCOLN AVE\n",
       "20     1202 W LINCOLN AVE\n",
       "21     1200 W LINCOLN AVE\n",
       "22     1126 W LINCOLN AVE\n",
       "23     1124 W LINCOLN AVE\n",
       "24     1122 W LINCOLN AVE\n",
       "25     1120 W LINCOLN AVE\n",
       "26     1118 W LINCOLN AVE\n",
       "27     1116 W LINCOLN AVE\n",
       "28     1114 W LINCOLN AVE\n",
       "29     1112 W LINCOLN AVE\n",
       "30     1110 W LINCOLN AVE\n",
       "31     1108 W LINCOLN AVE\n",
       "32     1106 W LINCOLN AVE\n",
       "33     1104 W LINCOLN AVE\n",
       "34     1400 W LINCOLN AVE\n",
       "35     1402 W LINCOLN AVE\n",
       "36     1404 W LINCOLN AVE\n",
       "37     1512 W LINCOLN AVE\n",
       "38     1510 W LINCOLN AVE\n",
       "39     1508 W LINCOLN AVE\n",
       "40     1506 W LINCOLN AVE\n",
       "41     1504 W LINCOLN AVE\n",
       "42     1502 W LINCOLN AVE\n",
       "43     1500 W LINCOLN AVE\n",
       "44     1426 W LINCOLN AVE\n",
       "45     1424 W LINCOLN AVE\n",
       "46     1422 W LINCOLN AVE\n",
       "47     1420 W LINCOLN AVE\n",
       "48     1418 W LINCOLN AVE\n",
       "49     1416 W LINCOLN AVE\n",
       "50     1414 W LINCOLN AVE\n",
       "51     1412 W LINCOLN AVE\n",
       "52     1410 W LINCOLN AVE\n",
       "53     1408 W LINCOLN AVE\n",
       "54     1406 W LINCOLN AVE\n",
       "55     1908 W LINCOLN AVE\n",
       "56     1906 W LINCOLN AVE\n",
       "57     1900 W LINCOLN AVE\n",
       "58     1818 W LINCOLN AVE\n",
       "59     1816 W LINCOLN AVE\n",
       "60     1814 W LINCOLN AVE\n",
       "61     1812 W LINCOLN AVE\n",
       "62     1808 W LINCOLN AVE\n",
       "63     1810 W LINCOLN AVE\n",
       "64     1806 W LINCOLN AVE\n",
       "65     1804 W LINCOLN AVE\n",
       "66     1311 W LINCOLN AVE\n",
       "67     1309 W LINCOLN AVE\n",
       "68     1307 W LINCOLN AVE\n",
       "69     1305 W LINCOLN AVE\n",
       "70     1303 W LINCOLN AVE\n",
       "71     1301 W LINCOLN AVE\n",
       "72     1229 W LINCOLN AVE\n",
       "73     1227 W LINCOLN AVE\n",
       "74     1225 W LINCOLN AVE\n",
       "75     1223 W LINCOLN AVE\n",
       "76     1221 W LINCOLN AVE\n",
       "77     1219 W LINCOLN AVE\n",
       "78     1217 W LINCOLN AVE\n",
       "79     1215 W LINCOLN AVE\n",
       "80     1213 W LINCOLN AVE\n",
       "81     1211 W LINCOLN AVE\n",
       "82     1209 W LINCOLN AVE\n",
       "83     1207 W LINCOLN AVE\n",
       "84     1205 W LINCOLN AVE\n",
       "85     1203 W LINCOLN AVE\n",
       "86     1201 W LINCOLN AVE\n",
       "87     1201 W LINCOLN AVE\n",
       "88     1401 W LINCOLN AVE\n",
       "89     1401 W LINCOLN AVE\n",
       "90     1125 W LINCOLN AVE\n",
       "91     1125 W LINCOLN AVE\n",
       "92     1123 W LINCOLN AVE\n",
       "93     1119 W LINCOLN AVE\n",
       "94     1117 W LINCOLN AVE\n",
       "95     1115 W LINCOLN AVE\n",
       "96     1111 W LINCOLN AVE\n",
       "97     1109 W LINCOLN AVE\n",
       "98     1107 W LINCOLN AVE\n",
       "99     1105 W LINCOLN AVE\n",
       "100    1700 W LINCOLN AVE\n",
       "101    1702 W LINCOLN AVE\n",
       "102    1704 W LINCOLN AVE\n",
       "103    1706 W LINCOLN AVE\n",
       "104    1708 W LINCOLN AVE\n",
       "105    1710 W LINCOLN AVE\n",
       "106    1712 W LINCOLN AVE\n",
       "107    1714 W LINCOLN AVE\n",
       "108    1403 W LINCOLN AVE\n",
       "109    1405 W LINCOLN AVE\n",
       "110    1525 W LINCOLN AVE\n",
       "111    1523 W LINCOLN AVE\n",
       "112    1521 W LINCOLN AVE\n",
       "113    1519 W LINCOLN AVE\n",
       "114    1517 W LINCOLN AVE\n",
       "115    1515 W LINCOLN AVE\n",
       "116    1513 W LINCOLN AVE\n",
       "117    1511 W LINCOLN AVE\n",
       "118    1509 W LINCOLN AVE\n",
       "119    1507 W LINCOLN AVE\n",
       "120    1505 W LINCOLN AVE\n",
       "121    1503 W LINCOLN AVE\n",
       "122    1501 W LINCOLN AVE\n",
       "123    1421 W LINCOLN AVE\n",
       "124    1419 W LINCOLN AVE\n",
       "125    1417 W LINCOLN AVE\n",
       "126    1415 W LINCOLN AVE\n",
       "127    1413 W LINCOLN AVE\n",
       "128    1411 W LINCOLN AVE\n",
       "129    1409 W LINCOLN AVE\n",
       "130    1407 W LINCOLN AVE\n",
       "131    1909 W LINCOLN AVE\n",
       "132    1907 W LINCOLN AVE\n",
       "133    1905 W LINCOLN AVE\n",
       "134    1903 W LINCOLN AVE\n",
       "135    1815 W LINCOLN AVE\n",
       "136    1813 W LINCOLN AVE\n",
       "137    1811 W LINCOLN AVE\n",
       "138    1805 W LINCOLN AVE\n",
       "139    1807 W LINCOLN AVE\n",
       "140    1701 W LINCOLN AVE\n",
       "141    1703 W LINCOLN AVE\n",
       "142    1705 W LINCOLN AVE\n",
       "143    1707 W LINCOLN AVE\n",
       "144    1709 W LINCOLN AVE\n",
       "145    1711 W LINCOLN AVE\n",
       "146    1713 W LINCOLN AVE\n",
       "147    1715 W LINCOLN AVE\n",
       "148     914 W LINCOLN AVE\n",
       "149    1020 W LINCOLN AVE\n",
       "150     906 W LINCOLN AVE\n",
       "151     904 W LINCOLN AVE\n",
       "152    1018 W LINCOLN AVE\n",
       "153    1016 W LINCOLN AVE\n",
       "154    1014 W LINCOLN AVE\n",
       "155    1012 W LINCOLN AVE\n",
       "156    1010 W LINCOLN AVE\n",
       "157    1008 W LINCOLN AVE\n",
       "158    1006 W LINCOLN AVE\n",
       "159    1004 W LINCOLN AVE\n",
       "160    1002 W LINCOLN AVE\n",
       "161    1000 W LINCOLN AVE\n",
       "162     930 W LINCOLN AVE\n",
       "163     928 W LINCOLN AVE\n",
       "164     926 W LINCOLN AVE\n",
       "165     916 W LINCOLN AVE\n",
       "166     628 W LINCOLN AVE\n",
       "167     902 W LINCOLN AVE\n",
       "168     900 W LINCOLN AVE\n",
       "169     830 W LINCOLN AVE\n",
       "170     828 W LINCOLN AVE\n",
       "171     826 W LINCOLN AVE\n",
       "172     822 W LINCOLN AVE\n",
       "173     820 W LINCOLN AVE\n",
       "174     814 W LINCOLN AVE\n",
       "175     812 W LINCOLN AVE\n",
       "176     808 W LINCOLN AVE\n",
       "177     806 W LINCOLN AVE\n",
       "178     804 W LINCOLN AVE\n",
       "179     700 W LINCOLN AVE\n",
       "180     924 W LINCOLN AVE\n",
       "181     922 W LINCOLN AVE\n",
       "182     920 W LINCOLN AVE\n",
       "183     918 W LINCOLN AVE\n",
       "184     912 W LINCOLN AVE\n",
       "185     910 W LINCOLN AVE\n",
       "186     908 W LINCOLN AVE\n",
       "187     616 W LINCOLN AVE\n",
       "188     614 W LINCOLN AVE\n",
       "189     632 W LINCOLN AVE\n",
       "190     708 W LINCOLN AVE\n",
       "191     630 W LINCOLN AVE\n",
       "192     706 W LINCOLN AVE\n",
       "193     622 W LINCOLN AVE\n",
       "194     620 W LINCOLN AVE\n",
       "195     618 W LINCOLN AVE\n",
       "196     704 W LINCOLN AVE\n",
       "197     612 W LINCOLN AVE\n",
       "198     626 W LINCOLN AVE\n",
       "199     600 W LINCOLN AVE\n",
       "200     624 W LINCOLN AVE\n",
       "201     504 W LINCOLN AVE\n",
       "202     502 W LINCOLN AVE\n",
       "203     610 W LINCOLN AVE\n",
       "204     608 W LINCOLN AVE\n",
       "205     606 W LINCOLN AVE\n",
       "206     516 W LINCOLN AVE\n",
       "207     504 W LINCOLN AVE\n",
       "208     404 W LINCOLN AVE\n",
       "209     402 W LINCOLN AVE\n",
       "210     300 W LINCOLN AVE\n",
       "211     308 W LINCOLN AVE\n",
       "212     318 W LINCOLN AVE\n",
       "213     702 W LINCOLN AVE\n",
       "214     322 W LINCOLN AVE\n",
       "215     602 W LINCOLN AVE\n",
       "216     514 W LINCOLN AVE\n",
       "217     512 W LINCOLN AVE\n",
       "218     508 W LINCOLN AVE\n",
       "219     320 W LINCOLN AVE\n",
       "220     508 W LINCOLN AVE\n",
       "221     428 W LINCOLN AVE\n",
       "222     426 W LINCOLN AVE\n",
       "223     424 W LINCOLN AVE\n",
       "224     422 W LINCOLN AVE\n",
       "225     410 W LINCOLN AVE\n",
       "226     408 W LINCOLN AVE\n",
       "227     420 W LINCOLN AVE\n",
       "228     418 W LINCOLN AVE\n",
       "229     406 W LINCOLN AVE\n",
       "230     314 W LINCOLN AVE\n",
       "231     306 W LINCOLN AVE\n",
       "232     304 W LINCOLN AVE\n",
       "233     430 W LINCOLN AVE\n",
       "234     416 W LINCOLN AVE\n",
       "235     414 W LINCOLN AVE\n",
       "236     316 W LINCOLN AVE\n",
       "237     412 W LINCOLN AVE\n",
       "238    1019 W LINCOLN AVE\n",
       "239    1005 W LINCOLN AVE\n",
       "240     925 W LINCOLN AVE\n",
       "241     923 W LINCOLN AVE\n",
       "242     827 W LINCOLN AVE\n",
       "243     921 W LINCOLN AVE\n",
       "244     919 W LINCOLN AVE\n",
       "245     917 W LINCOLN AVE\n",
       "246     915 W LINCOLN AVE\n",
       "247     913 W LINCOLN AVE\n",
       "248     909 W LINCOLN AVE\n",
       "249     907 W LINCOLN AVE\n",
       "250     905 W LINCOLN AVE\n",
       "251     825 W LINCOLN AVE\n",
       "252     823 W LINCOLN AVE\n",
       "253     821 W LINCOLN AVE\n",
       "254     819 W LINCOLN AVE\n",
       "255     817 W LINCOLN AVE\n",
       "256     815 W LINCOLN AVE\n",
       "257     813 W LINCOLN AVE\n",
       "258     811 W LINCOLN AVE\n",
       "259     809 W LINCOLN AVE\n",
       "260     631 W LINCOLN AVE\n",
       "261     623 W LINCOLN AVE\n",
       "262     609 W LINCOLN AVE\n",
       "263     629 W LINCOLN AVE\n",
       "264     627 W LINCOLN AVE\n",
       "265     707 W LINCOLN AVE\n",
       "266     621 W LINCOLN AVE\n",
       "267     619 W LINCOLN AVE\n",
       "268     617 W LINCOLN AVE\n",
       "269     421 W LINCOLN AVE\n",
       "270     419 W LINCOLN AVE\n",
       "271     615 W LINCOLN AVE\n",
       "272     911 W LINCOLN AVE\n",
       "273     625 W LINCOLN AVE\n",
       "274     613 W LINCOLN AVE\n",
       "275     611 W LINCOLN AVE\n",
       "276     527 W LINCOLN AVE\n",
       "277     511 W LINCOLN AVE\n",
       "278     509 W LINCOLN AVE\n",
       "279     525 W LINCOLN AVE\n",
       "280     523 W LINCOLN AVE\n",
       "281     521 W LINCOLN AVE\n",
       "282     519 W LINCOLN AVE\n",
       "283     703 W LINCOLN AVE\n",
       "284     517 W LINCOLN AVE\n",
       "285     517 W LINCOLN AVE\n",
       "286     515 W LINCOLN AVE\n",
       "287     807 W LINCOLN AVE\n",
       "288     805 W LINCOLN AVE\n",
       "289     513 W LINCOLN AVE\n",
       "290     507 W LINCOLN AVE\n",
       "291     505 W LINCOLN AVE\n",
       "292     319 W LINCOLN AVE\n",
       "293     429 W LINCOLN AVE\n",
       "294     427 W LINCOLN AVE\n",
       "295     417 W LINCOLN AVE\n",
       "296     415 W LINCOLN AVE\n",
       "297     411 W LINCOLN AVE\n",
       "298     405 W LINCOLN AVE\n",
       "299     315 W LINCOLN AVE\n",
       "300     313 W LINCOLN AVE\n",
       "301     311 W LINCOLN AVE\n",
       "302     309 W LINCOLN AVE\n",
       "303     307 W LINCOLN AVE\n",
       "304     305 W LINCOLN AVE\n",
       "305     303 W LINCOLN AVE\n",
       "306     409 W LINCOLN AVE\n",
       "307     409 W LINCOLN AVE\n",
       "308     407 W LINCOLN AVE\n",
       "309     407 W LINCOLN AVE\n",
       "310    1408 E LINCOLN AVE\n",
       "311    1404 E LINCOLN AVE\n",
       "312    1410 E LINCOLN AVE\n",
       "313    1406 E LINCOLN AVE\n",
       "314    1412 E LINCOLN AVE\n",
       "315    1400 E LINCOLN AVE\n",
       "316    1402 E LINCOLN AVE\n",
       "317    1405 E LINCOLN AVE\n",
       "318    1415 E LINCOLN AVE\n",
       "319    1401 E LINCOLN AVE\n",
       "320    1411 E LINCOLN AVE\n",
       "dtype: object"
      ]
     },
     "execution_count": 98,
     "metadata": {},
     "output_type": "execute_result"
    }
   ],
   "source": [
    "lev_list(s_all_addresses, \"1010 W LINCOLN AVE\", 4)"
   ]
  },
  {
   "cell_type": "markdown",
   "metadata": {},
   "source": [
    "### So in the above example, 2620 S Madison St is found in the list of all addresses, but not found in the utilities data. Record this fact in the google doc. Then, look up the project type in the housing project data to also record what type of project it was. I'm looking to see if there is any trend with demolition or disposition projects not being found in utilities data."
   ]
  },
  {
   "cell_type": "markdown",
   "metadata": {},
   "source": [
    "### example (note the capitalization difference)"
   ]
  },
  {
   "cell_type": "code",
   "execution_count": 55,
   "metadata": {},
   "outputs": [
    {
     "data": {
      "text/html": [
       "<div>\n",
       "<style scoped>\n",
       "    .dataframe tbody tr th:only-of-type {\n",
       "        vertical-align: middle;\n",
       "    }\n",
       "\n",
       "    .dataframe tbody tr th {\n",
       "        vertical-align: top;\n",
       "    }\n",
       "\n",
       "    .dataframe thead th {\n",
       "        text-align: right;\n",
       "    }\n",
       "</style>\n",
       "<table border=\"1\" class=\"dataframe\">\n",
       "  <thead>\n",
       "    <tr style=\"text-align: right;\">\n",
       "      <th></th>\n",
       "      <th>Parcel ID</th>\n",
       "      <th>Address</th>\n",
       "      <th>City</th>\n",
       "      <th>State</th>\n",
       "      <th>XY Coordinates</th>\n",
       "      <th>Plan Year</th>\n",
       "      <th>IDIS Project</th>\n",
       "      <th>Project</th>\n",
       "      <th>IDIS Activity ID</th>\n",
       "      <th>Activity Status</th>\n",
       "      <th>Program</th>\n",
       "      <th>Funded Amount</th>\n",
       "      <th>Draw Amount</th>\n",
       "      <th>Balance</th>\n",
       "    </tr>\n",
       "  </thead>\n",
       "  <tbody>\n",
       "    <tr>\n",
       "      <th>286</th>\n",
       "      <td>NaN</td>\n",
       "      <td>1008 East Residence</td>\n",
       "      <td>Albany</td>\n",
       "      <td>GA</td>\n",
       "      <td>NaN</td>\n",
       "      <td>2007</td>\n",
       "      <td>7</td>\n",
       "      <td>Emergency Repairs</td>\n",
       "      <td>578</td>\n",
       "      <td>Completed</td>\n",
       "      <td>CDBG</td>\n",
       "      <td>5671.14</td>\n",
       "      <td>5671.14</td>\n",
       "      <td>0.0</td>\n",
       "    </tr>\n",
       "    <tr>\n",
       "      <th>328</th>\n",
       "      <td>NaN</td>\n",
       "      <td>801 W Residence Ave</td>\n",
       "      <td>Albany</td>\n",
       "      <td>GA</td>\n",
       "      <td>NaN</td>\n",
       "      <td>2007</td>\n",
       "      <td>15</td>\n",
       "      <td>Public Service</td>\n",
       "      <td>572</td>\n",
       "      <td>Completed</td>\n",
       "      <td>CDBG</td>\n",
       "      <td>18572.87</td>\n",
       "      <td>18572.87</td>\n",
       "      <td>0.0</td>\n",
       "    </tr>\n",
       "    <tr>\n",
       "      <th>499</th>\n",
       "      <td>NaN</td>\n",
       "      <td>608 Residence Avenue</td>\n",
       "      <td>Albany</td>\n",
       "      <td>GA</td>\n",
       "      <td>NaN</td>\n",
       "      <td>2010</td>\n",
       "      <td>13</td>\n",
       "      <td>Demolition</td>\n",
       "      <td>941</td>\n",
       "      <td>Completed</td>\n",
       "      <td>CDBG</td>\n",
       "      <td>3341.25</td>\n",
       "      <td>3341.25</td>\n",
       "      <td>0.0</td>\n",
       "    </tr>\n",
       "    <tr>\n",
       "      <th>786</th>\n",
       "      <td>NaN</td>\n",
       "      <td>1505 E. Residence</td>\n",
       "      <td>Albany</td>\n",
       "      <td>GA</td>\n",
       "      <td>NaN</td>\n",
       "      <td>2016</td>\n",
       "      <td>5</td>\n",
       "      <td>Emergency Repairs</td>\n",
       "      <td>1470</td>\n",
       "      <td>Completed</td>\n",
       "      <td>CDBG</td>\n",
       "      <td>5884.47</td>\n",
       "      <td>5884.47</td>\n",
       "      <td>0.0</td>\n",
       "    </tr>\n",
       "    <tr>\n",
       "      <th>816</th>\n",
       "      <td>NaN</td>\n",
       "      <td>1329 E. Residence</td>\n",
       "      <td>Albany</td>\n",
       "      <td>GA</td>\n",
       "      <td>NaN</td>\n",
       "      <td>2017</td>\n",
       "      <td>20</td>\n",
       "      <td>Emergency Repairs</td>\n",
       "      <td>1518</td>\n",
       "      <td>Completed</td>\n",
       "      <td>CDBG</td>\n",
       "      <td>11896.43</td>\n",
       "      <td>11896.43</td>\n",
       "      <td>0.0</td>\n",
       "    </tr>\n",
       "  </tbody>\n",
       "</table>\n",
       "</div>"
      ],
      "text/plain": [
       "    Parcel ID               Address    City State XY Coordinates  Plan Year  \\\n",
       "286       NaN   1008 East Residence  Albany    GA            NaN       2007   \n",
       "328       NaN   801 W Residence Ave  Albany    GA            NaN       2007   \n",
       "499       NaN  608 Residence Avenue  Albany    GA            NaN       2010   \n",
       "786       NaN     1505 E. Residence  Albany    GA            NaN       2016   \n",
       "816       NaN     1329 E. Residence  Albany    GA            NaN       2017   \n",
       "\n",
       "     IDIS Project            Project  IDIS Activity ID Activity Status  \\\n",
       "286             7  Emergency Repairs               578       Completed   \n",
       "328            15     Public Service               572       Completed   \n",
       "499            13         Demolition               941       Completed   \n",
       "786             5  Emergency Repairs              1470       Completed   \n",
       "816            20  Emergency Repairs              1518       Completed   \n",
       "\n",
       "    Program  Funded Amount  Draw Amount  Balance  \n",
       "286    CDBG        5671.14      5671.14      0.0  \n",
       "328    CDBG       18572.87     18572.87      0.0  \n",
       "499    CDBG        3341.25      3341.25      0.0  \n",
       "786    CDBG        5884.47      5884.47      0.0  \n",
       "816    CDBG       11896.43     11896.43      0.0  "
      ]
     },
     "execution_count": 55,
     "metadata": {},
     "output_type": "execute_result"
    }
   ],
   "source": [
    "df_original[df_original['Address'].str.contains('Residence')]"
   ]
  },
  {
   "cell_type": "markdown",
   "metadata": {},
   "source": [
    "### Second to last merge"
   ]
  },
  {
   "cell_type": "markdown",
   "metadata": {},
   "source": [
    "#### fix in ds"
   ]
  },
  {
   "cell_type": "code",
   "execution_count": 56,
   "metadata": {},
   "outputs": [
    {
     "data": {
      "text/plain": [
       "48                          400 EBONY LN\n",
       "50                    638 W HIGHLAND AVE\n",
       "93                  230 S JACKSON ST 250\n",
       "156                     225 S JACKSON ST\n",
       "159                   1010 W LINCOLN AVE\n",
       "167    1401 E CAMPBELL ST/108 CARROLL ST\n",
       "191                     2572 CRESCENT DR\n",
       "192                     2572 CRESCENT DR\n",
       "208                       4835 IMPALA LN\n",
       "210                        507 EMILY AVE\n",
       "213                    608 RESIDENCE AVE\n",
       "214                       614 ROADWAY ST\n",
       "216                        706 E TOWN RD\n",
       "279                        743 E TOWN RD\n",
       "318                732 W OGLETHORPE BLVD\n",
       "334                  215 BROADWAY CT #13\n",
       "335                  215 BROADWAY CT #10\n",
       "368                   2116 W WADDELL AVE\n",
       "380                       1306 NEWTON RD\n",
       "410                242 E OGLETHORPE BLVD\n",
       "412                244 E OGLETHORPE BLVD\n",
       "414                246 E OGLETHORPE BLVD\n",
       "416                248 E OGLETHORPE BLVD\n",
       "418                250 E OGLETHORPE BLVD\n",
       "420                252 E OGLETHORPE BLVD\n",
       "422                254 E OGLETHORPE BLVD\n",
       "423                255 E OGLETHORPE BLVD\n",
       "424                256 E OGLETHORPE BLVD\n",
       "425                257 E OGLETHORPE BLVD\n",
       "426                258 E OGLETHORPE BLVD\n",
       "427                259 E OGLETHORPE BLVD\n",
       "428                260 E OGLETHORPE BLVD\n",
       "443               1817 W OGLETHORPE BLVD\n",
       "457                     2536 CRESCENT DR\n",
       "465                      607 COCHRAN AVE\n",
       "472                        622 CEDAR AVE\n",
       "473                       703 GILBERT LN\n",
       "480                     410 W MERCER AVE\n",
       "485                       2301 GEORGE ST\n",
       "490                    1012 W MERCER AVE\n",
       "503                 1934 S RIVERVIEW CIR\n",
       "504                  2028 N RIVERVIEW DR\n",
       "516        3019 MARTIN LUTHER KING JR DR\n",
       "517              9001300 BLOCK MOBILE RD\n",
       "518              700 BLOCK NETHERLAND LN\n",
       "557               405 JOHNNY WILLIAMS RD\n",
       "dtype: object"
      ]
     },
     "execution_count": 56,
     "metadata": {},
     "output_type": "execute_result"
    }
   ],
   "source": [
    "mismatched_cdbg"
   ]
  },
  {
   "cell_type": "code",
   "execution_count": 57,
   "metadata": {},
   "outputs": [],
   "source": [
    "s_fixed_home = construct_fixed_addresses(home)\n",
    "s_fixed_cdbg = construct_fixed_addresses(cdbg)\n",
    "mismatched_home = s_fixed_home[~(s_fixed_home.isin(s_utilities.str.upper()))]\n",
    "mismatched_cdbg = s_fixed_cdbg[~(s_fixed_cdbg.isin(s_utilities.str.upper()))]\n",
    "length = len(mismatched_cdbg.index)\n",
    "for i in mismatched_cdbg.index:\n",
    "    if mismatched_cdbg[i] == \"UNKNOWN ADDRESS\" or mismatched_cdbg[i] == \"SUPPRESSED ADDRESS\":\n",
    "        mismatched_cdbg.drop(i, inplace = True)"
   ]
  },
  {
   "cell_type": "code",
   "execution_count": 65,
   "metadata": {},
   "outputs": [
    {
     "data": {
      "text/plain": [
       "(21,)"
      ]
     },
     "execution_count": 65,
     "metadata": {},
     "output_type": "execute_result"
    }
   ],
   "source": [
    "mismatched_home.shape"
   ]
  },
  {
   "cell_type": "code",
   "execution_count": 66,
   "metadata": {},
   "outputs": [
    {
     "data": {
      "text/plain": [
       "(44,)"
      ]
     },
     "execution_count": 66,
     "metadata": {},
     "output_type": "execute_result"
    }
   ],
   "source": [
    "mismatched_cdbg.shape"
   ]
  },
  {
   "cell_type": "code",
   "execution_count": null,
   "metadata": {},
   "outputs": [],
   "source": []
  }
 ],
 "metadata": {
  "kernelspec": {
   "display_name": "Python [conda env:cds] *",
   "language": "python",
   "name": "conda-env-cds-py"
  },
  "language_info": {
   "codemirror_mode": {
    "name": "ipython",
    "version": 3
   },
   "file_extension": ".py",
   "mimetype": "text/x-python",
   "name": "python",
   "nbconvert_exporter": "python",
   "pygments_lexer": "ipython3",
   "version": "3.7.3"
  }
 },
 "nbformat": 4,
 "nbformat_minor": 2
}
