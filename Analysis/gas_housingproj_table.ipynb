{
 "cells": [
  {
   "cell_type": "code",
   "execution_count": 156,
   "metadata": {},
   "outputs": [],
   "source": [
    "import pandas as pd"
   ]
  },
  {
   "cell_type": "markdown",
   "metadata": {},
   "source": [
    "## load in files"
   ]
  },
  {
   "cell_type": "code",
   "execution_count": 157,
   "metadata": {},
   "outputs": [],
   "source": [
    "block = pd.read_csv(\"/Users/oliviafiol/Dropbox/CDS-2019-AlbanyHub/ToDatabase/full_blockgroup.csv\")\n",
    "address_counts = pd.read_csv(\"/Users/oliviafiol/Dropbox/CDS-2019-AlbanyHub/Processed-Data/address_count_per_blockgroup_gas.csv\")\n",
    "address_count_block = pd.read_csv(\"/Users/oliviafiol/Dropbox/CDS-2019-AlbanyHub/Processed-Data/address_count_per_blockgroup_housingproject_gas.csv\")\n",
    "avg_ccf = pd.read_csv(\"/Users/oliviafiol/Dropbox/CDS-2019-AlbanyHub/Processed-Data/avgccf_blockgroup_gas.csv\")\n",
    "avg_ccf_block = pd.read_csv(\"/Users/oliviafiol/Dropbox/CDS-2019-AlbanyHub/Processed-Data/avg_ccf_per_blockgroup.csv\")"
   ]
  },
  {
   "cell_type": "code",
   "execution_count": 158,
   "metadata": {},
   "outputs": [
    {
     "data": {
      "text/html": [
       "<div>\n",
       "<style scoped>\n",
       "    .dataframe tbody tr th:only-of-type {\n",
       "        vertical-align: middle;\n",
       "    }\n",
       "\n",
       "    .dataframe tbody tr th {\n",
       "        vertical-align: top;\n",
       "    }\n",
       "\n",
       "    .dataframe thead th {\n",
       "        text-align: right;\n",
       "    }\n",
       "</style>\n",
       "<table border=\"1\" class=\"dataframe\">\n",
       "  <thead>\n",
       "    <tr style=\"text-align: right;\">\n",
       "      <th></th>\n",
       "      <th>Tract</th>\n",
       "      <th>BlockGroup</th>\n",
       "      <th>address_count</th>\n",
       "      <th>mean_ccf</th>\n",
       "    </tr>\n",
       "  </thead>\n",
       "  <tbody>\n",
       "    <tr>\n",
       "      <th>0</th>\n",
       "      <td>1403</td>\n",
       "      <td>1</td>\n",
       "      <td>2</td>\n",
       "      <td>30.216667</td>\n",
       "    </tr>\n",
       "    <tr>\n",
       "      <th>1</th>\n",
       "      <td>600</td>\n",
       "      <td>2</td>\n",
       "      <td>2</td>\n",
       "      <td>28.090498</td>\n",
       "    </tr>\n",
       "    <tr>\n",
       "      <th>2</th>\n",
       "      <td>1100</td>\n",
       "      <td>2</td>\n",
       "      <td>8</td>\n",
       "      <td>15.199208</td>\n",
       "    </tr>\n",
       "    <tr>\n",
       "      <th>3</th>\n",
       "      <td>200</td>\n",
       "      <td>1</td>\n",
       "      <td>6</td>\n",
       "      <td>22.708163</td>\n",
       "    </tr>\n",
       "    <tr>\n",
       "      <th>4</th>\n",
       "      <td>10700</td>\n",
       "      <td>2</td>\n",
       "      <td>14</td>\n",
       "      <td>28.560092</td>\n",
       "    </tr>\n",
       "  </tbody>\n",
       "</table>\n",
       "</div>"
      ],
      "text/plain": [
       "   Tract  BlockGroup  address_count   mean_ccf\n",
       "0   1403           1              2  30.216667\n",
       "1    600           2              2  28.090498\n",
       "2   1100           2              8  15.199208\n",
       "3    200           1              6  22.708163\n",
       "4  10700           2             14  28.560092"
      ]
     },
     "execution_count": 158,
     "metadata": {},
     "output_type": "execute_result"
    }
   ],
   "source": [
    "avg_ccf.head()"
   ]
  },
  {
   "cell_type": "code",
   "execution_count": 159,
   "metadata": {},
   "outputs": [
    {
     "data": {
      "text/html": [
       "<div>\n",
       "<style scoped>\n",
       "    .dataframe tbody tr th:only-of-type {\n",
       "        vertical-align: middle;\n",
       "    }\n",
       "\n",
       "    .dataframe tbody tr th {\n",
       "        vertical-align: top;\n",
       "    }\n",
       "\n",
       "    .dataframe thead th {\n",
       "        text-align: right;\n",
       "    }\n",
       "</style>\n",
       "<table border=\"1\" class=\"dataframe\">\n",
       "  <thead>\n",
       "    <tr style=\"text-align: right;\">\n",
       "      <th></th>\n",
       "      <th>Tract</th>\n",
       "      <th>BlockGroup</th>\n",
       "      <th>avg_ccf</th>\n",
       "      <th>numrecords</th>\n",
       "    </tr>\n",
       "  </thead>\n",
       "  <tbody>\n",
       "    <tr>\n",
       "      <th>0</th>\n",
       "      <td>10700.0</td>\n",
       "      <td>2.0</td>\n",
       "      <td>21.807457</td>\n",
       "      <td>28482</td>\n",
       "    </tr>\n",
       "    <tr>\n",
       "      <th>1</th>\n",
       "      <td>1403.0</td>\n",
       "      <td>1.0</td>\n",
       "      <td>23.884804</td>\n",
       "      <td>15287</td>\n",
       "    </tr>\n",
       "    <tr>\n",
       "      <th>2</th>\n",
       "      <td>10900.0</td>\n",
       "      <td>3.0</td>\n",
       "      <td>8.829175</td>\n",
       "      <td>521</td>\n",
       "    </tr>\n",
       "    <tr>\n",
       "      <th>3</th>\n",
       "      <td>100.0</td>\n",
       "      <td>1.0</td>\n",
       "      <td>20.899399</td>\n",
       "      <td>7654</td>\n",
       "    </tr>\n",
       "    <tr>\n",
       "      <th>4</th>\n",
       "      <td>10601.0</td>\n",
       "      <td>2.0</td>\n",
       "      <td>23.165816</td>\n",
       "      <td>8624</td>\n",
       "    </tr>\n",
       "  </tbody>\n",
       "</table>\n",
       "</div>"
      ],
      "text/plain": [
       "     Tract  BlockGroup    avg_ccf  numrecords\n",
       "0  10700.0         2.0  21.807457       28482\n",
       "1   1403.0         1.0  23.884804       15287\n",
       "2  10900.0         3.0   8.829175         521\n",
       "3    100.0         1.0  20.899399        7654\n",
       "4  10601.0         2.0  23.165816        8624"
      ]
     },
     "execution_count": 159,
     "metadata": {},
     "output_type": "execute_result"
    }
   ],
   "source": [
    "avg_ccf_block.head()"
   ]
  },
  {
   "cell_type": "code",
   "execution_count": 160,
   "metadata": {},
   "outputs": [],
   "source": [
    "df = (block[[\"total_vacdata\", \"block_group\", \"tract\"]]).rename(columns = {\"tract\":\"Tract\",\"block_group\":\"BlockGroup\"})"
   ]
  },
  {
   "cell_type": "code",
   "execution_count": 161,
   "metadata": {},
   "outputs": [],
   "source": [
    "df_full = df.merge(address_counts, on = [\"Tract\", \"BlockGroup\"], how = \"inner\")\n",
    "df_full = df_full.merge(address_count_block, on = ['Tract', \"BlockGroup\"], how = \"left\")\n",
    "df_full = df_full.merge(avg_ccf, on = ['Tract', \"BlockGroup\"], how = \"left\")\n",
    "df_full = df_full.merge(avg_ccf_block, on = ['Tract', \"BlockGroup\"], how = \"left\")"
   ]
  },
  {
   "cell_type": "code",
   "execution_count": 162,
   "metadata": {},
   "outputs": [],
   "source": [
    "df_full = df_full.fillna(0)"
   ]
  },
  {
   "cell_type": "code",
   "execution_count": 163,
   "metadata": {},
   "outputs": [],
   "source": [
    "df_full = df_full.rename(columns = {\"address_count_x\":\"utilities_address_count\", \"address_count_y\":\"projects_address_count\"})"
   ]
  },
  {
   "cell_type": "code",
   "execution_count": 164,
   "metadata": {},
   "outputs": [],
   "source": [
    "df_full[\"nonproj_address_count\"] = df_full[\"utilities_address_count\"] - df_full[\"projects_address_count\"]"
   ]
  },
  {
   "cell_type": "code",
   "execution_count": 165,
   "metadata": {},
   "outputs": [],
   "source": [
    "df_full[\"proj_pct\"] = df_full[\"projects_address_count\"] / df_full[\"utilities_address_count\"] * 100"
   ]
  },
  {
   "cell_type": "code",
   "execution_count": 166,
   "metadata": {},
   "outputs": [],
   "source": [
    "df_full[\"nonproj_pct\"] = 100 - df_full[\"proj_pct\"]"
   ]
  },
  {
   "cell_type": "code",
   "execution_count": 167,
   "metadata": {},
   "outputs": [],
   "source": [
    "df_full = df_full.drop(\"address_count\", axis = 1)"
   ]
  },
  {
   "cell_type": "code",
   "execution_count": 168,
   "metadata": {},
   "outputs": [],
   "source": [
    "df_full = df_full.rename(columns = {\"mean_ccf\":\"project_mean_ccf\", \"avg_ccf\":\"nonproj_mean_ccf\"}).drop(\"numrecords\", axis = 1)"
   ]
  },
  {
   "cell_type": "code",
   "execution_count": 169,
   "metadata": {},
   "outputs": [],
   "source": [
    "df_full = df_full.rename(columns = {\"total_vacdata\":\"total_properties\"})"
   ]
  },
  {
   "cell_type": "code",
   "execution_count": 170,
   "metadata": {},
   "outputs": [],
   "source": [
    "cols = list(df_full)\n",
    "cols.insert(0, cols.pop(cols.index('Tract')))\n",
    "cols.insert(1, cols.pop(cols.index(\"BlockGroup\")))\n",
    "cols.insert(5, cols.pop(cols.index(\"nonproj_address_count\")))\n",
    "cols.insert(6, cols.pop(cols.index(\"proj_pct\")))\n",
    "cols.insert(7, cols.pop(cols.index(\"nonproj_pct\")))\n",
    "df_full = df_full.loc[:, cols]"
   ]
  },
  {
   "cell_type": "code",
   "execution_count": 171,
   "metadata": {},
   "outputs": [],
   "source": [
    "sum_props = df_full[\"total_properties\"].sum()\n",
    "sum_utilities = df_full[\"utilities_address_count\"].sum()\n",
    "sum_projects = df_full[\"projects_address_count\"].sum()\n",
    "sum_nonproj = df_full[\"nonproj_address_count\"].sum()"
   ]
  },
  {
   "cell_type": "code",
   "execution_count": 172,
   "metadata": {},
   "outputs": [],
   "source": [
    "df_full = df_full.append({\"total_properties\" : sum_props, \"utilities_address_count\" : sum_utilities,\n",
    "                         \"projects_address_count\" : sum_projects, \"nonproj_address_count\" : sum_nonproj}, ignore_index =  True)"
   ]
  },
  {
   "cell_type": "code",
   "execution_count": 173,
   "metadata": {},
   "outputs": [],
   "source": [
    "df_full.loc[63, \"Tract\"] = \"Totals\"\n",
    "df_full.loc[63, \"proj_pct\"] = sum_projects/sum_utilities*100\n",
    "df_full.loc[63, \"nonproj_pct\"] = sum_nonproj/sum_utilities*100\n",
    "df_full.loc[63, \"project_mean_ccf\"] = 23.8300479488546\n",
    "df_full.loc[63, 'nonproj_mean_ccf'] = 24.7935494099324\n"
   ]
  },
  {
   "cell_type": "code",
   "execution_count": 174,
   "metadata": {},
   "outputs": [
    {
     "data": {
      "text/html": [
       "<div>\n",
       "<style scoped>\n",
       "    .dataframe tbody tr th:only-of-type {\n",
       "        vertical-align: middle;\n",
       "    }\n",
       "\n",
       "    .dataframe tbody tr th {\n",
       "        vertical-align: top;\n",
       "    }\n",
       "\n",
       "    .dataframe thead th {\n",
       "        text-align: right;\n",
       "    }\n",
       "</style>\n",
       "<table border=\"1\" class=\"dataframe\">\n",
       "  <thead>\n",
       "    <tr style=\"text-align: right;\">\n",
       "      <th></th>\n",
       "      <th>Tract</th>\n",
       "      <th>BlockGroup</th>\n",
       "      <th>total_properties</th>\n",
       "      <th>utilities_address_count</th>\n",
       "      <th>projects_address_count</th>\n",
       "      <th>nonproj_address_count</th>\n",
       "      <th>proj_pct</th>\n",
       "      <th>nonproj_pct</th>\n",
       "      <th>project_mean_ccf</th>\n",
       "      <th>nonproj_mean_ccf</th>\n",
       "    </tr>\n",
       "  </thead>\n",
       "  <tbody>\n",
       "    <tr>\n",
       "      <th>59</th>\n",
       "      <td>11400</td>\n",
       "      <td>2.0</td>\n",
       "      <td>181.0</td>\n",
       "      <td>98.0</td>\n",
       "      <td>2.0</td>\n",
       "      <td>96.0</td>\n",
       "      <td>2.040816</td>\n",
       "      <td>97.959184</td>\n",
       "      <td>18.807487</td>\n",
       "      <td>21.602568</td>\n",
       "    </tr>\n",
       "    <tr>\n",
       "      <th>60</th>\n",
       "      <td>11600</td>\n",
       "      <td>1.0</td>\n",
       "      <td>649.0</td>\n",
       "      <td>22.0</td>\n",
       "      <td>0.0</td>\n",
       "      <td>22.0</td>\n",
       "      <td>0.000000</td>\n",
       "      <td>100.000000</td>\n",
       "      <td>0.000000</td>\n",
       "      <td>20.139077</td>\n",
       "    </tr>\n",
       "    <tr>\n",
       "      <th>61</th>\n",
       "      <td>20300</td>\n",
       "      <td>2.0</td>\n",
       "      <td>616.0</td>\n",
       "      <td>1.0</td>\n",
       "      <td>0.0</td>\n",
       "      <td>1.0</td>\n",
       "      <td>0.000000</td>\n",
       "      <td>100.000000</td>\n",
       "      <td>0.000000</td>\n",
       "      <td>5.384615</td>\n",
       "    </tr>\n",
       "    <tr>\n",
       "      <th>62</th>\n",
       "      <td>20403</td>\n",
       "      <td>2.0</td>\n",
       "      <td>300.0</td>\n",
       "      <td>3.0</td>\n",
       "      <td>0.0</td>\n",
       "      <td>3.0</td>\n",
       "      <td>0.000000</td>\n",
       "      <td>100.000000</td>\n",
       "      <td>0.000000</td>\n",
       "      <td>5.935484</td>\n",
       "    </tr>\n",
       "    <tr>\n",
       "      <th>63</th>\n",
       "      <td>Totals</td>\n",
       "      <td>NaN</td>\n",
       "      <td>36539.0</td>\n",
       "      <td>12487.0</td>\n",
       "      <td>226.0</td>\n",
       "      <td>12261.0</td>\n",
       "      <td>1.809882</td>\n",
       "      <td>98.190118</td>\n",
       "      <td>23.830048</td>\n",
       "      <td>24.793549</td>\n",
       "    </tr>\n",
       "  </tbody>\n",
       "</table>\n",
       "</div>"
      ],
      "text/plain": [
       "     Tract  BlockGroup  total_properties  utilities_address_count  \\\n",
       "59   11400         2.0             181.0                     98.0   \n",
       "60   11600         1.0             649.0                     22.0   \n",
       "61   20300         2.0             616.0                      1.0   \n",
       "62   20403         2.0             300.0                      3.0   \n",
       "63  Totals         NaN           36539.0                  12487.0   \n",
       "\n",
       "    projects_address_count  nonproj_address_count  proj_pct  nonproj_pct  \\\n",
       "59                     2.0                   96.0  2.040816    97.959184   \n",
       "60                     0.0                   22.0  0.000000   100.000000   \n",
       "61                     0.0                    1.0  0.000000   100.000000   \n",
       "62                     0.0                    3.0  0.000000   100.000000   \n",
       "63                   226.0                12261.0  1.809882    98.190118   \n",
       "\n",
       "    project_mean_ccf  nonproj_mean_ccf  \n",
       "59         18.807487         21.602568  \n",
       "60          0.000000         20.139077  \n",
       "61          0.000000          5.384615  \n",
       "62          0.000000          5.935484  \n",
       "63         23.830048         24.793549  "
      ]
     },
     "execution_count": 174,
     "metadata": {},
     "output_type": "execute_result"
    }
   ],
   "source": [
    "df_full.tail()"
   ]
  },
  {
   "cell_type": "code",
   "execution_count": 175,
   "metadata": {},
   "outputs": [],
   "source": [
    "df_full.to_csv('gas.csv')"
   ]
  },
  {
   "cell_type": "code",
   "execution_count": null,
   "metadata": {},
   "outputs": [],
   "source": []
  }
 ],
 "metadata": {
  "kernelspec": {
   "display_name": "Python [conda env:cds_env] *",
   "language": "python",
   "name": "conda-env-cds_env-py"
  },
  "language_info": {
   "codemirror_mode": {
    "name": "ipython",
    "version": 3
   },
   "file_extension": ".py",
   "mimetype": "text/x-python",
   "name": "python",
   "nbconvert_exporter": "python",
   "pygments_lexer": "ipython3",
   "version": "3.7.3"
  }
 },
 "nbformat": 4,
 "nbformat_minor": 2
}
