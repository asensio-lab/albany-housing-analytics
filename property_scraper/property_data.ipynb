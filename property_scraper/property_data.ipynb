{
 "cells": [
  {
   "cell_type": "code",
   "execution_count": 1,
   "metadata": {},
   "outputs": [],
   "source": [
    "import pandas as pd\n",
    "import numpy as np\n",
    "import os\n",
    "import json\n",
    "from fix_addresses_master import *"
   ]
  },
  {
   "cell_type": "code",
   "execution_count": 2,
   "metadata": {},
   "outputs": [],
   "source": [
    "#Read in the address junction table \n",
    "df = pd.read_csv('C:\\\\Users\\\\Mirabel\\\\Dropbox (GaTech)\\\\CDS-2019-AlbanyHub\\\\ToDatabase\\\\addr_junct_table.csv')\n",
    "directory = 'C:\\\\Users\\\\Mirabel\\\\Dropbox (GaTech)\\\\CDS-2019-AlbanyHub\\\\Processed-Data\\\\attom_json' #dir of json files"
   ]
  },
  {
   "cell_type": "code",
   "execution_count": 3,
   "metadata": {},
   "outputs": [],
   "source": [
    "#read all json files into a single list\n",
    "j_list=[]\n",
    "for filename in os.listdir(directory):\n",
    "    if filename.endswith('.json'):\n",
    "        f = open(directory+'/'+filename)\n",
    "        j_list.append(json.load(f))\n",
    "        f.close()\n",
    "    "
   ]
  },
  {
   "cell_type": "code",
   "execution_count": null,
   "metadata": {},
   "outputs": [],
   "source": [
    "#Look at all the values available for a single home\n",
    "example_entry = j_list[0][0]\n",
    "example_entry.keys()"
   ]
  },
  {
   "cell_type": "code",
   "execution_count": 4,
   "metadata": {},
   "outputs": [
    {
     "data": {
      "text/plain": [
       "30721"
      ]
     },
     "execution_count": 4,
     "metadata": {},
     "output_type": "execute_result"
    }
   ],
   "source": [
    "#concatenate j_list into a single list\n",
    "data = [y for x in j_list for y in x]\n",
    "len(data)"
   ]
  },
  {
   "cell_type": "code",
   "execution_count": 5,
   "metadata": {},
   "outputs": [],
   "source": [
    "def prop_split(data):\n",
    "    #separate these out by the major keys\n",
    "    all_identifiers = [x['identifier'] for x in data if len(x)>0]\n",
    "    all_lot = [x['lot'] for x in data if len(x)>0]\n",
    "    all_area = [x['area'] for x in data if len(x)>0]\n",
    "    all_addresses = [x['address'] for x in data if len(x)>0]\n",
    "    all_location = [x['location'] for x in data if len(x)>0]\n",
    "    all_summary = [x['summary'] for x in data if len(x)>0]\n",
    "    all_utilities = [x['utilities']for x in data if len(x)>0]\n",
    "    all_sale = [x['sale'] for x in data if len(x)>0]\n",
    "    all_building = [x['building'] for x in data if len(x)>0]\n",
    "    all_assessment = [x['assessment'] for x in data if len(x)>0]\n",
    "    all_vintage = [x['vintage'] for x in data if len(x)>0]\n",
    "    #convert data from a multi-layered dict into a single dict for a pandas dataframe\n",
    "    dict_full = {\n",
    "        'address':[x['line1'] for x in all_addresses],\n",
    "        'lot_size':[x['lotSize1'] for x in all_lot],\n",
    "        'zoningType': [x.get('zoningType') for x in all_lot],\n",
    "        'siteZoningIdent': [x.get('siteZoningIdent') for x in all_lot],\n",
    "        'propClass': [x['propClass'] for x in all_summary],\n",
    "        'yearBuilt':[x['yearBuilt'] for x in all_summary],\n",
    "        'size':[x['size']['grossSizeAdjusted'] for x in all_building],\n",
    "        'baths':[x['rooms']['bathsTotal'] for x in all_building],\n",
    "        'beds':[x['rooms']['beds'] for x in all_building],\n",
    "        'rooms':[x['rooms']['roomsTotal'] for x in all_building],\n",
    "        'floors':[x['interior'].get('floors') for x in all_building],\n",
    "        'condition':[x['construction'].get('condition') for x in all_building],\n",
    "        'foundationType':[x['construction'].get('foundationType') for x in all_building],\n",
    "        'roofCover':[x['construction'].get('roofCover') for x in all_building],\n",
    "        'wallType':[x['construction'].get('wallType') for x in all_building],\n",
    "        'improvementYear':[x['construction'].get('propertyStructureMajorImprovementsYear') for x in all_building],\n",
    "        'assessment':[x['assessed']['assdTtlValue'] for x in all_assessment],\n",
    "        'market':[x['market']['mktTtlValue'] for x in all_assessment]\n",
    "    }\n",
    "    return pd.DataFrame(data=dict_full)"
   ]
  },
  {
   "cell_type": "code",
   "execution_count": 6,
   "metadata": {},
   "outputs": [
    {
     "name": "stdout",
     "output_type": "stream",
     "text": [
      "26931\n"
     ]
    },
    {
     "data": {
      "text/plain": [
       "26788"
      ]
     },
     "execution_count": 6,
     "metadata": {},
     "output_type": "execute_result"
    }
   ],
   "source": [
    "#Convert to pandas dataframe\n",
    "dfp = prop_split(data)\n",
    "print(len(dfp))\n",
    "dfp.drop_duplicates(subset=\"address\", inplace=True)\n",
    "dfp.index = range(len(dfp))\n",
    "len(dfp)"
   ]
  },
  {
   "cell_type": "code",
   "execution_count": 7,
   "metadata": {},
   "outputs": [
    {
     "data": {
      "text/plain": [
       "26788"
      ]
     },
     "execution_count": 7,
     "metadata": {},
     "output_type": "execute_result"
    }
   ],
   "source": [
    "#get the primary ids in the junction table for each address returned\n",
    "id_dict = {df.loc[x,'Address']:df.loc[x, 'Id'] for x in range(len(df))} #maps address to id, from junct table\n",
    "NOT_FOUND = id_dict['NOT FOUND']\n",
    "prim_ids=[id_dict.get(x, NOT_FOUND) for x in fix_series(dfp['address'])] #id of each addresss in new dataframe\n",
    "len(prim_ids)"
   ]
  },
  {
   "cell_type": "code",
   "execution_count": 8,
   "metadata": {},
   "outputs": [],
   "source": [
    "#find the locs where x is not in the address junction table\n",
    "nf = [dfp.loc[x, 'address'] for x in range(len(prim_ids)) if prim_ids[x]==NOT_FOUND]"
   ]
  },
  {
   "cell_type": "code",
   "execution_count": 9,
   "metadata": {},
   "outputs": [
    {
     "data": {
      "text/plain": [
       "0.02269672987905032"
      ]
     },
     "execution_count": 9,
     "metadata": {},
     "output_type": "execute_result"
    }
   ],
   "source": [
    "len(nf)/len(prim_ids) #about 3% of addresses were not found despite the successful api call"
   ]
  },
  {
   "cell_type": "code",
   "execution_count": 10,
   "metadata": {},
   "outputs": [
    {
     "data": {
      "text/plain": [
       "26788"
      ]
     },
     "execution_count": 10,
     "metadata": {},
     "output_type": "execute_result"
    }
   ],
   "source": [
    "dfp['PrimaryId'] = prim_ids\n",
    "len(dfp)"
   ]
  },
  {
   "cell_type": "code",
   "execution_count": 11,
   "metadata": {},
   "outputs": [
    {
     "data": {
      "text/plain": [
       "26180"
      ]
     },
     "execution_count": 11,
     "metadata": {},
     "output_type": "execute_result"
    }
   ],
   "source": [
    "#replace 0's with None for clarity\n",
    "dfp.loc[dfp['yearBuilt'] == 0, 'yearBuilt']=None\n",
    "dfp.loc[dfp['size']==0, 'size'] = None\n",
    "dfp.loc[dfp['lot_size'] == 0, 'lot_size'] = None\n",
    "dfp.loc[dfp['assessment'] ==0, 'assessment']=None\n",
    "dfp.loc[dfp['market'] == 0, 'market']=None\n",
    "#Drop rows where address is Not found\n",
    "dfp.loc[dfp['PrimaryId'] == NOT_FOUND, :] = None\n",
    "dfp = dfp.dropna(how='all')\n",
    "len(dfp)"
   ]
  },
  {
   "cell_type": "markdown",
   "metadata": {},
   "source": [
    "### Look at all the missing data and try to load it again"
   ]
  },
  {
   "cell_type": "code",
   "execution_count": 12,
   "metadata": {},
   "outputs": [],
   "source": [
    "missing = df[~df['Id'].isin(dfp['PrimaryId'])]\n",
    "#missing.to_csv(\"missing.csv\", index=False)"
   ]
  },
  {
   "cell_type": "code",
   "execution_count": null,
   "metadata": {},
   "outputs": [],
   "source": [
    "dfp.to_csv(directory+'/property_data.csv', index=False)"
   ]
  },
  {
   "cell_type": "markdown",
   "metadata": {},
   "source": [
    "## Data Exploration\n",
    "### 1. Identifiers\n",
    "Address (Primary ID) - linked with junction table"
   ]
  },
  {
   "cell_type": "markdown",
   "metadata": {},
   "source": [
    "### 2. Counts of Observations\n",
    "Get counts and percentages of data"
   ]
  },
  {
   "cell_type": "code",
   "execution_count": null,
   "metadata": {},
   "outputs": [],
   "source": [
    "len(dfp)/len(data) # about 86% of addresses have data"
   ]
  },
  {
   "cell_type": "code",
   "execution_count": null,
   "metadata": {},
   "outputs": [],
   "source": [
    "len(dfp[dfp['size'].notnull()])/len(data) #about 83% of addresses have info on square footage"
   ]
  },
  {
   "cell_type": "code",
   "execution_count": null,
   "metadata": {},
   "outputs": [],
   "source": [
    "len(dfp[dfp['yearBuilt'].notnull()])/len(data) #similarly about 83% of addresses have year built"
   ]
  },
  {
   "cell_type": "code",
   "execution_count": null,
   "metadata": {},
   "outputs": [],
   "source": [
    "len(data) #number of addresses in the database"
   ]
  },
  {
   "cell_type": "code",
   "execution_count": null,
   "metadata": {},
   "outputs": [],
   "source": [
    "len(dfp) #number of addresses successfully retrieved from database"
   ]
  },
  {
   "cell_type": "markdown",
   "metadata": {},
   "source": [
    "### 3. Some example records"
   ]
  },
  {
   "cell_type": "code",
   "execution_count": null,
   "metadata": {
    "scrolled": true
   },
   "outputs": [],
   "source": [
    "dfp.loc[[5000, 10000, 15000, 20000, 25000], :]"
   ]
  },
  {
   "cell_type": "markdown",
   "metadata": {},
   "source": [
    "### 4. Summarization"
   ]
  },
  {
   "cell_type": "code",
   "execution_count": null,
   "metadata": {},
   "outputs": [],
   "source": [
    "#all fields\n",
    "dfp.columns"
   ]
  },
  {
   "cell_type": "code",
   "execution_count": null,
   "metadata": {},
   "outputs": [],
   "source": [
    "def get_stats(l):\n",
    "    print(\"Min:\", min(l))\n",
    "    print(\"Max:\", max(l))\n",
    "    print(\"Mean:\",l.mean())"
   ]
  },
  {
   "cell_type": "code",
   "execution_count": null,
   "metadata": {},
   "outputs": [],
   "source": [
    "print(\"Lot Size\")\n",
    "get_stats(dfp['lot_size'])\n",
    "print(\"Year Built\")\n",
    "get_stats(dfp['yearBuilt'])\n",
    "print(\"Size (sq ft)\")\n",
    "get_stats(dfp['size'])\n",
    "print('assessment')\n",
    "get_stats(dfp['assessment'])\n",
    "print('market')\n",
    "get_stats(dfp['market'])"
   ]
  },
  {
   "cell_type": "code",
   "execution_count": null,
   "metadata": {},
   "outputs": [],
   "source": [
    "# tiny lot size\n",
    "dfp.loc[dfp['lot_size']<0.02, :]"
   ]
  },
  {
   "cell_type": "code",
   "execution_count": null,
   "metadata": {},
   "outputs": [],
   "source": [
    "# large lot size\n",
    "dfp.loc[dfp['lot_size']>10000, :] # this is an error"
   ]
  },
  {
   "cell_type": "code",
   "execution_count": null,
   "metadata": {},
   "outputs": [],
   "source": [
    "# Small size\n",
    "dfp[dfp['size']<250] # nothing ridiculous"
   ]
  },
  {
   "cell_type": "code",
   "execution_count": null,
   "metadata": {},
   "outputs": [],
   "source": [
    "#large size\n",
    "dfp[dfp['size']>200000] #largest are commercial, industrial, distribution,etc - checks out"
   ]
  },
  {
   "cell_type": "markdown",
   "metadata": {},
   "source": [
    "#### Question: difference between market and assessment? (market is often >2x assessment value)\n",
    "https://www.realtor.com/advice/sell/assessed-value-vs-market-value-difference/<br>\n",
    "Market: what home could sell for<br>\n",
    "Assessed: Used for property tax<br>"
   ]
  },
  {
   "cell_type": "code",
   "execution_count": null,
   "metadata": {},
   "outputs": [],
   "source": [
    "dfp[dfp['market']<500] #most low values are vacant properties, 5200 radium springs is a power plant"
   ]
  },
  {
   "cell_type": "code",
   "execution_count": null,
   "metadata": {},
   "outputs": [],
   "source": [
    "dfp[dfp['market']>10000000]"
   ]
  },
  {
   "cell_type": "code",
   "execution_count": null,
   "metadata": {},
   "outputs": [],
   "source": [
    "dfp[dfp['assessment']<500] #Vacant properties"
   ]
  },
  {
   "cell_type": "markdown",
   "metadata": {},
   "source": [
    "#### Categorical values"
   ]
  },
  {
   "cell_type": "code",
   "execution_count": null,
   "metadata": {},
   "outputs": [],
   "source": [
    "dfp['zoningType'].value_counts()"
   ]
  },
  {
   "cell_type": "code",
   "execution_count": null,
   "metadata": {},
   "outputs": [],
   "source": [
    "dfp['siteZoningIdent'].value_counts()"
   ]
  },
  {
   "cell_type": "code",
   "execution_count": null,
   "metadata": {},
   "outputs": [],
   "source": [
    "dfp['propClass'].value_counts()"
   ]
  },
  {
   "cell_type": "code",
   "execution_count": null,
   "metadata": {},
   "outputs": [],
   "source": [
    "dfp['floors'].value_counts()"
   ]
  },
  {
   "cell_type": "code",
   "execution_count": null,
   "metadata": {},
   "outputs": [],
   "source": [
    "dfp['wallType'].value_counts()"
   ]
  },
  {
   "cell_type": "code",
   "execution_count": null,
   "metadata": {},
   "outputs": [],
   "source": [
    "dfp['condition'].value_counts()"
   ]
  },
  {
   "cell_type": "code",
   "execution_count": null,
   "metadata": {},
   "outputs": [],
   "source": [
    "dfp['roofCover'].value_counts()"
   ]
  },
  {
   "cell_type": "code",
   "execution_count": null,
   "metadata": {},
   "outputs": [],
   "source": [
    "dfp['foundationType'].value_counts()"
   ]
  },
  {
   "cell_type": "markdown",
   "metadata": {},
   "source": [
    "### 5. Statistical summaries by groups"
   ]
  },
  {
   "cell_type": "code",
   "execution_count": null,
   "metadata": {},
   "outputs": [],
   "source": [
    "dfp_g1 = dfp.loc[:,['zoningType','lot_size', 'yearBuilt', 'size', 'market', 'assessment']].groupby(by='zoningType')\n",
    "pd.set_option('precision', 2)\n",
    "dfp_g1.agg(['mean', 'min', 'max'])"
   ]
  },
  {
   "cell_type": "code",
   "execution_count": null,
   "metadata": {},
   "outputs": [],
   "source": [
    "dfp_g2 = dfp.loc[:, ['propClass','lot_size', 'yearBuilt', 'size', 'market', 'assessment']].groupby(by='propClass')\n",
    "dfp_g2.agg(['mean', 'min', 'max'])"
   ]
  },
  {
   "cell_type": "code",
   "execution_count": null,
   "metadata": {},
   "outputs": [],
   "source": [
    "dfp_g2 = dfp.loc[:, ['condition','lot_size', 'yearBuilt', 'size', 'market', 'assessment']].groupby(by='condition')\n",
    "dfp_g2.agg(['mean', 'min', 'max'])"
   ]
  },
  {
   "cell_type": "code",
   "execution_count": null,
   "metadata": {},
   "outputs": [],
   "source": [
    "dfp_g3 = dfp.groupby(by=['condition', 'propClass']) \n",
    "dfp_g3.count()"
   ]
  },
  {
   "cell_type": "code",
   "execution_count": null,
   "metadata": {},
   "outputs": [],
   "source": [
    "dfp_g4 = dfp.groupby(by=['siteZoningIdent', 'propClass']) \n",
    "dfp_g4.count()"
   ]
  },
  {
   "cell_type": "markdown",
   "metadata": {},
   "source": [
    "# Read missing back in"
   ]
  },
  {
   "cell_type": "code",
   "execution_count": 13,
   "metadata": {
    "scrolled": true
   },
   "outputs": [
    {
     "data": {
      "text/plain": [
       "(4410, 7)"
      ]
     },
     "execution_count": 13,
     "metadata": {},
     "output_type": "execute_result"
    }
   ],
   "source": [
    "missing.index = range(len(missing))\n",
    "missing.shape"
   ]
  },
  {
   "cell_type": "code",
   "execution_count": 14,
   "metadata": {},
   "outputs": [],
   "source": [
    "missing_dir = 'C:\\\\Users\\\\Mirabel\\\\Dropbox (GaTech)\\\\CDS-2019-AlbanyHub\\\\Processed-Data\\\\attom_json\\\\missing'\n",
    "#read all json files into a single list\n",
    "j_list=[]\n",
    "flist = os.listdir(missing_dir)\n",
    "flist.sort()\n",
    "for filename in flist:\n",
    "    if filename.endswith('.json'):\n",
    "        f = open(missing_dir+'/'+filename)\n",
    "        j_list.append(json.load(f))\n",
    "        f.close()"
   ]
  },
  {
   "cell_type": "markdown",
   "metadata": {},
   "source": [
    "#### a) Split the results into 'found', which were retrieved on the second run-through and 'missing_list', which still could not be retrieved."
   ]
  },
  {
   "cell_type": "code",
   "execution_count": 20,
   "metadata": {},
   "outputs": [],
   "source": [
    "data_new = [y for x in j_list for y in x]\n",
    "data_found =[]#The data returned by the attom api\n",
    "orig_addresses = [] #The addresses used to query the attom api\n",
    "missing_list = pd.DataFrame(data={'Address':[], 'StatusMSG':[], 'Code':[]}) #the return values of addresses which were still not coded\n",
    "for i in range(len(data_new)):\n",
    "    #The API call returned with an error -> add this to the missing list, and append the status message\n",
    "    if len(data_new[i])==8 or len(data_new[i])==6:\n",
    "        missing_list = missing_list.append({'Address':missing.iloc[i, 1], 'StatusMSG':data_new[i]['msg'], 'Code':data_new[i]['code']}, ignore_index=True)\n",
    "    elif len(data_new[i])==0:\n",
    "        missing_list = missing_list.append({'Address':missing.iloc[i, 1], 'StatusMSG':'unknown', 'Code':0}, ignore_index=True)\n",
    "    #The API call returned with some result -> add the result to the list and keep track of the original address used in the query\n",
    "    else:\n",
    "        data_found.append(data_new[i])\n",
    "        orig_addresses.append(missing.iloc[i, 1])"
   ]
  },
  {
   "cell_type": "code",
   "execution_count": 21,
   "metadata": {},
   "outputs": [
    {
     "data": {
      "text/plain": [
       "789"
      ]
     },
     "execution_count": 21,
     "metadata": {},
     "output_type": "execute_result"
    }
   ],
   "source": [
    "#data_found[685]['summary']['propClass']=None\n",
    "len(orig_addresses)"
   ]
  },
  {
   "cell_type": "code",
   "execution_count": 22,
   "metadata": {},
   "outputs": [
    {
     "name": "stdout",
     "output_type": "stream",
     "text": [
      "789\n"
     ]
    }
   ],
   "source": [
    "#Projects that were found when the api was queried again\n",
    "dfp2 = prop_split(data_found)# convert the found results to a dataframe\n",
    "\n",
    "dfp2.index = range(len(dfp2))\n",
    "print(len(dfp2))\n",
    "#get the primary ids in the junction table for each address returned\n",
    "id_dict = {df.loc[x,'Address']:df.loc[x, 'Id'] for x in range(len(df))} #maps address to id, from junct table\n",
    "NOT_FOUND = id_dict['NOT FOUND']\n",
    "prim_ids=[id_dict.get(x, NOT_FOUND) for x in orig_addresses] #find the id using the original addresses, not the queried\n",
    "dfp2['PrimaryId'] = prim_ids\n",
    "dfp2.drop_duplicates(subset=\"address\", inplace=True)"
   ]
  },
  {
   "cell_type": "markdown",
   "metadata": {},
   "source": [
    "####  In found, compare the coordinates that were located to the coordinates of the address used to query. If it seems that the api found the wrong location, drop this address from dfp2"
   ]
  },
  {
   "cell_type": "code",
   "execution_count": null,
   "metadata": {},
   "outputs": [],
   "source": [
    "dfp2.loc[3,:]"
   ]
  },
  {
   "cell_type": "code",
   "execution_count": 23,
   "metadata": {},
   "outputs": [
    {
     "data": {
      "text/html": [
       "<div>\n",
       "<style scoped>\n",
       "    .dataframe tbody tr th:only-of-type {\n",
       "        vertical-align: middle;\n",
       "    }\n",
       "\n",
       "    .dataframe tbody tr th {\n",
       "        vertical-align: top;\n",
       "    }\n",
       "\n",
       "    .dataframe thead th {\n",
       "        text-align: right;\n",
       "    }\n",
       "</style>\n",
       "<table border=\"1\" class=\"dataframe\">\n",
       "  <thead>\n",
       "    <tr style=\"text-align: right;\">\n",
       "      <th></th>\n",
       "      <th>found_addresses</th>\n",
       "      <th>orig_addresses</th>\n",
       "      <th>accuracy</th>\n",
       "      <th>found_lat</th>\n",
       "      <th>found_lon</th>\n",
       "      <th>orig_lat</th>\n",
       "      <th>orig_lon</th>\n",
       "      <th>coord_diff</th>\n",
       "    </tr>\n",
       "  </thead>\n",
       "  <tbody>\n",
       "    <tr>\n",
       "      <th>3</th>\n",
       "      <td>252 N BONNY VIEW CT</td>\n",
       "      <td>252 BONNY VIEW AVE</td>\n",
       "      <td>Zip5</td>\n",
       "      <td>31.547500</td>\n",
       "      <td>-84.091800</td>\n",
       "      <td>31.577872</td>\n",
       "      <td>-84.142308</td>\n",
       "      <td>0.020136</td>\n",
       "    </tr>\n",
       "    <tr>\n",
       "      <th>4</th>\n",
       "      <td>4805 HILL RD</td>\n",
       "      <td>4805 HILL ROAD</td>\n",
       "      <td>Street</td>\n",
       "      <td>31.580128</td>\n",
       "      <td>-84.017950</td>\n",
       "      <td>31.576628</td>\n",
       "      <td>-84.031371</td>\n",
       "      <td>0.016921</td>\n",
       "    </tr>\n",
       "    <tr>\n",
       "      <th>9</th>\n",
       "      <td>741 US HIGHWAY 82 W</td>\n",
       "      <td>741 US HWY 82</td>\n",
       "      <td>Extrapolate</td>\n",
       "      <td>31.660260</td>\n",
       "      <td>-84.275367</td>\n",
       "      <td>31.776926</td>\n",
       "      <td>-84.737709</td>\n",
       "      <td>0.345676</td>\n",
       "    </tr>\n",
       "    <tr>\n",
       "      <th>16</th>\n",
       "      <td>508 LIBERTY EXPY SE</td>\n",
       "      <td>508 LIBERTY EXPRESS SE WAY</td>\n",
       "      <td>Street</td>\n",
       "      <td>31.555594</td>\n",
       "      <td>-84.114707</td>\n",
       "      <td>31.554749</td>\n",
       "      <td>-84.108294</td>\n",
       "      <td>0.005569</td>\n",
       "    </tr>\n",
       "    <tr>\n",
       "      <th>20</th>\n",
       "      <td>4917 OLD DAWSON RD</td>\n",
       "      <td>4917 OLD DAWSON</td>\n",
       "      <td>Street</td>\n",
       "      <td>31.610968</td>\n",
       "      <td>-84.285107</td>\n",
       "      <td>31.610941</td>\n",
       "      <td>-84.279746</td>\n",
       "      <td>0.005335</td>\n",
       "    </tr>\n",
       "    <tr>\n",
       "      <th>24</th>\n",
       "      <td>2649 CODY CT</td>\n",
       "      <td>2649 CODY CT</td>\n",
       "      <td>Zip5</td>\n",
       "      <td>31.547500</td>\n",
       "      <td>-84.091800</td>\n",
       "      <td>31.570460</td>\n",
       "      <td>-84.081357</td>\n",
       "      <td>0.033403</td>\n",
       "    </tr>\n",
       "    <tr>\n",
       "      <th>25</th>\n",
       "      <td>2661 CODY CT</td>\n",
       "      <td>2661 CODY CT</td>\n",
       "      <td>Zip5</td>\n",
       "      <td>31.547500</td>\n",
       "      <td>-84.091800</td>\n",
       "      <td>31.570458</td>\n",
       "      <td>-84.080941</td>\n",
       "      <td>0.033817</td>\n",
       "    </tr>\n",
       "    <tr>\n",
       "      <th>26</th>\n",
       "      <td>145 CHICKORY CT</td>\n",
       "      <td>145 CHICORY CT</td>\n",
       "      <td>Zip7</td>\n",
       "      <td>31.706212</td>\n",
       "      <td>-84.172046</td>\n",
       "      <td>31.643942</td>\n",
       "      <td>-84.239709</td>\n",
       "      <td>0.129933</td>\n",
       "    </tr>\n",
       "    <tr>\n",
       "      <th>27</th>\n",
       "      <td>124 CHICKORY CT</td>\n",
       "      <td>124 CHICORY CT</td>\n",
       "      <td>Zip7</td>\n",
       "      <td>31.706212</td>\n",
       "      <td>-84.172046</td>\n",
       "      <td>31.643809</td>\n",
       "      <td>-84.239591</td>\n",
       "      <td>0.129948</td>\n",
       "    </tr>\n",
       "    <tr>\n",
       "      <th>29</th>\n",
       "      <td>132 CHICKORY CT</td>\n",
       "      <td>132 CHICORY CT</td>\n",
       "      <td>Zip7</td>\n",
       "      <td>31.706212</td>\n",
       "      <td>-84.172046</td>\n",
       "      <td>31.643809</td>\n",
       "      <td>-84.239591</td>\n",
       "      <td>0.129948</td>\n",
       "    </tr>\n",
       "    <tr>\n",
       "      <th>30</th>\n",
       "      <td>129 CHICKORY CT</td>\n",
       "      <td>129 CHICORY CT</td>\n",
       "      <td>Zip7</td>\n",
       "      <td>31.706212</td>\n",
       "      <td>-84.172046</td>\n",
       "      <td>31.643809</td>\n",
       "      <td>-84.239591</td>\n",
       "      <td>0.129948</td>\n",
       "    </tr>\n",
       "    <tr>\n",
       "      <th>34</th>\n",
       "      <td>148 CHICKORY CT</td>\n",
       "      <td>148 CHICORY CT</td>\n",
       "      <td>Zip7</td>\n",
       "      <td>31.706212</td>\n",
       "      <td>-84.172046</td>\n",
       "      <td>31.643809</td>\n",
       "      <td>-84.239591</td>\n",
       "      <td>0.129948</td>\n",
       "    </tr>\n",
       "    <tr>\n",
       "      <th>35</th>\n",
       "      <td>141 CHICKORY CT</td>\n",
       "      <td>141 CHICORY CT</td>\n",
       "      <td>Zip7</td>\n",
       "      <td>31.706212</td>\n",
       "      <td>-84.172046</td>\n",
       "      <td>31.643809</td>\n",
       "      <td>-84.239591</td>\n",
       "      <td>0.129948</td>\n",
       "    </tr>\n",
       "    <tr>\n",
       "      <th>42</th>\n",
       "      <td>510 S VALENCIA DR</td>\n",
       "      <td>510 S VALENICA ST</td>\n",
       "      <td>Street</td>\n",
       "      <td>31.569555</td>\n",
       "      <td>-84.195679</td>\n",
       "      <td>31.580485</td>\n",
       "      <td>-84.196484</td>\n",
       "      <td>0.010125</td>\n",
       "    </tr>\n",
       "    <tr>\n",
       "      <th>43</th>\n",
       "      <td>112 CHICKORY CT</td>\n",
       "      <td>112 CHICORY CT</td>\n",
       "      <td>Zip7</td>\n",
       "      <td>31.706212</td>\n",
       "      <td>-84.172046</td>\n",
       "      <td>31.643809</td>\n",
       "      <td>-84.239591</td>\n",
       "      <td>0.129948</td>\n",
       "    </tr>\n",
       "    <tr>\n",
       "      <th>44</th>\n",
       "      <td>133 CHICKORY CT</td>\n",
       "      <td>133 CHICORY CT</td>\n",
       "      <td>Zip7</td>\n",
       "      <td>31.706212</td>\n",
       "      <td>-84.172046</td>\n",
       "      <td>31.643809</td>\n",
       "      <td>-84.239591</td>\n",
       "      <td>0.129948</td>\n",
       "    </tr>\n",
       "    <tr>\n",
       "      <th>45</th>\n",
       "      <td>2601 CODY CT</td>\n",
       "      <td>2601 CODY CT</td>\n",
       "      <td>Zip5</td>\n",
       "      <td>31.547500</td>\n",
       "      <td>-84.091800</td>\n",
       "      <td>31.570466</td>\n",
       "      <td>-84.083026</td>\n",
       "      <td>0.031740</td>\n",
       "    </tr>\n",
       "    <tr>\n",
       "      <th>46</th>\n",
       "      <td>2619 CODY CT</td>\n",
       "      <td>2619 CODY CT</td>\n",
       "      <td>Zip5</td>\n",
       "      <td>31.547500</td>\n",
       "      <td>-84.091800</td>\n",
       "      <td>31.570462</td>\n",
       "      <td>-84.082401</td>\n",
       "      <td>0.032361</td>\n",
       "    </tr>\n",
       "    <tr>\n",
       "      <th>47</th>\n",
       "      <td>2613 CODY CT</td>\n",
       "      <td>2613 CODY CT</td>\n",
       "      <td>Zip5</td>\n",
       "      <td>31.547500</td>\n",
       "      <td>-84.091800</td>\n",
       "      <td>31.570463</td>\n",
       "      <td>-84.082610</td>\n",
       "      <td>0.032154</td>\n",
       "    </tr>\n",
       "    <tr>\n",
       "      <th>48</th>\n",
       "      <td>100 CHICKORY CT</td>\n",
       "      <td>100 CHICORY CT</td>\n",
       "      <td>Zip7</td>\n",
       "      <td>31.706212</td>\n",
       "      <td>-84.172046</td>\n",
       "      <td>31.643809</td>\n",
       "      <td>-84.239591</td>\n",
       "      <td>0.129948</td>\n",
       "    </tr>\n",
       "    <tr>\n",
       "      <th>49</th>\n",
       "      <td>136 CHICKORY CT</td>\n",
       "      <td>136 CHICORY CT</td>\n",
       "      <td>Zip7</td>\n",
       "      <td>31.706212</td>\n",
       "      <td>-84.172046</td>\n",
       "      <td>31.643809</td>\n",
       "      <td>-84.239591</td>\n",
       "      <td>0.129948</td>\n",
       "    </tr>\n",
       "    <tr>\n",
       "      <th>51</th>\n",
       "      <td>121 CHICKORY CT</td>\n",
       "      <td>121 CHICORY CT</td>\n",
       "      <td>Zip7</td>\n",
       "      <td>31.706212</td>\n",
       "      <td>-84.172046</td>\n",
       "      <td>31.643809</td>\n",
       "      <td>-84.239591</td>\n",
       "      <td>0.129948</td>\n",
       "    </tr>\n",
       "    <tr>\n",
       "      <th>52</th>\n",
       "      <td>144 CHICKORY CT</td>\n",
       "      <td>144 CHICORY CT</td>\n",
       "      <td>Zip7</td>\n",
       "      <td>31.706212</td>\n",
       "      <td>-84.172046</td>\n",
       "      <td>31.643809</td>\n",
       "      <td>-84.239591</td>\n",
       "      <td>0.129948</td>\n",
       "    </tr>\n",
       "    <tr>\n",
       "      <th>53</th>\n",
       "      <td>137 CHICKORY CT</td>\n",
       "      <td>137 CHICORY CT</td>\n",
       "      <td>Zip7</td>\n",
       "      <td>31.706212</td>\n",
       "      <td>-84.172046</td>\n",
       "      <td>31.643809</td>\n",
       "      <td>-84.239591</td>\n",
       "      <td>0.129948</td>\n",
       "    </tr>\n",
       "    <tr>\n",
       "      <th>54</th>\n",
       "      <td>150 CHICKORY CT</td>\n",
       "      <td>150 CHICORY CT</td>\n",
       "      <td>Zip7</td>\n",
       "      <td>31.706212</td>\n",
       "      <td>-84.172046</td>\n",
       "      <td>31.643809</td>\n",
       "      <td>-84.239591</td>\n",
       "      <td>0.129948</td>\n",
       "    </tr>\n",
       "    <tr>\n",
       "      <th>57</th>\n",
       "      <td>919 US HIGHWAY 19 S</td>\n",
       "      <td>919 US HIGHWAY 19S</td>\n",
       "      <td>Street</td>\n",
       "      <td>31.676127</td>\n",
       "      <td>-84.171788</td>\n",
       "      <td>31.578507</td>\n",
       "      <td>-84.155741</td>\n",
       "      <td>0.081573</td>\n",
       "    </tr>\n",
       "    <tr>\n",
       "      <th>58</th>\n",
       "      <td>1501 LIBERTY EXPY SE</td>\n",
       "      <td>1501 US HIGHWAY 19S</td>\n",
       "      <td>Street</td>\n",
       "      <td>31.507789</td>\n",
       "      <td>-84.115791</td>\n",
       "      <td>31.578507</td>\n",
       "      <td>-84.155741</td>\n",
       "      <td>0.030768</td>\n",
       "    </tr>\n",
       "    <tr>\n",
       "      <th>94</th>\n",
       "      <td>1331 W OGLETHORPE AVE</td>\n",
       "      <td>1331 W OGLETHORPE BLVD</td>\n",
       "      <td>Street</td>\n",
       "      <td>31.575819</td>\n",
       "      <td>-84.181859</td>\n",
       "      <td>31.575334</td>\n",
       "      <td>-84.176130</td>\n",
       "      <td>0.005244</td>\n",
       "    </tr>\n",
       "    <tr>\n",
       "      <th>98</th>\n",
       "      <td>1212 WHISPERING PINES RD</td>\n",
       "      <td>1212 WHISPERING PINES CIR</td>\n",
       "      <td>Street</td>\n",
       "      <td>31.604783</td>\n",
       "      <td>-84.179624</td>\n",
       "      <td>31.606505</td>\n",
       "      <td>-84.208985</td>\n",
       "      <td>0.027639</td>\n",
       "    </tr>\n",
       "    <tr>\n",
       "      <th>139</th>\n",
       "      <td>323 IRONHORSE CT</td>\n",
       "      <td>323 IRON HORSE CT</td>\n",
       "      <td>Zip5</td>\n",
       "      <td>31.518880</td>\n",
       "      <td>-84.302870</td>\n",
       "      <td>31.570654</td>\n",
       "      <td>-84.279520</td>\n",
       "      <td>0.075125</td>\n",
       "    </tr>\n",
       "    <tr>\n",
       "      <th>194</th>\n",
       "      <td>315 IRONHORSE CT</td>\n",
       "      <td>315 IRON HORSE CT</td>\n",
       "      <td>Zip5</td>\n",
       "      <td>31.518880</td>\n",
       "      <td>-84.302870</td>\n",
       "      <td>31.571976</td>\n",
       "      <td>-84.279273</td>\n",
       "      <td>0.076694</td>\n",
       "    </tr>\n",
       "    <tr>\n",
       "      <th>208</th>\n",
       "      <td>200 E BROAD AVE</td>\n",
       "      <td>200 W BROAD AVE</td>\n",
       "      <td>Street</td>\n",
       "      <td>31.576773</td>\n",
       "      <td>-84.145194</td>\n",
       "      <td>31.576456</td>\n",
       "      <td>-84.151583</td>\n",
       "      <td>0.006706</td>\n",
       "    </tr>\n",
       "    <tr>\n",
       "      <th>283</th>\n",
       "      <td>2312 TROWBRIDGE RD</td>\n",
       "      <td>2312 TROWBRIDGE</td>\n",
       "      <td>Street</td>\n",
       "      <td>31.601471</td>\n",
       "      <td>-84.231478</td>\n",
       "      <td>31.608084</td>\n",
       "      <td>-84.231934</td>\n",
       "      <td>0.006157</td>\n",
       "    </tr>\n",
       "    <tr>\n",
       "      <th>304</th>\n",
       "      <td>728 SHAMROCK DR</td>\n",
       "      <td>728 SHAMROCK</td>\n",
       "      <td>Street</td>\n",
       "      <td>31.567548</td>\n",
       "      <td>-84.233389</td>\n",
       "      <td>31.563733</td>\n",
       "      <td>-84.234692</td>\n",
       "      <td>0.005118</td>\n",
       "    </tr>\n",
       "    <tr>\n",
       "      <th>320</th>\n",
       "      <td>817 21ST AVE</td>\n",
       "      <td>817 21ST AVE</td>\n",
       "      <td>Zip5</td>\n",
       "      <td>31.575300</td>\n",
       "      <td>-84.161300</td>\n",
       "      <td>31.616454</td>\n",
       "      <td>-84.172591</td>\n",
       "      <td>0.029863</td>\n",
       "    </tr>\n",
       "    <tr>\n",
       "      <th>325</th>\n",
       "      <td>808 21ST AVE</td>\n",
       "      <td>808 21ST AVE</td>\n",
       "      <td>Zip5</td>\n",
       "      <td>31.575300</td>\n",
       "      <td>-84.161300</td>\n",
       "      <td>31.615315</td>\n",
       "      <td>-84.171305</td>\n",
       "      <td>0.030010</td>\n",
       "    </tr>\n",
       "    <tr>\n",
       "      <th>354</th>\n",
       "      <td>416 N WESTOVER BLVD</td>\n",
       "      <td>416 N WESTOVER BLVD</td>\n",
       "      <td>Extrapolate</td>\n",
       "      <td>31.620886</td>\n",
       "      <td>-84.219653</td>\n",
       "      <td>31.603101</td>\n",
       "      <td>-84.219955</td>\n",
       "      <td>0.018087</td>\n",
       "    </tr>\n",
       "    <tr>\n",
       "      <th>545</th>\n",
       "      <td>1401 E BROAD AVE</td>\n",
       "      <td>1401 W BROAD AVE</td>\n",
       "      <td>Street</td>\n",
       "      <td>31.576707</td>\n",
       "      <td>-84.119502</td>\n",
       "      <td>31.578370</td>\n",
       "      <td>-84.184002</td>\n",
       "      <td>0.062837</td>\n",
       "    </tr>\n",
       "    <tr>\n",
       "      <th>686</th>\n",
       "      <td>2100 N FULTON AVE</td>\n",
       "      <td>2100 FULTON AVE</td>\n",
       "      <td>Street</td>\n",
       "      <td>37.997004</td>\n",
       "      <td>-87.581034</td>\n",
       "      <td>31.571250</td>\n",
       "      <td>-84.102276</td>\n",
       "      <td>2.946995</td>\n",
       "    </tr>\n",
       "    <tr>\n",
       "      <th>723</th>\n",
       "      <td>5621 SASSAFRASS AVE</td>\n",
       "      <td>5621 SASSAFRASS LN</td>\n",
       "      <td>Street</td>\n",
       "      <td>31.585567</td>\n",
       "      <td>-83.996703</td>\n",
       "      <td>31.583187</td>\n",
       "      <td>-84.003942</td>\n",
       "      <td>0.009619</td>\n",
       "    </tr>\n",
       "    <tr>\n",
       "      <th>728</th>\n",
       "      <td>639 OWENS ST</td>\n",
       "      <td>639 OWENS AVE</td>\n",
       "      <td>Street</td>\n",
       "      <td>31.216171</td>\n",
       "      <td>-82.367554</td>\n",
       "      <td>31.599384</td>\n",
       "      <td>-84.113777</td>\n",
       "      <td>1.363009</td>\n",
       "    </tr>\n",
       "    <tr>\n",
       "      <th>729</th>\n",
       "      <td>1803 W BROAD AVE</td>\n",
       "      <td>1803 E BROAD AVE</td>\n",
       "      <td>Street</td>\n",
       "      <td>31.576867</td>\n",
       "      <td>-84.193459</td>\n",
       "      <td>31.575788</td>\n",
       "      <td>-84.104065</td>\n",
       "      <td>0.088315</td>\n",
       "    </tr>\n",
       "    <tr>\n",
       "      <th>738</th>\n",
       "      <td>1107 LIBERTY EXPY SE</td>\n",
       "      <td>1107 LIBERTY EXPY</td>\n",
       "      <td>Street</td>\n",
       "      <td>31.519127</td>\n",
       "      <td>-84.115821</td>\n",
       "      <td>31.525661</td>\n",
       "      <td>-84.116544</td>\n",
       "      <td>0.005811</td>\n",
       "    </tr>\n",
       "    <tr>\n",
       "      <th>773</th>\n",
       "      <td>1115 LIBERTY EXPY SE</td>\n",
       "      <td>1115 LIBERTY EXPY</td>\n",
       "      <td>Street</td>\n",
       "      <td>31.519442</td>\n",
       "      <td>-84.115821</td>\n",
       "      <td>31.526651</td>\n",
       "      <td>-84.115319</td>\n",
       "      <td>0.007711</td>\n",
       "    </tr>\n",
       "    <tr>\n",
       "      <th>784</th>\n",
       "      <td>421 S WESTOVER BLVD</td>\n",
       "      <td>421 N WESTOVER BLVD</td>\n",
       "      <td>Street</td>\n",
       "      <td>31.567511</td>\n",
       "      <td>-84.222816</td>\n",
       "      <td>31.601256</td>\n",
       "      <td>-84.220613</td>\n",
       "      <td>0.035948</td>\n",
       "    </tr>\n",
       "    <tr>\n",
       "      <th>785</th>\n",
       "      <td>608 W RESIDENCE AVE</td>\n",
       "      <td>608 E RESIDENCE AVE</td>\n",
       "      <td>Street</td>\n",
       "      <td>31.582943</td>\n",
       "      <td>-84.162188</td>\n",
       "      <td>31.581858</td>\n",
       "      <td>-84.132444</td>\n",
       "      <td>0.028659</td>\n",
       "    </tr>\n",
       "    <tr>\n",
       "      <th>787</th>\n",
       "      <td>1817 W OGLETHORPE AVE</td>\n",
       "      <td>1817 W OGLETHORPE BLVD</td>\n",
       "      <td>Street</td>\n",
       "      <td>31.575766</td>\n",
       "      <td>-84.194622</td>\n",
       "      <td>31.575334</td>\n",
       "      <td>-84.176130</td>\n",
       "      <td>0.018060</td>\n",
       "    </tr>\n",
       "  </tbody>\n",
       "</table>\n",
       "</div>"
      ],
      "text/plain": [
       "              found_addresses              orig_addresses     accuracy  \\\n",
       "3         252 N BONNY VIEW CT          252 BONNY VIEW AVE         Zip5   \n",
       "4                4805 HILL RD              4805 HILL ROAD       Street   \n",
       "9         741 US HIGHWAY 82 W               741 US HWY 82  Extrapolate   \n",
       "16        508 LIBERTY EXPY SE  508 LIBERTY EXPRESS SE WAY       Street   \n",
       "20         4917 OLD DAWSON RD             4917 OLD DAWSON       Street   \n",
       "24               2649 CODY CT                2649 CODY CT         Zip5   \n",
       "25               2661 CODY CT                2661 CODY CT         Zip5   \n",
       "26            145 CHICKORY CT              145 CHICORY CT         Zip7   \n",
       "27            124 CHICKORY CT              124 CHICORY CT         Zip7   \n",
       "29            132 CHICKORY CT              132 CHICORY CT         Zip7   \n",
       "30            129 CHICKORY CT              129 CHICORY CT         Zip7   \n",
       "34            148 CHICKORY CT              148 CHICORY CT         Zip7   \n",
       "35            141 CHICKORY CT              141 CHICORY CT         Zip7   \n",
       "42          510 S VALENCIA DR           510 S VALENICA ST       Street   \n",
       "43            112 CHICKORY CT              112 CHICORY CT         Zip7   \n",
       "44            133 CHICKORY CT              133 CHICORY CT         Zip7   \n",
       "45               2601 CODY CT                2601 CODY CT         Zip5   \n",
       "46               2619 CODY CT                2619 CODY CT         Zip5   \n",
       "47               2613 CODY CT                2613 CODY CT         Zip5   \n",
       "48            100 CHICKORY CT              100 CHICORY CT         Zip7   \n",
       "49            136 CHICKORY CT              136 CHICORY CT         Zip7   \n",
       "51            121 CHICKORY CT              121 CHICORY CT         Zip7   \n",
       "52            144 CHICKORY CT              144 CHICORY CT         Zip7   \n",
       "53            137 CHICKORY CT              137 CHICORY CT         Zip7   \n",
       "54            150 CHICKORY CT              150 CHICORY CT         Zip7   \n",
       "57        919 US HIGHWAY 19 S          919 US HIGHWAY 19S       Street   \n",
       "58       1501 LIBERTY EXPY SE         1501 US HIGHWAY 19S       Street   \n",
       "94      1331 W OGLETHORPE AVE      1331 W OGLETHORPE BLVD       Street   \n",
       "98   1212 WHISPERING PINES RD   1212 WHISPERING PINES CIR       Street   \n",
       "139          323 IRONHORSE CT           323 IRON HORSE CT         Zip5   \n",
       "194          315 IRONHORSE CT           315 IRON HORSE CT         Zip5   \n",
       "208           200 E BROAD AVE             200 W BROAD AVE       Street   \n",
       "283        2312 TROWBRIDGE RD             2312 TROWBRIDGE       Street   \n",
       "304           728 SHAMROCK DR                728 SHAMROCK       Street   \n",
       "320              817 21ST AVE                817 21ST AVE         Zip5   \n",
       "325              808 21ST AVE                808 21ST AVE         Zip5   \n",
       "354       416 N WESTOVER BLVD         416 N WESTOVER BLVD  Extrapolate   \n",
       "545          1401 E BROAD AVE            1401 W BROAD AVE       Street   \n",
       "686         2100 N FULTON AVE             2100 FULTON AVE       Street   \n",
       "723       5621 SASSAFRASS AVE          5621 SASSAFRASS LN       Street   \n",
       "728              639 OWENS ST               639 OWENS AVE       Street   \n",
       "729          1803 W BROAD AVE            1803 E BROAD AVE       Street   \n",
       "738      1107 LIBERTY EXPY SE           1107 LIBERTY EXPY       Street   \n",
       "773      1115 LIBERTY EXPY SE           1115 LIBERTY EXPY       Street   \n",
       "784       421 S WESTOVER BLVD         421 N WESTOVER BLVD       Street   \n",
       "785       608 W RESIDENCE AVE         608 E RESIDENCE AVE       Street   \n",
       "787     1817 W OGLETHORPE AVE      1817 W OGLETHORPE BLVD       Street   \n",
       "\n",
       "     found_lat  found_lon   orig_lat   orig_lon  coord_diff  \n",
       "3    31.547500 -84.091800  31.577872 -84.142308    0.020136  \n",
       "4    31.580128 -84.017950  31.576628 -84.031371    0.016921  \n",
       "9    31.660260 -84.275367  31.776926 -84.737709    0.345676  \n",
       "16   31.555594 -84.114707  31.554749 -84.108294    0.005569  \n",
       "20   31.610968 -84.285107  31.610941 -84.279746    0.005335  \n",
       "24   31.547500 -84.091800  31.570460 -84.081357    0.033403  \n",
       "25   31.547500 -84.091800  31.570458 -84.080941    0.033817  \n",
       "26   31.706212 -84.172046  31.643942 -84.239709    0.129933  \n",
       "27   31.706212 -84.172046  31.643809 -84.239591    0.129948  \n",
       "29   31.706212 -84.172046  31.643809 -84.239591    0.129948  \n",
       "30   31.706212 -84.172046  31.643809 -84.239591    0.129948  \n",
       "34   31.706212 -84.172046  31.643809 -84.239591    0.129948  \n",
       "35   31.706212 -84.172046  31.643809 -84.239591    0.129948  \n",
       "42   31.569555 -84.195679  31.580485 -84.196484    0.010125  \n",
       "43   31.706212 -84.172046  31.643809 -84.239591    0.129948  \n",
       "44   31.706212 -84.172046  31.643809 -84.239591    0.129948  \n",
       "45   31.547500 -84.091800  31.570466 -84.083026    0.031740  \n",
       "46   31.547500 -84.091800  31.570462 -84.082401    0.032361  \n",
       "47   31.547500 -84.091800  31.570463 -84.082610    0.032154  \n",
       "48   31.706212 -84.172046  31.643809 -84.239591    0.129948  \n",
       "49   31.706212 -84.172046  31.643809 -84.239591    0.129948  \n",
       "51   31.706212 -84.172046  31.643809 -84.239591    0.129948  \n",
       "52   31.706212 -84.172046  31.643809 -84.239591    0.129948  \n",
       "53   31.706212 -84.172046  31.643809 -84.239591    0.129948  \n",
       "54   31.706212 -84.172046  31.643809 -84.239591    0.129948  \n",
       "57   31.676127 -84.171788  31.578507 -84.155741    0.081573  \n",
       "58   31.507789 -84.115791  31.578507 -84.155741    0.030768  \n",
       "94   31.575819 -84.181859  31.575334 -84.176130    0.005244  \n",
       "98   31.604783 -84.179624  31.606505 -84.208985    0.027639  \n",
       "139  31.518880 -84.302870  31.570654 -84.279520    0.075125  \n",
       "194  31.518880 -84.302870  31.571976 -84.279273    0.076694  \n",
       "208  31.576773 -84.145194  31.576456 -84.151583    0.006706  \n",
       "283  31.601471 -84.231478  31.608084 -84.231934    0.006157  \n",
       "304  31.567548 -84.233389  31.563733 -84.234692    0.005118  \n",
       "320  31.575300 -84.161300  31.616454 -84.172591    0.029863  \n",
       "325  31.575300 -84.161300  31.615315 -84.171305    0.030010  \n",
       "354  31.620886 -84.219653  31.603101 -84.219955    0.018087  \n",
       "545  31.576707 -84.119502  31.578370 -84.184002    0.062837  \n",
       "686  37.997004 -87.581034  31.571250 -84.102276    2.946995  \n",
       "723  31.585567 -83.996703  31.583187 -84.003942    0.009619  \n",
       "728  31.216171 -82.367554  31.599384 -84.113777    1.363009  \n",
       "729  31.576867 -84.193459  31.575788 -84.104065    0.088315  \n",
       "738  31.519127 -84.115821  31.525661 -84.116544    0.005811  \n",
       "773  31.519442 -84.115821  31.526651 -84.115319    0.007711  \n",
       "784  31.567511 -84.222816  31.601256 -84.220613    0.035948  \n",
       "785  31.582943 -84.162188  31.581858 -84.132444    0.028659  \n",
       "787  31.575766 -84.194622  31.575334 -84.176130    0.018060  "
      ]
     },
     "execution_count": 23,
     "metadata": {},
     "output_type": "execute_result"
    }
   ],
   "source": [
    "#Compare the addresses returned by attom api to those which were queried -> is there a difference?\n",
    "data_found_lat = [float(x['location']['latitude']) for x in data_found]\n",
    "data_found_lon = [float(x['location']['longitude']) for x in data_found]\n",
    "data_found_acc = [x['location']['accuracy'] for x in data_found]\n",
    "df_subset = df[df['Address'].isin(orig_addresses)] #The set of the dataframe that was used to generate data_found\n",
    "df_subset.index = range(len(df_subset))\n",
    "\n",
    "df_compare = pd.DataFrame(data={'found_addresses':dfp2['address'], 'orig_addresses':df_subset['Address'], 'accuracy':data_found_acc,'found_lat':data_found_lat, 'found_lon':data_found_lon, 'orig_lat':df_subset['Xcoord'], 'orig_lon':df_subset['Ycoord']})\n",
    "df_compare['coord_diff'] = abs(df_compare['found_lat']+df_compare['found_lon']-df_compare['orig_lat']-df_compare['orig_lon'])\n",
    "df_compare[df_compare['coord_diff']>0.005]"
   ]
  },
  {
   "cell_type": "code",
   "execution_count": 24,
   "metadata": {},
   "outputs": [],
   "source": [
    "#Addresses which may have been miscoded: difference in coordinates is significant\n",
    "df_compare[df_compare['coord_diff']>0.005]\n",
    "#US highway addresses: found is more accurate\n",
    "#all else: original is more accurate\n",
    "#Despite incorrect geocoding, likely only the E/W N/S mixups and wildly incorrect addresses are wrong\n",
    "#That is, \n",
    "drop_idx = [3,9, 208, 545,686, 728, 729,784, 785]\n",
    "nf_miscoded = dfp2.loc[drop_idx, 'address']\n",
    "dfp2.drop(drop_idx, inplace=True)\n",
    "dfp2.index = range(len(dfp2))"
   ]
  },
  {
   "cell_type": "code",
   "execution_count": 25,
   "metadata": {
    "scrolled": true
   },
   "outputs": [],
   "source": [
    "dfp_all = pd.concat([dfp, dfp2], axis=0)"
   ]
  },
  {
   "cell_type": "markdown",
   "metadata": {},
   "source": [
    "#### c) In missing_list, split the non-found addresses by the error code. Export the addresses which resulted in 'System not responding' to be re-run"
   ]
  },
  {
   "cell_type": "code",
   "execution_count": 26,
   "metadata": {},
   "outputs": [
    {
     "data": {
      "text/html": [
       "<div>\n",
       "<style scoped>\n",
       "    .dataframe tbody tr th:only-of-type {\n",
       "        vertical-align: middle;\n",
       "    }\n",
       "\n",
       "    .dataframe tbody tr th {\n",
       "        vertical-align: top;\n",
       "    }\n",
       "\n",
       "    .dataframe thead th {\n",
       "        text-align: right;\n",
       "    }\n",
       "</style>\n",
       "<table border=\"1\" class=\"dataframe\">\n",
       "  <thead>\n",
       "    <tr style=\"text-align: right;\">\n",
       "      <th></th>\n",
       "      <th>Address</th>\n",
       "      <th>Code</th>\n",
       "    </tr>\n",
       "    <tr>\n",
       "      <th>StatusMSG</th>\n",
       "      <th></th>\n",
       "      <th></th>\n",
       "    </tr>\n",
       "  </thead>\n",
       "  <tbody>\n",
       "    <tr>\n",
       "      <th>Geocoder Results Address Not Identified.</th>\n",
       "      <td>83</td>\n",
       "      <td>83</td>\n",
       "    </tr>\n",
       "    <tr>\n",
       "      <th>Success without results. No data available for this address.</th>\n",
       "      <td>478</td>\n",
       "      <td>478</td>\n",
       "    </tr>\n",
       "    <tr>\n",
       "      <th>SuccessWithoutResult</th>\n",
       "      <td>3050</td>\n",
       "      <td>3050</td>\n",
       "    </tr>\n",
       "    <tr>\n",
       "      <th>System Not Responding.</th>\n",
       "      <td>10</td>\n",
       "      <td>10</td>\n",
       "    </tr>\n",
       "  </tbody>\n",
       "</table>\n",
       "</div>"
      ],
      "text/plain": [
       "                                                    Address  Code\n",
       "StatusMSG                                                        \n",
       "Geocoder Results Address Not Identified.                 83    83\n",
       "Success without results. No data available for ...      478   478\n",
       "SuccessWithoutResult                                   3050  3050\n",
       "System Not Responding.                                   10    10"
      ]
     },
     "execution_count": 26,
     "metadata": {},
     "output_type": "execute_result"
    }
   ],
   "source": [
    "missing_list.groupby(by='StatusMSG').count()"
   ]
  },
  {
   "cell_type": "code",
   "execution_count": 27,
   "metadata": {},
   "outputs": [
    {
     "data": {
      "text/html": [
       "<div>\n",
       "<style scoped>\n",
       "    .dataframe tbody tr th:only-of-type {\n",
       "        vertical-align: middle;\n",
       "    }\n",
       "\n",
       "    .dataframe tbody tr th {\n",
       "        vertical-align: top;\n",
       "    }\n",
       "\n",
       "    .dataframe thead th {\n",
       "        text-align: right;\n",
       "    }\n",
       "</style>\n",
       "<table border=\"1\" class=\"dataframe\">\n",
       "  <thead>\n",
       "    <tr style=\"text-align: right;\">\n",
       "      <th></th>\n",
       "      <th>Address</th>\n",
       "      <th>StatusMSG</th>\n",
       "    </tr>\n",
       "    <tr>\n",
       "      <th>Code</th>\n",
       "      <th></th>\n",
       "      <th></th>\n",
       "    </tr>\n",
       "  </thead>\n",
       "  <tbody>\n",
       "    <tr>\n",
       "      <th>-2.0</th>\n",
       "      <td>10</td>\n",
       "      <td>10</td>\n",
       "    </tr>\n",
       "    <tr>\n",
       "      <th>1.0</th>\n",
       "      <td>3050</td>\n",
       "      <td>3050</td>\n",
       "    </tr>\n",
       "    <tr>\n",
       "      <th>210.0</th>\n",
       "      <td>83</td>\n",
       "      <td>83</td>\n",
       "    </tr>\n",
       "    <tr>\n",
       "      <th>212.0</th>\n",
       "      <td>478</td>\n",
       "      <td>478</td>\n",
       "    </tr>\n",
       "  </tbody>\n",
       "</table>\n",
       "</div>"
      ],
      "text/plain": [
       "        Address  StatusMSG\n",
       "Code                      \n",
       "-2.0         10         10\n",
       " 1.0       3050       3050\n",
       " 210.0       83         83\n",
       " 212.0      478        478"
      ]
     },
     "execution_count": 27,
     "metadata": {},
     "output_type": "execute_result"
    }
   ],
   "source": [
    "missing_list.groupby(by='Code').count()\n",
    "#-2 = System Not Responding : There is a failure within the api\n",
    "#1 = SuccessWithoutResult : Your request was successful but returned no results\n",
    "#210 = Geocoder Search Results Address Not Identified. : The input address could not be identified. Please try again.\n",
    "#212 = \tSuccess without results. No data available for this address. : The input address has been located with ZIP level precision, but a record is not available."
   ]
  },
  {
   "cell_type": "code",
   "execution_count": 28,
   "metadata": {},
   "outputs": [],
   "source": [
    "missing_list[missing_list['StatusMSG']=='System Not Responding.'].to_csv('missing_notresponding.csv')\n"
   ]
  },
  {
   "cell_type": "code",
   "execution_count": null,
   "metadata": {},
   "outputs": [],
   "source": [
    "missing_list[missing_list['StatusMSG']=='Success without results. No data available for this address.'].head()"
   ]
  },
  {
   "cell_type": "code",
   "execution_count": null,
   "metadata": {},
   "outputs": [],
   "source": [
    "missing_list[missing_list['StatusMSG']=='Geocoder Results Address Not Identified.'].head()"
   ]
  },
  {
   "cell_type": "markdown",
   "metadata": {},
   "source": [
    "#### d) Retrieve the results of step c) and add them to a new dataframe dfp3."
   ]
  },
  {
   "cell_type": "code",
   "execution_count": 29,
   "metadata": {},
   "outputs": [],
   "source": [
    "f = open('C:\\\\Users\\\\Mirabel\\\\Dropbox (GaTech)\\\\CDS-2019-AlbanyHub\\\\Processed-Data\\\\attom_json\\\\missing\\\\noresponse\\\\json_dump_missing_noresponse0_10.json')\n",
    "data_nr = json.load(f)\n",
    "f.close()\n",
    "dfp3 = prop_split(data_nr)\n",
    "prim_ids=[id_dict.get(x, NOT_FOUND) for x in dfp3['address']] #id of each addresss in new dataframe\n",
    "#manually fix one value\n",
    "prim_ids[6] = id_dict.get('600 POLARIS DR')\n",
    "dfp3['PrimaryId'] = prim_ids"
   ]
  },
  {
   "cell_type": "code",
   "execution_count": 39,
   "metadata": {},
   "outputs": [],
   "source": [
    "dfp_all = pd.concat([dfp, dfp2, dfp3], axis=0)\n",
    "dfp_all.to_csv(\"property_data.csv\", index=False, sep=';')"
   ]
  },
  {
   "cell_type": "code",
   "execution_count": 34,
   "metadata": {},
   "outputs": [],
   "source": [
    "p1 = missing_list[missing_list['StatusMSG']!='System Not Responding.']\n",
    "p2 = p1.append([{'Address':x} for x in nf_miscoded], ignore_index=True)\n",
    "p2.to_csv('missing_unresolved.csv', index=False)"
   ]
  },
  {
   "cell_type": "code",
   "execution_count": 37,
   "metadata": {},
   "outputs": [
    {
     "data": {
      "text/html": [
       "<div>\n",
       "<style scoped>\n",
       "    .dataframe tbody tr th:only-of-type {\n",
       "        vertical-align: middle;\n",
       "    }\n",
       "\n",
       "    .dataframe tbody tr th {\n",
       "        vertical-align: top;\n",
       "    }\n",
       "\n",
       "    .dataframe thead th {\n",
       "        text-align: right;\n",
       "    }\n",
       "</style>\n",
       "<table border=\"1\" class=\"dataframe\">\n",
       "  <thead>\n",
       "    <tr style=\"text-align: right;\">\n",
       "      <th></th>\n",
       "      <th>address</th>\n",
       "      <th>lot_size</th>\n",
       "      <th>zoningType</th>\n",
       "      <th>siteZoningIdent</th>\n",
       "      <th>propClass</th>\n",
       "      <th>yearBuilt</th>\n",
       "      <th>size</th>\n",
       "      <th>baths</th>\n",
       "      <th>beds</th>\n",
       "      <th>rooms</th>\n",
       "      <th>floors</th>\n",
       "      <th>condition</th>\n",
       "      <th>foundationType</th>\n",
       "      <th>roofCover</th>\n",
       "      <th>wallType</th>\n",
       "      <th>improvementYear</th>\n",
       "      <th>assessment</th>\n",
       "      <th>market</th>\n",
       "      <th>PrimaryId</th>\n",
       "    </tr>\n",
       "  </thead>\n",
       "  <tbody>\n",
       "  </tbody>\n",
       "</table>\n",
       "</div>"
      ],
      "text/plain": [
       "Empty DataFrame\n",
       "Columns: [address, lot_size, zoningType, siteZoningIdent, propClass, yearBuilt, size, baths, beds, rooms, floors, condition, foundationType, roofCover, wallType, improvementYear, assessment, market, PrimaryId]\n",
       "Index: []"
      ]
     },
     "execution_count": 37,
     "metadata": {},
     "output_type": "execute_result"
    }
   ],
   "source": [
    "dfp_all[dfp_all['PrimaryId'].isnull()]"
   ]
  },
  {
   "cell_type": "code",
   "execution_count": 38,
   "metadata": {},
   "outputs": [],
   "source": [
    "for a in dfp_all['PrimaryId']:\n",
    "    try:\n",
    "        b = int(a)\n",
    "    except:\n",
    "        print(a, type(a))"
   ]
  },
  {
   "cell_type": "code",
   "execution_count": null,
   "metadata": {},
   "outputs": [],
   "source": []
  }
 ],
 "metadata": {
  "kernelspec": {
   "display_name": "Python 3",
   "language": "python",
   "name": "python3"
  },
  "language_info": {
   "codemirror_mode": {
    "name": "ipython",
    "version": 3
   },
   "file_extension": ".py",
   "mimetype": "text/x-python",
   "name": "python",
   "nbconvert_exporter": "python",
   "pygments_lexer": "ipython3",
   "version": "3.7.3"
  }
 },
 "nbformat": 4,
 "nbformat_minor": 2
}
