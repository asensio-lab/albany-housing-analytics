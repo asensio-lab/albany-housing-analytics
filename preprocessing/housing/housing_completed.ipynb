{
 "cells": [
  {
   "cell_type": "code",
   "execution_count": 11,
   "metadata": {},
   "outputs": [],
   "source": [
    "import pandas as pd\n",
    "import Levenshtein"
   ]
  },
  {
   "cell_type": "code",
   "execution_count": null,
   "metadata": {},
   "outputs": [],
   "source": [
    "df_house = pd.read_csv('/Users/william/Dropbox (Amherst College)/CDS-2019-AlbanyHub/Raw-Data/housingquery.csv', dtype={'PrimaryID': str})"
   ]
  },
  {
   "cell_type": "code",
   "execution_count": null,
   "metadata": {},
   "outputs": [],
   "source": [
    "pd.options.display.max_colwidth = 300\n",
    "pd.options.display.max_rows = 300"
   ]
  },
  {
   "cell_type": "markdown",
   "metadata": {},
   "source": [
    "## Read and format cdbg data\n",
    "Take the pr03 reports and convert them into a dataframe"
   ]
  },
  {
   "cell_type": "code",
   "execution_count": 1,
   "metadata": {},
   "outputs": [],
   "source": [
    "#Read all pr03 csv files\n",
    "lines = []\n",
    "for i in range(2007, 2018):\n",
    "    file = '/home/mirabel/Dropbox (GaTech)/CDS-2019-AlbanyHub/Raw-Data/Housing/Pr03_2007/cdbg_' + str(i) + '.csv'\n",
    "    with open(file, 'r') as f:\n",
    "        lines.extend(f.readlines())"
   ]
  },
  {
   "cell_type": "code",
   "execution_count": 2,
   "metadata": {},
   "outputs": [],
   "source": [
    "length = len(lines) #Each recored in lines is a new line in the pr03 csv"
   ]
  },
  {
   "cell_type": "markdown",
   "metadata": {},
   "source": [
    "### Most of this code is just cleaning and splitting to find relevant info. \n",
    "\n",
    "variable names and such will be explained below"
   ]
  },
  {
   "cell_type": "code",
   "execution_count": 3,
   "metadata": {},
   "outputs": [
    {
     "name": "stdout",
     "output_type": "stream",
     "text": [
      "done\n"
     ]
    }
   ],
   "source": [
    "# split each project into separate parcel\n",
    "start = 0\n",
    "end = 0\n",
    "parcels = []\n",
    "i = 0\n",
    "while i < length:\n",
    "    try:\n",
    "        start = end\n",
    "        i += 1\n",
    "        while \"PGM Year\" not in lines[i]: #PGM year is the start of a new project entry\n",
    "            i += 1\n",
    "        end = i\n",
    "        parcel = lines[start:end]\n",
    "        parcels.append(parcel)\n",
    "    except:\n",
    "        print(\"done\")\n",
    "        break"
   ]
  },
  {
   "cell_type": "code",
   "execution_count": 4,
   "metadata": {},
   "outputs": [
    {
     "data": {
      "text/plain": [
       "['PGM Year:,,,,2006,,,,,,,,,,,,,,,,,,,,,,,,,,,,,,,,,,,,,,,,,,,,,,,,,,,,,\\n',\n",
       " 'Project:,,,,0006 - EMERGENCY REPAIRS                                           ,,,,,,,,,,,,,,,,,,,,,,,,,,,,,,,,,,,,,,,,,,,,,,,,,,,,,\\n',\n",
       " 'IDIS Activity:,,,,505 - 2600 LINDSEY AVENUE,,,,,,,,,,,,,,,,,,,,,,,,,,,,,,,,,,,,,,,,,,,,,,,,,,,,,\\n',\n",
       " ',,,,,,,,,,,,,,,,,,,,,,,,,,,,,,,,,,,,,,,,,,,,,,,,,,,,,,,,,\\n',\n",
       " 'Status:,,,,Canceled 8/30/2007 12:00:00 AM,,,,,,,,,,,,,,,,,,,,,Objective:,,,,,Provide decent affordable housing,,,,,,,,,,,,,,,,,,,,,,,,,,,\\n',\n",
       " 'Location:,,,,\"2600 Lindsey Ave                                                                                             Albany, GA  31705-2100\",,,,,,,,,,,,,,,,,,,,,Outcome:,,,,,Affordability,,,,,,,,,,,,,,,,,,,,,,,,,,,\\n',\n",
       " ',,,,,,,,,,,,,,,,,,,,,,,,,Matrix Code:,,,,,Rehab; Single-Unit Residential (14A),,,,,,,,,,,National Objective:,,,,,,,,,,,LMH,,,,,\\n',\n",
       " ',,,,,,,,,,,,,,,,,,,,,,,,,,,,,,,,,,,,,,,,,,,,,,,,,,,,,,,,,\\n',\n",
       " 'Initial Funding Date:,,,,,,,,,,,08/20/2007,,,,,,,,,,,,,,,,,,,,,,,,,,,,,,,,,,,,,,,,,,,,,,\\n',\n",
       " 'Description:,,,,,,,,,,,,,,,,,,,,,,,,,,,,,,,,,,,,,,,,,,,,,,,,,,,,,,,,,\\n',\n",
       " 'PERFORM EMERGENCY REPAIRS ON A SINGLE-FAMILY OWNER-OCCUPIED UNIT.,,,,,,,,,,,,,,,,,,,,,,,,,,,,,,,,,,,,,,,,,,,,,,,,,,,,,,,,,\\n',\n",
       " 'Financing,,,,,,,,,,,,,,,,,,,,,,,,,,,,,,,,,,,,,,,,,,,,,,,,,,,,,,,,,\\n',\n",
       " 'No data returned for this view. This might be because the applied filter excludes all data.,,,,,,,,,,,,,,,,,,,,,,,,,,,,,,,,,,,,,,,,,,,,,,,,,,,,,,,,,\\n',\n",
       " 'Proposed Accomplishments,,,,,,,,,,,,,,,,,,,,,,,,,,,,,,,,,,,,,,,,,,,,,,,,,,,,,,,,,\\n',\n",
       " ',,Housing Units :  1,,,,,,,,,,,,,,,,,,,,,,,,,,,,,,,,,,,,,,,,,,,,,,,,,,,,,,,\\n',\n",
       " 'Actual Accomplishments,,,,,,,,,,,,,,,,,,,,,,,,,,,,,,,,,,,,,,,,,,,,,,,,,,,,,,,,,\\n',\n",
       " ',,,,,,,,,,,,,,,,,,,,,Owner,,,,,,,,Renter,,,,,,,,,Total,,,,,,,Person,,,,,,,,,,,,\\n',\n",
       " 'Number assisted:,,,,,,,,,,,,,,,,,,,,,,,,,,,,,,,,,,,,,,,,,,,,,,,,,,,,,,,,,\\n',\n",
       " ',,,,,,,,,,,,,,,,,,,,Total,,,,Hispanic,,,,,Total,,,Hispanic,,,,,Total,,,Hispanic,,,,Total,,,,Hispanic,,,,,,,,,\\n',\n",
       " ',,,,,,,,,,,,,,,,,,,,,,,,,,,,,,,,,,,,,,,,,,,,,,,,,,,,,,,,,\\n',\n",
       " ',White:,,,,,,,,,,,,,,,,,,0.0,,,,0.0,,,,,0.0,,,0.0,,,,,0,,,0.0,,,,,,,,,0,,,,,,,,,\\n',\n",
       " ',Black/African American:,,,,,,,,,,,,,,,,,,0.0,,,,0.0,,,,,0.0,,,0.0,,,,,0,,,0.0,,,,0.0,,,,,0,,,,,,,,,\\n',\n",
       " ',Asian:,,,,,,,,,,,,,,,,,,0.0,,,,0.0,,,,,0.0,,,0.0,,,,,0,,,0.0,,,,0.0,,,,,0,,,,,,,,,\\n',\n",
       " ',American Indian/Alaskan Native:,,,,,,,,,,,,,,,,,,0.0,,,,0.0,,,,,0.0,,,0.0,,,,,0,,,0.0,,,,0.0,,,,,0,,,,,,,,,\\n',\n",
       " ',Native Hawaiian/Other Pacific Islander:,,,,,,,,,,,,,,,,,,0.0,,,,0.0,,,,,0.0,,,0.0,,,,,0,,,0.0,,,,0.0,,,,,0,,,,,,,,,\\n',\n",
       " ',American Indian/Alaskan Native & White:,,,,,,,,,,,,,,,,,,0.0,,,,0.0,,,,,0.0,,,0.0,,,,,0,,,0.0,,,,0.0,,,,,0,,,,,,,,,\\n',\n",
       " ',Asian White:,,,,,,,,,,,,,,,,,,0.0,,,,0.0,,,,,0.0,,,0.0,,,,,0,,,0.0,,,,0.0,,,,,0,,,,,,,,,\\n',\n",
       " ',Black/African American & White:,,,,,,,,,,,,,,,,,,0.0,,,,0.0,,,,,0.0,,,0.0,,,,,0,,,0.0,,,,0.0,,,,,0,,,,,,,,,\\n',\n",
       " ',American Indian/Alaskan Native & Black/African American:,,,,,,,,,,,,,,,,,,0.0,,,,0.0,,,,,0.0,,,0.0,,,,,0,,,0.0,,,,0.0,,,,,0,,,,,,,,,\\n',\n",
       " ',Other multi-racial:,,,,,,,,,,,,,,,,,,0.0,,,,0.0,,,,,0.0,,,0.0,,,,,0,,,0.0,,,,0.0,,,,,0,,,,,,,,,\\n',\n",
       " ',Asian/Pacific Islander:,,,,,,,,,,,,,,,,,,0.0,,,,0.0,,,,,0.0,,,0.0,,,,,0,,,0.0,,,,0.0,,,,,0,,,,,,,,,\\n',\n",
       " ',Hispanic:,,,,,,,,,,,,,,,,,,0.0,,,,0.0,,,,,0.0,,,0.0,,,,,0,,,0.0,,,,0.0,,,,,0,,,,,,,,,\\n',\n",
       " ',Total:,,,,,,,,,,,,,,,,,,0.0,,,,0.0,,,,,0.0,,,0.0,,,,,0,,,0.0,,,,0.0,,,,,0,,,,,,,,,\\n',\n",
       " ',,,,,,,,,,,,,,,,,,,,,,,,,,,,,,,,,,,,,,,,,,,,,,,,,,,,,,,,,\\n',\n",
       " ',Female-headed Households:,,,,,,,,,,,,,,,,,,,0,,,,,,,,0.0,,,,,,,,0,,,,,,,,,,,,,,,,,,,,,\\n',\n",
       " ',,,,,,,,,,,,,,,,,,,,,,,,,,,,,,,,,,,,,,,,,,,,,,,,,,,,,,,,,\\n',\n",
       " ',Income Category:,,,,,,,,,,,,,,,,,,,,,,,,,,,,,,,,,,,,,,,,,,,,,,,,,,,,,,,,\\n',\n",
       " ',,,,,,,,Owner,,,,Renter,,Total,,,,,,,Person,,,,,,,,,,,,,,,,,,,,,,,,,,,,,,,,,,,,\\n',\n",
       " ',Extremely Low,,,,,,0.0,,,,0,,0.0,,,,,,,0,,,,,,,,,,,,,,,,,,,,,,,,,,,,,,,,,,,,,\\n',\n",
       " ',Low Mod,,,,,,0.0,,,,0,,0.0,,,,,,,0,,,,,,,,,,,,,,,,,,,,,,,,,,,,,,,,,,,,,\\n',\n",
       " ',Moderate,,,,,,0.0,,,,0,,0.0,,,,,,,0,,,,,,,,,,,,,,,,,,,,,,,,,,,,,,,,,,,,,\\n',\n",
       " ',Non Low Moderate,,,,,,0.0,,,,0,,0.0,,,,,,,0,,,,,,,,,,,,,,,,,,,,,,,,,,,,,,,,,,,,,\\n',\n",
       " ',Total,,,,,,0.0,,,,0,,0.0,,,,,,,0,,,,,,,,,,,,,,,,,,,,,,,,,,,,,,,,,,,,,\\n',\n",
       " ',Percent Low/Mod,,,,,,,,,,,,,,,,,,,,,,,,,,,,,,,,,,,,,,,,,,,,,,,,,,,,,,,,\\n',\n",
       " ',,,,,,,,,,,,,,,,,,,,,,,,,,,,,,,,,,,,,,,,,,,,,,,,,,,,,,,,,\\n',\n",
       " 'Annual Accomplishments,,,,,,,,,,,,,,,,,,,,,,,,,,,,,,,,,,,,,,,,,,,,,,,,,,,,,,,,,\\n',\n",
       " 'Years,,,,Accomplishment Narrative,,,,,,,,,,,,,,,,,,,,,,,,,,,,,,,,,,,,,,,,,,,,,,# Benefitting,,,,,,,\\n',\n",
       " '2006,,,,\"A REPAIR WAS COMPLETED ON A LOW AND MODERATE INCOME HOMEOWNER.\\n',\n",
       " '\",,,,,,,,,,,,,,,,,,,,,,,,,,,,,,,,,,,,,,,,,,,,,,,,,,,,,\\n']"
      ]
     },
     "execution_count": 4,
     "metadata": {},
     "output_type": "execute_result"
    }
   ],
   "source": [
    "parcels[8]"
   ]
  },
  {
   "cell_type": "markdown",
   "metadata": {},
   "source": [
    "## Fields that we want to pull"
   ]
  },
  {
   "cell_type": "code",
   "execution_count": 5,
   "metadata": {},
   "outputs": [],
   "source": [
    "# split each parcel into smaller bits of data with relevant info\n",
    "condensedparcels = []\n",
    "for parcel in parcels:\n",
    "    condensed = []\n",
    "    for i in range(len(parcel)):\n",
    "        if \"Project\" in parcel[i]:\n",
    "            condensed.append(parcel[i])\n",
    "        if \"IDIS Activity\" in parcel[i]:\n",
    "            condensed.append(parcel[i])\n",
    "        if \"Status\" in parcel[i]:\n",
    "            condensed.append(parcel[i])\n",
    "        if \"Location\" in parcel[i]:\n",
    "            condensed.append(parcel[i])\n",
    "        if \"Description\" in parcel[i]:\n",
    "            condensed.append(\"Description:\" + parcel[i+1])\n",
    "    #for line in parcel:\n",
    "    #    if \"IDIS Activity\" in line:\n",
    "    #        condensed.append(line)\n",
    "    #    if \"Status\" in line:\n",
    "    #        condensed.append(line)\n",
    "    #    if \"Location\" in line:\n",
    "    #        condensed.append(line)\n",
    "    if len(condensed) > 0:\n",
    "        condensedparcels.append(condensed)"
   ]
  },
  {
   "cell_type": "code",
   "execution_count": 6,
   "metadata": {},
   "outputs": [
    {
     "data": {
      "text/plain": [
       "['Project:,,,,0006 - EMERGENCY REPAIRS                                           ,,,,,,,,,,,,,,,,,,,,,,,,,,,,,,,,,,,,,,,,,,,,,,,,,,,,,\\n',\n",
       " 'IDIS Activity:,,,,506 - 916 CEDAR AVENUE,,,,,,,,,,,,,,,,,,,,,,,,,,,,,,,,,,,,,,,,,,,,,,,,,,,,,\\n',\n",
       " 'Status:,,,,Completed 9/7/2007 12:00:00 AM,,,,,,,,,,,,,,,,,,,,,Objective:,,,,,Provide decent affordable housing,,,,,,,,,,,,,,,,,,,,,,,,,,,\\n',\n",
       " 'Location:,,,,\"916 Cedar Ave                                                                                             Albany, GA  31701-2945\",,,,,,,,,,,,,,,,,,,,,Outcome:,,,,,Affordability,,,,,,,,,,,,,,,,,,,,,,,,,,,\\n',\n",
       " 'Description:PERFORM EMERGENCY REPAIRS TO A SINGLE-FAMILY OWNER-OCCUPIED UNIT.,,,,,,,,,,,,,,,,,,,,,,,,,,,,,,,,,,,,,,,,,,,,,,,,,,,,,,,,,\\n']"
      ]
     },
     "execution_count": 6,
     "metadata": {},
     "output_type": "execute_result"
    }
   ],
   "source": [
    "condensedparcels[8]"
   ]
  },
  {
   "cell_type": "markdown",
   "metadata": {},
   "source": [
    "#### formatting"
   ]
  },
  {
   "cell_type": "code",
   "execution_count": 7,
   "metadata": {},
   "outputs": [
    {
     "name": "stdout",
     "output_type": "stream",
     "text": [
      "location Status:Completed 10/31/2010 12:00:00 AMObjective:Create suitable living environments\n",
      " not found\n",
      "location Status:Completed 11/20/2013 12:00:00 AMObjective:Create suitable living environments\n",
      " not found\n",
      "location Status:Completed 10/31/2010 12:00:00 AMObjective:Create suitable living environments\n",
      " not found\n",
      "location Status:Completed 11/20/2013 12:00:00 AMObjective:Create suitable living environments\n",
      " not found\n",
      "location Status:Completed 11/20/2013 12:00:00 AMObjective:Create suitable living environments\n",
      " not found\n",
      "location Location:Address SuppressedOutcome:Availability/accessibility\n",
      " not found\n",
      "location Status:Completed 11/20/2013 12:00:00 AMObjective:Create suitable living environments\n",
      " not found\n",
      "location Location:Address SuppressedOutcome:Availability/accessibility\n",
      " not found\n",
      "location Status:Completed 11/20/2013 12:00:00 AMObjective:Create suitable living environments\n",
      " not found\n",
      "location Location:Address SuppressedOutcome:Availability/accessibility\n",
      " not found\n",
      "location Status:Completed 7/22/2015 12:00:00 AMObjective:\n",
      " not found\n",
      "location Status:Completed 7/22/2015 12:00:00 AMObjective:\n",
      " not found\n",
      "location Status:Canceled 9/15/2015 11:04:44 AMObjective:Create suitable living environments\n",
      " not found\n",
      "location Status:Completed 7/22/2015 12:00:00 AMObjective:\n",
      " not found\n",
      "location Status:Completed 7/22/2015 12:00:00 AMObjective:\n",
      " not found\n",
      "location Status:Canceled 9/15/2015 11:04:44 AMObjective:Create suitable living environments\n",
      " not found\n",
      "location Location:Address SuppressedOutcome:Affordability\n",
      " not found\n",
      "location Location:Address SuppressedOutcome:Affordability\n",
      " not found\n",
      "location Location:Address SuppressedOutcome:Affordability\n",
      " not found\n",
      "location Location:Address SuppressedOutcome:Affordability\n",
      " not found\n",
      "location Location:Address SuppressedOutcome:Affordability\n",
      " not found\n",
      "location Location:Address SuppressedOutcome:Affordability\n",
      " not found\n",
      "location Location:Address SuppressedOutcome:Affordability\n",
      " not found\n",
      "location Location:Address SuppressedOutcome:Affordability\n",
      " not found\n",
      "location Location:Address SuppressedOutcome:Affordability\n",
      " not found\n",
      "location Location:Address SuppressedOutcome:Affordability\n",
      " not found\n",
      "location Location:Address SuppressedOutcome:Affordability\n",
      " not found\n",
      "location Location:Address SuppressedOutcome:Availability/accessibility\n",
      " not found\n"
     ]
    }
   ],
   "source": [
    "# format to a parseable piece\n",
    "totalformatted = []\n",
    "for i in range(len(condensedparcels)):\n",
    "    formatted = []\n",
    "    #0: Project type\n",
    "    proj = condensedparcels[i][0].strip(\"\\n\").strip(\",\").split(\",\")\n",
    "    formatted.append(proj[0] + \":\" + proj[-1])\n",
    "    #1: Idis ID\n",
    "    idis = condensedparcels[i][1].split(\"-\")[0].replace(\",\",\"\").replace('\"',\"\")\n",
    "    #2: status completed/open and the date\n",
    "    status = condensedparcels[i][2].replace(\",\",\"\").split()[0:2]\n",
    "    #3: location of project\n",
    "    location = condensedparcels[i][3].replace(\",\",\"\").split('\"')[0:2]\n",
    "    formatted.append(idis.strip())\n",
    "    formatted.append(status[0] + \":\" + status[1])\n",
    "    #4: Decription\n",
    "    desc = condensedparcels[i][4].strip(\"\\n\").strip(\",\")\n",
    "    try:\n",
    "        formatted.append(location[0] + location[1])\n",
    "    except:\n",
    "        firstindex = 9# Case: no location listed\n",
    "        secondindex = location[0].find(\"Outcome\")\n",
    "        #secondindex = location[0].split(\":\")[1].find(\"Outcome\")\n",
    "        #formatted.append(location[0].split(\":\")[1])\n",
    "        formatted.append(\"Location:\" + location[0][firstindex:secondindex])\n",
    "        print(\"location \" + location[0] + \" not found\")\n",
    "    formatted.append(desc)\n",
    "    totalformatted.append(formatted)"
   ]
  },
  {
   "cell_type": "code",
   "execution_count": 8,
   "metadata": {},
   "outputs": [
    {
     "data": {
      "text/plain": [
       "['Project::0015 - PUBLIC SERVICE',\n",
       " 'IDIS Activity:774',\n",
       " 'Status:Completed:10/31/2010',\n",
       " 'Location:PO Box 44   Albany GA  31702-0044',\n",
       " 'Description:To expand the service of assessing individuals served to determine needs; and to enhance the services of the soup kitchen.']"
      ]
     },
     "execution_count": 8,
     "metadata": {},
     "output_type": "execute_result"
    }
   ],
   "source": [
    "totalformatted[314] #Example reformatted list"
   ]
  },
  {
   "cell_type": "code",
   "execution_count": 9,
   "metadata": {},
   "outputs": [],
   "source": [
    "# slightly more formatting\n",
    "proj_list = []\n",
    "idisno_list = []\n",
    "status_list = []\n",
    "status_date_list = []\n",
    "location_list = []\n",
    "desc_list = []\n",
    "for project in totalformatted:\n",
    "    proj_list.append(project[0].split(\":\")[-1]) #Part after dash - project description\n",
    "    idisno_list.append(project[1].split(\":\")[1]) #Part before dash - idis number\n",
    "    status_full = project[2].split(\":\")\n",
    "    status_list.append(status_full[1])#Completed/open/cancelled\n",
    "    status_date_list.append(status_full[2]) #Date of status\n",
    "    location_list.append(project[3].split(\":\")[1].strip()) #address\n",
    "    desc_list.append(project[4].split(\":\")[1])#description"
   ]
  },
  {
   "cell_type": "code",
   "execution_count": 12,
   "metadata": {},
   "outputs": [],
   "source": [
    "# renaming columns\n",
    "df = pd.DataFrame({'Project': proj_list, 'Activity': idisno_list, 'Status': status_list, \n",
    "                   'Status Date': status_date_list, 'Address': location_list, 'Description': desc_list})"
   ]
  },
  {
   "cell_type": "markdown",
   "metadata": {},
   "source": [
    "# Start: df is name of dataframe.\n",
    "\n",
    "### descriptions may need to be cleaned up a bit more also. Can pull in more fields if necessary from the pr03s. The thing that may be useful is pulling in the objective."
   ]
  },
  {
   "cell_type": "code",
   "execution_count": 13,
   "metadata": {},
   "outputs": [
    {
     "data": {
      "text/html": [
       "<div>\n",
       "<style scoped>\n",
       "    .dataframe tbody tr th:only-of-type {\n",
       "        vertical-align: middle;\n",
       "    }\n",
       "\n",
       "    .dataframe tbody tr th {\n",
       "        vertical-align: top;\n",
       "    }\n",
       "\n",
       "    .dataframe thead th {\n",
       "        text-align: right;\n",
       "    }\n",
       "</style>\n",
       "<table border=\"1\" class=\"dataframe\">\n",
       "  <thead>\n",
       "    <tr style=\"text-align: right;\">\n",
       "      <th></th>\n",
       "      <th>Project</th>\n",
       "      <th>Activity</th>\n",
       "      <th>Status</th>\n",
       "      <th>Status Date</th>\n",
       "      <th>Address</th>\n",
       "      <th>Description</th>\n",
       "    </tr>\n",
       "  </thead>\n",
       "  <tbody>\n",
       "    <tr>\n",
       "      <th>0</th>\n",
       "      <td>0009 - PUBLIC SERVICE                         ...</td>\n",
       "      <td>445</td>\n",
       "      <td>Completed</td>\n",
       "      <td>6/30/2006</td>\n",
       "      <td>230 S Jackson St                              ...</td>\n",
       "      <td>\"TO HELP THE HOMELESS IN ALBANY, GEORGIA\"</td>\n",
       "    </tr>\n",
       "    <tr>\n",
       "      <th>1</th>\n",
       "      <td>0006 - HOUSING</td>\n",
       "      <td>466</td>\n",
       "      <td>Canceled</td>\n",
       "      <td>1/10/2012</td>\n",
       "      <td>SANDS DRIVE   ALBANY GA  31705</td>\n",
       "      <td>\"THE ACQUISITION OF PROPERTY FOR THE DEVELOPME...</td>\n",
       "    </tr>\n",
       "    <tr>\n",
       "      <th>2</th>\n",
       "      <td>0001 - ADMINISTRATION                         ...</td>\n",
       "      <td>473</td>\n",
       "      <td>Completed</td>\n",
       "      <td>6/30/2007</td>\n",
       "      <td>230 S Jackson St SUITE 315                    ...</td>\n",
       "      <td>\"THE OPERATION OF THE CDBG PROGRAM.</td>\n",
       "    </tr>\n",
       "    <tr>\n",
       "      <th>3</th>\n",
       "      <td>0002 - SECTION 108 LOAN                       ...</td>\n",
       "      <td>475</td>\n",
       "      <td>Completed</td>\n",
       "      <td>8/25/2007</td>\n",
       "      <td>230 S Jackson St SUITE 315                    ...</td>\n",
       "      <td>\"THE SECTION 108 PAYMENT FOR THE LOAN RELATED ...</td>\n",
       "    </tr>\n",
       "    <tr>\n",
       "      <th>4</th>\n",
       "      <td>0002 - SECTION 108 LOAN                       ...</td>\n",
       "      <td>476</td>\n",
       "      <td>Completed</td>\n",
       "      <td>8/25/2007</td>\n",
       "      <td>230 S Jackson St SUITE 315                    ...</td>\n",
       "      <td>THE REPAYMENT OF A SECTION 108 LOAN FOR THE MC...</td>\n",
       "    </tr>\n",
       "  </tbody>\n",
       "</table>\n",
       "</div>"
      ],
      "text/plain": [
       "                                             Project Activity     Status  \\\n",
       "0  0009 - PUBLIC SERVICE                         ...      445  Completed   \n",
       "1                                     0006 - HOUSING      466   Canceled   \n",
       "2  0001 - ADMINISTRATION                         ...      473  Completed   \n",
       "3  0002 - SECTION 108 LOAN                       ...      475  Completed   \n",
       "4  0002 - SECTION 108 LOAN                       ...      476  Completed   \n",
       "\n",
       "  Status Date                                            Address  \\\n",
       "0   6/30/2006  230 S Jackson St                              ...   \n",
       "1   1/10/2012                     SANDS DRIVE   ALBANY GA  31705   \n",
       "2   6/30/2007  230 S Jackson St SUITE 315                    ...   \n",
       "3   8/25/2007  230 S Jackson St SUITE 315                    ...   \n",
       "4   8/25/2007  230 S Jackson St SUITE 315                    ...   \n",
       "\n",
       "                                         Description  \n",
       "0          \"TO HELP THE HOMELESS IN ALBANY, GEORGIA\"  \n",
       "1  \"THE ACQUISITION OF PROPERTY FOR THE DEVELOPME...  \n",
       "2                \"THE OPERATION OF THE CDBG PROGRAM.  \n",
       "3  \"THE SECTION 108 PAYMENT FOR THE LOAN RELATED ...  \n",
       "4  THE REPAYMENT OF A SECTION 108 LOAN FOR THE MC...  "
      ]
     },
     "execution_count": 13,
     "metadata": {},
     "output_type": "execute_result"
    }
   ],
   "source": [
    "df.head()"
   ]
  },
  {
   "cell_type": "code",
   "execution_count": 14,
   "metadata": {},
   "outputs": [
    {
     "data": {
      "text/html": [
       "<div>\n",
       "<style scoped>\n",
       "    .dataframe tbody tr th:only-of-type {\n",
       "        vertical-align: middle;\n",
       "    }\n",
       "\n",
       "    .dataframe tbody tr th {\n",
       "        vertical-align: top;\n",
       "    }\n",
       "\n",
       "    .dataframe thead th {\n",
       "        text-align: right;\n",
       "    }\n",
       "</style>\n",
       "<table border=\"1\" class=\"dataframe\">\n",
       "  <thead>\n",
       "    <tr style=\"text-align: right;\">\n",
       "      <th></th>\n",
       "      <th>Project</th>\n",
       "      <th>Activity</th>\n",
       "      <th>Status</th>\n",
       "      <th>Status Date</th>\n",
       "      <th>Address</th>\n",
       "      <th>Description</th>\n",
       "    </tr>\n",
       "  </thead>\n",
       "  <tbody>\n",
       "  </tbody>\n",
       "</table>\n",
       "</div>"
      ],
      "text/plain": [
       "Empty DataFrame\n",
       "Columns: [Project, Activity, Status, Status Date, Address, Description]\n",
       "Index: []"
      ]
     },
     "execution_count": 14,
     "metadata": {},
     "output_type": "execute_result"
    }
   ],
   "source": [
    "df[df['Address'].str.contains(\"OGLETHORPE\")]"
   ]
  },
  {
   "cell_type": "code",
   "execution_count": 16,
   "metadata": {},
   "outputs": [
    {
     "data": {
      "text/html": [
       "<div>\n",
       "<style scoped>\n",
       "    .dataframe tbody tr th:only-of-type {\n",
       "        vertical-align: middle;\n",
       "    }\n",
       "\n",
       "    .dataframe tbody tr th {\n",
       "        vertical-align: top;\n",
       "    }\n",
       "\n",
       "    .dataframe thead th {\n",
       "        text-align: right;\n",
       "    }\n",
       "</style>\n",
       "<table border=\"1\" class=\"dataframe\">\n",
       "  <thead>\n",
       "    <tr style=\"text-align: right;\">\n",
       "      <th></th>\n",
       "      <th>Project</th>\n",
       "      <th>Activity</th>\n",
       "      <th>Status</th>\n",
       "      <th>Status Date</th>\n",
       "      <th>Address</th>\n",
       "      <th>Description</th>\n",
       "    </tr>\n",
       "  </thead>\n",
       "  <tbody>\n",
       "    <tr>\n",
       "      <th>402</th>\n",
       "      <td>0005 - Energy Efficiency</td>\n",
       "      <td>821</td>\n",
       "      <td>Completed</td>\n",
       "      <td>9/27/2010</td>\n",
       "      <td>3005 Harvest Ln   Albany GA  31721-4514</td>\n",
       "      <td>\"Energy Efficiency measures were installed to ...</td>\n",
       "    </tr>\n",
       "    <tr>\n",
       "      <th>403</th>\n",
       "      <td>0005 - Energy Efficiency</td>\n",
       "      <td>822</td>\n",
       "      <td>Canceled</td>\n",
       "      <td>2/10/2011</td>\n",
       "      <td>103 Almond Dr   Albany GA  31705-2528</td>\n",
       "      <td>Energy Efficiency measures were installed to i...</td>\n",
       "    </tr>\n",
       "    <tr>\n",
       "      <th>404</th>\n",
       "      <td>0005 - Energy Efficiency</td>\n",
       "      <td>823</td>\n",
       "      <td>Completed</td>\n",
       "      <td>3/2/2011</td>\n",
       "      <td>706 Easttown Rd   Albany GA  31705-1214</td>\n",
       "      <td>\"Energy Efficiency measures were installed to ...</td>\n",
       "    </tr>\n",
       "    <tr>\n",
       "      <th>405</th>\n",
       "      <td>0005 - Energy Efficiency</td>\n",
       "      <td>824</td>\n",
       "      <td>Completed</td>\n",
       "      <td>9/30/2010</td>\n",
       "      <td>919 W Lincoln Ave   Albany GA  31701-2919</td>\n",
       "      <td>\"Energy Efficiency measures were installed to ...</td>\n",
       "    </tr>\n",
       "    <tr>\n",
       "      <th>406</th>\n",
       "      <td>0005 - Energy Efficiency</td>\n",
       "      <td>825</td>\n",
       "      <td>Completed</td>\n",
       "      <td>2/14/2011</td>\n",
       "      <td>2004 Colquitt Ave   Albany GA  31707-5129</td>\n",
       "      <td>\"Energy Efficiency measures were installed to ...</td>\n",
       "    </tr>\n",
       "    <tr>\n",
       "      <th>408</th>\n",
       "      <td>0005 - Energy Efficiency</td>\n",
       "      <td>827</td>\n",
       "      <td>Completed</td>\n",
       "      <td>2/14/2011</td>\n",
       "      <td>2514 Whispering Pines Rd   Albany GA  31707-2234</td>\n",
       "      <td>\"Energy Efficiency measures were installed to ...</td>\n",
       "    </tr>\n",
       "    <tr>\n",
       "      <th>409</th>\n",
       "      <td>0005 - Energy Efficiency</td>\n",
       "      <td>829</td>\n",
       "      <td>Completed</td>\n",
       "      <td>2/2/2011</td>\n",
       "      <td>1530 E Broad Ave   Albany GA  31705-2210</td>\n",
       "      <td>Energy Efficiency measures were installed to i...</td>\n",
       "    </tr>\n",
       "    <tr>\n",
       "      <th>410</th>\n",
       "      <td>0005 - Energy Efficiency</td>\n",
       "      <td>830</td>\n",
       "      <td>Completed</td>\n",
       "      <td>2/14/2011</td>\n",
       "      <td>2230 S Washington St   Albany GA  31701-3735</td>\n",
       "      <td>\"Energy Efficiency measures were installed to ...</td>\n",
       "    </tr>\n",
       "    <tr>\n",
       "      <th>413</th>\n",
       "      <td>0005 - Energy Efficiency</td>\n",
       "      <td>833</td>\n",
       "      <td>Completed</td>\n",
       "      <td>4/28/2011</td>\n",
       "      <td>1105 Jordan St   Albany GA  31705-1371</td>\n",
       "      <td>Energy Efficiency measures were installed to i...</td>\n",
       "    </tr>\n",
       "    <tr>\n",
       "      <th>415</th>\n",
       "      <td>0005 - Energy Efficiency</td>\n",
       "      <td>835</td>\n",
       "      <td>Canceled</td>\n",
       "      <td>2/9/2011</td>\n",
       "      <td>402 Bush St   Albany GA  31705-4004</td>\n",
       "      <td>Energy Efficiency measures were installed to i...</td>\n",
       "    </tr>\n",
       "    <tr>\n",
       "      <th>420</th>\n",
       "      <td>0005 - Energy Efficiency</td>\n",
       "      <td>840</td>\n",
       "      <td>Completed</td>\n",
       "      <td>4/28/2011</td>\n",
       "      <td>2304 Juniper Dr   Albany GA  31721-5244</td>\n",
       "      <td>\"Energy Efficiency measures were installed to ...</td>\n",
       "    </tr>\n",
       "    <tr>\n",
       "      <th>424</th>\n",
       "      <td>0005 - Energy Efficiency</td>\n",
       "      <td>845</td>\n",
       "      <td>Completed</td>\n",
       "      <td>4/28/2011</td>\n",
       "      <td>903 Dorsett Ave   Albany GA  31701-2956</td>\n",
       "      <td>\"Energy Efficiency measures were installed to ...</td>\n",
       "    </tr>\n",
       "    <tr>\n",
       "      <th>453</th>\n",
       "      <td>0005 - Energy Efficiency</td>\n",
       "      <td>877</td>\n",
       "      <td>Completed</td>\n",
       "      <td>5/2/2011</td>\n",
       "      <td>2102 Juniper Dr   Albany GA  31721-5240</td>\n",
       "      <td>Energy Efficiency measures were installed to i...</td>\n",
       "    </tr>\n",
       "    <tr>\n",
       "      <th>464</th>\n",
       "      <td>0005 - Energy Efficiency</td>\n",
       "      <td>891</td>\n",
       "      <td>Canceled</td>\n",
       "      <td>6/3/2011</td>\n",
       "      <td>305 Forrestal Ln   Albany GA  31705-2508</td>\n",
       "      <td>\"Energy Efficiency measures were installed to ...</td>\n",
       "    </tr>\n",
       "    <tr>\n",
       "      <th>466</th>\n",
       "      <td>0005 - Energy Efficiency</td>\n",
       "      <td>893</td>\n",
       "      <td>Completed</td>\n",
       "      <td>5/2/2011</td>\n",
       "      <td>2305 Dervan St   Albany GA  31701-3723</td>\n",
       "      <td>Energy Efficiency measures were installed to i...</td>\n",
       "    </tr>\n",
       "    <tr>\n",
       "      <th>468</th>\n",
       "      <td>0005 - Energy Efficiency</td>\n",
       "      <td>897</td>\n",
       "      <td>Completed</td>\n",
       "      <td>4/15/2011</td>\n",
       "      <td>301 Lexington Dr   Albany GA  31705-2516</td>\n",
       "      <td>\"Energy Efficiency measures were installed to ...</td>\n",
       "    </tr>\n",
       "    <tr>\n",
       "      <th>469</th>\n",
       "      <td>0005 - Energy Efficiency</td>\n",
       "      <td>898</td>\n",
       "      <td>Completed</td>\n",
       "      <td>4/15/2011</td>\n",
       "      <td>804 W Highland Ave   Albany GA  31701-2778</td>\n",
       "      <td>Energy Efficiency measures were installed to i...</td>\n",
       "    </tr>\n",
       "    <tr>\n",
       "      <th>474</th>\n",
       "      <td>0005 - Energy Efficiency</td>\n",
       "      <td>907</td>\n",
       "      <td>Completed</td>\n",
       "      <td>9/1/2011</td>\n",
       "      <td>2572 Crescent Dr   Albany GA  31705-3047</td>\n",
       "      <td>\"Energy Efficiency measures were installed to ...</td>\n",
       "    </tr>\n",
       "    <tr>\n",
       "      <th>475</th>\n",
       "      <td>0005 - Energy Efficiency</td>\n",
       "      <td>909</td>\n",
       "      <td>Completed</td>\n",
       "      <td>9/1/2011</td>\n",
       "      <td>1400 Estelle St   Albany GA  31705-1418</td>\n",
       "      <td>\"Energy Efficiency measures were installed to ...</td>\n",
       "    </tr>\n",
       "    <tr>\n",
       "      <th>476</th>\n",
       "      <td>0005 - Energy Efficiency</td>\n",
       "      <td>910</td>\n",
       "      <td>Completed</td>\n",
       "      <td>9/1/2011</td>\n",
       "      <td>303 Independence Dr   Albany GA  31705-2512</td>\n",
       "      <td>\"Energy Efficiency measures were installed to ...</td>\n",
       "    </tr>\n",
       "    <tr>\n",
       "      <th>477</th>\n",
       "      <td>0005 - Energy Efficiency</td>\n",
       "      <td>911</td>\n",
       "      <td>Completed</td>\n",
       "      <td>9/1/2011</td>\n",
       "      <td>2010 Colquitt Ave   Albany GA  31707-5129</td>\n",
       "      <td>\"Energy Efficiency measures were installed to ...</td>\n",
       "    </tr>\n",
       "    <tr>\n",
       "      <th>478</th>\n",
       "      <td>0005 - Energy Efficiency</td>\n",
       "      <td>912</td>\n",
       "      <td>Completed</td>\n",
       "      <td>11/23/2011</td>\n",
       "      <td>305 Forrestal Ln   Albany GA  31705-2508</td>\n",
       "      <td>\"Energy Efficiency measures were installed to ...</td>\n",
       "    </tr>\n",
       "    <tr>\n",
       "      <th>521</th>\n",
       "      <td>0005 - Energy Efficiency</td>\n",
       "      <td>907</td>\n",
       "      <td>Completed</td>\n",
       "      <td>9/1/2011</td>\n",
       "      <td>2572 Crescent Dr   Albany GA  31705-3047</td>\n",
       "      <td>\"Energy Efficiency measures were installed to ...</td>\n",
       "    </tr>\n",
       "    <tr>\n",
       "      <th>523</th>\n",
       "      <td>0005 - Energy Efficiency</td>\n",
       "      <td>909</td>\n",
       "      <td>Completed</td>\n",
       "      <td>9/1/2011</td>\n",
       "      <td>1400 Estelle St   Albany GA  31705-1418</td>\n",
       "      <td>\"Energy Efficiency measures were installed to ...</td>\n",
       "    </tr>\n",
       "    <tr>\n",
       "      <th>524</th>\n",
       "      <td>0005 - Energy Efficiency</td>\n",
       "      <td>910</td>\n",
       "      <td>Completed</td>\n",
       "      <td>9/1/2011</td>\n",
       "      <td>303 Independence Dr   Albany GA  31705-2512</td>\n",
       "      <td>\"Energy Efficiency measures were installed to ...</td>\n",
       "    </tr>\n",
       "    <tr>\n",
       "      <th>525</th>\n",
       "      <td>0005 - Energy Efficiency</td>\n",
       "      <td>911</td>\n",
       "      <td>Completed</td>\n",
       "      <td>9/1/2011</td>\n",
       "      <td>2010 Colquitt Ave   Albany GA  31707-5129</td>\n",
       "      <td>\"Energy Efficiency measures were installed to ...</td>\n",
       "    </tr>\n",
       "    <tr>\n",
       "      <th>526</th>\n",
       "      <td>0005 - Energy Efficiency</td>\n",
       "      <td>912</td>\n",
       "      <td>Completed</td>\n",
       "      <td>11/23/2011</td>\n",
       "      <td>305 Forrestal Ln   Albany GA  31705-2508</td>\n",
       "      <td>\"Energy Efficiency measures were installed to ...</td>\n",
       "    </tr>\n",
       "    <tr>\n",
       "      <th>540</th>\n",
       "      <td>0007 - Energy Efficiency</td>\n",
       "      <td>958</td>\n",
       "      <td>Completed</td>\n",
       "      <td>8/29/2012</td>\n",
       "      <td>504 S Magnolia St   Albany GA  31707-4734</td>\n",
       "      <td>To install energy efficiency measures (new win...</td>\n",
       "    </tr>\n",
       "    <tr>\n",
       "      <th>588</th>\n",
       "      <td>0007 - Energy Efficiency</td>\n",
       "      <td>1020</td>\n",
       "      <td>Completed</td>\n",
       "      <td>7/24/2012</td>\n",
       "      <td>1407 E 3rd Ave   Albany GA  31705-1325</td>\n",
       "      <td>Energy efficiency improvements made to a singl...</td>\n",
       "    </tr>\n",
       "    <tr>\n",
       "      <th>625</th>\n",
       "      <td>0007 - Energy Efficiency</td>\n",
       "      <td>958</td>\n",
       "      <td>Completed</td>\n",
       "      <td>8/29/2012</td>\n",
       "      <td>504 S Magnolia St   Albany GA  31707-4734</td>\n",
       "      <td>To install energy efficiency measures (new win...</td>\n",
       "    </tr>\n",
       "    <tr>\n",
       "      <th>664</th>\n",
       "      <td>0007 - Energy Efficiency</td>\n",
       "      <td>1020</td>\n",
       "      <td>Completed</td>\n",
       "      <td>7/24/2012</td>\n",
       "      <td>1407 E 3rd Ave   Albany GA  31705-1325</td>\n",
       "      <td>Energy efficiency improvements made to a singl...</td>\n",
       "    </tr>\n",
       "  </tbody>\n",
       "</table>\n",
       "</div>"
      ],
      "text/plain": [
       "                      Project Activity     Status Status Date  \\\n",
       "402  0005 - Energy Efficiency      821  Completed   9/27/2010   \n",
       "403  0005 - Energy Efficiency      822   Canceled   2/10/2011   \n",
       "404  0005 - Energy Efficiency      823  Completed    3/2/2011   \n",
       "405  0005 - Energy Efficiency      824  Completed   9/30/2010   \n",
       "406  0005 - Energy Efficiency      825  Completed   2/14/2011   \n",
       "408  0005 - Energy Efficiency      827  Completed   2/14/2011   \n",
       "409  0005 - Energy Efficiency      829  Completed    2/2/2011   \n",
       "410  0005 - Energy Efficiency      830  Completed   2/14/2011   \n",
       "413  0005 - Energy Efficiency      833  Completed   4/28/2011   \n",
       "415  0005 - Energy Efficiency      835   Canceled    2/9/2011   \n",
       "420  0005 - Energy Efficiency      840  Completed   4/28/2011   \n",
       "424  0005 - Energy Efficiency      845  Completed   4/28/2011   \n",
       "453  0005 - Energy Efficiency      877  Completed    5/2/2011   \n",
       "464  0005 - Energy Efficiency      891   Canceled    6/3/2011   \n",
       "466  0005 - Energy Efficiency      893  Completed    5/2/2011   \n",
       "468  0005 - Energy Efficiency      897  Completed   4/15/2011   \n",
       "469  0005 - Energy Efficiency      898  Completed   4/15/2011   \n",
       "474  0005 - Energy Efficiency      907  Completed    9/1/2011   \n",
       "475  0005 - Energy Efficiency      909  Completed    9/1/2011   \n",
       "476  0005 - Energy Efficiency      910  Completed    9/1/2011   \n",
       "477  0005 - Energy Efficiency      911  Completed    9/1/2011   \n",
       "478  0005 - Energy Efficiency      912  Completed  11/23/2011   \n",
       "521  0005 - Energy Efficiency      907  Completed    9/1/2011   \n",
       "523  0005 - Energy Efficiency      909  Completed    9/1/2011   \n",
       "524  0005 - Energy Efficiency      910  Completed    9/1/2011   \n",
       "525  0005 - Energy Efficiency      911  Completed    9/1/2011   \n",
       "526  0005 - Energy Efficiency      912  Completed  11/23/2011   \n",
       "540  0007 - Energy Efficiency      958  Completed   8/29/2012   \n",
       "588  0007 - Energy Efficiency     1020  Completed   7/24/2012   \n",
       "625  0007 - Energy Efficiency      958  Completed   8/29/2012   \n",
       "664  0007 - Energy Efficiency     1020  Completed   7/24/2012   \n",
       "\n",
       "                                              Address  \\\n",
       "402           3005 Harvest Ln   Albany GA  31721-4514   \n",
       "403             103 Almond Dr   Albany GA  31705-2528   \n",
       "404           706 Easttown Rd   Albany GA  31705-1214   \n",
       "405         919 W Lincoln Ave   Albany GA  31701-2919   \n",
       "406         2004 Colquitt Ave   Albany GA  31707-5129   \n",
       "408  2514 Whispering Pines Rd   Albany GA  31707-2234   \n",
       "409          1530 E Broad Ave   Albany GA  31705-2210   \n",
       "410      2230 S Washington St   Albany GA  31701-3735   \n",
       "413            1105 Jordan St   Albany GA  31705-1371   \n",
       "415               402 Bush St   Albany GA  31705-4004   \n",
       "420           2304 Juniper Dr   Albany GA  31721-5244   \n",
       "424           903 Dorsett Ave   Albany GA  31701-2956   \n",
       "453           2102 Juniper Dr   Albany GA  31721-5240   \n",
       "464          305 Forrestal Ln   Albany GA  31705-2508   \n",
       "466            2305 Dervan St   Albany GA  31701-3723   \n",
       "468          301 Lexington Dr   Albany GA  31705-2516   \n",
       "469        804 W Highland Ave   Albany GA  31701-2778   \n",
       "474          2572 Crescent Dr   Albany GA  31705-3047   \n",
       "475           1400 Estelle St   Albany GA  31705-1418   \n",
       "476       303 Independence Dr   Albany GA  31705-2512   \n",
       "477         2010 Colquitt Ave   Albany GA  31707-5129   \n",
       "478          305 Forrestal Ln   Albany GA  31705-2508   \n",
       "521          2572 Crescent Dr   Albany GA  31705-3047   \n",
       "523           1400 Estelle St   Albany GA  31705-1418   \n",
       "524       303 Independence Dr   Albany GA  31705-2512   \n",
       "525         2010 Colquitt Ave   Albany GA  31707-5129   \n",
       "526          305 Forrestal Ln   Albany GA  31705-2508   \n",
       "540         504 S Magnolia St   Albany GA  31707-4734   \n",
       "588            1407 E 3rd Ave   Albany GA  31705-1325   \n",
       "625         504 S Magnolia St   Albany GA  31707-4734   \n",
       "664            1407 E 3rd Ave   Albany GA  31705-1325   \n",
       "\n",
       "                                           Description  \n",
       "402  \"Energy Efficiency measures were installed to ...  \n",
       "403  Energy Efficiency measures were installed to i...  \n",
       "404  \"Energy Efficiency measures were installed to ...  \n",
       "405  \"Energy Efficiency measures were installed to ...  \n",
       "406  \"Energy Efficiency measures were installed to ...  \n",
       "408  \"Energy Efficiency measures were installed to ...  \n",
       "409  Energy Efficiency measures were installed to i...  \n",
       "410  \"Energy Efficiency measures were installed to ...  \n",
       "413  Energy Efficiency measures were installed to i...  \n",
       "415  Energy Efficiency measures were installed to i...  \n",
       "420  \"Energy Efficiency measures were installed to ...  \n",
       "424  \"Energy Efficiency measures were installed to ...  \n",
       "453  Energy Efficiency measures were installed to i...  \n",
       "464  \"Energy Efficiency measures were installed to ...  \n",
       "466  Energy Efficiency measures were installed to i...  \n",
       "468  \"Energy Efficiency measures were installed to ...  \n",
       "469  Energy Efficiency measures were installed to i...  \n",
       "474  \"Energy Efficiency measures were installed to ...  \n",
       "475  \"Energy Efficiency measures were installed to ...  \n",
       "476  \"Energy Efficiency measures were installed to ...  \n",
       "477  \"Energy Efficiency measures were installed to ...  \n",
       "478  \"Energy Efficiency measures were installed to ...  \n",
       "521  \"Energy Efficiency measures were installed to ...  \n",
       "523  \"Energy Efficiency measures were installed to ...  \n",
       "524  \"Energy Efficiency measures were installed to ...  \n",
       "525  \"Energy Efficiency measures were installed to ...  \n",
       "526  \"Energy Efficiency measures were installed to ...  \n",
       "540  To install energy efficiency measures (new win...  \n",
       "588  Energy efficiency improvements made to a singl...  \n",
       "625  To install energy efficiency measures (new win...  \n",
       "664  Energy efficiency improvements made to a singl...  "
      ]
     },
     "execution_count": 16,
     "metadata": {},
     "output_type": "execute_result"
    }
   ],
   "source": [
    "df[df['Description'].str.upper().str.contains(\"WINDOWS\")]"
   ]
  },
  {
   "cell_type": "markdown",
   "metadata": {},
   "source": [
    "## Everything below is pulling in HOME files and standardizing addresses. Would recommend copying in everything between start and here and copying into a separate file."
   ]
  },
  {
   "cell_type": "code",
   "execution_count": 17,
   "metadata": {},
   "outputs": [],
   "source": [
    "# s_addresses contains all the addresses in the pr03 files\n",
    "s_addresses = df['Address']\n",
    "for i in range(len(s_addresses)):\n",
    "    words = s_addresses[i].split()\n",
    "    index = 0\n",
    "    for j in range(len(words)):\n",
    "        if words[j] == \"Albany\" or words[j] == \"ALBANY\":\n",
    "            index = j\n",
    "    words = words[0:index]\n",
    "    s_addresses[i] = words"
   ]
  },
  {
   "cell_type": "code",
   "execution_count": 18,
   "metadata": {},
   "outputs": [
    {
     "data": {
      "text/plain": [
       "0                [230, S, Jackson, St]\n",
       "1                       [SANDS, DRIVE]\n",
       "2    [230, S, Jackson, St, SUITE, 315]\n",
       "3    [230, S, Jackson, St, SUITE, 315]\n",
       "4    [230, S, Jackson, St, SUITE, 315]\n",
       "Name: Address, dtype: object"
      ]
     },
     "execution_count": 18,
     "metadata": {},
     "output_type": "execute_result"
    }
   ],
   "source": [
    "s_addresses.head()"
   ]
  },
  {
   "cell_type": "code",
   "execution_count": null,
   "metadata": {},
   "outputs": [],
   "source": [
    "# some format/capitalization/casting for the addresses\n",
    "for i in range(len(s_addresses)):\n",
    "    for j in range(len(s_addresses[i])):\n",
    "        if not s_addresses[i][j].isnumeric():\n",
    "            s_addresses[i][j] = s_addresses[i][j].upper()"
   ]
  },
  {
   "cell_type": "code",
   "execution_count": null,
   "metadata": {},
   "outputs": [],
   "source": [
    "s_addresses.head()"
   ]
  },
  {
   "cell_type": "code",
   "execution_count": null,
   "metadata": {},
   "outputs": [],
   "source": [
    "df_house = df_house[df_house['Program'] == 'CDBG']"
   ]
  },
  {
   "cell_type": "code",
   "execution_count": null,
   "metadata": {},
   "outputs": [],
   "source": [
    "df.shape"
   ]
  },
  {
   "cell_type": "code",
   "execution_count": null,
   "metadata": {},
   "outputs": [],
   "source": [
    "# have to reformat address so that we pd can hash to drop duplicates\n",
    "for i in range(len(df)):\n",
    "    addr = df['Address'][i]\n",
    "    word = \"\"\n",
    "    for pt in addr:\n",
    "        word += pt + \" \"\n",
    "    word = word.strip()\n",
    "    df['Address'][i] = word"
   ]
  },
  {
   "cell_type": "code",
   "execution_count": null,
   "metadata": {},
   "outputs": [],
   "source": [
    "df = df.drop_duplicates()"
   ]
  },
  {
   "cell_type": "code",
   "execution_count": null,
   "metadata": {},
   "outputs": [],
   "source": [
    "# might help with matching\n",
    "def lev_list(address_list, address,i):\n",
    "    temp_list = []\n",
    "    temp_list_u = []\n",
    "    for u_address in address_list:\n",
    "        if Levenshtein.distance(address, u_address.upper()) <= i:\n",
    "            temp_list.append(address)\n",
    "            temp_list_u.append(u_address.upper())\n",
    "    temp_list_series = pd.Series(temp_list)\n",
    "    temp_list_u_series = pd.Series(temp_list_u)\n",
    "    return temp_list_u_series"
   ]
  },
  {
   "cell_type": "markdown",
   "metadata": {},
   "source": [
    "#### df is the dataframe with completed date\n",
    "#### df_house is the dataframe with housing projects"
   ]
  },
  {
   "cell_type": "code",
   "execution_count": null,
   "metadata": {},
   "outputs": [],
   "source": [
    "df_house.index = range(len(df_house))"
   ]
  },
  {
   "cell_type": "code",
   "execution_count": null,
   "metadata": {},
   "outputs": [],
   "source": [
    "dates = []\n",
    "addresses = []\n",
    "for i in range(len(df_house)):\n",
    "    completed_addresses = df[str(df_house['IDISActivityID'][i]) == df['Activity']]\n",
    "    if len(completed_addresses) == 1:\n",
    "        completed_addresses.index = range(len(completed_addresses))\n",
    "        date = completed_addresses['Status Date'][0]\n",
    "        addr = completed_addresses['Address'][0] # for checking purposes\n",
    "        if completed_addresses['Status'][0] == \"Open\":\n",
    "            dates.append(\"Continuing\")\n",
    "        else:\n",
    "            dates.append(date)\n",
    "        addresses.append(addr)\n",
    "    elif len(completed_addresses) == 0:\n",
    "        dates.append(\"NA\")\n",
    "    elif len(completed_addresses) == 2:\n",
    "        print(\"multiple\")"
   ]
  },
  {
   "cell_type": "code",
   "execution_count": null,
   "metadata": {},
   "outputs": [],
   "source": [
    "addresses[2]"
   ]
  },
  {
   "cell_type": "code",
   "execution_count": null,
   "metadata": {},
   "outputs": [],
   "source": [
    "dates = pd.Series(dates)"
   ]
  },
  {
   "cell_type": "code",
   "execution_count": null,
   "metadata": {},
   "outputs": [],
   "source": [
    "dates[0]"
   ]
  },
  {
   "cell_type": "code",
   "execution_count": null,
   "metadata": {},
   "outputs": [],
   "source": [
    "df_house.head()"
   ]
  },
  {
   "cell_type": "code",
   "execution_count": null,
   "metadata": {},
   "outputs": [],
   "source": [
    "dates[57]"
   ]
  },
  {
   "cell_type": "code",
   "execution_count": null,
   "metadata": {},
   "outputs": [],
   "source": [
    "df[df['Address'] == '610 W LINCOLN AVE']"
   ]
  },
  {
   "cell_type": "code",
   "execution_count": null,
   "metadata": {},
   "outputs": [],
   "source": [
    "df_house[df_house['IDISActivityID'] == 1235]"
   ]
  },
  {
   "cell_type": "code",
   "execution_count": null,
   "metadata": {},
   "outputs": [],
   "source": [
    "parcels[836]"
   ]
  },
  {
   "cell_type": "code",
   "execution_count": null,
   "metadata": {},
   "outputs": [],
   "source": [
    "df.shape"
   ]
  },
  {
   "cell_type": "code",
   "execution_count": null,
   "metadata": {},
   "outputs": [],
   "source": [
    "dates.shape"
   ]
  },
  {
   "cell_type": "code",
   "execution_count": null,
   "metadata": {},
   "outputs": [],
   "source": [
    "df_house.head()"
   ]
  },
  {
   "cell_type": "code",
   "execution_count": null,
   "metadata": {},
   "outputs": [],
   "source": [
    "df_house.iloc[260]"
   ]
  },
  {
   "cell_type": "code",
   "execution_count": null,
   "metadata": {},
   "outputs": [],
   "source": [
    "addresses[260]"
   ]
  },
  {
   "cell_type": "code",
   "execution_count": null,
   "metadata": {},
   "outputs": [],
   "source": [
    "dates[dates == \"NA\"]"
   ]
  },
  {
   "cell_type": "code",
   "execution_count": null,
   "metadata": {},
   "outputs": [],
   "source": [
    "dates[dates == \"Continuing\"]"
   ]
  },
  {
   "cell_type": "code",
   "execution_count": null,
   "metadata": {},
   "outputs": [],
   "source": [
    "df_house.iloc[26]"
   ]
  },
  {
   "cell_type": "code",
   "execution_count": null,
   "metadata": {},
   "outputs": [],
   "source": [
    "df[df['Activity'] == 1235]"
   ]
  },
  {
   "cell_type": "markdown",
   "metadata": {},
   "source": [
    "#### Reload in dataset to fix home grants with different formatting"
   ]
  },
  {
   "cell_type": "code",
   "execution_count": null,
   "metadata": {},
   "outputs": [],
   "source": [
    "df_house_home = pd.read_csv('/Users/william/Dropbox (Amherst College)/CDS-2019-AlbanyHub/Raw-Data/housingquery.csv', dtype={'PrimaryID': str})"
   ]
  },
  {
   "cell_type": "code",
   "execution_count": null,
   "metadata": {},
   "outputs": [],
   "source": [
    "df_home = pd.read_csv('/Users/william/Documents/Summer2019/AlbanyHousing/Raw Data/CED/parse/homefull.csv')"
   ]
  },
  {
   "cell_type": "code",
   "execution_count": null,
   "metadata": {},
   "outputs": [],
   "source": [
    "df_home.tail()"
   ]
  },
  {
   "cell_type": "code",
   "execution_count": null,
   "metadata": {},
   "outputs": [],
   "source": [
    "df_home['Activity Address'] = df_home['Activity Address'].str.split(\" , \", expand = True)[0]"
   ]
  },
  {
   "cell_type": "code",
   "execution_count": null,
   "metadata": {},
   "outputs": [],
   "source": [
    "df_home.tail()"
   ]
  },
  {
   "cell_type": "code",
   "execution_count": null,
   "metadata": {},
   "outputs": [],
   "source": [
    "df_house_home = df_house_home[df_house_home['Program'] == \"HOME\"]"
   ]
  },
  {
   "cell_type": "code",
   "execution_count": null,
   "metadata": {},
   "outputs": [],
   "source": [
    "df_house_home.index = range(len(df_house_home))"
   ]
  },
  {
   "cell_type": "code",
   "execution_count": null,
   "metadata": {},
   "outputs": [],
   "source": [
    "df_house_home['IDISActivityID'][0]"
   ]
  },
  {
   "cell_type": "code",
   "execution_count": null,
   "metadata": {},
   "outputs": [],
   "source": [
    "df_home.head()"
   ]
  },
  {
   "cell_type": "code",
   "execution_count": null,
   "metadata": {},
   "outputs": [],
   "source": [
    "dates_home = []\n",
    "addresses_home = []\n",
    "for i in range(len(df_house_home)):\n",
    "    completed_addresses_home = df_home[df_house_home['IDISActivityID'][i] == df_home['IDIS Activity']]\n",
    "    if len(completed_addresses_home) == 1:\n",
    "        completed_addresses_home.index = range(len(completed_addresses_home))\n",
    "        date_home = completed_addresses_home['Status Date'][0]\n",
    "        addr_home = completed_addresses_home['Activity Address'][0] # for checking purposes\n",
    "        if completed_addresses_home['Activity Status'][0] == \"Open\":\n",
    "            dates_home.append(\"Continuing\")\n",
    "        else:\n",
    "            dates_home.append(date_home)\n",
    "        addresses_home.append(addr_home)\n",
    "    elif len(completed_addresses_home) == 0:\n",
    "        dates_home.append(\"NA\")\n",
    "    elif len(completed_addresses_home) == 2:\n",
    "        print(\"multiple\")"
   ]
  },
  {
   "cell_type": "code",
   "execution_count": null,
   "metadata": {},
   "outputs": [],
   "source": [
    "dates_home"
   ]
  },
  {
   "cell_type": "code",
   "execution_count": null,
   "metadata": {},
   "outputs": [],
   "source": [
    "dates_home[1]"
   ]
  },
  {
   "cell_type": "code",
   "execution_count": null,
   "metadata": {},
   "outputs": [],
   "source": [
    "addresses[1]"
   ]
  },
  {
   "cell_type": "code",
   "execution_count": null,
   "metadata": {},
   "outputs": [],
   "source": [
    "df_house_home.loc[0]"
   ]
  },
  {
   "cell_type": "code",
   "execution_count": null,
   "metadata": {},
   "outputs": [],
   "source": []
  },
  {
   "cell_type": "code",
   "execution_count": null,
   "metadata": {},
   "outputs": [],
   "source": []
  },
  {
   "cell_type": "code",
   "execution_count": null,
   "metadata": {},
   "outputs": [],
   "source": []
  },
  {
   "cell_type": "code",
   "execution_count": null,
   "metadata": {},
   "outputs": [],
   "source": []
  }
 ],
 "metadata": {
  "kernelspec": {
   "display_name": "cds_env",
   "language": "python",
   "name": "cds_env"
  },
  "language_info": {
   "codemirror_mode": {
    "name": "ipython",
    "version": 3
   },
   "file_extension": ".py",
   "mimetype": "text/x-python",
   "name": "python",
   "nbconvert_exporter": "python",
   "pygments_lexer": "ipython3",
   "version": "3.7.1"
  }
 },
 "nbformat": 4,
 "nbformat_minor": 2
}
