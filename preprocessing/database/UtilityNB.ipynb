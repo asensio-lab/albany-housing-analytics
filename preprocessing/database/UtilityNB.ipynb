{
    "metadata": {
        "kernelspec": {
            "name": "SQL",
            "display_name": "SQL",
            "language": "sql"
        },
        "language_info": {
            "name": "sql",
            "version": ""
        }
    },
    "nbformat_minor": 2,
    "nbformat": 4,
    "cells": [
        {
            "cell_type": "code",
            "source": "ALTER TABLE dbo.Utility\nDROP CONSTRAINT IF EXISTS FK_Utility_Address\nGO\n\nDROP TABLE IF EXISTS dbo.Utility\nGO\n\nDROP TABLE IF EXISTS dbo.Weather\nGO",
            "metadata": {},
            "outputs": [
                {
                    "output_type": "display_data",
                    "data": {
                        "text/html": "Commands completed successfully."
                    },
                    "metadata": {}
                },
                {
                    "output_type": "display_data",
                    "data": {
                        "text/html": "Commands completed successfully."
                    },
                    "metadata": {}
                },
                {
                    "output_type": "display_data",
                    "data": {
                        "text/html": "Commands completed successfully."
                    },
                    "metadata": {}
                },
                {
                    "output_type": "display_data",
                    "data": {
                        "text/html": "Total execution time: 00:00:00.104"
                    },
                    "metadata": {}
                }
            ],
            "execution_count": 26
        },
        {
            "cell_type": "code",
            "source": "CREATE TABLE [dbo].[Utility](\n\t[ChargeID] [bigint] NOT NULL,\n\t[Premise] [varchar](255) NULL,\n\t[PremiseAddress] [varchar](255) NULL,\n\t[Customer] [int] NULL,\n\t[ServiceType] [varchar](255) NULL,\n\t[ServiceNumber] [float] NULL,\n\t[ServiceRate] [varchar](255) NULL,\n\t[Consumption] [float] NULL,\n\t[DaysOfService] [float] NULL,\n\t[UnitOfMeasure] [varchar](255) NULL,\n\t[ChargeAmount] [float] NULL,\n\t[ChargeDate] [varchar](255) NULL,\n\t[Year] [int] NULL,\n\t[Month] [int] NULL,\n\t[Day] [int] NULL,\n\t[AddressID] [int] NOT NULL, \n    [YearMonth] [varchar](255) NULL,\n    [WeatherID] [int] NULL,\n    CONSTRAINT [PK_Utility] PRIMARY KEY CLUSTERED\n    (\n        [ChargeID] asc\n    )\n) ON [PRIMARY]\nGO\n",
            "metadata": {},
            "outputs": [
                {
                    "output_type": "display_data",
                    "data": {
                        "text/html": "Commands completed successfully."
                    },
                    "metadata": {}
                },
                {
                    "output_type": "display_data",
                    "data": {
                        "text/html": "Total execution time: 00:00:00.041"
                    },
                    "metadata": {}
                }
            ],
            "execution_count": 27
        },
        {
            "cell_type": "code",
            "source": "BULK INSERT Utility\nFROM 'Utility_v03.csv'\nWITH (DATA_SOURCE = 'databasestore',\n    FIRSTROW=2,\n    FIELDTERMINATOR = ',',\n    ROWTERMINATOR = '0x0a',\n    FORMAT = 'CSV')\nGO",
            "metadata": {},
            "outputs": [
                {
                    "output_type": "display_data",
                    "data": {
                        "text/html": "(14394890 rows affected)"
                    },
                    "metadata": {}
                },
                {
                    "output_type": "display_data",
                    "data": {
                        "text/html": "Total execution time: 00:06:44.851"
                    },
                    "metadata": {}
                }
            ],
            "execution_count": 28
        },
        {
            "cell_type": "code",
            "source": "ALTER TABLE dbo.Utility\n   ADD CONSTRAINT FK_Utility_Address FOREIGN KEY (AddressID)\n      REFERENCES dbo.Address (AddressID)\n      ON DELETE CASCADE\n      ON UPDATE CASCADE\nGO",
            "metadata": {},
            "outputs": [
                {
                    "output_type": "display_data",
                    "data": {
                        "text/html": "Commands completed successfully."
                    },
                    "metadata": {}
                },
                {
                    "output_type": "display_data",
                    "data": {
                        "text/html": "Total execution time: 00:00:02.843"
                    },
                    "metadata": {}
                }
            ],
            "execution_count": 29
        },
        {
            "cell_type": "code",
            "source": "SELECT TOP 3 * FROM Utility",
            "metadata": {},
            "outputs": [
                {
                    "output_type": "display_data",
                    "data": {
                        "text/html": "(3 rows affected)"
                    },
                    "metadata": {}
                },
                {
                    "output_type": "display_data",
                    "data": {
                        "text/html": "Total execution time: 00:00:00.087"
                    },
                    "metadata": {}
                },
                {
                    "output_type": "execute_result",
                    "metadata": {},
                    "execution_count": 30,
                    "data": {
                        "application/vnd.dataresource+json": {
                            "schema": {
                                "fields": [
                                    {
                                        "name": "ChargeID"
                                    },
                                    {
                                        "name": "Premise"
                                    },
                                    {
                                        "name": "PremiseAddress"
                                    },
                                    {
                                        "name": "Customer"
                                    },
                                    {
                                        "name": "ServiceType"
                                    },
                                    {
                                        "name": "ServiceNumber"
                                    },
                                    {
                                        "name": "ServiceRate"
                                    },
                                    {
                                        "name": "Consumption"
                                    },
                                    {
                                        "name": "DaysOfService"
                                    },
                                    {
                                        "name": "UnitOfMeasure"
                                    },
                                    {
                                        "name": "ChargeAmount"
                                    },
                                    {
                                        "name": "ChargeDate"
                                    },
                                    {
                                        "name": "Year"
                                    },
                                    {
                                        "name": "Month"
                                    },
                                    {
                                        "name": "Day"
                                    },
                                    {
                                        "name": "AddressID"
                                    },
                                    {
                                        "name": "YearMonth"
                                    },
                                    {
                                        "name": "WeatherID"
                                    }
                                ]
                            },
                            "data": [
                                {
                                    "0": "1",
                                    "1": "10002.0",
                                    "2": "212 ACORN ST",
                                    "3": "10002",
                                    "4": "DELC",
                                    "5": "100",
                                    "6": "216",
                                    "7": "340",
                                    "8": "30",
                                    "9": "KWH",
                                    "10": "79.85",
                                    "11": "2012-01-09",
                                    "12": "2012",
                                    "13": "1",
                                    "14": "9",
                                    "15": "27945",
                                    "16": "2012_1",
                                    "17": "133"
                                },
                                {
                                    "0": "2",
                                    "1": "10002.0",
                                    "2": "212 ACORN ST",
                                    "3": "10002",
                                    "4": "NULL",
                                    "5": "150",
                                    "6": "NULL",
                                    "7": "NULL",
                                    "8": "NULL",
                                    "9": "NULL",
                                    "10": "17.12",
                                    "11": "2012-01-09",
                                    "12": "2012",
                                    "13": "1",
                                    "14": "9",
                                    "15": "27945",
                                    "16": "2012_1",
                                    "17": "133"
                                },
                                {
                                    "0": "3",
                                    "1": "10002.0",
                                    "2": "212 ACORN ST",
                                    "3": "10002",
                                    "4": "CGAS",
                                    "5": "200",
                                    "6": "220",
                                    "7": "37",
                                    "8": "30",
                                    "9": "CCF",
                                    "10": "47.13",
                                    "11": "2012-01-09",
                                    "12": "2012",
                                    "13": "1",
                                    "14": "9",
                                    "15": "27945",
                                    "16": "2012_1",
                                    "17": "133"
                                }
                            ]
                        },
                        "text/html": "<table><tr><th>ChargeID</th><th>Premise</th><th>PremiseAddress</th><th>Customer</th><th>ServiceType</th><th>ServiceNumber</th><th>ServiceRate</th><th>Consumption</th><th>DaysOfService</th><th>UnitOfMeasure</th><th>ChargeAmount</th><th>ChargeDate</th><th>Year</th><th>Month</th><th>Day</th><th>AddressID</th><th>YearMonth</th><th>WeatherID</th></tr><tr><td>1</td><td>10002.0</td><td>212 ACORN ST</td><td>10002</td><td>DELC</td><td>100</td><td>216</td><td>340</td><td>30</td><td>KWH</td><td>79.85</td><td>2012-01-09</td><td>2012</td><td>1</td><td>9</td><td>27945</td><td>2012_1</td><td>133</td></tr><tr><td>2</td><td>10002.0</td><td>212 ACORN ST</td><td>10002</td><td>NULL</td><td>150</td><td>NULL</td><td>NULL</td><td>NULL</td><td>NULL</td><td>17.12</td><td>2012-01-09</td><td>2012</td><td>1</td><td>9</td><td>27945</td><td>2012_1</td><td>133</td></tr><tr><td>3</td><td>10002.0</td><td>212 ACORN ST</td><td>10002</td><td>CGAS</td><td>200</td><td>220</td><td>37</td><td>30</td><td>CCF</td><td>47.13</td><td>2012-01-09</td><td>2012</td><td>1</td><td>9</td><td>27945</td><td>2012_1</td><td>133</td></tr></table>"
                    }
                }
            ],
            "execution_count": 30
        },
        {
            "cell_type": "code",
            "source": "",
            "metadata": {},
            "outputs": [],
            "execution_count": 0
        }
    ]
}