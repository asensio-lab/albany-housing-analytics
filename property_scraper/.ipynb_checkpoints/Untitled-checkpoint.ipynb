{
 "cells": [
  {
   "cell_type": "code",
   "execution_count": 1,
   "metadata": {},
   "outputs": [],
   "source": [
    "import json\n",
    "import requests\n",
    "import pandas as pd\n",
    "import csv"
   ]
  },
  {
   "cell_type": "code",
   "execution_count": null,
   "metadata": {},
   "outputs": [],
   "source": [
    "\n",
    "header = {\"apikey\":\"8adf54d74bfe18c9c634183af053e5b8\", \"accept\":\"application/json\"}\n",
    "parameters = { 'address1':\"300 Acorn St\", 'address2':\"Albany, GA\"}\n",
    "response = requests.get(\"https://api.gateway.attomdata.com/propertyapi/v1.0.0/property/expandedprofile\", headers=header, params=parameters)\n",
    "response"
   ]
  },
  {
   "cell_type": "code",
   "execution_count": null,
   "metadata": {},
   "outputs": [],
   "source": [
    "resp = response.json()\n",
    "inf = resp['property'][0]\n",
    "inf.keys()"
   ]
  },
  {
   "cell_type": "code",
   "execution_count": null,
   "metadata": {},
   "outputs": [],
   "source": [
    "inf['identifier']\n",
    "#obPropId:\tlegacy identifier\n",
    "#fips:\t\t5 digit numeric Federal Information Processing Standard (FIPS) code combining state and county codes where the property is located\n",
    "#apn:\t\tPrimary Parcel Number and unique identifier within the county/jurisdiction\n",
    "#attomID:\tATTOM Data's Unique parcel identifier."
   ]
  },
  {
   "cell_type": "code",
   "execution_count": null,
   "metadata": {},
   "outputs": [],
   "source": [
    "inf['lot']\n",
    "#lotsize1\tIndicates the lot size, in acres\n",
    "#lotsize2\tIndicates the lot size, in square feet"
   ]
  },
  {
   "cell_type": "code",
   "execution_count": null,
   "metadata": {},
   "outputs": [],
   "source": [
    "inf['area']\n",
    "#subdname\tsubdivision name"
   ]
  },
  {
   "cell_type": "code",
   "execution_count": null,
   "metadata": {},
   "outputs": [],
   "source": [
    "inf['address']"
   ]
  },
  {
   "cell_type": "code",
   "execution_count": null,
   "metadata": {},
   "outputs": [],
   "source": [
    "inf['location']"
   ]
  },
  {
   "cell_type": "code",
   "execution_count": null,
   "metadata": {},
   "outputs": [],
   "source": [
    "inf['summary']\n",
    "#absenteeInd - Owner status description - \"Absentee Owner\" or \"Owner Occupied\" - Logic based\n",
    "#PropType - A specific property classification such as \"Detached Single Family\"\n",
    "#propLandUse - Universal use code identifying the property type\n"
   ]
  },
  {
   "cell_type": "code",
   "execution_count": null,
   "metadata": {},
   "outputs": [],
   "source": [
    "inf['utilities']"
   ]
  },
  {
   "cell_type": "code",
   "execution_count": null,
   "metadata": {},
   "outputs": [],
   "source": [
    "inf['building']\n",
    "#grossizeasjusted - Adjusted Gross Square Footage \n",
    "#Indicates if the Universal Building Square Footage is that of the living or building type.\n",
    "#bathscalc = the sum of the values of the bathrooms\n",
    "#bathstotal = \tThe total number of rooms that are utilized as bathrooms \n",
    "\n",
    "#fplccount = Indicates the number of fireplaces on a property\n",
    "#levels=\tThe number of stories for the buildings on the property "
   ]
  },
  {
   "cell_type": "code",
   "execution_count": null,
   "metadata": {},
   "outputs": [],
   "source": [
    "inf['assessment']\n"
   ]
  },
  {
   "cell_type": "code",
   "execution_count": null,
   "metadata": {},
   "outputs": [],
   "source": [
    "inf['vintage']"
   ]
  },
  {
   "cell_type": "code",
   "execution_count": null,
   "metadata": {},
   "outputs": [],
   "source": [
    "response.status_code==200"
   ]
  },
  {
   "cell_type": "code",
   "execution_count": null,
   "metadata": {},
   "outputs": [],
   "source": [
    "#ZIP CODE 31707\n",
    "page = 1\n",
    "response_list = []\n",
    "flag=True\n",
    "while response.status_code == 200 or flag:\n",
    "    flag=False\n",
    "    parameters = { 'page':page, 'pagesize':100000, 'postalcode':31707}\n",
    "    response = requests.get(\"https://api.gateway.attomdata.com/propertyapi/v1.0.0/property/address\", headers=header, params=parameters)\n",
    "    response_list.append(response.json()['property'])\n",
    "    page = page+1\n",
    "# parameters = { 'page':page, 'pagesize':100000, 'postalcode':31707}\n",
    "# response = requests.get(\"https://api.gateway.attomdata.com/propertyapi/v1.0.0/property/address\", headers=header, params=parameters)\n",
    "# response"
   ]
  },
  {
   "cell_type": "code",
   "execution_count": null,
   "metadata": {},
   "outputs": [],
   "source": [
    "response_list = response_list[:-1]\n",
    "len(response_list)"
   ]
  },
  {
   "cell_type": "code",
   "execution_count": null,
   "metadata": {},
   "outputs": [],
   "source": []
  },
  {
   "cell_type": "code",
   "execution_count": null,
   "metadata": {},
   "outputs": [],
   "source": [
    "#ZIP CODE 31701\n",
    "page = 1\n",
    "flag=True\n",
    "while response.status_code == 200 or flag:\n",
    "    flag=False\n",
    "    parameters = { 'page':page, 'pagesize':100000, 'postalcode':31701}\n",
    "    response = requests.get(\"https://api.gateway.attomdata.com/propertyapi/v1.0.0/property/address\", headers=header, params=parameters)\n",
    "    response_list.append(response.json()['property'])\n",
    "    page = page+1\n",
    "response_list = response_list[:-1]"
   ]
  },
  {
   "cell_type": "code",
   "execution_count": null,
   "metadata": {},
   "outputs": [],
   "source": [
    "len(response_list)"
   ]
  },
  {
   "cell_type": "code",
   "execution_count": null,
   "metadata": {},
   "outputs": [],
   "source": [
    "#ZIP CODE 31705\n",
    "page = 1\n",
    "flag=True\n",
    "while response.status_code == 200 or flag:\n",
    "    flag=False\n",
    "    parameters = { 'page':page, 'pagesize':100000, 'postalcode':31705}\n",
    "    response = requests.get(\"https://api.gateway.attomdata.com/propertyapi/v1.0.0/property/address\", headers=header, params=parameters)\n",
    "    response_list.append(response.json()['property'])\n",
    "    page = page+1\n",
    "response_list = response_list[:-1]"
   ]
  },
  {
   "cell_type": "code",
   "execution_count": null,
   "metadata": {},
   "outputs": [],
   "source": [
    "#ZIP CODE 31721\n",
    "page = 1\n",
    "flag=True\n",
    "while response.status_code == 200 or flag:\n",
    "    flag=False\n",
    "    parameters = { 'page':page, 'pagesize':100000, 'postalcode':31721}\n",
    "    response = requests.get(\"https://api.gateway.attomdata.com/propertyapi/v1.0.0/property/address\", headers=header, params=parameters)\n",
    "    response_list.append(response.json()['property'])\n",
    "    page = page+1\n",
    "response_list = response_list[:-1]"
   ]
  },
  {
   "cell_type": "code",
   "execution_count": null,
   "metadata": {},
   "outputs": [],
   "source": [
    "all_props=[y for x in response_list for y in x]\n",
    "len(all_props)"
   ]
  },
  {
   "cell_type": "code",
   "execution_count": null,
   "metadata": {},
   "outputs": [],
   "source": [
    "f= open(\"all_props.json\", 'w')\n",
    "json.dump(all_props, f)\n"
   ]
  },
  {
   "cell_type": "code",
   "execution_count": null,
   "metadata": {},
   "outputs": [],
   "source": [
    "all_addresses = [x['address'] for x in all_props]\n",
    "all_identifiers = [x['identifier'] for x in all_props]\n",
    "all_location = [x['location'] for x in all_props]\n",
    "all_vintage = [x['vintage'] for x in all_props]\n",
    "all_identifiers"
   ]
  },
  {
   "cell_type": "code",
   "execution_count": null,
   "metadata": {},
   "outputs": [],
   "source": [
    "df_a = pd.DataFrame(data=all_addresses)\n",
    "df_a= df_a.drop(['country'], axis=1)\n",
    "df_a = df_a.rename(columns={'countrySubd':'state'})\n",
    "df_a.head()"
   ]
  },
  {
   "cell_type": "code",
   "execution_count": null,
   "metadata": {},
   "outputs": [],
   "source": [
    "df_b = pd.DataFrame(data=all_identifiers)\n",
    "df_b = df_b.rename(columns={'apn':'parcelID'})\n",
    "df_b = df_b['parcelID']\n",
    "df_b.head()"
   ]
  },
  {
   "cell_type": "code",
   "execution_count": null,
   "metadata": {},
   "outputs": [],
   "source": [
    "df_c = pd.DataFrame(data=all_location)\n",
    "df_c = df_c[['geoid', 'latitude', 'longitude','accuracy']]\n",
    "df_c.head()"
   ]
  },
  {
   "cell_type": "code",
   "execution_count": null,
   "metadata": {},
   "outputs": [],
   "source": [
    "df = pd.concat([df_a, df_b, df_c], axis=1)\n",
    "df"
   ]
  },
  {
   "cell_type": "code",
   "execution_count": null,
   "metadata": {},
   "outputs": [],
   "source": [
    "df.to_csv('all_addresses.csv')"
   ]
  },
  {
   "cell_type": "code",
   "execution_count": null,
   "metadata": {},
   "outputs": [],
   "source": [
    "addresses = df[['line1', 'line2']]\n",
    "info = ['identifier', 'lot', 'area', 'address', 'location', 'summary', 'utilities', 'sale', 'building', 'assessment', 'vintage']\n",
    "info_lists = [[] for i in info]\n",
    "fids = [open(j+'.csv', 'a') for j in info]\n",
    "writers = [csv.writer(csvfile, delimiter=';') for csvfile in fids]\n",
    "i = 0\n",
    "flag=True\n",
    "for i in range(401):\n",
    "    if i % 100 ==0:\n",
    "        print(i, \"out of\", len(addresses))\n",
    "        for j in range(len(info_lists)):\n",
    "            writers[i].writerows(info_lists[j])\n",
    "            info_lists[j]=[]\n",
    "    address1 = addresses.loc[i, 'line1']\n",
    "    address2 = addresses.loc[i, 'line2']\n",
    "    parameters = { 'address1':address1, 'address2':address2}\n",
    "    response = requests.get(\"https://api.gateway.attomdata.com/propertyapi/v1.0.0/property/expandedprofile\", headers=header, params=parameters)\n",
    "    if response.status_code!=200:\n",
    "        print(response.text)\n",
    "        exit(0)\n",
    "    prop_info = response.json()['property'][0]\n",
    "    for j in range(len(info_lists)):\n",
    "        info_lists[j].append(prop_info[info[j]])\n",
    "for j in range(len(info_lists)):\n",
    "    fids[j].close()"
   ]
  },
  {
   "cell_type": "code",
   "execution_count": null,
   "metadata": {},
   "outputs": [],
   "source": [
    "response.text"
   ]
  },
  {
   "cell_type": "code",
   "execution_count": null,
   "metadata": {},
   "outputs": [],
   "source": [
    "inf['address']"
   ]
  },
  {
   "cell_type": "markdown",
   "metadata": {},
   "source": [
    "## Look at data retrieved"
   ]
  },
  {
   "cell_type": "code",
   "execution_count": 7,
   "metadata": {},
   "outputs": [],
   "source": [
    "f1 = open('json_dump_1201_2000.json')\n",
    "f2 = open('json_dump_1_400.json')\n",
    "f3 = open('json_dump_801_1200.json')\n",
    "d3 = json.load(f1)\n",
    "d1 = json.load(f2)\n",
    "d2 = json.load(f3)"
   ]
  },
  {
   "cell_type": "code",
   "execution_count": 11,
   "metadata": {},
   "outputs": [],
   "source": [
    "data=[y for x in [d1, d2, d3] for y in x]"
   ]
  },
  {
   "cell_type": "code",
   "execution_count": 15,
   "metadata": {},
   "outputs": [],
   "source": [
    "all_identifiers = [x['identifier'] for x in data]\n",
    "all_lot = [x['lot'] for x in data]\n",
    "all_area = [x['area'] for x in data]\n",
    "all_addresses = [x['address'] for x in data]\n",
    "all_location = [x['location'] for x in data]\n",
    "all_summary = [x['summary'] for x in data]\n",
    "all_utilities = [x['utilities']for x in data]\n",
    "all_sale = [x['sale'] for x in data]\n",
    "all_building = [x['building'] for x in data]\n",
    "all_assessment = [x['assessment'] for x in data]\n",
    "all_vintage = [x['vintage'] for x in data]\n"
   ]
  },
  {
   "cell_type": "code",
   "execution_count": 28,
   "metadata": {},
   "outputs": [
    {
     "data": {
      "text/html": [
       "<div>\n",
       "<style scoped>\n",
       "    .dataframe tbody tr th:only-of-type {\n",
       "        vertical-align: middle;\n",
       "    }\n",
       "\n",
       "    .dataframe tbody tr th {\n",
       "        vertical-align: top;\n",
       "    }\n",
       "\n",
       "    .dataframe thead th {\n",
       "        text-align: right;\n",
       "    }\n",
       "</style>\n",
       "<table border=\"1\" class=\"dataframe\">\n",
       "  <thead>\n",
       "    <tr style=\"text-align: right;\">\n",
       "      <th></th>\n",
       "      <th>atticSize</th>\n",
       "      <th>bldgSize</th>\n",
       "      <th>grossSize</th>\n",
       "      <th>grossSizeAdjusted</th>\n",
       "      <th>groundFloorSize</th>\n",
       "      <th>livingSize</th>\n",
       "      <th>sizeInd</th>\n",
       "      <th>universalSize</th>\n",
       "    </tr>\n",
       "  </thead>\n",
       "  <tbody>\n",
       "    <tr>\n",
       "      <th>3</th>\n",
       "      <td>0.0</td>\n",
       "      <td>0.0</td>\n",
       "      <td>0.0</td>\n",
       "      <td>0.0</td>\n",
       "      <td>0.0</td>\n",
       "      <td>0.0</td>\n",
       "      <td>LIVING SQFT</td>\n",
       "      <td>0.0</td>\n",
       "    </tr>\n",
       "    <tr>\n",
       "      <th>10</th>\n",
       "      <td>0.0</td>\n",
       "      <td>0.0</td>\n",
       "      <td>0.0</td>\n",
       "      <td>0.0</td>\n",
       "      <td>0.0</td>\n",
       "      <td>0.0</td>\n",
       "      <td>BUILDING SQFT</td>\n",
       "      <td>0.0</td>\n",
       "    </tr>\n",
       "    <tr>\n",
       "      <th>12</th>\n",
       "      <td>0.0</td>\n",
       "      <td>0.0</td>\n",
       "      <td>0.0</td>\n",
       "      <td>0.0</td>\n",
       "      <td>0.0</td>\n",
       "      <td>0.0</td>\n",
       "      <td>BUILDING SQFT</td>\n",
       "      <td>0.0</td>\n",
       "    </tr>\n",
       "    <tr>\n",
       "      <th>13</th>\n",
       "      <td>0.0</td>\n",
       "      <td>0.0</td>\n",
       "      <td>0.0</td>\n",
       "      <td>0.0</td>\n",
       "      <td>0.0</td>\n",
       "      <td>0.0</td>\n",
       "      <td>BUILDING SQFT</td>\n",
       "      <td>0.0</td>\n",
       "    </tr>\n",
       "    <tr>\n",
       "      <th>22</th>\n",
       "      <td>0.0</td>\n",
       "      <td>0.0</td>\n",
       "      <td>0.0</td>\n",
       "      <td>0.0</td>\n",
       "      <td>0.0</td>\n",
       "      <td>0.0</td>\n",
       "      <td>LIVING SQFT</td>\n",
       "      <td>0.0</td>\n",
       "    </tr>\n",
       "  </tbody>\n",
       "</table>\n",
       "</div>"
      ],
      "text/plain": [
       "    atticSize  bldgSize  grossSize  grossSizeAdjusted  groundFloorSize  \\\n",
       "3         0.0       0.0        0.0                0.0              0.0   \n",
       "10        0.0       0.0        0.0                0.0              0.0   \n",
       "12        0.0       0.0        0.0                0.0              0.0   \n",
       "13        0.0       0.0        0.0                0.0              0.0   \n",
       "22        0.0       0.0        0.0                0.0              0.0   \n",
       "\n",
       "    livingSize         sizeInd  universalSize  \n",
       "3          0.0    LIVING SQFT             0.0  \n",
       "10         0.0  BUILDING SQFT             0.0  \n",
       "12         0.0  BUILDING SQFT             0.0  \n",
       "13         0.0  BUILDING SQFT             0.0  \n",
       "22         0.0    LIVING SQFT             0.0  "
      ]
     },
     "execution_count": 28,
     "metadata": {},
     "output_type": "execute_result"
    }
   ],
   "source": [
    "sizes = [x['size'] for x in all_building]\n",
    "df = pd.DataFrame(data=sizes)\n",
    "df[df['grossSizeAdjusted']==0].head()\n",
    "#about 121 out of 1600 have a size of 0"
   ]
  },
  {
   "cell_type": "code",
   "execution_count": 29,
   "metadata": {},
   "outputs": [
    {
     "data": {
      "text/plain": [
       "{'country': 'US',\n",
       " 'countrySubd': 'GA',\n",
       " 'line1': '1826 W OAKRIDGE DR',\n",
       " 'line2': 'ALBANY, GA 31707',\n",
       " 'locality': 'Albany',\n",
       " 'matchCode': 'ExaStr',\n",
       " 'oneLine': '1826 W OAKRIDGE DR, ALBANY, GA 31707',\n",
       " 'postal1': '31707',\n",
       " 'stateFips': '13'}"
      ]
     },
     "execution_count": 29,
     "metadata": {},
     "output_type": "execute_result"
    }
   ],
   "source": [
    "all_addresses[3]"
   ]
  },
  {
   "cell_type": "code",
   "execution_count": null,
   "metadata": {},
   "outputs": [],
   "source": []
  },
  {
   "cell_type": "code",
   "execution_count": 30,
   "metadata": {},
   "outputs": [
    {
     "data": {
      "text/plain": [
       "{'appraised': {'apprImprValue': 0.0,\n",
       "  'apprLandValue': 0.0,\n",
       "  'apprTtlValue': 0.0},\n",
       " 'assessed': {'assdImprValue': 14000.0,\n",
       "  'assdLandValue': 16880.0,\n",
       "  'assdTtlValue': 30880.0},\n",
       " 'market': {'mktImprValue': 35000.0,\n",
       "  'mktLandValue': 42200.0,\n",
       "  'mktTtlValue': 77200.0},\n",
       " 'tax': {'taxAmt': 1260.83,\n",
       "  'taxPerSizeUnit': 1.52,\n",
       "  'taxYear': 2016.0,\n",
       "  'exemption': {'ExemptionAmount1': 0.0,\n",
       "   'ExemptionAmount2': 0.0,\n",
       "   'ExemptionAmount3': 0.0,\n",
       "   'ExemptionAmount4': 0.0,\n",
       "   'ExemptionAmount5': 0.0}},\n",
       " 'delinquentyear': 0,\n",
       " 'improvementPercent': 45,\n",
       " 'fullCashValue': 0,\n",
       " 'owner': {'description': 'not provided',\n",
       "  'owner1': {'lastName': 'JOHNSON', 'firstNameAndMi': 'ARTHUR'},\n",
       "  'owner2': {},\n",
       "  'absenteeOwnerStatus': 'A',\n",
       "  'mailingAddressOneLine': '1632 W OAKRIDGE DR, ALBANY GA 317075268'},\n",
       " 'mortgage': {'FirstConcurrent': {'amount': 0.0, 'interestRate': 0.0},\n",
       "  'SecondConcurrent': {'amount': 0.0},\n",
       "  'ThirdConcurrent': {'amount': 0.0},\n",
       "  'title': {}}}"
      ]
     },
     "execution_count": 30,
     "metadata": {},
     "output_type": "execute_result"
    }
   ],
   "source": [
    "all_assessment[0]"
   ]
  },
  {
   "cell_type": "code",
   "execution_count": null,
   "metadata": {},
   "outputs": [],
   "source": []
  }
 ],
 "metadata": {
  "kernelspec": {
   "display_name": "cds_env",
   "language": "python",
   "name": "cds_env"
  },
  "language_info": {
   "codemirror_mode": {
    "name": "ipython",
    "version": 3
   },
   "file_extension": ".py",
   "mimetype": "text/x-python",
   "name": "python",
   "nbconvert_exporter": "python",
   "pygments_lexer": "ipython3",
   "version": "3.7.1"
  }
 },
 "nbformat": 4,
 "nbformat_minor": 2
}
