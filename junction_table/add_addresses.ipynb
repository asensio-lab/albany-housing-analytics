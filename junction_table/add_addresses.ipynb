{
 "cells": [
  {
   "cell_type": "markdown",
   "metadata": {},
   "source": [
    "# Add Addresses\n",
    "The point of this file is to aid with adding new data to the database.<br>\n",
    "If there are new addresses in the csv that do not exist in the junction table, this script will pull them out and export them to a csv. <br>\n",
    "The csv can then be geocoded and added to the junction table."
   ]
  },
  {
   "cell_type": "code",
   "execution_count": 13,
   "metadata": {},
   "outputs": [],
   "source": [
    "import pandas as pd\n",
    "from fix_addresses_master import fix_series"
   ]
  },
  {
   "cell_type": "code",
   "execution_count": 2,
   "metadata": {},
   "outputs": [],
   "source": [
    "#new = pd.read_csv()\n",
    "new =pd.read_excel('~/Dropbox (GaTech)/CDS-2019-AlbanyHub/Raw-Data/UtilitiesReformatted/2012/2012May.xlsx')\n",
    "junction_table = pd.read_csv('~/Dropbox (GaTech)/CDS-2019-AlbanyHub/ToDatabase/addr_junct_table.csv')"
   ]
  },
  {
   "cell_type": "code",
   "execution_count": 24,
   "metadata": {},
   "outputs": [],
   "source": [
    "addrs = [\" \".join(s.split()).upper() for s in new['Premise Address'].unique()]\n",
    "addrs = pd.Series(data=addrs)\n",
    "addrs_fixed = fix_series(addrs)\n",
    "old_addrs = junction_table['Address']\n",
    "diff = list(set(addrs_fixed).difference(old_addrs))"
   ]
  },
  {
   "cell_type": "code",
   "execution_count": 25,
   "metadata": {},
   "outputs": [],
   "source": [
    "state = ['GA']*len(diff)\n",
    "city=['ALBANY']*len(diff)"
   ]
  },
  {
   "cell_type": "code",
   "execution_count": 26,
   "metadata": {},
   "outputs": [],
   "source": [
    "s_diff = pd.DataFrame(data={'Address':diff, 'City':city, 'State':state})\n",
    "s_diff.to_csv(\"new_addresses.csv\", index=False)"
   ]
  },
  {
   "cell_type": "code",
   "execution_count": null,
   "metadata": {},
   "outputs": [],
   "source": []
  }
 ],
 "metadata": {
  "kernelspec": {
   "display_name": "cds_env",
   "language": "python",
   "name": "cds_env"
  },
  "language_info": {
   "codemirror_mode": {
    "name": "ipython",
    "version": 3
   },
   "file_extension": ".py",
   "mimetype": "text/x-python",
   "name": "python",
   "nbconvert_exporter": "python",
   "pygments_lexer": "ipython3",
   "version": "3.7.1"
  }
 },
 "nbformat": 4,
 "nbformat_minor": 2
}
