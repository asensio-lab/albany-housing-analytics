{
 "cells": [
  {
   "cell_type": "markdown",
   "metadata": {},
   "source": [
    "### First step in reformatting utilities\n",
    "Formerly utilities_reformatted_merge_clean<br>\n",
    "This file reads in the raw utility xlsx files, downloaded from the reformatted data in Sharepoint.<br>\n",
    "It standardizes column names and creates separate Year, Month, Day columns from the charge date.<br>\n",
    "Then, it removes extra spacing from the addresses and converts each address to upper case<br>\n",
    "It drops charges where the address was recorded as NA<br>\n",
    "Then, it exports the utilities charges as one large csv<br>"
   ]
  },
  {
   "cell_type": "code",
   "execution_count": 6,
   "metadata": {},
   "outputs": [],
   "source": [
    "import numpy as np\n",
    "import pandas as pd\n",
    "#IN_PATH = '/home/mirabel/Dropbox (GaTech)/CDS-2019-AlbanyHub/Raw-Data/UtilitiesReformatted/'\n",
    "#OUT_PATH = '/home/mirabel/Dropbox (GaTech)/CDS-2019-AlbanyHub/Test-Replication/'\n",
    "IN_PATH = '/Users/william/Dropbox (Amherst College)/CDS-2019-AlbanyHub/Raw-Data/UtilitiesReformatted/'\n",
    "OUT_PATH = '/Users/william/Dropbox (Amherst College)/CDS-2019-AlbanyHub/Test-Replication/'"
   ]
  },
  {
   "cell_type": "markdown",
   "metadata": {},
   "source": [
    "def fix_oct_2018(df_oct):\n",
    "    out = df_oct[df_oct['Month'] != '10']\n",
    "    exclusion = df_oct[~df_oct.isin(out)]\n",
    "    dropout = exclusion.dropna(how='all')\n",
    "    return dropout"
   ]
  },
  {
   "cell_type": "code",
   "execution_count": 2,
   "metadata": {},
   "outputs": [],
   "source": [
    "def fix_oct_2018(df_oct):\n",
    "    df_oct = df_oct[df_oct['Month'] == '10']\n",
    "    return df_oct"
   ]
  },
  {
   "cell_type": "code",
   "execution_count": 3,
   "metadata": {},
   "outputs": [],
   "source": [
    "#Combine monthly utilities xlsx files into a list of dataframes for a particular year\n",
    "def readexcel(year, in_path):\n",
    "    months = [\"Jan\", \"Feb\", \"Mar\", \"Apr\", \"May\", \"Jun\", \"Jul\", \"Aug\", \"Sep\", \"Oct\", \"Nov\", \"Dec\"]\n",
    "    if year == \"2019\":\n",
    "        months = [\"Jan\", \"Feb\"]\n",
    "    year_list = []\n",
    "    for month in months:\n",
    "        #Read in file\n",
    "        path = in_path + str(year) + '/' + str(year) + month + '.xlsx'\n",
    "        df = pd.read_excel(path)\n",
    "        #Drop space from column names\n",
    "        df.columns = [col.strip() for col in df.columns]\n",
    "        #Some utilities months contain 'City'/'State' and others don't -> add city and state columns\n",
    "        if \"City\" not in df.columns:\n",
    "            df.insert(2, \"City\", \"ALBANY\")\n",
    "            df.insert(3, \"State\", \"GA\")\n",
    "        #Change the type of charge date to string\n",
    "        df['Charge Date'] = df['Charge Date'].astype(str)\n",
    "        parts = df['Charge Date'].str.split(\"-\", expand=True)\n",
    "        #Split charge date string into year, month, and day\n",
    "        df['Year'] = parts[0]\n",
    "        df['Month'] = parts[1]\n",
    "        df['Day'] = parts[2]\n",
    "        if month == \"Oct\" and year == \"2018\":\n",
    "            df = fix_oct_2018(df)\n",
    "        year_list.append(df)\n",
    "        print(month)\n",
    "    return year_list"
   ]
  },
  {
   "cell_type": "code",
   "execution_count": 4,
   "metadata": {},
   "outputs": [],
   "source": [
    "#Write the dataframes from each year into one csv\n",
    "def writedf(year_list, year, out_path):\n",
    "    months = [\"Jan\", \"Feb\", \"Mar\", \"Apr\", \"May\", \"Jun\", \"Jul\", \"Aug\", \"Sep\", \"Oct\", \"Nov\", \"Dec\"]\n",
    "    df = year_list[0]\n",
    "    for i in range(1, len(year_list)):\n",
    "        df = pd.concat([df, year_list[i]], ignore_index=True)\n",
    "        print(months[i])\n",
    "    path = out_path+'Totals'+str(year)+'.csv'\n",
    "    df.to_csv(path, index=False)"
   ]
  },
  {
   "cell_type": "markdown",
   "metadata": {},
   "source": [
    "### Read the raw data and write to combined csvs for each year"
   ]
  },
  {
   "cell_type": "code",
   "execution_count": null,
   "metadata": {},
   "outputs": [],
   "source": [
    "df2012 = readexcel(\"2012\", IN_PATH)"
   ]
  },
  {
   "cell_type": "code",
   "execution_count": 11,
   "metadata": {},
   "outputs": [
    {
     "name": "stdout",
     "output_type": "stream",
     "text": [
      "Jan\n",
      "Feb\n",
      "Mar\n",
      "Apr\n",
      "May\n",
      "Jun\n",
      "Jul\n",
      "Aug\n",
      "Sep\n",
      "Oct\n",
      "Nov\n",
      "Dec\n"
     ]
    }
   ],
   "source": [
    "df2013 = readexcel(\"2013\", IN_PATH)"
   ]
  },
  {
   "cell_type": "code",
   "execution_count": 5,
   "metadata": {},
   "outputs": [
    {
     "name": "stdout",
     "output_type": "stream",
     "text": [
      "Jan\n",
      "Feb\n",
      "Mar\n",
      "Apr\n",
      "May\n",
      "Jun\n",
      "Jul\n",
      "Aug\n",
      "Sep\n",
      "Oct\n",
      "Nov\n",
      "Dec\n"
     ]
    }
   ],
   "source": [
    "df2014 = readexcel(\"2014\", IN_PATH)"
   ]
  },
  {
   "cell_type": "code",
   "execution_count": 6,
   "metadata": {},
   "outputs": [
    {
     "name": "stdout",
     "output_type": "stream",
     "text": [
      "Jan\n",
      "Feb\n",
      "Mar\n",
      "Apr\n",
      "May\n",
      "Jun\n",
      "Jul\n",
      "Aug\n",
      "Sep\n",
      "Oct\n",
      "Nov\n",
      "Dec\n"
     ]
    }
   ],
   "source": [
    "df2015 = readexcel(\"2015\", IN_PATH)"
   ]
  },
  {
   "cell_type": "code",
   "execution_count": 5,
   "metadata": {},
   "outputs": [
    {
     "name": "stdout",
     "output_type": "stream",
     "text": [
      "Jan\n",
      "Feb\n",
      "Mar\n",
      "Apr\n",
      "May\n",
      "Jun\n",
      "Jul\n",
      "Aug\n",
      "Sep\n",
      "Oct\n",
      "Nov\n",
      "Dec\n"
     ]
    }
   ],
   "source": [
    "df2016 = readexcel(\"2016\", IN_PATH)"
   ]
  },
  {
   "cell_type": "code",
   "execution_count": 6,
   "metadata": {},
   "outputs": [
    {
     "name": "stdout",
     "output_type": "stream",
     "text": [
      "Jan\n",
      "Feb\n",
      "Mar\n",
      "Apr\n",
      "May\n",
      "Jun\n",
      "Jul\n",
      "Aug\n",
      "Sep\n",
      "Oct\n",
      "Nov\n",
      "Dec\n"
     ]
    }
   ],
   "source": [
    "df2017 = readexcel(\"2017\", IN_PATH)"
   ]
  },
  {
   "cell_type": "code",
   "execution_count": 7,
   "metadata": {},
   "outputs": [
    {
     "name": "stdout",
     "output_type": "stream",
     "text": [
      "Jan\n",
      "Feb\n",
      "Mar\n",
      "Apr\n",
      "May\n",
      "Jun\n",
      "Jul\n",
      "Aug\n",
      "Sep\n",
      "Oct\n",
      "Nov\n",
      "Dec\n"
     ]
    }
   ],
   "source": [
    "df2018 = readexcel(\"2018\", IN_PATH)"
   ]
  },
  {
   "cell_type": "code",
   "execution_count": 10,
   "metadata": {},
   "outputs": [
    {
     "name": "stdout",
     "output_type": "stream",
     "text": [
      "Jan\n",
      "Feb\n"
     ]
    }
   ],
   "source": [
    "df2019 = readexcel(\"2019\", IN_PATH)"
   ]
  },
  {
   "cell_type": "markdown",
   "metadata": {},
   "source": [
    "Write (Optional)"
   ]
  },
  {
   "cell_type": "code",
   "execution_count": 13,
   "metadata": {},
   "outputs": [
    {
     "name": "stdout",
     "output_type": "stream",
     "text": [
      "Feb\n",
      "Mar\n",
      "Apr\n",
      "May\n",
      "Jun\n",
      "Jul\n",
      "Aug\n",
      "Sep\n",
      "Oct\n",
      "Nov\n",
      "Dec\n"
     ]
    }
   ],
   "source": [
    "writedf(df2012, 2012, OUT_PATH)"
   ]
  },
  {
   "cell_type": "code",
   "execution_count": 14,
   "metadata": {},
   "outputs": [
    {
     "name": "stdout",
     "output_type": "stream",
     "text": [
      "Feb\n",
      "Mar\n",
      "Apr\n",
      "May\n",
      "Jun\n",
      "Jul\n",
      "Aug\n",
      "Sep\n",
      "Oct\n",
      "Nov\n",
      "Dec\n"
     ]
    }
   ],
   "source": [
    "writedf(df2013, 2013, OUT_PATH)"
   ]
  },
  {
   "cell_type": "code",
   "execution_count": 8,
   "metadata": {},
   "outputs": [
    {
     "name": "stdout",
     "output_type": "stream",
     "text": [
      "Feb\n",
      "Mar\n",
      "Apr\n",
      "May\n",
      "Jun\n",
      "Jul\n",
      "Aug\n",
      "Sep\n",
      "Oct\n",
      "Nov\n",
      "Dec\n"
     ]
    }
   ],
   "source": [
    "writedf(df2014, 2014, OUT_PATH)"
   ]
  },
  {
   "cell_type": "code",
   "execution_count": 9,
   "metadata": {},
   "outputs": [
    {
     "name": "stdout",
     "output_type": "stream",
     "text": [
      "Feb\n",
      "Mar\n",
      "Apr\n",
      "May\n",
      "Jun\n",
      "Jul\n",
      "Aug\n",
      "Sep\n",
      "Oct\n",
      "Nov\n",
      "Dec\n"
     ]
    }
   ],
   "source": [
    "writedf(df2015, 2015, OUT_PATH)"
   ]
  },
  {
   "cell_type": "code",
   "execution_count": 7,
   "metadata": {},
   "outputs": [
    {
     "name": "stdout",
     "output_type": "stream",
     "text": [
      "Feb\n",
      "Mar\n",
      "Apr\n",
      "May\n",
      "Jun\n",
      "Jul\n",
      "Aug\n",
      "Sep\n",
      "Oct\n",
      "Nov\n",
      "Dec\n"
     ]
    }
   ],
   "source": [
    "writedf(df2016, 2016, OUT_PATH)"
   ]
  },
  {
   "cell_type": "code",
   "execution_count": 8,
   "metadata": {},
   "outputs": [
    {
     "name": "stdout",
     "output_type": "stream",
     "text": [
      "Feb\n",
      "Mar\n",
      "Apr\n",
      "May\n",
      "Jun\n",
      "Jul\n",
      "Aug\n",
      "Sep\n",
      "Oct\n",
      "Nov\n",
      "Dec\n"
     ]
    }
   ],
   "source": [
    "writedf(df2017, 2017, OUT_PATH)"
   ]
  },
  {
   "cell_type": "code",
   "execution_count": 8,
   "metadata": {},
   "outputs": [
    {
     "name": "stdout",
     "output_type": "stream",
     "text": [
      "Feb\n",
      "Mar\n",
      "Apr\n",
      "May\n",
      "Jun\n",
      "Jul\n",
      "Aug\n",
      "Sep\n",
      "Oct\n",
      "Nov\n",
      "Dec\n"
     ]
    }
   ],
   "source": [
    "writedf(df2018, 2018, OUT_PATH)"
   ]
  },
  {
   "cell_type": "code",
   "execution_count": 12,
   "metadata": {},
   "outputs": [
    {
     "name": "stdout",
     "output_type": "stream",
     "text": [
      "Feb\n"
     ]
    }
   ],
   "source": [
    "writedf(df2019, 2019, OUT_PATH)"
   ]
  },
  {
   "cell_type": "markdown",
   "metadata": {},
   "source": [
    "### run cleaning script after merging together"
   ]
  },
  {
   "cell_type": "code",
   "execution_count": 13,
   "metadata": {},
   "outputs": [],
   "source": [
    "#path = '/Users/william/Dropbox (Amherst College)/CDS-2019-AlbanyHub/Raw-Data/ReformattedYears/'\n",
    "path=OUT_PATH"
   ]
  },
  {
   "cell_type": "code",
   "execution_count": 75,
   "metadata": {},
   "outputs": [],
   "source": [
    "#Combine all year csvs into a single dataframe\n",
    "years = [\"2013\", \"2014\", \"2015\", \"2016\", \"2017\", \"2018\", \"2019\"]\n",
    "df = pd.read_csv(path + \"Totals2012.csv\")\n",
    "for year in years:\n",
    "    df_test = pd.read_csv(path+ \"Totals\" + year + \".csv\")\n",
    "    df = pd.concat([df, df_test], ignore_index=True)\n",
    "    "
   ]
  },
  {
   "cell_type": "code",
   "execution_count": 80,
   "metadata": {},
   "outputs": [],
   "source": [
    "df.index = range(len(df))"
   ]
  },
  {
   "cell_type": "code",
   "execution_count": 81,
   "metadata": {},
   "outputs": [
    {
     "name": "stdout",
     "output_type": "stream",
     "text": [
      "(15305018, 16)\n"
     ]
    },
    {
     "data": {
      "text/plain": [
       "(15305018, 16)"
      ]
     },
     "execution_count": 81,
     "metadata": {},
     "output_type": "execute_result"
    }
   ],
   "source": [
    "#Drop extra column from index if it exists\n",
    "print(df.shape)\n",
    "df.drop('Unnamed: 0', inplace=True, axis=1, errors='ignore')\n",
    "df.shape"
   ]
  },
  {
   "cell_type": "code",
   "execution_count": 82,
   "metadata": {},
   "outputs": [
    {
     "data": {
      "text/plain": [
       "(15305018,)"
      ]
     },
     "execution_count": 82,
     "metadata": {},
     "output_type": "execute_result"
    }
   ],
   "source": [
    "s_utilities = df['Premise Address']\n",
    "s_utilities.shape # number of records"
   ]
  },
  {
   "cell_type": "code",
   "execution_count": 83,
   "metadata": {},
   "outputs": [
    {
     "data": {
      "text/plain": [
       "(20754,)"
      ]
     },
     "execution_count": 83,
     "metadata": {},
     "output_type": "execute_result"
    }
   ],
   "source": [
    "s_utilities[s_utilities.isna()].shape #There are some NA addresses"
   ]
  },
  {
   "cell_type": "code",
   "execution_count": 84,
   "metadata": {},
   "outputs": [
    {
     "data": {
      "text/plain": [
       "(15284264, 16)"
      ]
     },
     "execution_count": 84,
     "metadata": {},
     "output_type": "execute_result"
    }
   ],
   "source": [
    "df = df.dropna(subset=['Premise Address']) #Drop NA addresses\n",
    "df.shape"
   ]
  },
  {
   "cell_type": "code",
   "execution_count": 75,
   "metadata": {},
   "outputs": [],
   "source": [
    "#Send to one large csv (~2GB)\n",
    "df.to_csv(path+\"Total.csv\", index=False)"
   ]
  },
  {
   "cell_type": "code",
   "execution_count": null,
   "metadata": {},
   "outputs": [],
   "source": []
  },
  {
   "cell_type": "code",
   "execution_count": 3,
   "metadata": {},
   "outputs": [
    {
     "name": "stderr",
     "output_type": "stream",
     "text": [
      "/anaconda3/envs/cds/lib/python3.7/site-packages/IPython/core/interactiveshell.py:3049: DtypeWarning: Columns (0,2,3,4,5,6,7,8,9,10,11,13,15) have mixed types. Specify dtype option on import or set low_memory=False.\n",
      "  interactivity=interactivity, compiler=compiler, result=result)\n"
     ]
    }
   ],
   "source": [
    "#Read back in (or skip if it is already in memory)\n",
    "df = pd.read_csv(path+'Total.csv')"
   ]
  },
  {
   "cell_type": "code",
   "execution_count": 85,
   "metadata": {},
   "outputs": [
    {
     "data": {
      "text/plain": [
       "(0,)"
      ]
     },
     "execution_count": 85,
     "metadata": {},
     "output_type": "execute_result"
    }
   ],
   "source": [
    "#Strip extra spaces from each address\n",
    "s_utilities = df['Premise Address'].str.strip()\n",
    "#Uncomment if this results in memory issues\n",
    "# del df \n",
    "s_utilities[s_utilities.isna()].shape"
   ]
  },
  {
   "cell_type": "code",
   "execution_count": 86,
   "metadata": {},
   "outputs": [
    {
     "data": {
      "text/plain": [
       "(0,)"
      ]
     },
     "execution_count": 86,
     "metadata": {},
     "output_type": "execute_result"
    }
   ],
   "source": [
    "s_utilities[s_utilities.isna()].shape"
   ]
  },
  {
   "cell_type": "code",
   "execution_count": 87,
   "metadata": {},
   "outputs": [
    {
     "name": "stdout",
     "output_type": "stream",
     "text": [
      "0\n",
      "1000000\n",
      "2000000\n",
      "3000000\n",
      "4000000\n",
      "5000000\n",
      "6000000\n",
      "7000000\n",
      "8000000\n",
      "9000000\n",
      "10000000\n",
      "11000000\n",
      "12000000\n",
      "13000000\n",
      "14000000\n",
      "15000000\n"
     ]
    },
    {
     "data": {
      "text/plain": [
       "15284264"
      ]
     },
     "execution_count": 87,
     "metadata": {},
     "output_type": "execute_result"
    }
   ],
   "source": [
    "#Strip extra space between words\n",
    "lis = [None] * len(s_utilities)\n",
    "for i in range(len(s_utilities)):\n",
    "    #Print % done\n",
    "    if i % 1000000 == 0:\n",
    "        print(str(i))\n",
    "    tmp = s_utilities.iloc[i].split() #Split by all space characters -> list \n",
    "    lis[i] = \" \".join(tmp) # Reformat with only one space\n",
    "len(lis)"
   ]
  },
  {
   "cell_type": "code",
   "execution_count": 88,
   "metadata": {},
   "outputs": [],
   "source": [
    "fixed_util = pd.Series(lis)\n",
    "# del lis\n",
    "# del s_utilities\n",
    "# #Read back in (or skip if it is already in memory)\n",
    "# df = pd.read_csv(path+'Total.csv')"
   ]
  },
  {
   "cell_type": "code",
   "execution_count": 89,
   "metadata": {},
   "outputs": [
    {
     "data": {
      "text/plain": [
       "(0,)"
      ]
     },
     "execution_count": 89,
     "metadata": {},
     "output_type": "execute_result"
    }
   ],
   "source": [
    "fixed_util[fixed_util.isna()].shape"
   ]
  },
  {
   "cell_type": "code",
   "execution_count": 90,
   "metadata": {},
   "outputs": [
    {
     "data": {
      "text/plain": [
       "15284259    308 ACORN ST\n",
       "15284260    308 ACORN ST\n",
       "15284261    308 ACORN ST\n",
       "15284262    308 ACORN ST\n",
       "15284263    308 ACORN ST\n",
       "dtype: object"
      ]
     },
     "execution_count": 90,
     "metadata": {},
     "output_type": "execute_result"
    }
   ],
   "source": [
    "fixed_util.tail()"
   ]
  },
  {
   "cell_type": "code",
   "execution_count": 9,
   "metadata": {},
   "outputs": [],
   "source": [
    "#Export fixed addresses to csv\n",
    "#fixed_util.to_csv(path+\"fixed_addr.csv\", index=False)"
   ]
  },
  {
   "cell_type": "code",
   "execution_count": 55,
   "metadata": {},
   "outputs": [
    {
     "data": {
      "text/plain": [
       "(15284264,)"
      ]
     },
     "execution_count": 55,
     "metadata": {},
     "output_type": "execute_result"
    }
   ],
   "source": [
    "fixed_util.shape"
   ]
  },
  {
   "cell_type": "code",
   "execution_count": 91,
   "metadata": {},
   "outputs": [
    {
     "data": {
      "text/plain": [
       "Series([], dtype: object)"
      ]
     },
     "execution_count": 91,
     "metadata": {},
     "output_type": "execute_result"
    }
   ],
   "source": [
    "fixed_util[fixed_util.str.upper().isna()]"
   ]
  },
  {
   "cell_type": "code",
   "execution_count": 92,
   "metadata": {},
   "outputs": [],
   "source": [
    "#Convert all addresses to upper case\n",
    "df['Premise Address'] = fixed_util.str.upper()"
   ]
  },
  {
   "cell_type": "code",
   "execution_count": 93,
   "metadata": {},
   "outputs": [
    {
     "data": {
      "text/plain": [
       "0"
      ]
     },
     "execution_count": 93,
     "metadata": {},
     "output_type": "execute_result"
    }
   ],
   "source": [
    "sum(fixed_util.str.upper().isna())"
   ]
  },
  {
   "cell_type": "code",
   "execution_count": 94,
   "metadata": {},
   "outputs": [],
   "source": [
    "test = fixed_util.str.upper()"
   ]
  },
  {
   "cell_type": "code",
   "execution_count": 96,
   "metadata": {},
   "outputs": [],
   "source": [
    "df.index = range(len(df))"
   ]
  },
  {
   "cell_type": "code",
   "execution_count": 97,
   "metadata": {},
   "outputs": [
    {
     "data": {
      "text/plain": [
       "RangeIndex(start=0, stop=15284264, step=1)"
      ]
     },
     "execution_count": 97,
     "metadata": {},
     "output_type": "execute_result"
    }
   ],
   "source": [
    "df['Premise Address'].index"
   ]
  },
  {
   "cell_type": "code",
   "execution_count": 102,
   "metadata": {},
   "outputs": [
    {
     "data": {
      "text/plain": [
       "0"
      ]
     },
     "execution_count": 102,
     "metadata": {},
     "output_type": "execute_result"
    }
   ],
   "source": [
    "sum(test.isna())"
   ]
  },
  {
   "cell_type": "code",
   "execution_count": 103,
   "metadata": {},
   "outputs": [],
   "source": [
    "df['Premise Address'] = test"
   ]
  },
  {
   "cell_type": "code",
   "execution_count": 104,
   "metadata": {},
   "outputs": [
    {
     "data": {
      "text/plain": [
       "0"
      ]
     },
     "execution_count": 104,
     "metadata": {},
     "output_type": "execute_result"
    }
   ],
   "source": [
    "sum(df['Premise Address'].isna())"
   ]
  },
  {
   "cell_type": "code",
   "execution_count": 106,
   "metadata": {},
   "outputs": [
    {
     "data": {
      "text/plain": [
       "1.0     184673\n",
       "8.0     183684\n",
       "7.0     182694\n",
       "3.0     182619\n",
       "6.0     182361\n",
       "9.0     182166\n",
       "4.0     181639\n",
       "2.0     181630\n",
       "5.0     181134\n",
       "11.0    170930\n",
       "10.0    169063\n",
       "12.0    149900\n",
       "Name: Month, dtype: int64"
      ]
     },
     "execution_count": 106,
     "metadata": {},
     "output_type": "execute_result"
    }
   ],
   "source": [
    "df[df['Year']==2018]['Month'].value_counts()"
   ]
  },
  {
   "cell_type": "code",
   "execution_count": 109,
   "metadata": {},
   "outputs": [
    {
     "data": {
      "text/plain": [
       "8.0     192971\n",
       "10.0    188676\n",
       "4.0     187230\n",
       "3.0     187085\n",
       "9.0     186960\n",
       "5.0     186670\n",
       "7.0     186057\n",
       "2.0     185938\n",
       "11.0    185358\n",
       "6.0     184930\n",
       "12.0    183841\n",
       "1.0     183792\n",
       "Name: Month, dtype: int64"
      ]
     },
     "execution_count": 109,
     "metadata": {},
     "output_type": "execute_result"
    }
   ],
   "source": [
    "df[df['Year']==2015]['Month'].value_counts()"
   ]
  },
  {
   "cell_type": "code",
   "execution_count": 110,
   "metadata": {},
   "outputs": [],
   "source": [
    "#Export back to original csv\n",
    "df.to_csv(path+\"Total.csv\", index=False)"
   ]
  },
  {
   "cell_type": "code",
   "execution_count": 36,
   "metadata": {},
   "outputs": [
    {
     "data": {
      "text/plain": [
       "2401 NOTTINGHAM WAY         64908\n",
       "539 N WESTOVER BLVD         55105\n",
       "525 DON CUTLER SR DR        52647\n",
       "2415 BRIERWOOD DR           47812\n",
       "4000 GILLIONVILLE RD        47811\n",
       "2415 DAWSON RD              43053\n",
       "1200 KINGSTOWN CT           41413\n",
       "320 S JACKSON ST            41405\n",
       "2507 NOTTINGHAM WAY         40435\n",
       "333 S MOCK RD               39349\n",
       "2724 LEDO RD                38295\n",
       "1308 HOBSON ST              37700\n",
       "211 PINEBLUFF RD            36674\n",
       "600 SANDS DR                36432\n",
       "421 S WESTOVER BLVD         33051\n",
       "2010 W BROAD AVE            32075\n",
       "2000 TOMPKINS AVE           29865\n",
       "1601 RADIUM SPRINGS RD      28411\n",
       "1005 E 4TH AVE              26794\n",
       "1001 DUNES AVE              26421\n",
       "500 PINSON RD               26182\n",
       "1404 WHISPERING PINES RD    25715\n",
       "1336 MERCANTILE DR          25132\n",
       "2030 W BROAD AVE            25033\n",
       "3110 GRAYSTONE LN           22518\n",
       "2304 W GORDON AVE           21933\n",
       "419 S WESTOVER BLVD         21295\n",
       "629 16TH AVE                21021\n",
       "613 16TH AVE                20635\n",
       "2710 W OAKRIDGE DR          20523\n",
       "                            ...  \n",
       "4424 LACOSTA DR                 1\n",
       "1208 RIVER POINTE               1\n",
       "109 EAST RD                     1\n",
       "506 S DAVIS ST                  1\n",
       "109 SHELBY                      1\n",
       "1700 SCHILLING AVE              1\n",
       "1806 GROVES LN                  1\n",
       "126 LOVERS LN                   1\n",
       "113 N WESTOVER BLVD             1\n",
       "130 TOWER PLACE LN              1\n",
       "2601 KINSEY DR                  1\n",
       "902 COTTON CT                   1\n",
       "2809 OLIVIA ST                  1\n",
       "3102 WAR EAGLE AVE              1\n",
       "504 N VAN BUREN ST              1\n",
       "211 BARTON AVE                  1\n",
       "510 LIBERTY SE EXPY             1\n",
       "1712 CLARK AVE                  1\n",
       "000 ALL STREET                  1\n",
       "9 PATRICIA DR                   1\n",
       "110 N DAVIS ST                  1\n",
       "248 BROADWAY CT                 1\n",
       "929 BLAKELY CT                  1\n",
       "454 HICKORY LN                  1\n",
       "522 W RESIDENCE AVE             1\n",
       "2311 E BROAD AVE                1\n",
       "3511 OLIVER DR                  1\n",
       "1712 N WASHINGTON ST            1\n",
       "2607 OLIVIA ST                  1\n",
       "3124 RALEIGH DR                 1\n",
       "Name: Premise Address, Length: 30722, dtype: int64"
      ]
     },
     "execution_count": 36,
     "metadata": {},
     "output_type": "execute_result"
    }
   ],
   "source": [
    "df['Premise Address'].value_counts()"
   ]
  },
  {
   "cell_type": "markdown",
   "metadata": {},
   "source": [
    "# Step 1 Stop Here"
   ]
  },
  {
   "cell_type": "code",
   "execution_count": 10,
   "metadata": {},
   "outputs": [],
   "source": [
    "dftestutilities = pd.read_csv(path+'utilities_notfound.csv')"
   ]
  },
  {
   "cell_type": "code",
   "execution_count": 11,
   "metadata": {},
   "outputs": [
    {
     "data": {
      "text/html": [
       "<div>\n",
       "<style scoped>\n",
       "    .dataframe tbody tr th:only-of-type {\n",
       "        vertical-align: middle;\n",
       "    }\n",
       "\n",
       "    .dataframe tbody tr th {\n",
       "        vertical-align: top;\n",
       "    }\n",
       "\n",
       "    .dataframe thead th {\n",
       "        text-align: right;\n",
       "    }\n",
       "</style>\n",
       "<table border=\"1\" class=\"dataframe\">\n",
       "  <thead>\n",
       "    <tr style=\"text-align: right;\">\n",
       "      <th></th>\n",
       "      <th>addr</th>\n",
       "      <th>loc</th>\n",
       "    </tr>\n",
       "  </thead>\n",
       "  <tbody>\n",
       "    <tr>\n",
       "      <th>300</th>\n",
       "      <td>1401 WATER HYDRANT METER</td>\n",
       "      <td>1471614</td>\n",
       "    </tr>\n",
       "    <tr>\n",
       "      <th>301</th>\n",
       "      <td>1401 WATER HYDRANT METER</td>\n",
       "      <td>1471615</td>\n",
       "    </tr>\n",
       "    <tr>\n",
       "      <th>302</th>\n",
       "      <td>1401 WATER HYDRANT METER</td>\n",
       "      <td>1471616</td>\n",
       "    </tr>\n",
       "    <tr>\n",
       "      <th>303</th>\n",
       "      <td>1401 WATER HYDRANT METER</td>\n",
       "      <td>1471617</td>\n",
       "    </tr>\n",
       "    <tr>\n",
       "      <th>304</th>\n",
       "      <td>1401 WATER HYDRANT METER</td>\n",
       "      <td>1471618</td>\n",
       "    </tr>\n",
       "    <tr>\n",
       "      <th>305</th>\n",
       "      <td>1401 WATER HYDRANT METER</td>\n",
       "      <td>1471619</td>\n",
       "    </tr>\n",
       "    <tr>\n",
       "      <th>306</th>\n",
       "      <td>1401 WATER HYDRANT METER</td>\n",
       "      <td>1471620</td>\n",
       "    </tr>\n",
       "    <tr>\n",
       "      <th>307</th>\n",
       "      <td>1401 WATER HYDRANT METER</td>\n",
       "      <td>1471621</td>\n",
       "    </tr>\n",
       "    <tr>\n",
       "      <th>308</th>\n",
       "      <td>1401 WATER HYDRANT METER</td>\n",
       "      <td>1471622</td>\n",
       "    </tr>\n",
       "    <tr>\n",
       "      <th>309</th>\n",
       "      <td>1401 WATER HYDRANT METER</td>\n",
       "      <td>1471623</td>\n",
       "    </tr>\n",
       "    <tr>\n",
       "      <th>310</th>\n",
       "      <td>1401 WATER HYDRANT METER</td>\n",
       "      <td>1471624</td>\n",
       "    </tr>\n",
       "    <tr>\n",
       "      <th>311</th>\n",
       "      <td>1401 WATER HYDRANT METER</td>\n",
       "      <td>1471625</td>\n",
       "    </tr>\n",
       "    <tr>\n",
       "      <th>312</th>\n",
       "      <td>1401 WATER HYDRANT METER</td>\n",
       "      <td>1471626</td>\n",
       "    </tr>\n",
       "    <tr>\n",
       "      <th>313</th>\n",
       "      <td>1401 WATER HYDRANT METER</td>\n",
       "      <td>1471627</td>\n",
       "    </tr>\n",
       "    <tr>\n",
       "      <th>314</th>\n",
       "      <td>1401 WATER HYDRANT METER</td>\n",
       "      <td>1471628</td>\n",
       "    </tr>\n",
       "    <tr>\n",
       "      <th>315</th>\n",
       "      <td>1401 WATER HYDRANT METER</td>\n",
       "      <td>1471629</td>\n",
       "    </tr>\n",
       "    <tr>\n",
       "      <th>316</th>\n",
       "      <td>1401 WATER HYDRANT METER</td>\n",
       "      <td>1471630</td>\n",
       "    </tr>\n",
       "    <tr>\n",
       "      <th>317</th>\n",
       "      <td>1401 WATER HYDRANT METER</td>\n",
       "      <td>1471631</td>\n",
       "    </tr>\n",
       "    <tr>\n",
       "      <th>318</th>\n",
       "      <td>1401 WATER HYDRANT METER</td>\n",
       "      <td>1471632</td>\n",
       "    </tr>\n",
       "    <tr>\n",
       "      <th>319</th>\n",
       "      <td>1401 WATER HYDRANT METER</td>\n",
       "      <td>1471633</td>\n",
       "    </tr>\n",
       "    <tr>\n",
       "      <th>320</th>\n",
       "      <td>1 SUMMIT</td>\n",
       "      <td>1579957</td>\n",
       "    </tr>\n",
       "    <tr>\n",
       "      <th>321</th>\n",
       "      <td>2821 KRESSINGTON DR</td>\n",
       "      <td>1596684</td>\n",
       "    </tr>\n",
       "    <tr>\n",
       "      <th>322</th>\n",
       "      <td>1 BAD DEBT</td>\n",
       "      <td>1635490</td>\n",
       "    </tr>\n",
       "    <tr>\n",
       "      <th>323</th>\n",
       "      <td>000 HYDRANT FLOW TEST PL</td>\n",
       "      <td>1638790</td>\n",
       "    </tr>\n",
       "    <tr>\n",
       "      <th>324</th>\n",
       "      <td>1401 WATER HYDRANT METER</td>\n",
       "      <td>1639202</td>\n",
       "    </tr>\n",
       "    <tr>\n",
       "      <th>325</th>\n",
       "      <td>1401 WATER HYDRANT METER</td>\n",
       "      <td>1639203</td>\n",
       "    </tr>\n",
       "    <tr>\n",
       "      <th>326</th>\n",
       "      <td>1401 WATER HYDRANT METER</td>\n",
       "      <td>1639204</td>\n",
       "    </tr>\n",
       "    <tr>\n",
       "      <th>327</th>\n",
       "      <td>1401 WATER HYDRANT METER</td>\n",
       "      <td>1639205</td>\n",
       "    </tr>\n",
       "    <tr>\n",
       "      <th>328</th>\n",
       "      <td>1401 WATER HYDRANT METER</td>\n",
       "      <td>1639206</td>\n",
       "    </tr>\n",
       "    <tr>\n",
       "      <th>329</th>\n",
       "      <td>1401 WATER HYDRANT METER</td>\n",
       "      <td>1639207</td>\n",
       "    </tr>\n",
       "    <tr>\n",
       "      <th>...</th>\n",
       "      <td>...</td>\n",
       "      <td>...</td>\n",
       "    </tr>\n",
       "    <tr>\n",
       "      <th>370</th>\n",
       "      <td>1401 WATER HYDRANT METER</td>\n",
       "      <td>1803079</td>\n",
       "    </tr>\n",
       "    <tr>\n",
       "      <th>371</th>\n",
       "      <td>1401 WATER HYDRANT METER</td>\n",
       "      <td>1803080</td>\n",
       "    </tr>\n",
       "    <tr>\n",
       "      <th>372</th>\n",
       "      <td>1401 WATER HYDRANT METER</td>\n",
       "      <td>1803081</td>\n",
       "    </tr>\n",
       "    <tr>\n",
       "      <th>373</th>\n",
       "      <td>1401 WATER HYDRANT METER</td>\n",
       "      <td>1803082</td>\n",
       "    </tr>\n",
       "    <tr>\n",
       "      <th>374</th>\n",
       "      <td>1401 WATER HYDRANT METER</td>\n",
       "      <td>1803083</td>\n",
       "    </tr>\n",
       "    <tr>\n",
       "      <th>375</th>\n",
       "      <td>1401 WATER HYDRANT METER</td>\n",
       "      <td>1803084</td>\n",
       "    </tr>\n",
       "    <tr>\n",
       "      <th>376</th>\n",
       "      <td>1401 WATER HYDRANT METER</td>\n",
       "      <td>1803085</td>\n",
       "    </tr>\n",
       "    <tr>\n",
       "      <th>377</th>\n",
       "      <td>1401 WATER HYDRANT METER</td>\n",
       "      <td>1803086</td>\n",
       "    </tr>\n",
       "    <tr>\n",
       "      <th>378</th>\n",
       "      <td>1401 WATER HYDRANT METER</td>\n",
       "      <td>1803087</td>\n",
       "    </tr>\n",
       "    <tr>\n",
       "      <th>379</th>\n",
       "      <td>1401 WATER HYDRANT METER</td>\n",
       "      <td>1803088</td>\n",
       "    </tr>\n",
       "    <tr>\n",
       "      <th>380</th>\n",
       "      <td>1401 WATER HYDRANT METER</td>\n",
       "      <td>1803089</td>\n",
       "    </tr>\n",
       "    <tr>\n",
       "      <th>381</th>\n",
       "      <td>1401 WATER HYDRANT METER</td>\n",
       "      <td>1803090</td>\n",
       "    </tr>\n",
       "    <tr>\n",
       "      <th>382</th>\n",
       "      <td>1401 WATER HYDRANT METER</td>\n",
       "      <td>1803091</td>\n",
       "    </tr>\n",
       "    <tr>\n",
       "      <th>383</th>\n",
       "      <td>1401 WATER HYDRANT METER</td>\n",
       "      <td>1803092</td>\n",
       "    </tr>\n",
       "    <tr>\n",
       "      <th>384</th>\n",
       "      <td>1401 WATER HYDRANT METER</td>\n",
       "      <td>1803093</td>\n",
       "    </tr>\n",
       "    <tr>\n",
       "      <th>385</th>\n",
       "      <td>1401 WATER HYDRANT METER</td>\n",
       "      <td>1803094</td>\n",
       "    </tr>\n",
       "    <tr>\n",
       "      <th>386</th>\n",
       "      <td>1401 WATER HYDRANT METER</td>\n",
       "      <td>1803095</td>\n",
       "    </tr>\n",
       "    <tr>\n",
       "      <th>387</th>\n",
       "      <td>1401 WATER HYDRANT METER</td>\n",
       "      <td>1803096</td>\n",
       "    </tr>\n",
       "    <tr>\n",
       "      <th>388</th>\n",
       "      <td>1401 WATER HYDRANT METER</td>\n",
       "      <td>1803097</td>\n",
       "    </tr>\n",
       "    <tr>\n",
       "      <th>389</th>\n",
       "      <td>1401 WATER HYDRANT METER</td>\n",
       "      <td>1803098</td>\n",
       "    </tr>\n",
       "    <tr>\n",
       "      <th>390</th>\n",
       "      <td>1401 WATER HYDRANT METER</td>\n",
       "      <td>1803099</td>\n",
       "    </tr>\n",
       "    <tr>\n",
       "      <th>391</th>\n",
       "      <td>1401 WATER HYDRANT METER</td>\n",
       "      <td>1803100</td>\n",
       "    </tr>\n",
       "    <tr>\n",
       "      <th>392</th>\n",
       "      <td>1401 WATER HYDRANT METER</td>\n",
       "      <td>1803101</td>\n",
       "    </tr>\n",
       "    <tr>\n",
       "      <th>393</th>\n",
       "      <td>1401 WATER HYDRANT METER</td>\n",
       "      <td>1803102</td>\n",
       "    </tr>\n",
       "    <tr>\n",
       "      <th>394</th>\n",
       "      <td>1401 WATER HYDRANT METER</td>\n",
       "      <td>1803103</td>\n",
       "    </tr>\n",
       "    <tr>\n",
       "      <th>395</th>\n",
       "      <td>1401 WATER HYDRANT METER</td>\n",
       "      <td>1803104</td>\n",
       "    </tr>\n",
       "    <tr>\n",
       "      <th>396</th>\n",
       "      <td>1 SUMMIT</td>\n",
       "      <td>1910147</td>\n",
       "    </tr>\n",
       "    <tr>\n",
       "      <th>397</th>\n",
       "      <td>2821 KRESSINGTON DR</td>\n",
       "      <td>1926818</td>\n",
       "    </tr>\n",
       "    <tr>\n",
       "      <th>398</th>\n",
       "      <td>000 HYDRANT FLOW TEST PL</td>\n",
       "      <td>1968032</td>\n",
       "    </tr>\n",
       "    <tr>\n",
       "      <th>399</th>\n",
       "      <td>000 HYDRANT FLOW TEST PL</td>\n",
       "      <td>1968033</td>\n",
       "    </tr>\n",
       "  </tbody>\n",
       "</table>\n",
       "<p>100 rows × 2 columns</p>\n",
       "</div>"
      ],
      "text/plain": [
       "                         addr      loc\n",
       "300  1401 WATER HYDRANT METER  1471614\n",
       "301  1401 WATER HYDRANT METER  1471615\n",
       "302  1401 WATER HYDRANT METER  1471616\n",
       "303  1401 WATER HYDRANT METER  1471617\n",
       "304  1401 WATER HYDRANT METER  1471618\n",
       "305  1401 WATER HYDRANT METER  1471619\n",
       "306  1401 WATER HYDRANT METER  1471620\n",
       "307  1401 WATER HYDRANT METER  1471621\n",
       "308  1401 WATER HYDRANT METER  1471622\n",
       "309  1401 WATER HYDRANT METER  1471623\n",
       "310  1401 WATER HYDRANT METER  1471624\n",
       "311  1401 WATER HYDRANT METER  1471625\n",
       "312  1401 WATER HYDRANT METER  1471626\n",
       "313  1401 WATER HYDRANT METER  1471627\n",
       "314  1401 WATER HYDRANT METER  1471628\n",
       "315  1401 WATER HYDRANT METER  1471629\n",
       "316  1401 WATER HYDRANT METER  1471630\n",
       "317  1401 WATER HYDRANT METER  1471631\n",
       "318  1401 WATER HYDRANT METER  1471632\n",
       "319  1401 WATER HYDRANT METER  1471633\n",
       "320                  1 SUMMIT  1579957\n",
       "321       2821 KRESSINGTON DR  1596684\n",
       "322                1 BAD DEBT  1635490\n",
       "323  000 HYDRANT FLOW TEST PL  1638790\n",
       "324  1401 WATER HYDRANT METER  1639202\n",
       "325  1401 WATER HYDRANT METER  1639203\n",
       "326  1401 WATER HYDRANT METER  1639204\n",
       "327  1401 WATER HYDRANT METER  1639205\n",
       "328  1401 WATER HYDRANT METER  1639206\n",
       "329  1401 WATER HYDRANT METER  1639207\n",
       "..                        ...      ...\n",
       "370  1401 WATER HYDRANT METER  1803079\n",
       "371  1401 WATER HYDRANT METER  1803080\n",
       "372  1401 WATER HYDRANT METER  1803081\n",
       "373  1401 WATER HYDRANT METER  1803082\n",
       "374  1401 WATER HYDRANT METER  1803083\n",
       "375  1401 WATER HYDRANT METER  1803084\n",
       "376  1401 WATER HYDRANT METER  1803085\n",
       "377  1401 WATER HYDRANT METER  1803086\n",
       "378  1401 WATER HYDRANT METER  1803087\n",
       "379  1401 WATER HYDRANT METER  1803088\n",
       "380  1401 WATER HYDRANT METER  1803089\n",
       "381  1401 WATER HYDRANT METER  1803090\n",
       "382  1401 WATER HYDRANT METER  1803091\n",
       "383  1401 WATER HYDRANT METER  1803092\n",
       "384  1401 WATER HYDRANT METER  1803093\n",
       "385  1401 WATER HYDRANT METER  1803094\n",
       "386  1401 WATER HYDRANT METER  1803095\n",
       "387  1401 WATER HYDRANT METER  1803096\n",
       "388  1401 WATER HYDRANT METER  1803097\n",
       "389  1401 WATER HYDRANT METER  1803098\n",
       "390  1401 WATER HYDRANT METER  1803099\n",
       "391  1401 WATER HYDRANT METER  1803100\n",
       "392  1401 WATER HYDRANT METER  1803101\n",
       "393  1401 WATER HYDRANT METER  1803102\n",
       "394  1401 WATER HYDRANT METER  1803103\n",
       "395  1401 WATER HYDRANT METER  1803104\n",
       "396                  1 SUMMIT  1910147\n",
       "397       2821 KRESSINGTON DR  1926818\n",
       "398  000 HYDRANT FLOW TEST PL  1968032\n",
       "399  000 HYDRANT FLOW TEST PL  1968033\n",
       "\n",
       "[100 rows x 2 columns]"
      ]
     },
     "execution_count": 11,
     "metadata": {},
     "output_type": "execute_result"
    }
   ],
   "source": [
    "dftestutilities.iloc[300:400]"
   ]
  },
  {
   "cell_type": "code",
   "execution_count": null,
   "metadata": {},
   "outputs": [],
   "source": [
    "dftest = pd.read_csv(path+'Total.csv')"
   ]
  },
  {
   "cell_type": "code",
   "execution_count": null,
   "metadata": {},
   "outputs": [],
   "source": [
    "dftest.head()"
   ]
  },
  {
   "cell_type": "code",
   "execution_count": null,
   "metadata": {},
   "outputs": [],
   "source": [
    "dftest['Premise Address'][0]"
   ]
  },
  {
   "cell_type": "code",
   "execution_count": null,
   "metadata": {},
   "outputs": [],
   "source": [
    "df = pd.read_csv('/Users/william/Dropbox (Amherst College)/CDS-2019-AlbanyHub/Raw-Data/ReformattedYears/Total.csv')"
   ]
  },
  {
   "cell_type": "code",
   "execution_count": null,
   "metadata": {},
   "outputs": [],
   "source": [
    "df.drop(['Unnamed: 0', 'ChargeID.1'], axis=1, inplace=True)"
   ]
  },
  {
   "cell_type": "code",
   "execution_count": null,
   "metadata": {},
   "outputs": [],
   "source": [
    "dftestutilities = pd.read_csv('/Users/william/Dropbox (Amherst College)/CDS-2019-AlbanyHub/Raw-Data/ReformattedYears/utilities_notfound.csv')"
   ]
  },
  {
   "cell_type": "code",
   "execution_count": null,
   "metadata": {},
   "outputs": [],
   "source": [
    "dftestutilities['addr'].value_counts()"
   ]
  },
  {
   "cell_type": "markdown",
   "metadata": {},
   "source": [
    "120 OLD BLAYLOCK LN\n",
    "902 COTTON AVE"
   ]
  },
  {
   "cell_type": "code",
   "execution_count": null,
   "metadata": {},
   "outputs": [],
   "source": [
    "df_junc = pd.read_csv('/Users/william/Dropbox (Amherst College)/CDS-2019-AlbanyHub/ToDatabase/addr_junct_table.csv')"
   ]
  },
  {
   "cell_type": "code",
   "execution_count": null,
   "metadata": {},
   "outputs": [],
   "source": [
    "df_junc[df_junc['Address'] == \"929 BLAKELY CT\"]"
   ]
  },
  {
   "cell_type": "code",
   "execution_count": null,
   "metadata": {},
   "outputs": [],
   "source": [
    "import Levenshtein"
   ]
  },
  {
   "cell_type": "code",
   "execution_count": null,
   "metadata": {},
   "outputs": [],
   "source": [
    "def lev_list(address_list, address, i):\n",
    "    temp_list = []\n",
    "    temp_list_u = []\n",
    "    for u_address in address_list:\n",
    "        if Levenshtein.distance(address, u_address.upper()) <= i:\n",
    "            temp_list.append(address)\n",
    "            temp_list_u.append(u_address.upper())\n",
    "    temp_list_series = pd.Series(temp_list)\n",
    "    temp_list_u_series = pd.Series(temp_list_u)\n",
    "    return temp_list_u_series"
   ]
  },
  {
   "cell_type": "code",
   "execution_count": null,
   "metadata": {},
   "outputs": [],
   "source": [
    "lev_list(df_junc['Address'], \"231 E OGLETHORPE AVE\", 1)"
   ]
  },
  {
   "cell_type": "code",
   "execution_count": 7,
   "metadata": {},
   "outputs": [
    {
     "data": {
      "text/plain": [
       "(15637769, 16)"
      ]
     },
     "execution_count": 7,
     "metadata": {},
     "output_type": "execute_result"
    }
   ],
   "source": [
    "df.shape"
   ]
  },
  {
   "cell_type": "code",
   "execution_count": 8,
   "metadata": {},
   "outputs": [],
   "source": [
    "s_u = df['Premise Address']"
   ]
  },
  {
   "cell_type": "code",
   "execution_count": null,
   "metadata": {},
   "outputs": [],
   "source": [
    "s_"
   ]
  }
 ],
 "metadata": {
  "kernelspec": {
   "display_name": "Python 3",
   "language": "python",
   "name": "python3"
  },
  "language_info": {
   "codemirror_mode": {
    "name": "ipython",
    "version": 3
   },
   "file_extension": ".py",
   "mimetype": "text/x-python",
   "name": "python",
   "nbconvert_exporter": "python",
   "pygments_lexer": "ipython3",
   "version": "3.7.3"
  }
 },
 "nbformat": 4,
 "nbformat_minor": 2
}
