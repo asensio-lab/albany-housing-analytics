{
 "cells": [
  {
   "cell_type": "code",
<<<<<<< HEAD
   "execution_count": 1,
=======
   "execution_count": 2,
>>>>>>> d25330d3aa58e1754b2164e3fea669eef270f7ed
   "metadata": {},
   "outputs": [],
   "source": [
    "import pandas as pd"
   ]
  },
  {
   "cell_type": "code",
   "execution_count": 3,
   "metadata": {},
   "outputs": [
    {
     "name": "stderr",
     "output_type": "stream",
     "text": [
<<<<<<< HEAD
      "/anaconda3/envs/cds_env/lib/python3.7/site-packages/IPython/core/interactiveshell.py:3049: DtypeWarning: Columns (0) have mixed types. Specify dtype option on import or set low_memory=False.\n",
=======
      "/anaconda3/envs/cds/lib/python3.7/site-packages/IPython/core/interactiveshell.py:3049: DtypeWarning: Columns (0) have mixed types. Specify dtype option on import or set low_memory=False.\n",
>>>>>>> d25330d3aa58e1754b2164e3fea669eef270f7ed
      "  interactivity=interactivity, compiler=compiler, result=result)\n"
     ]
    }
   ],
   "source": [
<<<<<<< HEAD
    "df_utilities = pd.read_csv('~/Dropbox/CDS-2019-AlbanyHub/ToDatabase/TotalUtilities.csv')"
=======
    "df_utilities = pd.read_csv('~/Dropbox (Amherst College)/CDS-2019-AlbanyHub/ToDatabase/TotalUtilities.csv')"
>>>>>>> d25330d3aa58e1754b2164e3fea669eef270f7ed
   ]
  },
  {
   "cell_type": "code",
   "execution_count": 4,
   "metadata": {},
   "outputs": [],
   "source": [
<<<<<<< HEAD
    "df_junction_table = pd.read_csv('~/Dropbox/CDS-2019-AlbanyHub/ToDatabase/addr_db.csv')"
=======
    "df_junction_table = pd.read_csv('~/Dropbox (Amherst College)/CDS-2019-AlbanyHub/ToDatabase/addr_db.csv')"
>>>>>>> d25330d3aa58e1754b2164e3fea669eef270f7ed
   ]
  },
  {
   "cell_type": "code",
   "execution_count": 5,
   "metadata": {},
   "outputs": [],
   "source": [
    "pd.options.display.max_columns = 15"
   ]
  },
  {
   "cell_type": "code",
   "execution_count": 6,
   "metadata": {},
   "outputs": [],
   "source": [
    "df_junction_table.columns = ['PrimaryID', 'Address', 'Xcoord', 'Ycoord', 'Tract', 'BlockGroup']"
   ]
  },
  {
   "cell_type": "code",
   "execution_count": 7,
   "metadata": {},
   "outputs": [
    {
     "data": {
      "text/html": [
       "<div>\n",
       "<style scoped>\n",
       "    .dataframe tbody tr th:only-of-type {\n",
       "        vertical-align: middle;\n",
       "    }\n",
       "\n",
       "    .dataframe tbody tr th {\n",
       "        vertical-align: top;\n",
       "    }\n",
       "\n",
       "    .dataframe thead th {\n",
       "        text-align: right;\n",
       "    }\n",
       "</style>\n",
       "<table border=\"1\" class=\"dataframe\">\n",
       "  <thead>\n",
       "    <tr style=\"text-align: right;\">\n",
       "      <th></th>\n",
       "      <th>PrimaryID</th>\n",
       "      <th>Address</th>\n",
       "      <th>Xcoord</th>\n",
       "      <th>Ycoord</th>\n",
       "      <th>Tract</th>\n",
       "      <th>BlockGroup</th>\n",
       "    </tr>\n",
       "  </thead>\n",
       "  <tbody>\n",
       "    <tr>\n",
       "      <th>0</th>\n",
       "      <td>0</td>\n",
       "      <td>1486 US HIGHWAY 19 S</td>\n",
       "      <td>31.732116</td>\n",
       "      <td>-84.170742</td>\n",
       "      <td>20300.0</td>\n",
       "      <td>1037.0</td>\n",
       "    </tr>\n",
       "    <tr>\n",
       "      <th>1</th>\n",
       "      <td>1</td>\n",
       "      <td>1064 US HIGHWAY 19 S</td>\n",
       "      <td>31.665719</td>\n",
       "      <td>-84.173577</td>\n",
       "      <td>20402.0</td>\n",
       "      <td>3003.0</td>\n",
       "    </tr>\n",
       "    <tr>\n",
       "      <th>2</th>\n",
       "      <td>2</td>\n",
       "      <td>905 US HIGHWAY 19 S</td>\n",
       "      <td>31.676679</td>\n",
       "      <td>-84.172067</td>\n",
       "      <td>20402.0</td>\n",
       "      <td>1001.0</td>\n",
       "    </tr>\n",
       "    <tr>\n",
       "      <th>3</th>\n",
       "      <td>3</td>\n",
       "      <td>501 S MADISON ST</td>\n",
       "      <td>31.570488</td>\n",
       "      <td>-84.162164</td>\n",
       "      <td>1500.0</td>\n",
       "      <td>1013.0</td>\n",
       "    </tr>\n",
       "    <tr>\n",
       "      <th>4</th>\n",
       "      <td>4</td>\n",
       "      <td>525 LINCOLN AVE</td>\n",
       "      <td>31.569466</td>\n",
       "      <td>-84.161175</td>\n",
       "      <td>1500.0</td>\n",
       "      <td>1012.0</td>\n",
       "    </tr>\n",
       "  </tbody>\n",
       "</table>\n",
       "</div>"
      ],
      "text/plain": [
       "   PrimaryID               Address     Xcoord     Ycoord    Tract  BlockGroup\n",
       "0          0  1486 US HIGHWAY 19 S  31.732116 -84.170742  20300.0      1037.0\n",
       "1          1  1064 US HIGHWAY 19 S  31.665719 -84.173577  20402.0      3003.0\n",
       "2          2   905 US HIGHWAY 19 S  31.676679 -84.172067  20402.0      1001.0\n",
       "3          3      501 S MADISON ST  31.570488 -84.162164   1500.0      1013.0\n",
       "4          4       525 LINCOLN AVE  31.569466 -84.161175   1500.0      1012.0"
      ]
     },
     "execution_count": 7,
     "metadata": {},
     "output_type": "execute_result"
    }
   ],
   "source": [
    "df_junction_table.head()"
   ]
  },
  {
   "cell_type": "code",
   "execution_count": 8,
   "metadata": {},
   "outputs": [],
   "source": [
    "s_junction_table = df_junction_table['Address']"
   ]
  },
  {
   "cell_type": "code",
   "execution_count": 9,
   "metadata": {},
   "outputs": [],
   "source": [
    "s_utilities = df_utilities['Premise Address']"
   ]
  },
  {
   "cell_type": "code",
<<<<<<< HEAD
   "execution_count": 10,
=======
   "execution_count": null,
>>>>>>> d25330d3aa58e1754b2164e3fea669eef270f7ed
   "metadata": {},
   "outputs": [],
   "source": [
    "x = s_utilities.shape[0] # 14748395"
   ]
  },
  {
   "cell_type": "code",
<<<<<<< HEAD
   "execution_count": 11,
=======
   "execution_count": null,
>>>>>>> d25330d3aa58e1754b2164e3fea669eef270f7ed
   "metadata": {},
   "outputs": [
    {
     "data": {
      "text/plain": [
       "3687098"
      ]
     },
     "execution_count": 11,
     "metadata": {},
     "output_type": "execute_result"
    }
   ],
   "source": [
    "x // 4"
   ]
  },
  {
   "cell_type": "markdown",
   "metadata": {},
   "source": [
    "## Ranges:\n",
    "#### Billy: 0 - 3687098\n",
    "#### Olivia: 3687098 - 7374196\n",
    "#### David: 7374196 - 11061294\n",
    "#### Mirabel: 11061294 - 14748395 (mirabel needs to change size of primary list to 3687101"
   ]
  },
  {
   "cell_type": "code",
   "execution_count": null,
   "metadata": {},
   "outputs": [
    {
     "name": "stdout",
     "output_type": "stream",
     "text": [
      "0\n",
      "10000\n",
<<<<<<< HEAD
      "20000\n"
=======
      "20000\n",
      "30000\n",
      "40000\n"
>>>>>>> d25330d3aa58e1754b2164e3fea669eef270f7ed
     ]
    }
   ],
   "source": [
    "primaryid_list1 = [None] * 3687098\n",
    "notfound_list1 = []\n",
    "counter = 0\n",
<<<<<<< HEAD
    "for i in range(3687098, 7374196):\n",
=======
    "for i in range(0, 3687098):\n",
>>>>>>> d25330d3aa58e1754b2164e3fea669eef270f7ed
    "    if counter % 10000 == 0:\n",
    "        print(str(counter))\n",
    "    try:\n",
    "        index_ = s_junction_table[s_junction_table == s_utilities[i]].index[0] #get index of where addresses match\n",
    "        primaryid_list1[i] = index_\n",
    "    except:\n",
    "        primaryid_list1[i] = \"NA\"\n",
    "        notfound_list1.append(s_utilities[i])\n",
    "    counter += 1\n",
    "primaryID1 = pd.Series(primaryid_list1)\n",
    "notFound1 = pd.Series(notfound_list1)"
   ]
  },
  {
   "cell_type": "code",
   "execution_count": null,
   "metadata": {},
   "outputs": [],
   "source": []
  }
 ],
 "metadata": {
  "kernelspec": {
<<<<<<< HEAD
   "display_name": "Python [conda env:cds_env] *",
   "language": "python",
   "name": "conda-env-cds_env-py"
=======
   "display_name": "Python [conda env:cds] *",
   "language": "python",
   "name": "conda-env-cds-py"
>>>>>>> d25330d3aa58e1754b2164e3fea669eef270f7ed
  },
  "language_info": {
   "codemirror_mode": {
    "name": "ipython",
    "version": 3
   },
   "file_extension": ".py",
   "mimetype": "text/x-python",
   "name": "python",
   "nbconvert_exporter": "python",
   "pygments_lexer": "ipython3",
   "version": "3.7.3"
  }
 },
 "nbformat": 4,
 "nbformat_minor": 2
}
