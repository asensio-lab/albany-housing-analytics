{
 "cells": [
  {
   "cell_type": "code",
   "execution_count": 12,
   "metadata": {},
   "outputs": [],
   "source": [
    "import pandas as pd\n",
    "import matplotlib.pyplot as plt\n",
    "import numpy as np\n",
    "from scipy import stats\n",
    "import datetime as dt"
   ]
  },
  {
   "cell_type": "code",
   "execution_count": 22,
   "metadata": {},
   "outputs": [
    {
     "data": {
      "text/plain": [
       "datetime.timedelta(days=-59)"
      ]
     },
     "execution_count": 22,
     "metadata": {},
     "output_type": "execute_result"
    }
   ],
   "source": [
    "a = dt.datetime.strptime('6/24/17', '%m/%d/%y')\n",
    "b = dt.datetime.strptime('4/26/17', '%m/%d/%y')\n",
    "b-a"
   ]
  },
  {
   "cell_type": "code",
   "execution_count": 63,
   "metadata": {},
   "outputs": [],
   "source": [
    "#Returns true if the project was completed during this record, false if not\n",
    "def binarize(series):\n",
    "    return series['PlanYear']<series['YearShift']\n",
    "#Same function, but using charge date and completed date\n",
    "def binarize1(series):\n",
    "    return series['StatusDate']<series['ChargeDateShift']\n",
    "#Same function using only 12 months before/after\n",
    "def binarize2(series):\n",
    "    a =  series['StatusDate']\n",
    "    b = series['ChargeDateShift']\n",
    "    if abs((b-a).days)<365:\n",
    "        return float(a<b)\n",
    "    else:\n",
    "        return np.nan\n",
    "#using months after/before instead of raw months\n",
    "def prepost(series):\n",
    "    a =  series['StatusDate']\n",
    "    b = series['ChargeDateShift']\n",
    "    if abs((b-a).days)<365:\n",
    "        return (b.year - a.year) * 12 + b.month - a.month\n",
    "    else:\n",
    "        return np.nan\n",
    "#Apply both the below functions to shift the charge date back one month\n",
    "def shift_y(series):\n",
    "    if series['Month'] == 1:\n",
    "        return series['Year']-1\n",
    "    else:\n",
    "        return series['Year']\n",
    "def shift_m(series):\n",
    "    if series['Month'] == 1:\n",
    "        return 12\n",
    "    else:\n",
    "        return series['Month']-1\n",
    "#Convert MY to date\n",
    "def toDateMY(series):\n",
    "    y = series['YearShift']\n",
    "    m = series['MonthShift']\n",
    "    days_per_month = [31,28,31,30,31,30,31,31,30,31,30,31]\n",
    "    days_per_month_ly =[31,29,31,30,31,30,31,31,30,31,30,31]\n",
    "    if y%4 == 0:\n",
    "        d = days_per_month_ly[int(m)-1]\n",
    "    else:\n",
    "        d = days_per_month[int(m)-1]\n",
    "    return dt.datetime.strptime(\"\"+str(int(series['YearShift']))+\"-\"+str(int(series['MonthShift']))+\"-\"+str(d), '%Y-%m-%d')\n",
    "def toDate2(series):\n",
    "    return dt.datetime.strptime(series, '%m/%d/%y')\n"
   ]
  },
  {
   "cell_type": "code",
   "execution_count": 75,
   "metadata": {},
   "outputs": [],
   "source": [
    "\n",
    "df = pd.read_csv(\"/home/mirabel/Dropbox (GaTech)/CDS-2019-AlbanyHub/subsets of utilities/rep_rehab_utilities_sqft.csv\")\n",
    "df['YearShift'] = df[['Year', 'Month']].apply(shift_y, axis=1)\n",
    "df['MonthShift'] = df[['Year', 'Month']].apply(shift_m, axis=1)\n",
    "\n",
    "#group by month, year, address, type\n",
    "sr = df[['YearShift', 'MonthShift', 'ServiceType', 'Address','StatusDate', 'ConsumptionPerSQFT']].copy()\n",
    "df = sr.groupby(by=['YearShift', 'MonthShift', 'ServiceType', 'Address', 'StatusDate']).sum().reset_index()\n",
    "df['ChargeDateShift'] = df[['YearShift', 'MonthShift']].apply(toDateMY, axis=1)\n",
    "df['StatusDate'] = df['StatusDate'].apply(toDate2)\n",
    "df['projectCompleted'] = df[['StatusDate', 'ChargeDateShift']].apply(binarize1, axis=1)\n",
    "# sr = df[['MonthShift', 'YearShift', 'Address','ServiceType', 'PlanYear', 'ConsumptionPerSQFT']].copy()\n",
    "# df = sr.groupby(by=['YearShift', 'MonthShift', 'ServiceType', 'Address', 'PlanYear']).sum().reset_index()\n",
    "# df['projectCompleted'] = df[['YearShift', 'PlanYear']].apply(binarize, axis=1)"
   ]
  },
  {
   "cell_type": "code",
   "execution_count": null,
   "metadata": {},
   "outputs": [],
   "source": []
  },
  {
   "cell_type": "code",
   "execution_count": 76,
   "metadata": {},
   "outputs": [
    {
     "data": {
      "text/html": [
       "<div>\n",
       "<style scoped>\n",
       "    .dataframe tbody tr th:only-of-type {\n",
       "        vertical-align: middle;\n",
       "    }\n",
       "\n",
       "    .dataframe tbody tr th {\n",
       "        vertical-align: top;\n",
       "    }\n",
       "\n",
       "    .dataframe thead th {\n",
       "        text-align: right;\n",
       "    }\n",
       "</style>\n",
       "<table border=\"1\" class=\"dataframe\">\n",
       "  <thead>\n",
       "    <tr style=\"text-align: right;\">\n",
       "      <th></th>\n",
       "      <th>YearShift</th>\n",
       "      <th>MonthShift</th>\n",
       "      <th>ServiceType</th>\n",
       "      <th>Address</th>\n",
       "      <th>StatusDate</th>\n",
       "      <th>ConsumptionPerSQFT</th>\n",
       "      <th>ChargeDateShift</th>\n",
       "      <th>projectCompleted</th>\n",
       "    </tr>\n",
       "  </thead>\n",
       "  <tbody>\n",
       "    <tr>\n",
       "      <th>12000</th>\n",
       "      <td>2013</td>\n",
       "      <td>12</td>\n",
       "      <td>RGAS</td>\n",
       "      <td>1921 W HIGHLAND AVE</td>\n",
       "      <td>2012-10-22</td>\n",
       "      <td>0.060561</td>\n",
       "      <td>2013-12-31</td>\n",
       "      <td>True</td>\n",
       "    </tr>\n",
       "    <tr>\n",
       "      <th>12001</th>\n",
       "      <td>2013</td>\n",
       "      <td>12</td>\n",
       "      <td>RGAS</td>\n",
       "      <td>1925 S RIVERVIEW CIR</td>\n",
       "      <td>2009-09-15</td>\n",
       "      <td>0.065747</td>\n",
       "      <td>2013-12-31</td>\n",
       "      <td>True</td>\n",
       "    </tr>\n",
       "    <tr>\n",
       "      <th>12002</th>\n",
       "      <td>2013</td>\n",
       "      <td>12</td>\n",
       "      <td>RGAS</td>\n",
       "      <td>1934 S RIVERVIEW CIR</td>\n",
       "      <td>2017-09-06</td>\n",
       "      <td>0.056966</td>\n",
       "      <td>2013-12-31</td>\n",
       "      <td>False</td>\n",
       "    </tr>\n",
       "    <tr>\n",
       "      <th>12003</th>\n",
       "      <td>2013</td>\n",
       "      <td>12</td>\n",
       "      <td>RGAS</td>\n",
       "      <td>2000 COLQUITT AVE</td>\n",
       "      <td>2014-05-29</td>\n",
       "      <td>0.064846</td>\n",
       "      <td>2013-12-31</td>\n",
       "      <td>False</td>\n",
       "    </tr>\n",
       "    <tr>\n",
       "      <th>12004</th>\n",
       "      <td>2013</td>\n",
       "      <td>12</td>\n",
       "      <td>RGAS</td>\n",
       "      <td>2002 N SKYLANE DR</td>\n",
       "      <td>2008-04-16</td>\n",
       "      <td>0.043287</td>\n",
       "      <td>2013-12-31</td>\n",
       "      <td>True</td>\n",
       "    </tr>\n",
       "    <tr>\n",
       "      <th>12005</th>\n",
       "      <td>2013</td>\n",
       "      <td>12</td>\n",
       "      <td>RGAS</td>\n",
       "      <td>2004 COLQUITT AVE</td>\n",
       "      <td>2010-10-12</td>\n",
       "      <td>0.125335</td>\n",
       "      <td>2013-12-31</td>\n",
       "      <td>True</td>\n",
       "    </tr>\n",
       "    <tr>\n",
       "      <th>12006</th>\n",
       "      <td>2013</td>\n",
       "      <td>12</td>\n",
       "      <td>RGAS</td>\n",
       "      <td>2004 COLQUITT AVE</td>\n",
       "      <td>2011-02-14</td>\n",
       "      <td>0.125335</td>\n",
       "      <td>2013-12-31</td>\n",
       "      <td>True</td>\n",
       "    </tr>\n",
       "    <tr>\n",
       "      <th>12007</th>\n",
       "      <td>2013</td>\n",
       "      <td>12</td>\n",
       "      <td>RGAS</td>\n",
       "      <td>2004 W WHITNEY AVE</td>\n",
       "      <td>2013-01-25</td>\n",
       "      <td>0.041008</td>\n",
       "      <td>2013-12-31</td>\n",
       "      <td>True</td>\n",
       "    </tr>\n",
       "    <tr>\n",
       "      <th>12008</th>\n",
       "      <td>2013</td>\n",
       "      <td>12</td>\n",
       "      <td>RGAS</td>\n",
       "      <td>2007 EVERGREEN DR</td>\n",
       "      <td>2011-03-02</td>\n",
       "      <td>0.037594</td>\n",
       "      <td>2013-12-31</td>\n",
       "      <td>True</td>\n",
       "    </tr>\n",
       "    <tr>\n",
       "      <th>12009</th>\n",
       "      <td>2013</td>\n",
       "      <td>12</td>\n",
       "      <td>RGAS</td>\n",
       "      <td>2010 COLQUITT AVE</td>\n",
       "      <td>2011-09-01</td>\n",
       "      <td>0.060403</td>\n",
       "      <td>2013-12-31</td>\n",
       "      <td>True</td>\n",
       "    </tr>\n",
       "    <tr>\n",
       "      <th>12010</th>\n",
       "      <td>2013</td>\n",
       "      <td>12</td>\n",
       "      <td>RGAS</td>\n",
       "      <td>2016 MARTIN LUTHER KING JR DR</td>\n",
       "      <td>2011-08-18</td>\n",
       "      <td>0.057143</td>\n",
       "      <td>2013-12-31</td>\n",
       "      <td>True</td>\n",
       "    </tr>\n",
       "    <tr>\n",
       "      <th>12011</th>\n",
       "      <td>2013</td>\n",
       "      <td>12</td>\n",
       "      <td>RGAS</td>\n",
       "      <td>202 MOORE AVE</td>\n",
       "      <td>2018-03-07</td>\n",
       "      <td>0.036643</td>\n",
       "      <td>2013-12-31</td>\n",
       "      <td>False</td>\n",
       "    </tr>\n",
       "    <tr>\n",
       "      <th>12012</th>\n",
       "      <td>2013</td>\n",
       "      <td>12</td>\n",
       "      <td>RGAS</td>\n",
       "      <td>202 N WEST RD</td>\n",
       "      <td>2016-04-01</td>\n",
       "      <td>0.103933</td>\n",
       "      <td>2013-12-31</td>\n",
       "      <td>False</td>\n",
       "    </tr>\n",
       "    <tr>\n",
       "      <th>12013</th>\n",
       "      <td>2013</td>\n",
       "      <td>12</td>\n",
       "      <td>RGAS</td>\n",
       "      <td>2020 N RIVERVIEW CIR</td>\n",
       "      <td>2017-03-23</td>\n",
       "      <td>0.054147</td>\n",
       "      <td>2013-12-31</td>\n",
       "      <td>False</td>\n",
       "    </tr>\n",
       "    <tr>\n",
       "      <th>12014</th>\n",
       "      <td>2013</td>\n",
       "      <td>12</td>\n",
       "      <td>RGAS</td>\n",
       "      <td>2028 N RIVERVIEW CIR</td>\n",
       "      <td>2017-09-06</td>\n",
       "      <td>0.029472</td>\n",
       "      <td>2013-12-31</td>\n",
       "      <td>False</td>\n",
       "    </tr>\n",
       "    <tr>\n",
       "      <th>12015</th>\n",
       "      <td>2013</td>\n",
       "      <td>12</td>\n",
       "      <td>RGAS</td>\n",
       "      <td>207 N INGLESIDE DR</td>\n",
       "      <td>2009-04-01</td>\n",
       "      <td>0.000000</td>\n",
       "      <td>2013-12-31</td>\n",
       "      <td>True</td>\n",
       "    </tr>\n",
       "    <tr>\n",
       "      <th>12016</th>\n",
       "      <td>2013</td>\n",
       "      <td>12</td>\n",
       "      <td>RGAS</td>\n",
       "      <td>2102 JUNIPER DR</td>\n",
       "      <td>2011-03-02</td>\n",
       "      <td>0.024107</td>\n",
       "      <td>2013-12-31</td>\n",
       "      <td>True</td>\n",
       "    </tr>\n",
       "    <tr>\n",
       "      <th>12017</th>\n",
       "      <td>2013</td>\n",
       "      <td>12</td>\n",
       "      <td>RGAS</td>\n",
       "      <td>2102 JUNIPER DR</td>\n",
       "      <td>2011-05-02</td>\n",
       "      <td>0.024107</td>\n",
       "      <td>2013-12-31</td>\n",
       "      <td>True</td>\n",
       "    </tr>\n",
       "    <tr>\n",
       "      <th>12018</th>\n",
       "      <td>2013</td>\n",
       "      <td>12</td>\n",
       "      <td>RGAS</td>\n",
       "      <td>2107 COLQUITT AVE</td>\n",
       "      <td>2011-03-03</td>\n",
       "      <td>0.068635</td>\n",
       "      <td>2013-12-31</td>\n",
       "      <td>True</td>\n",
       "    </tr>\n",
       "    <tr>\n",
       "      <th>12019</th>\n",
       "      <td>2013</td>\n",
       "      <td>12</td>\n",
       "      <td>RGAS</td>\n",
       "      <td>2107 COLQUITT AVE</td>\n",
       "      <td>2010-05-26</td>\n",
       "      <td>0.068635</td>\n",
       "      <td>2013-12-31</td>\n",
       "      <td>True</td>\n",
       "    </tr>\n",
       "    <tr>\n",
       "      <th>12020</th>\n",
       "      <td>2013</td>\n",
       "      <td>12</td>\n",
       "      <td>RGAS</td>\n",
       "      <td>2109 JUNIPER DR</td>\n",
       "      <td>2008-06-30</td>\n",
       "      <td>0.043704</td>\n",
       "      <td>2013-12-31</td>\n",
       "      <td>True</td>\n",
       "    </tr>\n",
       "    <tr>\n",
       "      <th>12021</th>\n",
       "      <td>2013</td>\n",
       "      <td>12</td>\n",
       "      <td>RGAS</td>\n",
       "      <td>2116 W WADDELL AVE</td>\n",
       "      <td>2014-11-27</td>\n",
       "      <td>0.000000</td>\n",
       "      <td>2013-12-31</td>\n",
       "      <td>False</td>\n",
       "    </tr>\n",
       "    <tr>\n",
       "      <th>12022</th>\n",
       "      <td>2013</td>\n",
       "      <td>12</td>\n",
       "      <td>RGAS</td>\n",
       "      <td>212 MITCHELL AVE</td>\n",
       "      <td>2016-08-25</td>\n",
       "      <td>0.042308</td>\n",
       "      <td>2013-12-31</td>\n",
       "      <td>False</td>\n",
       "    </tr>\n",
       "    <tr>\n",
       "      <th>12023</th>\n",
       "      <td>2013</td>\n",
       "      <td>12</td>\n",
       "      <td>RGAS</td>\n",
       "      <td>2126 COLQUITT AVE</td>\n",
       "      <td>2008-04-16</td>\n",
       "      <td>0.071429</td>\n",
       "      <td>2013-12-31</td>\n",
       "      <td>True</td>\n",
       "    </tr>\n",
       "    <tr>\n",
       "      <th>12024</th>\n",
       "      <td>2013</td>\n",
       "      <td>12</td>\n",
       "      <td>RGAS</td>\n",
       "      <td>217 TREMONT AVE</td>\n",
       "      <td>2014-03-20</td>\n",
       "      <td>0.027671</td>\n",
       "      <td>2013-12-31</td>\n",
       "      <td>False</td>\n",
       "    </tr>\n",
       "    <tr>\n",
       "      <th>12025</th>\n",
       "      <td>2013</td>\n",
       "      <td>12</td>\n",
       "      <td>RGAS</td>\n",
       "      <td>218 MORNINGSIDE DR</td>\n",
       "      <td>2016-08-10</td>\n",
       "      <td>0.000000</td>\n",
       "      <td>2013-12-31</td>\n",
       "      <td>False</td>\n",
       "    </tr>\n",
       "    <tr>\n",
       "      <th>12026</th>\n",
       "      <td>2013</td>\n",
       "      <td>12</td>\n",
       "      <td>RGAS</td>\n",
       "      <td>219 TALAFAX RD</td>\n",
       "      <td>2011-11-23</td>\n",
       "      <td>0.088889</td>\n",
       "      <td>2013-12-31</td>\n",
       "      <td>True</td>\n",
       "    </tr>\n",
       "    <tr>\n",
       "      <th>12027</th>\n",
       "      <td>2013</td>\n",
       "      <td>12</td>\n",
       "      <td>RGAS</td>\n",
       "      <td>2208 OXFORD RD</td>\n",
       "      <td>2017-03-23</td>\n",
       "      <td>0.019690</td>\n",
       "      <td>2013-12-31</td>\n",
       "      <td>False</td>\n",
       "    </tr>\n",
       "    <tr>\n",
       "      <th>12028</th>\n",
       "      <td>2013</td>\n",
       "      <td>12</td>\n",
       "      <td>RGAS</td>\n",
       "      <td>2208 STRATFORD DR</td>\n",
       "      <td>2009-09-15</td>\n",
       "      <td>0.022472</td>\n",
       "      <td>2013-12-31</td>\n",
       "      <td>True</td>\n",
       "    </tr>\n",
       "    <tr>\n",
       "      <th>12029</th>\n",
       "      <td>2013</td>\n",
       "      <td>12</td>\n",
       "      <td>RGAS</td>\n",
       "      <td>2215 GRADY ST</td>\n",
       "      <td>2008-06-30</td>\n",
       "      <td>0.048000</td>\n",
       "      <td>2013-12-31</td>\n",
       "      <td>True</td>\n",
       "    </tr>\n",
       "    <tr>\n",
       "      <th>12030</th>\n",
       "      <td>2013</td>\n",
       "      <td>12</td>\n",
       "      <td>RGAS</td>\n",
       "      <td>2230 S WASHINGTON ST</td>\n",
       "      <td>2011-11-18</td>\n",
       "      <td>0.037209</td>\n",
       "      <td>2013-12-31</td>\n",
       "      <td>True</td>\n",
       "    </tr>\n",
       "  </tbody>\n",
       "</table>\n",
       "</div>"
      ],
      "text/plain": [
       "       YearShift  MonthShift ServiceType                        Address  \\\n",
       "12000       2013          12        RGAS            1921 W HIGHLAND AVE   \n",
       "12001       2013          12        RGAS           1925 S RIVERVIEW CIR   \n",
       "12002       2013          12        RGAS           1934 S RIVERVIEW CIR   \n",
       "12003       2013          12        RGAS              2000 COLQUITT AVE   \n",
       "12004       2013          12        RGAS              2002 N SKYLANE DR   \n",
       "12005       2013          12        RGAS              2004 COLQUITT AVE   \n",
       "12006       2013          12        RGAS              2004 COLQUITT AVE   \n",
       "12007       2013          12        RGAS             2004 W WHITNEY AVE   \n",
       "12008       2013          12        RGAS              2007 EVERGREEN DR   \n",
       "12009       2013          12        RGAS              2010 COLQUITT AVE   \n",
       "12010       2013          12        RGAS  2016 MARTIN LUTHER KING JR DR   \n",
       "12011       2013          12        RGAS                  202 MOORE AVE   \n",
       "12012       2013          12        RGAS                  202 N WEST RD   \n",
       "12013       2013          12        RGAS           2020 N RIVERVIEW CIR   \n",
       "12014       2013          12        RGAS           2028 N RIVERVIEW CIR   \n",
       "12015       2013          12        RGAS             207 N INGLESIDE DR   \n",
       "12016       2013          12        RGAS                2102 JUNIPER DR   \n",
       "12017       2013          12        RGAS                2102 JUNIPER DR   \n",
       "12018       2013          12        RGAS              2107 COLQUITT AVE   \n",
       "12019       2013          12        RGAS              2107 COLQUITT AVE   \n",
       "12020       2013          12        RGAS                2109 JUNIPER DR   \n",
       "12021       2013          12        RGAS             2116 W WADDELL AVE   \n",
       "12022       2013          12        RGAS               212 MITCHELL AVE   \n",
       "12023       2013          12        RGAS              2126 COLQUITT AVE   \n",
       "12024       2013          12        RGAS                217 TREMONT AVE   \n",
       "12025       2013          12        RGAS             218 MORNINGSIDE DR   \n",
       "12026       2013          12        RGAS                 219 TALAFAX RD   \n",
       "12027       2013          12        RGAS                 2208 OXFORD RD   \n",
       "12028       2013          12        RGAS              2208 STRATFORD DR   \n",
       "12029       2013          12        RGAS                  2215 GRADY ST   \n",
       "12030       2013          12        RGAS           2230 S WASHINGTON ST   \n",
       "\n",
       "      StatusDate  ConsumptionPerSQFT ChargeDateShift  projectCompleted  \n",
       "12000 2012-10-22            0.060561      2013-12-31              True  \n",
       "12001 2009-09-15            0.065747      2013-12-31              True  \n",
       "12002 2017-09-06            0.056966      2013-12-31             False  \n",
       "12003 2014-05-29            0.064846      2013-12-31             False  \n",
       "12004 2008-04-16            0.043287      2013-12-31              True  \n",
       "12005 2010-10-12            0.125335      2013-12-31              True  \n",
       "12006 2011-02-14            0.125335      2013-12-31              True  \n",
       "12007 2013-01-25            0.041008      2013-12-31              True  \n",
       "12008 2011-03-02            0.037594      2013-12-31              True  \n",
       "12009 2011-09-01            0.060403      2013-12-31              True  \n",
       "12010 2011-08-18            0.057143      2013-12-31              True  \n",
       "12011 2018-03-07            0.036643      2013-12-31             False  \n",
       "12012 2016-04-01            0.103933      2013-12-31             False  \n",
       "12013 2017-03-23            0.054147      2013-12-31             False  \n",
       "12014 2017-09-06            0.029472      2013-12-31             False  \n",
       "12015 2009-04-01            0.000000      2013-12-31              True  \n",
       "12016 2011-03-02            0.024107      2013-12-31              True  \n",
       "12017 2011-05-02            0.024107      2013-12-31              True  \n",
       "12018 2011-03-03            0.068635      2013-12-31              True  \n",
       "12019 2010-05-26            0.068635      2013-12-31              True  \n",
       "12020 2008-06-30            0.043704      2013-12-31              True  \n",
       "12021 2014-11-27            0.000000      2013-12-31             False  \n",
       "12022 2016-08-25            0.042308      2013-12-31             False  \n",
       "12023 2008-04-16            0.071429      2013-12-31              True  \n",
       "12024 2014-03-20            0.027671      2013-12-31             False  \n",
       "12025 2016-08-10            0.000000      2013-12-31             False  \n",
       "12026 2011-11-23            0.088889      2013-12-31              True  \n",
       "12027 2017-03-23            0.019690      2013-12-31             False  \n",
       "12028 2009-09-15            0.022472      2013-12-31              True  \n",
       "12029 2008-06-30            0.048000      2013-12-31              True  \n",
       "12030 2011-11-18            0.037209      2013-12-31              True  "
      ]
     },
     "execution_count": 76,
     "metadata": {},
     "output_type": "execute_result"
    }
   ],
   "source": [
    "df.loc[12000:12030, :]"
   ]
  },
  {
   "cell_type": "code",
   "execution_count": 77,
   "metadata": {},
   "outputs": [],
   "source": [
    "def prepostchart(df1, df2, col, servicetype):\n",
    "    plt.plot(df1.index, df1[col], label='Post-project') #post\n",
    "    plt.plot(df2.index, df2[col], label='Pre-project') #pre\n",
    "    \n",
    "    plt.legend(loc='upper right')\n",
    "    if servicetype == 'RELC':\n",
    "        plt.title('Mean Electricity Consumption per Month')\n",
    "        plt.ylabel(\"Mean KWH per SqFt\")\n",
    "    else:\n",
    "        plt.title('Mean Gas Consumption per Month')\n",
    "        plt.ylabel(\"Mean CCF per SqFt\")\n",
    "    plt.xlabel(\"Time\")\n",
    "    plt.xticks(np.arange(13), ('','Jan', 'Feb', 'Mar', 'Apr', 'May', 'Jun', 'Jul', 'Aug','Sep', 'Oct', 'Nov', 'Dec'))\n",
    "    plt.savefig(servicetype+'.png')\n",
    "    plt.show()\n"
   ]
  },
  {
   "cell_type": "code",
   "execution_count": 78,
   "metadata": {},
   "outputs": [],
   "source": [
    "\n",
    "\n",
    "df_e_t = df[(df['ServiceType']=='RELC')&(df['projectCompleted']==1)]\n",
    "df_e_f = df[(df['ServiceType']=='RELC')&(df['projectCompleted']==0)]\n",
    "\n",
    "df_g_t = df[(df['ServiceType']=='RGAS')&(df['projectCompleted']==1)]\n",
    "df_g_f = df[(df['ServiceType']=='RGAS')&(df['projectCompleted']==0)]"
   ]
  },
  {
   "cell_type": "code",
   "execution_count": 79,
   "metadata": {},
   "outputs": [],
   "source": [
    "\n",
    "\n",
    "df1 = df_e_t.groupby(by='MonthShift').mean()\n",
    "df2 = df_e_f.groupby(by='MonthShift').mean()\n",
    "#prepostchart(df1, df2, 'Consumption', 'RELC')"
   ]
  },
  {
   "cell_type": "code",
   "execution_count": 80,
   "metadata": {},
   "outputs": [
    {
     "data": {
      "image/png": "[encoded data removed]",
      "text/plain": [
       "<Figure size 432x288 with 1 Axes>"
      ]
     },
     "metadata": {
      "needs_background": "light"
     },
     "output_type": "display_data"
    }
   ],
   "source": [
    "prepostchart(df1, df2, 'ConsumptionPerSQFT', 'RELC')"
   ]
  },
  {
   "cell_type": "code",
   "execution_count": 81,
   "metadata": {},
   "outputs": [
    {
     "data": {
      "image/png": "[encoded data removed]",
      "text/plain": [
       "<Figure size 432x288 with 1 Axes>"
      ]
     },
     "metadata": {
      "needs_background": "light"
     },
     "output_type": "display_data"
    }
   ],
   "source": [
    "dfa = df_g_t.groupby(by='MonthShift').mean()\n",
    "dfb = df_g_f.groupby(by='MonthShift').mean()\n",
    "prepostchart(dfa, dfb, 'ConsumptionPerSQFT', 'RGAS')"
   ]
  },
  {
   "cell_type": "code",
   "execution_count": 92,
   "metadata": {},
   "outputs": [
    {
     "data": {
      "text/plain": [
       "Ttest_relResult(statistic=4.1470659822304325, pvalue=0.0016244969382180952)"
      ]
     },
     "execution_count": 92,
     "metadata": {},
     "output_type": "execute_result"
    }
   ],
   "source": [
    "stats.ttest_rel(dfa['ConsumptionPerSQFT'], dfb['ConsumptionPerSQFT'])"
   ]
  },
  {
   "cell_type": "code",
   "execution_count": 93,
   "metadata": {},
   "outputs": [
    {
     "data": {
      "text/plain": [
       "Ttest_relResult(statistic=-2.0315486362626682, pvalue=0.06707204641241524)"
      ]
     },
     "execution_count": 93,
     "metadata": {},
     "output_type": "execute_result"
    }
   ],
   "source": [
    "stats.ttest_rel(df1['ConsumptionPerSQFT'], df2['ConsumptionPerSQFT'])"
   ]
  },
  {
   "cell_type": "code",
   "execution_count": 60,
   "metadata": {},
   "outputs": [
    {
     "data": {
      "text/plain": [
       "280"
      ]
     },
     "execution_count": 60,
     "metadata": {},
     "output_type": "execute_result"
    }
   ],
   "source": [
    "df['Address'].nunique()"
   ]
  },
  {
   "cell_type": "code",
   "execution_count": 86,
   "metadata": {},
   "outputs": [],
   "source": [
    "#Instead on a 0-11 scale\n",
    "df = pd.read_csv(\"/home/mirabel/Dropbox (GaTech)/CDS-2019-AlbanyHub/subsets of utilities/rep_rehab_utilities_sqft.csv\")\n",
    "df['YearShift'] = df[['Year', 'Month']].apply(shift_y, axis=1)\n",
    "df['MonthShift'] = df[['Year', 'Month']].apply(shift_m, axis=1)\n",
    "\n",
    "#group by month, year, address, type\n",
    "sr = df[['YearShift', 'MonthShift', 'ServiceType', 'Address','StatusDate', 'ConsumptionPerSQFT']].copy()\n",
    "df = sr.groupby(by=['YearShift', 'MonthShift', 'ServiceType', 'Address', 'StatusDate']).sum().reset_index()\n",
    "df['ChargeDateShift'] = df[['YearShift', 'MonthShift']].apply(toDateMY, axis=1)\n",
    "df['StatusDate'] = df['StatusDate'].apply(toDate2)\n",
    "df['projectCompleted'] = df[['StatusDate', 'ChargeDateShift']].apply(prepost, axis=1)"
   ]
  },
  {
   "cell_type": "code",
   "execution_count": 87,
   "metadata": {},
   "outputs": [],
   "source": [
    "df_e_t = df[(df['ServiceType']=='RELC')&(df['projectCompleted']>=0)]\n",
    "df_e_f = df[(df['ServiceType']=='RELC')&(df['projectCompleted']<0)]\n",
    "\n",
    "df_g_t = df[(df['ServiceType']=='RGAS')&(df['projectCompleted']>=0)]\n",
    "df_g_f = df[(df['ServiceType']=='RGAS')&(df['projectCompleted']<0)]"
   ]
  },
  {
   "cell_type": "code",
   "execution_count": 88,
   "metadata": {},
   "outputs": [],
   "source": [
    "df1 = df_e_t.groupby(by='projectCompleted').mean()\n",
    "df2 = df_e_f.groupby(by='projectCompleted').mean()\n",
    "df2.index = range(11, -1, -1)"
   ]
  },
  {
   "cell_type": "code",
   "execution_count": 89,
   "metadata": {},
   "outputs": [],
   "source": [
    "def prepostchart2(df1, df2, col, servicetype):\n",
    "    plt.plot(df1.index, df1[col], label='Post-project') #post\n",
    "    plt.plot(df2.index, df2[col], label='Pre-project') #pre\n",
    "    \n",
    "    plt.legend(loc='upper right')\n",
    "    if servicetype == 'RELC':\n",
    "        plt.title('Mean Electricity Consumption per Month')\n",
    "        plt.ylabel(\"Mean KWH per SqFt\")\n",
    "    else:\n",
    "        plt.title('Mean Gas Consumption per Month')\n",
    "        plt.ylabel(\"Mean CCF per SqFt\")\n",
    "    plt.xlabel(\"Time\")\n",
    "    #plt.xticks(np.arange(13), range(0, 12))\n",
    "    plt.savefig(servicetype+'-Num.png')\n",
    "    plt.show()\n"
   ]
  },
  {
   "cell_type": "code",
   "execution_count": 91,
   "metadata": {},
   "outputs": [
    {
     "data": {
      "image/png": "[encoded data removed]",
      "text/plain": [
       "<Figure size 432x288 with 1 Axes>"
      ]
     },
     "metadata": {
      "needs_background": "light"
     },
     "output_type": "display_data"
    }
   ],
   "source": [
    "prepostchart2(df1, df2, 'ConsumptionPerSQFT', 'RELC')"
   ]
  },
  {
   "cell_type": "code",
   "execution_count": 90,
   "metadata": {},
   "outputs": [
    {
     "data": {
      "image/png": "[encoded data removed]",
      "text/plain": [
       "<Figure size 432x288 with 1 Axes>"
      ]
     },
     "metadata": {
      "needs_background": "light"
     },
     "output_type": "display_data"
    }
   ],
   "source": [
    "dfa = df_g_t.groupby(by='projectCompleted').mean()\n",
    "dfb = df_g_f.groupby(by='projectCompleted').mean()\n",
    "dfb.index = range(11, -1, -1)\n",
    "prepostchart2(df1, df2, 'ConsumptionPerSQFT', 'RGAS')"
   ]
  },
  {
   "cell_type": "code",
   "execution_count": null,
   "metadata": {},
   "outputs": [],
   "source": []
  }
 ],
 "metadata": {
  "kernelspec": {
   "display_name": "Python 3",
   "language": "python",
   "name": "python3"
  },
  "language_info": {
   "codemirror_mode": {
    "name": "ipython",
    "version": 3
   },
   "file_extension": ".py",
   "mimetype": "text/x-python",
   "name": "python",
   "nbconvert_exporter": "python",
   "pygments_lexer": "ipython3",
   "version": "3.7.1"
  }
 },
 "nbformat": 4,
 "nbformat_minor": 2
}
