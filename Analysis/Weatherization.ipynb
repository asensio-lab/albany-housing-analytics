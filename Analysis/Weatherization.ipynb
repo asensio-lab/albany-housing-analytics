{
 "cells": [
  {
   "cell_type": "code",
   "execution_count": 98,
   "metadata": {},
   "outputs": [],
   "source": [
    "import pandas as pd\n",
    "import datetime as dt\n",
    "import sklearn\n",
    "from sklearn.linear_model import LinearRegression\n",
    "import numpy as np\n",
    "from numpy.polynomial.polynomial import polyfit\n",
    "import matplotlib.pyplot as plt\n"
   ]
  },
  {
   "cell_type": "code",
   "execution_count": 65,
   "metadata": {},
   "outputs": [],
   "source": [
    "#convert the date strings to date objects, for plotting\n",
    "def toDate(series):\n",
    "    return dt.datetime.strptime(series[:-13], '%Y-%m-%d')\n",
    "def toDate2(series):\n",
    "    return dt.datetime.strptime(series[:-9], '%Y-%m-%d')\n",
    "#shift the year and month back by one to account for discrepencies in billing time\n",
    "def shift_y(series):\n",
    "\n",
    "    if series['Month'] == 1:\n",
    "        return series['Year']-1\n",
    "    else:\n",
    "        return series['Year']\n",
    "def shift_m(series):\n",
    "    if series['Month'] == 1:\n",
    "        return 12\n",
    "    else:\n",
    "        return series['Month']-1"
   ]
  },
  {
   "cell_type": "code",
   "execution_count": 66,
   "metadata": {},
   "outputs": [],
   "source": [
    "df = pd.read_csv('~/Downloads/repairs_utilities_all.csv')\n",
    "df['YearShift'] = df[['Year', 'Month']].apply(shift_y, axis=1)\n",
    "df['MonthShift'] = df[['Year', 'Month']].apply(shift_m, axis=1)\n",
    "df['ChargeDate'] = df['ChargeDate'].apply(toDate)"
   ]
  },
  {
   "cell_type": "code",
   "execution_count": 67,
   "metadata": {},
   "outputs": [],
   "source": [
    "#read in weather\n",
    "w0 = pd.read_csv(\"~/Dropbox/CDS-2019-AlbanyHub/ToDatabase/LCD_month.csv\")\n",
    "w = w0.loc[w0['YEAR']>=2012, :].copy()\n",
    "w['DATE2'] = w['DATE'].apply(toDate2)"
   ]
  },
  {
   "cell_type": "code",
   "execution_count": 68,
   "metadata": {},
   "outputs": [],
   "source": [
    "#Get consumption and weather normalized by days per month\n",
    "sr2 = df.loc[:, ['YearShift', 'MonthShift', 'ServiceType', 'address', 'ChargeAmount', 'Consumption']].groupby(by=['YearShift', 'MonthShift', 'ServiceType', 'address'])\n",
    "sr2 = sr2.sum().reset_index()\n",
    "days_per_month = [31,28,31,30,31,30,31,31,30,31,30,31]\n",
    "days_per_month_ly =[31,29,31,30,31,30,31,31,30,31,30,31]\n",
    "w0['HTDD_norm'] = w0['HTDD']\n",
    "w0['CLDD_norm'] = w0['CLDD']\n",
    "sr2['Consumption_norm'] = sr2['Consumption']\n",
    "#Also print months which have more than one record \n",
    "for y in range(2001, 2019):\n",
    "    for m in range(1,13):\n",
    "        record_w = w0.loc[(w0['YEAR']==y)&(w0['MONTH']==m), :]\n",
    "        record_u = sr2.loc[(sr2['YearShift']==y)&(sr2['MonthShift']==m), :]\n",
    "        if y%4 == 0:\n",
    "            w0.loc[record_w.index, 'HTDD_norm'] = w0.loc[record_w.index, 'HTDD']/days_per_month_ly[m-1]\n",
    "            w0.loc[record_w.index, 'CLDD_norm'] = w0.loc[record_w.index, 'CLDD']/days_per_month_ly[m-1]\n",
    "            sr2.loc[record_u.index, 'Consumption_norm'] = sr2.loc[record_u.index, 'Consumption']/days_per_month_ly[m-1]\n",
    "        else:\n",
    "            w0.loc[record_w.index, 'HTDD_norm'] = w0.loc[record_w.index, 'HTDD']/days_per_month[m-1]\n",
    "            w0.loc[record_w.index, 'CLDD_norm'] = w0.loc[record_w.index, 'CLDD']/days_per_month[m-1]\n",
    "            sr2.loc[record_u.index, 'Consumption_norm'] = sr2.loc[record_u.index, 'Consumption']/days_per_month[m-1]"
   ]
  },
  {
   "cell_type": "code",
   "execution_count": 93,
   "metadata": {},
   "outputs": [],
   "source": [
    "new_df = pd.merge(w0, sr2,  how='left', left_on=['YEAR', 'MONTH'], right_on=['YearShift','MonthShift'])\n",
    "new_df_sub = new_df.loc[(new_df['YEAR']==2012) & (new_df['ServiceType']=='RGAS') & (new_df['address']=='912 JEFFERIES AVE'), :]"
   ]
  },
  {
   "cell_type": "code",
   "execution_count": 99,
   "metadata": {},
   "outputs": [
    {
     "data": {
      "text/plain": [
       "0.9419724860868742"
      ]
     },
     "execution_count": 99,
     "metadata": {},
     "output_type": "execute_result"
    }
   ],
   "source": [
    "x = np.array(new_df_sub['HTDD_norm']).reshape(-1, 1)\n",
    "y = np.array(new_df_sub['Consumption_norm'])\n",
    "model = LinearRegression().fit(x, y)\n",
    "model.score(x, y)"
   ]
  },
  {
   "cell_type": "code",
   "execution_count": null,
   "metadata": {},
   "outputs": [],
   "source": [
    "plt.plot(x=new_df_sub['HTDD_norm'], y=new_df_sub['Consumption_norm'], kind='scatter')\n",
    "b, m = polyfit(x, y, 1)\n",
    "plt.plot(x=)"
   ]
  },
  {
   "cell_type": "code",
   "execution_count": 88,
   "metadata": {},
   "outputs": [],
   "source": [
    "new_df.dropna().to_csv('~/Downloads/project_utilities_dateshift.csv', index=False)"
   ]
  },
  {
   "cell_type": "code",
   "execution_count": null,
   "metadata": {},
   "outputs": [],
   "source": []
  },
  {
   "cell_type": "code",
   "execution_count": null,
   "metadata": {},
   "outputs": [],
   "source": []
  }
 ],
 "metadata": {
  "kernelspec": {
   "display_name": "cds_env",
   "language": "python",
   "name": "cds_env"
  },
  "language_info": {
   "codemirror_mode": {
    "name": "ipython",
    "version": 3
   },
   "file_extension": ".py",
   "mimetype": "text/x-python",
   "name": "python",
   "nbconvert_exporter": "python",
   "pygments_lexer": "ipython3",
   "version": "3.7.1"
  }
 },
 "nbformat": 4,
 "nbformat_minor": 2
}
