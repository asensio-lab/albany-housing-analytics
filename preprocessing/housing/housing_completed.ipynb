{
 "cells": [
  {
   "cell_type": "code",
   "execution_count": 170,
   "metadata": {},
   "outputs": [],
   "source": [
    "import pandas as pd\n",
    "import Levenshtein"
   ]
  },
  {
   "cell_type": "code",
   "execution_count": 171,
   "metadata": {},
   "outputs": [],
   "source": [
    "df_house = pd.read_csv('/Users/william/Dropbox (Amherst College)/CDS-2019-AlbanyHub/Raw-Data/housingquery.csv', dtype={'PrimaryID': str})"
   ]
  },
  {
   "cell_type": "code",
   "execution_count": 172,
   "metadata": {},
   "outputs": [],
   "source": [
    "pd.options.display.max_colwidth = 300\n",
    "pd.options.display.max_rows = 300"
   ]
  },
  {
   "cell_type": "markdown",
   "metadata": {},
   "source": [
    "## Read and format cdbg data"
   ]
  },
  {
   "cell_type": "code",
   "execution_count": 173,
   "metadata": {},
   "outputs": [],
   "source": [
    "lines = []\n",
    "for i in range(2007, 2018):\n",
    "    file = '/Users/william/Documents/Summer2019/AlbanyHousing/Raw Data/CED/parse/cdbg' + str(i) + '.csv'\n",
    "    with open(file, 'r') as f:\n",
    "        lines.extend(f.readlines())"
   ]
  },
  {
   "cell_type": "code",
   "execution_count": 174,
   "metadata": {},
   "outputs": [],
   "source": [
    "length = len(lines)"
   ]
  },
  {
   "cell_type": "code",
   "execution_count": 175,
   "metadata": {},
   "outputs": [
    {
     "name": "stdout",
     "output_type": "stream",
     "text": [
      "done\n"
     ]
    }
   ],
   "source": [
    "# split each project into separate parcel\n",
    "start = 0\n",
    "end = 0\n",
    "parcels = []\n",
    "i = 0\n",
    "while i < length:\n",
    "    try:\n",
    "        start = end\n",
    "        i += 1\n",
    "        while \"PGM Year\" not in lines[i]:\n",
    "            i += 1\n",
    "        end = i\n",
    "        parcel = lines[start:end]\n",
    "        parcels.append(parcel)\n",
    "    except:\n",
    "        print(\"done\")\n",
    "        break"
   ]
  },
  {
   "cell_type": "code",
   "execution_count": 176,
   "metadata": {},
   "outputs": [
    {
     "data": {
      "text/plain": [
       "['\\ufeffPGM Year:,,,,2005,,,,,,,,,,,,,,,,,,,,,,,,,,,,,,,,,,,,,,,,,,,,,,,,,,,,,\\n',\n",
       " 'Project:,,,,0009 - PUBLIC SERVICE                                              ,,,,,,,,,,,,,,,,,,,,,,,,,,,,,,,,,,,,,,,,,,,,,,,,,,,,,\\n',\n",
       " 'IDIS Activity:,,,,445 - CITY OF ALBANY HOMELESS PROGRAM,,,,,,,,,,,,,,,,,,,,,,,,,,,,,,,,,,,,,,,,,,,,,,,,,,,,,\\n',\n",
       " ',,,,,,,,,,,,,,,,,,,,,,,,,,,,,,,,,,,,,,,,,,,,,,,,,,,,,,,,,\\n',\n",
       " 'Status:,,,,Completed 6/30/2006 12:00:00 AM,,,,,,,,,,,,,,,,,,,,,Objective:,,,,,Provide decent affordable housing,,,,,,,,,,,,,,,,,,,,,,,,,,,\\n',\n",
       " 'Location:,,,,\"230 S Jackson St                                                                                             Albany, GA  31701-2885\",,,,,,,,,,,,,,,,,,,,,Outcome:,,,,,Affordability,,,,,,,,,,,,,,,,,,,,,,,,,,,\\n',\n",
       " ',,,,,,,,,,,,,,,,,,,,,,,,,Matrix Code:,,,,,Operating Costs of Homeless/AIDS Patients Programs (03T),,,,,,,,,,,National Objective:,,,,,,,,,,,LMC,,,,,\\n',\n",
       " ',,,,,,,,,,,,,,,,,,,,,,,,,,,,,,,,,,,,,,,,,,,,,,,,,,,,,,,,,\\n',\n",
       " 'Initial Funding Date:,,,,,,,,,,,01/27/2006,,,,,,,,,,,,,,,,,,,,,,,,,,,,,,,,,,,,,,,,,,,,,,\\n',\n",
       " 'Description:,,,,,,,,,,,,,,,,,,,,,,,,,,,,,,,,,,,,,,,,,,,,,,,,,,,,,,,,,\\n',\n",
       " '\"TO HELP THE HOMELESS IN ALBANY, GEORGIA\",,,,,,,,,,,,,,,,,,,,,,,,,,,,,,,,,,,,,,,,,,,,,,,,,,,,,,,,,\\n',\n",
       " 'Financing,,,,,,,,,,,,,,,,,,,,,,,,,,,,,,,,,,,,,,,,,,,,,,,,,,,,,,,,,\\n',\n",
       " ' ,,,,Fund Type,,,,,,Grant Year,,,,,Grant,,,,,,,,,,,Funded Amount,,,,,,,,,,Drawn In Program Year,,,,,,,,,,Drawn Thru Program Year,,,,,,,,,,,\\n',\n",
       " 'CDBG,,,,EN,,,,,,Pre-2015,,,,, ,,,,,,,,,,,$843.99,,,,,,,,,,$0.00,,,,,,,,,,$0.00,,,,,,,,,,,\\n',\n",
       " ',,,,,,,,,,2005,,,,,B05MC130001,,,,,,,,,,,,,,,,,,,,,$0.00,,,,,,,,,,$843.99,,,,,,,,,,,\\n',\n",
       " ',,,,PI,,,,,, ,,,,, ,,,,,,,,,,,\"$69,366.95\",,,,,,,,,,\"$21,210.83\",,,,,,,,,,\"$69,366.95\",,,,,,,,,,,\\n',\n",
       " 'Total,,,,Total,,,,,,,,,,,,,,,,,,,,,,\"$70,210.94\",,,,,,,,,,\"$21,210.83\",,,,,,,,,,\"$70,210.94\",,,,,,,,,,,\\n',\n",
       " 'Proposed Accomplishments,,,,,,,,,,,,,,,,,,,,,,,,,,,,,,,,,,,,,,,,,,,,,,,,,,,,,,,,,\\n',\n",
       " ',,People (General) :  100,,,,,,,,,,,,,,,,,,,,,,,,,,,,,,,,,,,,,,,,,,,,,,,,,,,,,,,\\n',\n",
       " 'Actual Accomplishments,,,,,,,,,,,,,,,,,,,,,,,,,,,,,,,,,,,,,,,,,,,,,,,,,,,,,,,,,\\n',\n",
       " ',,,,,,,,,,,,,,,,,,,,,Owner,,,,,,,,Renter,,,,,,,,,Total,,,,,,,Person,,,,,,,,,,,,\\n',\n",
       " 'Number assisted:,,,,,,,,,,,,,,,,,,,,,,,,,,,,,,,,,,,,,,,,,,,,,,,,,,,,,,,,,\\n',\n",
       " ',,,,,,,,,,,,,,,,,,,,Total,,,,Hispanic,,,,,Total,,,Hispanic,,,,,Total,,,Hispanic,,,,Total,,,,Hispanic,,,,,,,,,\\n',\n",
       " ',,,,,,,,,,,,,,,,,,,,,,,,,,,,,,,,,,,,,,,,,,,,,,,,,,,,,,,,,\\n',\n",
       " ',White:,,,,,,,,,,,,,,,,,,0,,,,0,,,,,0,,,0,,,,,0,,,0,,,,,,,,,0,,,,,,,,,\\n',\n",
       " ',Black/African American:,,,,,,,,,,,,,,,,,,0,,,,0,,,,,0,,,0,,,,,0,,,0,,,,886,,,,,0,,,,,,,,,\\n',\n",
       " ',Asian:,,,,,,,,,,,,,,,,,,0,,,,0,,,,,0,,,0,,,,,0,,,0,,,,0,,,,,0,,,,,,,,,\\n',\n",
       " ',American Indian/Alaskan Native:,,,,,,,,,,,,,,,,,,0,,,,0,,,,,0,,,0,,,,,0,,,0,,,,0,,,,,0,,,,,,,,,\\n',\n",
       " ',Native Hawaiian/Other Pacific Islander:,,,,,,,,,,,,,,,,,,0,,,,0,,,,,0,,,0,,,,,0,,,0,,,,0,,,,,0,,,,,,,,,\\n',\n",
       " ',American Indian/Alaskan Native & White:,,,,,,,,,,,,,,,,,,0,,,,0,,,,,0,,,0,,,,,0,,,0,,,,0,,,,,0,,,,,,,,,\\n',\n",
       " ',Asian White:,,,,,,,,,,,,,,,,,,0,,,,0,,,,,0,,,0,,,,,0,,,0,,,,0,,,,,0,,,,,,,,,\\n',\n",
       " ',Black/African American & White:,,,,,,,,,,,,,,,,,,0,,,,0,,,,,0,,,0,,,,,0,,,0,,,,0,,,,,0,,,,,,,,,\\n',\n",
       " ',American Indian/Alaskan Native & Black/African American:,,,,,,,,,,,,,,,,,,0,,,,0,,,,,0,,,0,,,,,0,,,0,,,,0,,,,,0,,,,,,,,,\\n',\n",
       " ',Other multi-racial:,,,,,,,,,,,,,,,,,,0,,,,0,,,,,0,,,0,,,,,0,,,0,,,,0,,,,,0,,,,,,,,,\\n',\n",
       " ',Asian/Pacific Islander:,,,,,,,,,,,,,,,,,,0,,,,0,,,,,0,,,0,,,,,0,,,0,,,,0,,,,,0,,,,,,,,,\\n',\n",
       " ',Hispanic:,,,,,,,,,,,,,,,,,,0,,,,0,,,,,0,,,0,,,,,0,,,0,,,,0,,,,,0,,,,,,,,,\\n',\n",
       " ',Total:,,,,,,,,,,,,,,,,,,0,,,,0,,,,,0,,,0,,,,,0,,,0,,,,886,,,,,0,,,,,,,,,\\n',\n",
       " ',,,,,,,,,,,,,,,,,,,,,,,,,,,,,,,,,,,,,,,,,,,,,,,,,,,,,,,,,\\n',\n",
       " ',Female-headed Households:,,,,,,,,,,,,,,,,,,,0,,,,,,,,0,,,,,,,,0,,,,,,,,,,,,,,,,,,,,,\\n',\n",
       " ',,,,,,,,,,,,,,,,,,,,,,,,,,,,,,,,,,,,,,,,,,,,,,,,,,,,,,,,,\\n',\n",
       " ',Income Category:,,,,,,,,,,,,,,,,,,,,,,,,,,,,,,,,,,,,,,,,,,,,,,,,,,,,,,,,\\n',\n",
       " ',,,,,,,,Owner,,,,Renter,,Total,,,,,,,Person,,,,,,,,,,,,,,,,,,,,,,,,,,,,,,,,,,,,\\n',\n",
       " ',Extremely Low,,,,,,0,,,,0,,0,,,,,,,886,,,,,,,,,,,,,,,,,,,,,,,,,,,,,,,,,,,,,\\n',\n",
       " ',Low Mod,,,,,,0,,,,0,,0,,,,,,,0,,,,,,,,,,,,,,,,,,,,,,,,,,,,,,,,,,,,,\\n',\n",
       " ',Moderate,,,,,,0,,,,0,,0,,,,,,,0,,,,,,,,,,,,,,,,,,,,,,,,,,,,,,,,,,,,,\\n',\n",
       " ',Non Low Moderate,,,,,,0,,,,0,,0,,,,,,,0,,,,,,,,,,,,,,,,,,,,,,,,,,,,,,,,,,,,,\\n',\n",
       " ',Total,,,,,,0,,,,0,,0,,,,,,,886,,,,,,,,,,,,,,,,,,,,,,,,,,,,,,,,,,,,,\\n',\n",
       " ',Percent Low/Mod,,,,,,,,,,,,,,,,,,,100.0%,,,,,,,,,,,,,,,,,,,,,,,,,,,,,,,,,,,,,\\n',\n",
       " ',,,,,,,,,,,,,,,,,,,,,,,,,,,,,,,,,,,,,,,,,,,,,,,,,,,,,,,,,\\n',\n",
       " 'Annual Accomplishments,,,,,,,,,,,,,,,,,,,,,,,,,,,,,,,,,,,,,,,,,,,,,,,,,,,,,,,,,\\n',\n",
       " 'Years,,,,Accomplishment Narrative,,,,,,,,,,,,,,,,,,,,,,,,,,,,,,,,,,,,,,,,,,,,,,# Benefitting,,,,,,,\\n',\n",
       " '2005,,,,,,,,,,,,,,,,,,,,,,,,,,,,,,,,,,,,,,,,,,,,,,,,,,,,,,,,,\\n',\n",
       " '2006,,,,\"EIGHT HUNDRED AND EIGHTY-SIX (886) PARENTS AND CHILDREN WERE ASSISTED WITH SHELTER.\\n',\n",
       " '\",,,,,,,,,,,,,,,,,,,,,,,,,,,,,,,,,,,,,,,,,,,,,,,,,,,,,\\n',\n",
       " '2007,,,,\"EIGHT HUNDRED AND EIGHTY-SIX (886) PARENTS AND CHILDREN WERE ASSISTED WITH SHELTER.\\n',\n",
       " '\",,,,,,,,,,,,,,,,,,,,,,,,,,,,,,,,,,,,,,,,,,,,,,,,,,,,,\\n']"
      ]
     },
     "execution_count": 176,
     "metadata": {},
     "output_type": "execute_result"
    }
   ],
   "source": [
    "parcels[0]"
   ]
  },
  {
   "cell_type": "code",
   "execution_count": 177,
   "metadata": {},
   "outputs": [],
   "source": [
    "# split each parcel into smaller bits of data with relevant info\n",
    "condensedparcels = []\n",
    "for parcel in parcels:\n",
    "    condensed = []\n",
    "    for line in parcel:\n",
    "        if \"IDIS Activity\" in line:\n",
    "            condensed.append(line)\n",
    "        if \"Status\" in line:\n",
    "            condensed.append(line)\n",
    "        if \"Location\" in line:\n",
    "            condensed.append(line)\n",
    "    condensedparcels.append(condensed)"
   ]
  },
  {
   "cell_type": "code",
   "execution_count": 178,
   "metadata": {},
   "outputs": [
    {
     "data": {
      "text/plain": [
       "['IDIS Activity:,,,,614 - 2109 JUNIPER DRIVE,,,,,,,,,,,,,,,,,,,,,,,,,,,,,,,,,,,,,,,,,,,,,,,,,,,,,\\n',\n",
       " 'Status:,,,,Completed 6/30/2008 12:00:00 AM,,,,,,,,,,,,,,,,,,,,,Objective:,,,,,Provide decent affordable housing,,,,,,,,,,,,,,,,,,,,,,,,,,,\\n',\n",
       " 'Location:,,,,\"2109 Juniper Dr                                                                                             Albany, GA  31721-5239\",,,,,,,,,,,,,,,,,,,,,Outcome:,,,,,Affordability,,,,,,,,,,,,,,,,,,,,,,,,,,,\\n']"
      ]
     },
     "execution_count": 178,
     "metadata": {},
     "output_type": "execute_result"
    }
   ],
   "source": [
    "condensedparcels[134]"
   ]
  },
  {
   "cell_type": "code",
   "execution_count": 179,
   "metadata": {},
   "outputs": [
    {
     "name": "stdout",
     "output_type": "stream",
     "text": [
      "location Location:Address SuppressedOutcome:Availability/accessibility\n",
      " not found\n",
      "location Location:Address SuppressedOutcome:Availability/accessibility\n",
      " not found\n",
      "location Location:Address SuppressedOutcome:Availability/accessibility\n",
      " not found\n",
      "location Location:Address SuppressedOutcome:Affordability\n",
      " not found\n",
      "location Location:Address SuppressedOutcome:Affordability\n",
      " not found\n",
      "location Location:Address SuppressedOutcome:Affordability\n",
      " not found\n",
      "location Location:Address SuppressedOutcome:Affordability\n",
      " not found\n",
      "location Location:Address SuppressedOutcome:Affordability\n",
      " not found\n",
      "location Location:Address SuppressedOutcome:Affordability\n",
      " not found\n",
      "location Location:Address SuppressedOutcome:Affordability\n",
      " not found\n",
      "location Location:Address SuppressedOutcome:Affordability\n",
      " not found\n",
      "location Location:Address SuppressedOutcome:Affordability\n",
      " not found\n",
      "location Location:Address SuppressedOutcome:Affordability\n",
      " not found\n",
      "location Location:Address SuppressedOutcome:Affordability\n",
      " not found\n",
      "location Location:Address SuppressedOutcome:Availability/accessibility\n",
      " not found\n"
     ]
    }
   ],
   "source": [
    "# format to a parseable piece\n",
    "totalformatted = []\n",
    "for i in range(len(condensedparcels)):\n",
    "    formatted = []\n",
    "    idis = condensedparcels[i][0].split(\"-\")[0].replace(\",\",\"\").replace('\"',\"\")\n",
    "    status = condensedparcels[i][1].replace(\",\",\"\").split()[0:2]\n",
    "    location = condensedparcels[i][2].replace(\",\",\"\").split('\"')[0:2]\n",
    "    formatted.append(idis.strip())\n",
    "    formatted.append(status[0] + \":\" + status[1])\n",
    "    try:\n",
    "        formatted.append(location[0] + location[1])\n",
    "    except:\n",
    "        firstindex = 9\n",
    "        secondindex = location[0].find(\"Outcome\")\n",
    "        #secondindex = location[0].split(\":\")[1].find(\"Outcome\")\n",
    "        #formatted.append(location[0].split(\":\")[1])\n",
    "        formatted.append(\"Location:\" + location[0][firstindex:secondindex])\n",
    "        print(\"location \" + location[0] + \" not found\")\n",
    "    totalformatted.append(formatted)"
   ]
  },
  {
   "cell_type": "code",
   "execution_count": 180,
   "metadata": {},
   "outputs": [
    {
     "data": {
      "text/plain": [
       "['IDIS Activity:962', 'Status:Completed:8/15/2012', 'Location:     ']"
      ]
     },
     "execution_count": 180,
     "metadata": {},
     "output_type": "execute_result"
    }
   ],
   "source": [
    "totalformatted[333]"
   ]
  },
  {
   "cell_type": "code",
   "execution_count": 181,
   "metadata": {},
   "outputs": [],
   "source": [
    "# slightly more formatting\n",
    "idisno_list = []\n",
    "status_list = []\n",
    "status_date_list = []\n",
    "location_list = []\n",
    "for project in totalformatted:\n",
    "    idisno_list.append(project[0].split(\":\")[1])\n",
    "    status_full = project[1].split(\":\")\n",
    "    status_list.append(status_full[1])\n",
    "    status_date_list.append(status_full[2])\n",
    "    location_list.append(project[2].split(\":\")[1].strip())"
   ]
  },
  {
   "cell_type": "code",
   "execution_count": 182,
   "metadata": {},
   "outputs": [],
   "source": [
    "# renaming columns\n",
    "df = pd.DataFrame({'Activity': idisno_list, 'Status': status_list, \n",
    "                   'Status Date': status_date_list, 'Address': location_list})"
   ]
  },
  {
   "cell_type": "code",
   "execution_count": 183,
   "metadata": {},
   "outputs": [],
   "source": [
    "# s_addresses contains all the addresses in the completed projects file\n",
    "s_addresses = df['Address']\n",
    "for i in range(len(s_addresses)):\n",
    "    words = s_addresses[i].split()\n",
    "    index = 0\n",
    "    for j in range(len(words)):\n",
    "        if words[j] == \"Albany\" or words[j] == \"ALBANY\":\n",
    "            index = j\n",
    "    words = words[0:index]\n",
    "    s_addresses[i] = words"
   ]
  },
  {
   "cell_type": "code",
   "execution_count": 184,
   "metadata": {},
   "outputs": [
    {
     "data": {
      "text/plain": [
       "0                [230, S, Jackson, St]\n",
       "1                       [SANDS, DRIVE]\n",
       "2    [230, S, Jackson, St, SUITE, 315]\n",
       "3    [230, S, Jackson, St, SUITE, 315]\n",
       "4    [230, S, Jackson, St, SUITE, 315]\n",
       "Name: Address, dtype: object"
      ]
     },
     "execution_count": 184,
     "metadata": {},
     "output_type": "execute_result"
    }
   ],
   "source": [
    "s_addresses.head()"
   ]
  },
  {
   "cell_type": "code",
   "execution_count": 185,
   "metadata": {},
   "outputs": [],
   "source": [
    "# some format/capitalization/casting for the addresses\n",
    "for i in range(len(s_addresses)):\n",
    "    for j in range(len(s_addresses[i])):\n",
    "        if not s_addresses[i][j].isnumeric():\n",
    "            s_addresses[i][j] = s_addresses[i][j].upper()"
   ]
  },
  {
   "cell_type": "code",
   "execution_count": 186,
   "metadata": {},
   "outputs": [
    {
     "data": {
      "text/plain": [
       "0                [230, S, JACKSON, ST]\n",
       "1                       [SANDS, DRIVE]\n",
       "2    [230, S, JACKSON, ST, SUITE, 315]\n",
       "3    [230, S, JACKSON, ST, SUITE, 315]\n",
       "4    [230, S, JACKSON, ST, SUITE, 315]\n",
       "Name: Address, dtype: object"
      ]
     },
     "execution_count": 186,
     "metadata": {},
     "output_type": "execute_result"
    }
   ],
   "source": [
    "s_addresses.head()"
   ]
  },
  {
   "cell_type": "code",
   "execution_count": 187,
   "metadata": {},
   "outputs": [],
   "source": [
    "df_house = df_house[df_house['Program'] == 'CDBG']"
   ]
  },
  {
   "cell_type": "code",
   "execution_count": 188,
   "metadata": {},
   "outputs": [
    {
     "data": {
      "text/plain": [
       "(1110, 4)"
      ]
     },
     "execution_count": 188,
     "metadata": {},
     "output_type": "execute_result"
    }
   ],
   "source": [
    "df.shape"
   ]
  },
  {
   "cell_type": "code",
   "execution_count": 189,
   "metadata": {},
   "outputs": [],
   "source": [
    "# have to reformat address so that we pd can hash to drop duplicates\n",
    "for i in range(len(df)):\n",
    "    addr = df['Address'][i]\n",
    "    word = \"\"\n",
    "    for pt in addr:\n",
    "        word += pt + \" \"\n",
    "    word = word.strip()\n",
    "    df['Address'][i] = word"
   ]
  },
  {
   "cell_type": "code",
   "execution_count": 190,
   "metadata": {},
   "outputs": [],
   "source": [
    "df = df.drop_duplicates()"
   ]
  },
  {
   "cell_type": "code",
   "execution_count": 191,
   "metadata": {},
   "outputs": [],
   "source": [
    "# might help with matching\n",
    "def lev_list(address_list, address,i):\n",
    "    temp_list = []\n",
    "    temp_list_u = []\n",
    "    for u_address in address_list:\n",
    "        if Levenshtein.distance(address, u_address.upper()) <= i:\n",
    "            temp_list.append(address)\n",
    "            temp_list_u.append(u_address.upper())\n",
    "    temp_list_series = pd.Series(temp_list)\n",
    "    temp_list_u_series = pd.Series(temp_list_u)\n",
    "    return temp_list_u_series"
   ]
  },
  {
   "cell_type": "markdown",
   "metadata": {},
   "source": [
    "#### df is the dataframe with completed date\n",
    "#### df_house is the dataframe with housing projects"
   ]
  },
  {
   "cell_type": "code",
   "execution_count": 192,
   "metadata": {},
   "outputs": [],
   "source": [
    "df_house.index = range(len(df_house))"
   ]
  },
  {
   "cell_type": "code",
   "execution_count": 219,
   "metadata": {},
   "outputs": [],
   "source": [
    "dates = []\n",
    "addresses = []\n",
    "for i in range(len(df_house)):\n",
    "    completed_addresses = df[str(df_house['IDISActivityID'][i]) == df['Activity']]\n",
    "    if len(completed_addresses) == 1:\n",
    "        completed_addresses.index = range(len(completed_addresses))\n",
    "        date = completed_addresses['Status Date'][0]\n",
    "        addr = completed_addresses['Address'][0] # for checking purposes\n",
    "        if completed_addresses['Status'][0] == \"Open\":\n",
    "            dates.append(\"Continuing\")\n",
    "        else:\n",
    "            dates.append(date)\n",
    "        addresses.append(addr)\n",
    "    elif len(completed_addresses) == 0:\n",
    "        dates.append(\"NA\")\n",
    "    elif len(completed_addresses) == 2:\n",
    "        print(\"multiple\")"
   ]
  },
  {
   "cell_type": "code",
   "execution_count": 242,
   "metadata": {},
   "outputs": [
    {
     "data": {
      "text/plain": [
       "'305 S CARROLL ST'"
      ]
     },
     "execution_count": 242,
     "metadata": {},
     "output_type": "execute_result"
    }
   ],
   "source": [
    "addresses[2]"
   ]
  },
  {
   "cell_type": "code",
   "execution_count": 221,
   "metadata": {},
   "outputs": [],
   "source": [
    "dates = pd.Series(dates)"
   ]
  },
  {
   "cell_type": "code",
   "execution_count": 222,
   "metadata": {},
   "outputs": [
    {
     "data": {
      "text/plain": [
       "'6/30/2008'"
      ]
     },
     "execution_count": 222,
     "metadata": {},
     "output_type": "execute_result"
    }
   ],
   "source": [
    "dates[0]"
   ]
  },
  {
   "cell_type": "code",
   "execution_count": 223,
   "metadata": {},
   "outputs": [
    {
     "data": {
      "text/html": [
       "<div>\n",
       "<style scoped>\n",
       "    .dataframe tbody tr th:only-of-type {\n",
       "        vertical-align: middle;\n",
       "    }\n",
       "\n",
       "    .dataframe tbody tr th {\n",
       "        vertical-align: top;\n",
       "    }\n",
       "\n",
       "    .dataframe thead th {\n",
       "        text-align: right;\n",
       "    }\n",
       "</style>\n",
       "<table border=\"1\" class=\"dataframe\">\n",
       "  <thead>\n",
       "    <tr style=\"text-align: right;\">\n",
       "      <th></th>\n",
       "      <th>PrimaryID</th>\n",
       "      <th>ParcelID</th>\n",
       "      <th>PlanYear</th>\n",
       "      <th>IDISProject</th>\n",
       "      <th>Project</th>\n",
       "      <th>IDISActivityID</th>\n",
       "      <th>ActivityStatus</th>\n",
       "      <th>Program</th>\n",
       "      <th>FundedAmount</th>\n",
       "      <th>DrawAmount</th>\n",
       "      <th>Balance</th>\n",
       "      <th>MultihomeType</th>\n",
       "      <th>Multihome</th>\n",
       "      <th>Address</th>\n",
       "    </tr>\n",
       "  </thead>\n",
       "  <tbody>\n",
       "    <tr>\n",
       "      <th>0</th>\n",
       "      <td>28</td>\n",
       "      <td>NaN</td>\n",
       "      <td>2007</td>\n",
       "      <td>4</td>\n",
       "      <td>Economic Development</td>\n",
       "      <td>628</td>\n",
       "      <td>Completed</td>\n",
       "      <td>CDBG</td>\n",
       "      <td>2156.32</td>\n",
       "      <td>2156.32</td>\n",
       "      <td>0.0</td>\n",
       "      <td>NaN</td>\n",
       "      <td>NaN</td>\n",
       "      <td>1706 S JEFFERSON ST</td>\n",
       "    </tr>\n",
       "    <tr>\n",
       "      <th>1</th>\n",
       "      <td>718</td>\n",
       "      <td>NaN</td>\n",
       "      <td>2014</td>\n",
       "      <td>9</td>\n",
       "      <td>Emergency Repairs</td>\n",
       "      <td>1261</td>\n",
       "      <td>Completed</td>\n",
       "      <td>CDBG</td>\n",
       "      <td>5060.00</td>\n",
       "      <td>5060.00</td>\n",
       "      <td>0.0</td>\n",
       "      <td>NaN</td>\n",
       "      <td>NaN</td>\n",
       "      <td>300 S CARROLL ST</td>\n",
       "    </tr>\n",
       "    <tr>\n",
       "      <th>2</th>\n",
       "      <td>720</td>\n",
       "      <td>NaN</td>\n",
       "      <td>2016</td>\n",
       "      <td>5</td>\n",
       "      <td>Emergency Repairs</td>\n",
       "      <td>1473</td>\n",
       "      <td>Completed</td>\n",
       "      <td>CDBG</td>\n",
       "      <td>12061.31</td>\n",
       "      <td>12061.31</td>\n",
       "      <td>0.0</td>\n",
       "      <td>NaN</td>\n",
       "      <td>NaN</td>\n",
       "      <td>305 S CARROLL ST</td>\n",
       "    </tr>\n",
       "    <tr>\n",
       "      <th>3</th>\n",
       "      <td>750</td>\n",
       "      <td>NaN</td>\n",
       "      <td>2011</td>\n",
       "      <td>6</td>\n",
       "      <td>Emergency Repairs</td>\n",
       "      <td>1022</td>\n",
       "      <td>Completed</td>\n",
       "      <td>CDBG</td>\n",
       "      <td>11378.50</td>\n",
       "      <td>11378.50</td>\n",
       "      <td>0.0</td>\n",
       "      <td>NaN</td>\n",
       "      <td>NaN</td>\n",
       "      <td>1405 E GORDON AVE</td>\n",
       "    </tr>\n",
       "    <tr>\n",
       "      <th>4</th>\n",
       "      <td>753</td>\n",
       "      <td>NaN</td>\n",
       "      <td>2015</td>\n",
       "      <td>19</td>\n",
       "      <td>Emergency Repairs</td>\n",
       "      <td>1362</td>\n",
       "      <td>Completed</td>\n",
       "      <td>CDBG</td>\n",
       "      <td>5554.35</td>\n",
       "      <td>5554.35</td>\n",
       "      <td>0.0</td>\n",
       "      <td>NaN</td>\n",
       "      <td>NaN</td>\n",
       "      <td>1402 E GORDON AVE</td>\n",
       "    </tr>\n",
       "  </tbody>\n",
       "</table>\n",
       "</div>"
      ],
      "text/plain": [
       "  PrimaryID ParcelID  PlanYear  IDISProject               Project  \\\n",
       "0        28      NaN      2007            4  Economic Development   \n",
       "1       718      NaN      2014            9     Emergency Repairs   \n",
       "2       720      NaN      2016            5     Emergency Repairs   \n",
       "3       750      NaN      2011            6     Emergency Repairs   \n",
       "4       753      NaN      2015           19     Emergency Repairs   \n",
       "\n",
       "   IDISActivityID ActivityStatus Program  FundedAmount  DrawAmount  Balance  \\\n",
       "0             628      Completed    CDBG       2156.32     2156.32      0.0   \n",
       "1            1261      Completed    CDBG       5060.00     5060.00      0.0   \n",
       "2            1473      Completed    CDBG      12061.31    12061.31      0.0   \n",
       "3            1022      Completed    CDBG      11378.50    11378.50      0.0   \n",
       "4            1362      Completed    CDBG       5554.35     5554.35      0.0   \n",
       "\n",
       "  MultihomeType Multihome              Address  \n",
       "0           NaN       NaN  1706 S JEFFERSON ST  \n",
       "1           NaN       NaN     300 S CARROLL ST  \n",
       "2           NaN       NaN     305 S CARROLL ST  \n",
       "3           NaN       NaN    1405 E GORDON AVE  \n",
       "4           NaN       NaN    1402 E GORDON AVE  "
      ]
     },
     "execution_count": 223,
     "metadata": {},
     "output_type": "execute_result"
    }
   ],
   "source": [
    "df_house.head()"
   ]
  },
  {
   "cell_type": "code",
   "execution_count": 224,
   "metadata": {},
   "outputs": [
    {
     "data": {
      "text/plain": [
       "'11/30/2014'"
      ]
     },
     "execution_count": 224,
     "metadata": {},
     "output_type": "execute_result"
    }
   ],
   "source": [
    "dates[57]"
   ]
  },
  {
   "cell_type": "code",
   "execution_count": 225,
   "metadata": {},
   "outputs": [
    {
     "data": {
      "text/html": [
       "<div>\n",
       "<style scoped>\n",
       "    .dataframe tbody tr th:only-of-type {\n",
       "        vertical-align: middle;\n",
       "    }\n",
       "\n",
       "    .dataframe tbody tr th {\n",
       "        vertical-align: top;\n",
       "    }\n",
       "\n",
       "    .dataframe thead th {\n",
       "        text-align: right;\n",
       "    }\n",
       "</style>\n",
       "<table border=\"1\" class=\"dataframe\">\n",
       "  <thead>\n",
       "    <tr style=\"text-align: right;\">\n",
       "      <th></th>\n",
       "      <th>Activity</th>\n",
       "      <th>Status</th>\n",
       "      <th>Status Date</th>\n",
       "      <th>Address</th>\n",
       "    </tr>\n",
       "  </thead>\n",
       "  <tbody>\n",
       "    <tr>\n",
       "      <th>836</th>\n",
       "      <td>1235</td>\n",
       "      <td>Completed</td>\n",
       "      <td>11/30/2014</td>\n",
       "      <td>610 W LINCOLN AVE</td>\n",
       "    </tr>\n",
       "  </tbody>\n",
       "</table>\n",
       "</div>"
      ],
      "text/plain": [
       "    Activity     Status Status Date            Address\n",
       "836     1235  Completed  11/30/2014  610 W LINCOLN AVE"
      ]
     },
     "execution_count": 225,
     "metadata": {},
     "output_type": "execute_result"
    }
   ],
   "source": [
    "df[df['Address'] == '610 W LINCOLN AVE']"
   ]
  },
  {
   "cell_type": "code",
   "execution_count": 226,
   "metadata": {},
   "outputs": [
    {
     "data": {
      "text/html": [
       "<div>\n",
       "<style scoped>\n",
       "    .dataframe tbody tr th:only-of-type {\n",
       "        vertical-align: middle;\n",
       "    }\n",
       "\n",
       "    .dataframe tbody tr th {\n",
       "        vertical-align: top;\n",
       "    }\n",
       "\n",
       "    .dataframe thead th {\n",
       "        text-align: right;\n",
       "    }\n",
       "</style>\n",
       "<table border=\"1\" class=\"dataframe\">\n",
       "  <thead>\n",
       "    <tr style=\"text-align: right;\">\n",
       "      <th></th>\n",
       "      <th>PrimaryID</th>\n",
       "      <th>ParcelID</th>\n",
       "      <th>PlanYear</th>\n",
       "      <th>IDISProject</th>\n",
       "      <th>Project</th>\n",
       "      <th>IDISActivityID</th>\n",
       "      <th>ActivityStatus</th>\n",
       "      <th>Program</th>\n",
       "      <th>FundedAmount</th>\n",
       "      <th>DrawAmount</th>\n",
       "      <th>Balance</th>\n",
       "      <th>MultihomeType</th>\n",
       "      <th>Multihome</th>\n",
       "      <th>Address</th>\n",
       "    </tr>\n",
       "  </thead>\n",
       "  <tbody>\n",
       "    <tr>\n",
       "      <th>57</th>\n",
       "      <td>4379</td>\n",
       "      <td>NaN</td>\n",
       "      <td>2014</td>\n",
       "      <td>9</td>\n",
       "      <td>Emergency Repairs</td>\n",
       "      <td>1235</td>\n",
       "      <td>Completed</td>\n",
       "      <td>CDBG</td>\n",
       "      <td>14790.0</td>\n",
       "      <td>14790.0</td>\n",
       "      <td>0.0</td>\n",
       "      <td>NaN</td>\n",
       "      <td>NaN</td>\n",
       "      <td>610 LINCOLN AVE</td>\n",
       "    </tr>\n",
       "  </tbody>\n",
       "</table>\n",
       "</div>"
      ],
      "text/plain": [
       "   PrimaryID ParcelID  PlanYear  IDISProject            Project  \\\n",
       "57      4379      NaN      2014            9  Emergency Repairs   \n",
       "\n",
       "    IDISActivityID ActivityStatus Program  FundedAmount  DrawAmount  Balance  \\\n",
       "57            1235      Completed    CDBG       14790.0     14790.0      0.0   \n",
       "\n",
       "   MultihomeType Multihome          Address  \n",
       "57           NaN       NaN  610 LINCOLN AVE  "
      ]
     },
     "execution_count": 226,
     "metadata": {},
     "output_type": "execute_result"
    }
   ],
   "source": [
    "df_house[df_house['IDISActivityID'] == 1235]"
   ]
  },
  {
   "cell_type": "code",
   "execution_count": 227,
   "metadata": {},
   "outputs": [
    {
     "data": {
      "text/plain": [
       "['PGM Year:,,,,2014,,,,,,,,,,,,,,,,,,,,,,,,,,,,,,,,,,,,,,,,,,,,,,,,,,,,,\\n',\n",
       " 'Project:,,,,0009 - Emergency Repairs,,,,,,,,,,,,,,,,,,,,,,,,,,,,,,,,,,,,,,,,,,,,,,,,,,,,,\\n',\n",
       " 'IDIS Activity:,,,,1235 - 610 Lincoln,,,,,,,,,,,,,,,,,,,,,,,,,,,,,,,,,,,,,,,,,,,,,,,,,,,,,\\n',\n",
       " ',,,,,,,,,,,,,,,,,,,,,,,,,,,,,,,,,,,,,,,,,,,,,,,,,,,,,,,,,\\n',\n",
       " 'Status:,,,,Completed 11/30/2014 12:00:00 AM,,,,,,,,,,,,,,,,,,,,,Objective:,,,,,Provide decent affordable housing,,,,,,,,,,,,,,,,,,,,,,,,,,,\\n',\n",
       " 'Location:,,,,\"610 W Lincoln Ave   Albany, GA  31701-3110\",,,,,,,,,,,,,,,,,,,,,Outcome:,,,,,Affordability,,,,,,,,,,,,,,,,,,,,,,,,,,,\\n',\n",
       " ',,,,,,,,,,,,,,,,,,,,,,,,,Matrix Code:,,,,,Rehab; Single-Unit Residential (14A),,,,,,,,,,,National Objective:,,,,,,,,,,,LMH,,,,,\\n',\n",
       " ',,,,,,,,,,,,,,,,,,,,,,,,,,,,,,,,,,,,,,,,,,,,,,,,,,,,,,,,,\\n',\n",
       " 'Initial Funding Date:,,,,,,,,,,,10/14/2014,,,,,,,,,,,,,,,,,,,,,,,,,,,,,,,,,,,,,,,,,,,,,,\\n',\n",
       " 'Description:,,,,,,,,,,,,,,,,,,,,,,,,,,,,,,,,,,,,,,,,,,,,,,,,,,,,,,,,,\\n',\n",
       " '\"Emergency repairs installed on a single-family housing unit for a low-income homeowner.\\n',\n",
       " '(HVAC)\",,,,,,,,,,,,,,,,,,,,,,,,,,,,,,,,,,,,,,,,,,,,,,,,,,,,,,,,,\\n',\n",
       " 'Financing,,,,,,,,,,,,,,,,,,,,,,,,,,,,,,,,,,,,,,,,,,,,,,,,,,,,,,,,,\\n',\n",
       " ' ,,,,Fund Type,,,,,,Grant Year,,,,,Grant,,,,,,,,,,,Funded Amount,,,,,,,,,,Drawn In Program Year,,,,,,,,,,Drawn Thru Program Year,,,,,,,,,,,\\n',\n",
       " 'CDBG,,,,EN,,,,,,Pre-2015,,,,, ,,,,,,,,,,,\"$1,500.00\",,,,,,,,,,$0.00,,,,,,,,,,$0.00,,,,,,,,,,,\\n',\n",
       " ',,,,,,,,,,2013,,,,,B13MC130001,,,,,,,,,,,,,,,,,,,,,\"$1,500.00\",,,,,,,,,,\"$1,500.00\",,,,,,,,,,,\\n',\n",
       " ',,,,PI,,,,,, ,,,,, ,,,,,,,,,,,\"$13,290.00\",,,,,,,,,,\"$13,290.00\",,,,,,,,,,\"$13,290.00\",,,,,,,,,,,\\n',\n",
       " 'Total,,,,Total,,,,,,,,,,,,,,,,,,,,,,\"$14,790.00\",,,,,,,,,,\"$14,790.00\",,,,,,,,,,\"$14,790.00\",,,,,,,,,,,\\n',\n",
       " 'Proposed Accomplishments,,,,,,,,,,,,,,,,,,,,,,,,,,,,,,,,,,,,,,,,,,,,,,,,,,,,,,,,,\\n',\n",
       " ',,Housing Units :  1,,,,,,,,,,,,,,,,,,,,,,,,,,,,,,,,,,,,,,,,,,,,,,,,,,,,,,,\\n',\n",
       " 'Actual Accomplishments,,,,,,,,,,,,,,,,,,,,,,,,,,,,,,,,,,,,,,,,,,,,,,,,,,,,,,,,,\\n',\n",
       " ',,,,,,,,,,,,,,,,,,,,,Owner,,,,,,,,Renter,,,,,,,,,Total,,,,,,,Person,,,,,,,,,,,,\\n',\n",
       " 'Number assisted:,,,,,,,,,,,,,,,,,,,,,,,,,,,,,,,,,,,,,,,,,,,,,,,,,,,,,,,,,\\n',\n",
       " ',,,,,,,,,,,,,,,,,,,,Total,,,,Hispanic,,,,,Total,,,Hispanic,,,,,Total,,,Hispanic,,,,Total,,,,Hispanic,,,,,,,,,\\n',\n",
       " ',,,,,,,,,,,,,,,,,,,,,,,,,,,,,,,,,,,,,,,,,,,,,,,,,,,,,,,,,\\n',\n",
       " ',White:,,,,,,,,,,,,,,,,,,0,,,,0,,,,,0,,,0,,,,,0,,,0,,,,,,,,,0,,,,,,,,,\\n',\n",
       " ',Black/African American:,,,,,,,,,,,,,,,,,,1,,,,0,,,,,0,,,0,,,,,1,,,0,,,,0,,,,,0,,,,,,,,,\\n',\n",
       " ',Asian:,,,,,,,,,,,,,,,,,,0,,,,0,,,,,0,,,0,,,,,0,,,0,,,,0,,,,,0,,,,,,,,,\\n',\n",
       " ',American Indian/Alaskan Native:,,,,,,,,,,,,,,,,,,0,,,,0,,,,,0,,,0,,,,,0,,,0,,,,0,,,,,0,,,,,,,,,\\n',\n",
       " ',Native Hawaiian/Other Pacific Islander:,,,,,,,,,,,,,,,,,,0,,,,0,,,,,0,,,0,,,,,0,,,0,,,,0,,,,,0,,,,,,,,,\\n',\n",
       " ',American Indian/Alaskan Native & White:,,,,,,,,,,,,,,,,,,0,,,,0,,,,,0,,,0,,,,,0,,,0,,,,0,,,,,0,,,,,,,,,\\n',\n",
       " ',Asian White:,,,,,,,,,,,,,,,,,,0,,,,0,,,,,0,,,0,,,,,0,,,0,,,,0,,,,,0,,,,,,,,,\\n',\n",
       " ',Black/African American & White:,,,,,,,,,,,,,,,,,,0,,,,0,,,,,0,,,0,,,,,0,,,0,,,,0,,,,,0,,,,,,,,,\\n',\n",
       " ',American Indian/Alaskan Native & Black/African American:,,,,,,,,,,,,,,,,,,0,,,,0,,,,,0,,,0,,,,,0,,,0,,,,0,,,,,0,,,,,,,,,\\n',\n",
       " ',Other multi-racial:,,,,,,,,,,,,,,,,,,0,,,,0,,,,,0,,,0,,,,,0,,,0,,,,0,,,,,0,,,,,,,,,\\n',\n",
       " ',Asian/Pacific Islander:,,,,,,,,,,,,,,,,,,0,,,,0,,,,,0,,,0,,,,,0,,,0,,,,0,,,,,0,,,,,,,,,\\n',\n",
       " ',Hispanic:,,,,,,,,,,,,,,,,,,0,,,,0,,,,,0,,,0,,,,,0,,,0,,,,0,,,,,0,,,,,,,,,\\n',\n",
       " ',Total:,,,,,,,,,,,,,,,,,,1,,,,0,,,,,0,,,0,,,,,1,,,0,,,,0,,,,,0,,,,,,,,,\\n',\n",
       " ',,,,,,,,,,,,,,,,,,,,,,,,,,,,,,,,,,,,,,,,,,,,,,,,,,,,,,,,,\\n',\n",
       " ',Female-headed Households:,,,,,,,,,,,,,,,,,,,1,,,,,,,,0,,,,,,,,1,,,,,,,,,,,,,,,,,,,,,\\n',\n",
       " ',,,,,,,,,,,,,,,,,,,,,,,,,,,,,,,,,,,,,,,,,,,,,,,,,,,,,,,,,\\n',\n",
       " ',Income Category:,,,,,,,,,,,,,,,,,,,,,,,,,,,,,,,,,,,,,,,,,,,,,,,,,,,,,,,,\\n',\n",
       " ',,,,,,,,Owner,,,,Renter,,Total,,,,,,,Person,,,,,,,,,,,,,,,,,,,,,,,,,,,,,,,,,,,,\\n',\n",
       " ',Extremely Low,,,,,,0,,,,0,,0,,,,,,,0,,,,,,,,,,,,,,,,,,,,,,,,,,,,,,,,,,,,,\\n',\n",
       " ',Low Mod,,,,,,1,,,,0,,1,,,,,,,0,,,,,,,,,,,,,,,,,,,,,,,,,,,,,,,,,,,,,\\n',\n",
       " ',Moderate,,,,,,0,,,,0,,0,,,,,,,0,,,,,,,,,,,,,,,,,,,,,,,,,,,,,,,,,,,,,\\n',\n",
       " ',Non Low Moderate,,,,,,0,,,,0,,0,,,,,,,0,,,,,,,,,,,,,,,,,,,,,,,,,,,,,,,,,,,,,\\n',\n",
       " ',Total,,,,,,1,,,,0,,1,,,,,,,0,,,,,,,,,,,,,,,,,,,,,,,,,,,,,,,,,,,,,\\n',\n",
       " ',Percent Low/Mod,,,,,,100.0%,,,,,,100.0%,,,,,,,,,,,,,,,,,,,,,,,,,,,,,,,,,,,,,,,,,,,,\\n',\n",
       " ',,,,,,,,,,,,,,,,,,,,,,,,,,,,,,,,,,,,,,,,,,,,,,,,,,,,,,,,,\\n',\n",
       " 'Annual Accomplishments,,,,,,,,,,,,,,,,,,,,,,,,,,,,,,,,,,,,,,,,,,,,,,,,,,,,,,,,,\\n',\n",
       " 'Years,,,,Accomplishment Narrative,,,,,,,,,,,,,,,,,,,,,,,,,,,,,,,,,,,,,,,,,,,,,,# Benefitting,,,,,,,\\n',\n",
       " '2014,,,,New HVAC unit installed on home. Work completed on 9/9/14 by Dyes Heating & Cooling.,,,,,,,,,,,,,,,,,,,,,,,,,,,,,,,,,,,,,,,,,,,,,,,,,,,,,\\n']"
      ]
     },
     "execution_count": 227,
     "metadata": {},
     "output_type": "execute_result"
    }
   ],
   "source": [
    "parcels[836]"
   ]
  },
  {
   "cell_type": "code",
   "execution_count": 228,
   "metadata": {},
   "outputs": [
    {
     "data": {
      "text/plain": [
       "(685, 4)"
      ]
     },
     "execution_count": 228,
     "metadata": {},
     "output_type": "execute_result"
    }
   ],
   "source": [
    "df.shape"
   ]
  },
  {
   "cell_type": "code",
   "execution_count": 229,
   "metadata": {},
   "outputs": [
    {
     "data": {
      "text/plain": [
       "(564,)"
      ]
     },
     "execution_count": 229,
     "metadata": {},
     "output_type": "execute_result"
    }
   ],
   "source": [
    "dates.shape"
   ]
  },
  {
   "cell_type": "code",
   "execution_count": 230,
   "metadata": {},
   "outputs": [
    {
     "data": {
      "text/html": [
       "<div>\n",
       "<style scoped>\n",
       "    .dataframe tbody tr th:only-of-type {\n",
       "        vertical-align: middle;\n",
       "    }\n",
       "\n",
       "    .dataframe tbody tr th {\n",
       "        vertical-align: top;\n",
       "    }\n",
       "\n",
       "    .dataframe thead th {\n",
       "        text-align: right;\n",
       "    }\n",
       "</style>\n",
       "<table border=\"1\" class=\"dataframe\">\n",
       "  <thead>\n",
       "    <tr style=\"text-align: right;\">\n",
       "      <th></th>\n",
       "      <th>PrimaryID</th>\n",
       "      <th>ParcelID</th>\n",
       "      <th>PlanYear</th>\n",
       "      <th>IDISProject</th>\n",
       "      <th>Project</th>\n",
       "      <th>IDISActivityID</th>\n",
       "      <th>ActivityStatus</th>\n",
       "      <th>Program</th>\n",
       "      <th>FundedAmount</th>\n",
       "      <th>DrawAmount</th>\n",
       "      <th>Balance</th>\n",
       "      <th>MultihomeType</th>\n",
       "      <th>Multihome</th>\n",
       "      <th>Address</th>\n",
       "    </tr>\n",
       "  </thead>\n",
       "  <tbody>\n",
       "    <tr>\n",
       "      <th>0</th>\n",
       "      <td>28</td>\n",
       "      <td>NaN</td>\n",
       "      <td>2007</td>\n",
       "      <td>4</td>\n",
       "      <td>Economic Development</td>\n",
       "      <td>628</td>\n",
       "      <td>Completed</td>\n",
       "      <td>CDBG</td>\n",
       "      <td>2156.32</td>\n",
       "      <td>2156.32</td>\n",
       "      <td>0.0</td>\n",
       "      <td>NaN</td>\n",
       "      <td>NaN</td>\n",
       "      <td>1706 S JEFFERSON ST</td>\n",
       "    </tr>\n",
       "    <tr>\n",
       "      <th>1</th>\n",
       "      <td>718</td>\n",
       "      <td>NaN</td>\n",
       "      <td>2014</td>\n",
       "      <td>9</td>\n",
       "      <td>Emergency Repairs</td>\n",
       "      <td>1261</td>\n",
       "      <td>Completed</td>\n",
       "      <td>CDBG</td>\n",
       "      <td>5060.00</td>\n",
       "      <td>5060.00</td>\n",
       "      <td>0.0</td>\n",
       "      <td>NaN</td>\n",
       "      <td>NaN</td>\n",
       "      <td>300 S CARROLL ST</td>\n",
       "    </tr>\n",
       "    <tr>\n",
       "      <th>2</th>\n",
       "      <td>720</td>\n",
       "      <td>NaN</td>\n",
       "      <td>2016</td>\n",
       "      <td>5</td>\n",
       "      <td>Emergency Repairs</td>\n",
       "      <td>1473</td>\n",
       "      <td>Completed</td>\n",
       "      <td>CDBG</td>\n",
       "      <td>12061.31</td>\n",
       "      <td>12061.31</td>\n",
       "      <td>0.0</td>\n",
       "      <td>NaN</td>\n",
       "      <td>NaN</td>\n",
       "      <td>305 S CARROLL ST</td>\n",
       "    </tr>\n",
       "    <tr>\n",
       "      <th>3</th>\n",
       "      <td>750</td>\n",
       "      <td>NaN</td>\n",
       "      <td>2011</td>\n",
       "      <td>6</td>\n",
       "      <td>Emergency Repairs</td>\n",
       "      <td>1022</td>\n",
       "      <td>Completed</td>\n",
       "      <td>CDBG</td>\n",
       "      <td>11378.50</td>\n",
       "      <td>11378.50</td>\n",
       "      <td>0.0</td>\n",
       "      <td>NaN</td>\n",
       "      <td>NaN</td>\n",
       "      <td>1405 E GORDON AVE</td>\n",
       "    </tr>\n",
       "    <tr>\n",
       "      <th>4</th>\n",
       "      <td>753</td>\n",
       "      <td>NaN</td>\n",
       "      <td>2015</td>\n",
       "      <td>19</td>\n",
       "      <td>Emergency Repairs</td>\n",
       "      <td>1362</td>\n",
       "      <td>Completed</td>\n",
       "      <td>CDBG</td>\n",
       "      <td>5554.35</td>\n",
       "      <td>5554.35</td>\n",
       "      <td>0.0</td>\n",
       "      <td>NaN</td>\n",
       "      <td>NaN</td>\n",
       "      <td>1402 E GORDON AVE</td>\n",
       "    </tr>\n",
       "  </tbody>\n",
       "</table>\n",
       "</div>"
      ],
      "text/plain": [
       "  PrimaryID ParcelID  PlanYear  IDISProject               Project  \\\n",
       "0        28      NaN      2007            4  Economic Development   \n",
       "1       718      NaN      2014            9     Emergency Repairs   \n",
       "2       720      NaN      2016            5     Emergency Repairs   \n",
       "3       750      NaN      2011            6     Emergency Repairs   \n",
       "4       753      NaN      2015           19     Emergency Repairs   \n",
       "\n",
       "   IDISActivityID ActivityStatus Program  FundedAmount  DrawAmount  Balance  \\\n",
       "0             628      Completed    CDBG       2156.32     2156.32      0.0   \n",
       "1            1261      Completed    CDBG       5060.00     5060.00      0.0   \n",
       "2            1473      Completed    CDBG      12061.31    12061.31      0.0   \n",
       "3            1022      Completed    CDBG      11378.50    11378.50      0.0   \n",
       "4            1362      Completed    CDBG       5554.35     5554.35      0.0   \n",
       "\n",
       "  MultihomeType Multihome              Address  \n",
       "0           NaN       NaN  1706 S JEFFERSON ST  \n",
       "1           NaN       NaN     300 S CARROLL ST  \n",
       "2           NaN       NaN     305 S CARROLL ST  \n",
       "3           NaN       NaN    1405 E GORDON AVE  \n",
       "4           NaN       NaN    1402 E GORDON AVE  "
      ]
     },
     "execution_count": 230,
     "metadata": {},
     "output_type": "execute_result"
    }
   ],
   "source": [
    "df_house.head()"
   ]
  },
  {
   "cell_type": "code",
   "execution_count": 236,
   "metadata": {},
   "outputs": [
    {
     "data": {
      "text/plain": [
       "PrimaryID                             20863\n",
       "ParcelID                                NaN\n",
       "PlanYear                               2017\n",
       "IDISProject                              22\n",
       "Project           Commercial Rehabilitation\n",
       "IDISActivityID                         1547\n",
       "ActivityStatus                         Open\n",
       "Program                                CDBG\n",
       "FundedAmount                              0\n",
       "DrawAmount                                0\n",
       "Balance                                   0\n",
       "MultihomeType                           NaN\n",
       "Multihome                               NaN\n",
       "Address                        514 PINE AVE\n",
       "Name: 260, dtype: object"
      ]
     },
     "execution_count": 236,
     "metadata": {},
     "output_type": "execute_result"
    }
   ],
   "source": [
    "df_house.iloc[260]"
   ]
  },
  {
   "cell_type": "code",
   "execution_count": 244,
   "metadata": {},
   "outputs": [
    {
     "data": {
      "text/plain": [
       "'1118 W WHITNEY AVE'"
      ]
     },
     "execution_count": 244,
     "metadata": {},
     "output_type": "execute_result"
    }
   ],
   "source": [
    "addresses[260]"
   ]
  },
  {
   "cell_type": "code",
   "execution_count": 235,
   "metadata": {},
   "outputs": [
    {
     "data": {
      "text/plain": [
       "260    NA\n",
       "299    NA\n",
       "dtype: object"
      ]
     },
     "execution_count": 235,
     "metadata": {},
     "output_type": "execute_result"
    }
   ],
   "source": [
    "dates[dates == \"NA\"]"
   ]
  },
  {
   "cell_type": "code",
   "execution_count": 234,
   "metadata": {},
   "outputs": [
    {
     "data": {
      "text/plain": [
       "17     Continuing\n",
       "26     Continuing\n",
       "42     Continuing\n",
       "58     Continuing\n",
       "60     Continuing\n",
       "79     Continuing\n",
       "92     Continuing\n",
       "183    Continuing\n",
       "193    Continuing\n",
       "215    Continuing\n",
       "226    Continuing\n",
       "258    Continuing\n",
       "264    Continuing\n",
       "277    Continuing\n",
       "315    Continuing\n",
       "411    Continuing\n",
       "412    Continuing\n",
       "415    Continuing\n",
       "416    Continuing\n",
       "417    Continuing\n",
       "419    Continuing\n",
       "420    Continuing\n",
       "445    Continuing\n",
       "496    Continuing\n",
       "531    Continuing\n",
       "534    Continuing\n",
       "535    Continuing\n",
       "536    Continuing\n",
       "537    Continuing\n",
       "538    Continuing\n",
       "539    Continuing\n",
       "540    Continuing\n",
       "541    Continuing\n",
       "542    Continuing\n",
       "543    Continuing\n",
       "544    Continuing\n",
       "545    Continuing\n",
       "546    Continuing\n",
       "dtype: object"
      ]
     },
     "execution_count": 234,
     "metadata": {},
     "output_type": "execute_result"
    }
   ],
   "source": [
    "dates[dates == \"Continuing\"]"
   ]
  },
  {
   "cell_type": "code",
   "execution_count": 211,
   "metadata": {},
   "outputs": [
    {
     "data": {
      "text/plain": [
       "PrimaryID                      2092\n",
       "ParcelID                        NaN\n",
       "PlanYear                       2014\n",
       "IDISProject                      11\n",
       "Project           Public Facilities\n",
       "IDISActivityID                 1503\n",
       "ActivityStatus                 Open\n",
       "Program                        CDBG\n",
       "FundedAmount                  12500\n",
       "DrawAmount                    12500\n",
       "Balance                           0\n",
       "MultihomeType                   NaN\n",
       "Multihome                       NaN\n",
       "Address                603 PINE AVE\n",
       "Name: 26, dtype: object"
      ]
     },
     "execution_count": 211,
     "metadata": {},
     "output_type": "execute_result"
    }
   ],
   "source": [
    "df_house.iloc[26]"
   ]
  },
  {
   "cell_type": "code",
   "execution_count": 217,
   "metadata": {},
   "outputs": [
    {
     "data": {
      "text/html": [
       "<div>\n",
       "<style scoped>\n",
       "    .dataframe tbody tr th:only-of-type {\n",
       "        vertical-align: middle;\n",
       "    }\n",
       "\n",
       "    .dataframe tbody tr th {\n",
       "        vertical-align: top;\n",
       "    }\n",
       "\n",
       "    .dataframe thead th {\n",
       "        text-align: right;\n",
       "    }\n",
       "</style>\n",
       "<table border=\"1\" class=\"dataframe\">\n",
       "  <thead>\n",
       "    <tr style=\"text-align: right;\">\n",
       "      <th></th>\n",
       "      <th>Activity</th>\n",
       "      <th>Status</th>\n",
       "      <th>Status Date</th>\n",
       "      <th>Address</th>\n",
       "    </tr>\n",
       "  </thead>\n",
       "  <tbody>\n",
       "  </tbody>\n",
       "</table>\n",
       "</div>"
      ],
      "text/plain": [
       "Empty DataFrame\n",
       "Columns: [Activity, Status, Status Date, Address]\n",
       "Index: []"
      ]
     },
     "execution_count": 217,
     "metadata": {},
     "output_type": "execute_result"
    }
   ],
   "source": [
    "df[df['Activity'] == 1235]"
   ]
  },
  {
   "cell_type": "markdown",
   "metadata": {},
   "source": [
    "#### Reload in dataset to fix home grants with different formatting"
   ]
  },
  {
   "cell_type": "code",
   "execution_count": 277,
   "metadata": {},
   "outputs": [],
   "source": [
    "df_house_home = pd.read_csv('/Users/william/Dropbox (Amherst College)/CDS-2019-AlbanyHub/Raw-Data/housingquery.csv', dtype={'PrimaryID': str})"
   ]
  },
  {
   "cell_type": "code",
   "execution_count": 278,
   "metadata": {},
   "outputs": [],
   "source": [
    "df_home = pd.read_csv('/Users/william/Documents/Summer2019/AlbanyHousing/Raw Data/CED/parse/homefull.csv')"
   ]
  },
  {
   "cell_type": "code",
   "execution_count": 279,
   "metadata": {},
   "outputs": [
    {
     "data": {
      "text/html": [
       "<div>\n",
       "<style scoped>\n",
       "    .dataframe tbody tr th:only-of-type {\n",
       "        vertical-align: middle;\n",
       "    }\n",
       "\n",
       "    .dataframe tbody tr th {\n",
       "        vertical-align: top;\n",
       "    }\n",
       "\n",
       "    .dataframe thead th {\n",
       "        text-align: right;\n",
       "    }\n",
       "</style>\n",
       "<table border=\"1\" class=\"dataframe\">\n",
       "  <thead>\n",
       "    <tr style=\"text-align: right;\">\n",
       "      <th></th>\n",
       "      <th>Tenure Type</th>\n",
       "      <th>Activity Type</th>\n",
       "      <th>Grantee</th>\n",
       "      <th>IDIS Activity</th>\n",
       "      <th>Activity Address</th>\n",
       "      <th>Activity Status</th>\n",
       "      <th>Status Date</th>\n",
       "      <th>Total Units</th>\n",
       "      <th>Home Units</th>\n",
       "      <th>Initial Funding Date</th>\n",
       "      <th>Committed Amount</th>\n",
       "      <th>Drawn Amount</th>\n",
       "      <th>PCT</th>\n",
       "    </tr>\n",
       "  </thead>\n",
       "  <tbody>\n",
       "    <tr>\n",
       "      <th>377</th>\n",
       "      <td>Tenant-Based Rental Assistance (TBRA)</td>\n",
       "      <td>TENANT-BASED RENTAL ASSISTANCE</td>\n",
       "      <td>39508</td>\n",
       "      <td>1531</td>\n",
       "      <td>,  ,</td>\n",
       "      <td>Open</td>\n",
       "      <td>5/18/18</td>\n",
       "      <td>0</td>\n",
       "      <td>1</td>\n",
       "      <td>12/28/17</td>\n",
       "      <td>$6,166.00</td>\n",
       "      <td>$2,879.59</td>\n",
       "      <td>46.70%</td>\n",
       "    </tr>\n",
       "    <tr>\n",
       "      <th>378</th>\n",
       "      <td>Tenant-Based Rental Assistance (TBRA)</td>\n",
       "      <td>TENANT-BASED RENTAL ASSISTANCE</td>\n",
       "      <td>39508</td>\n",
       "      <td>1532</td>\n",
       "      <td>,  ,</td>\n",
       "      <td>Open</td>\n",
       "      <td>5/18/18</td>\n",
       "      <td>0</td>\n",
       "      <td>1</td>\n",
       "      <td>1/2/18</td>\n",
       "      <td>$6,917.00</td>\n",
       "      <td>$3,341.59</td>\n",
       "      <td>48.31%</td>\n",
       "    </tr>\n",
       "    <tr>\n",
       "      <th>379</th>\n",
       "      <td>Tenant-Based Rental Assistance (TBRA)</td>\n",
       "      <td>TENANT-BASED RENTAL ASSISTANCE</td>\n",
       "      <td>39508</td>\n",
       "      <td>1538</td>\n",
       "      <td>,  ,</td>\n",
       "      <td>Open</td>\n",
       "      <td>5/18/18</td>\n",
       "      <td>0</td>\n",
       "      <td>1</td>\n",
       "      <td>2/2/18</td>\n",
       "      <td>$3,520.00</td>\n",
       "      <td>$2,256.91</td>\n",
       "      <td>64.12%</td>\n",
       "    </tr>\n",
       "    <tr>\n",
       "      <th>380</th>\n",
       "      <td>Tenant-Based Rental Assistance (TBRA)</td>\n",
       "      <td>TENANT-BASED RENTAL ASSISTANCE</td>\n",
       "      <td>39508</td>\n",
       "      <td>1539</td>\n",
       "      <td>,  ,</td>\n",
       "      <td>Open</td>\n",
       "      <td>5/18/18</td>\n",
       "      <td>0</td>\n",
       "      <td>1</td>\n",
       "      <td>2/26/18</td>\n",
       "      <td>$7,805.20</td>\n",
       "      <td>$1,704.08</td>\n",
       "      <td>21.83%</td>\n",
       "    </tr>\n",
       "    <tr>\n",
       "      <th>381</th>\n",
       "      <td>Tenant-Based Rental Assistance (TBRA)</td>\n",
       "      <td>TENANT-BASED RENTAL ASSISTANCE</td>\n",
       "      <td>39508</td>\n",
       "      <td>1540</td>\n",
       "      <td>,  ,</td>\n",
       "      <td>Open</td>\n",
       "      <td>5/18/18</td>\n",
       "      <td>0</td>\n",
       "      <td>1</td>\n",
       "      <td>2/27/18</td>\n",
       "      <td>$3,547.20</td>\n",
       "      <td>$1,322.94</td>\n",
       "      <td>37.30%</td>\n",
       "    </tr>\n",
       "  </tbody>\n",
       "</table>\n",
       "</div>"
      ],
      "text/plain": [
       "                               Tenure Type                   Activity Type  \\\n",
       "377  Tenant-Based Rental Assistance (TBRA)  TENANT-BASED RENTAL ASSISTANCE   \n",
       "378  Tenant-Based Rental Assistance (TBRA)  TENANT-BASED RENTAL ASSISTANCE   \n",
       "379  Tenant-Based Rental Assistance (TBRA)  TENANT-BASED RENTAL ASSISTANCE   \n",
       "380  Tenant-Based Rental Assistance (TBRA)  TENANT-BASED RENTAL ASSISTANCE   \n",
       "381  Tenant-Based Rental Assistance (TBRA)  TENANT-BASED RENTAL ASSISTANCE   \n",
       "\n",
       "     Grantee  IDIS Activity Activity Address Activity Status Status Date  \\\n",
       "377    39508           1531            ,  ,             Open     5/18/18   \n",
       "378    39508           1532            ,  ,             Open     5/18/18   \n",
       "379    39508           1538            ,  ,             Open     5/18/18   \n",
       "380    39508           1539            ,  ,             Open     5/18/18   \n",
       "381    39508           1540            ,  ,             Open     5/18/18   \n",
       "\n",
       "     Total Units  Home Units Initial Funding Date Committed Amount  \\\n",
       "377            0           1             12/28/17       $6,166.00    \n",
       "378            0           1               1/2/18       $6,917.00    \n",
       "379            0           1               2/2/18       $3,520.00    \n",
       "380            0           1              2/26/18       $7,805.20    \n",
       "381            0           1              2/27/18       $3,547.20    \n",
       "\n",
       "    Drawn Amount     PCT  \n",
       "377   $2,879.59   46.70%  \n",
       "378   $3,341.59   48.31%  \n",
       "379   $2,256.91   64.12%  \n",
       "380   $1,704.08   21.83%  \n",
       "381   $1,322.94   37.30%  "
      ]
     },
     "execution_count": 279,
     "metadata": {},
     "output_type": "execute_result"
    }
   ],
   "source": [
    "df_home.tail()"
   ]
  },
  {
   "cell_type": "code",
   "execution_count": 280,
   "metadata": {},
   "outputs": [],
   "source": [
    "df_home['Activity Address'] = df_home['Activity Address'].str.split(\" , \", expand = True)[0]"
   ]
  },
  {
   "cell_type": "code",
   "execution_count": 281,
   "metadata": {},
   "outputs": [
    {
     "data": {
      "text/html": [
       "<div>\n",
       "<style scoped>\n",
       "    .dataframe tbody tr th:only-of-type {\n",
       "        vertical-align: middle;\n",
       "    }\n",
       "\n",
       "    .dataframe tbody tr th {\n",
       "        vertical-align: top;\n",
       "    }\n",
       "\n",
       "    .dataframe thead th {\n",
       "        text-align: right;\n",
       "    }\n",
       "</style>\n",
       "<table border=\"1\" class=\"dataframe\">\n",
       "  <thead>\n",
       "    <tr style=\"text-align: right;\">\n",
       "      <th></th>\n",
       "      <th>Tenure Type</th>\n",
       "      <th>Activity Type</th>\n",
       "      <th>Grantee</th>\n",
       "      <th>IDIS Activity</th>\n",
       "      <th>Activity Address</th>\n",
       "      <th>Activity Status</th>\n",
       "      <th>Status Date</th>\n",
       "      <th>Total Units</th>\n",
       "      <th>Home Units</th>\n",
       "      <th>Initial Funding Date</th>\n",
       "      <th>Committed Amount</th>\n",
       "      <th>Drawn Amount</th>\n",
       "      <th>PCT</th>\n",
       "    </tr>\n",
       "  </thead>\n",
       "  <tbody>\n",
       "    <tr>\n",
       "      <th>377</th>\n",
       "      <td>Tenant-Based Rental Assistance (TBRA)</td>\n",
       "      <td>TENANT-BASED RENTAL ASSISTANCE</td>\n",
       "      <td>39508</td>\n",
       "      <td>1531</td>\n",
       "      <td></td>\n",
       "      <td>Open</td>\n",
       "      <td>5/18/18</td>\n",
       "      <td>0</td>\n",
       "      <td>1</td>\n",
       "      <td>12/28/17</td>\n",
       "      <td>$6,166.00</td>\n",
       "      <td>$2,879.59</td>\n",
       "      <td>46.70%</td>\n",
       "    </tr>\n",
       "    <tr>\n",
       "      <th>378</th>\n",
       "      <td>Tenant-Based Rental Assistance (TBRA)</td>\n",
       "      <td>TENANT-BASED RENTAL ASSISTANCE</td>\n",
       "      <td>39508</td>\n",
       "      <td>1532</td>\n",
       "      <td></td>\n",
       "      <td>Open</td>\n",
       "      <td>5/18/18</td>\n",
       "      <td>0</td>\n",
       "      <td>1</td>\n",
       "      <td>1/2/18</td>\n",
       "      <td>$6,917.00</td>\n",
       "      <td>$3,341.59</td>\n",
       "      <td>48.31%</td>\n",
       "    </tr>\n",
       "    <tr>\n",
       "      <th>379</th>\n",
       "      <td>Tenant-Based Rental Assistance (TBRA)</td>\n",
       "      <td>TENANT-BASED RENTAL ASSISTANCE</td>\n",
       "      <td>39508</td>\n",
       "      <td>1538</td>\n",
       "      <td></td>\n",
       "      <td>Open</td>\n",
       "      <td>5/18/18</td>\n",
       "      <td>0</td>\n",
       "      <td>1</td>\n",
       "      <td>2/2/18</td>\n",
       "      <td>$3,520.00</td>\n",
       "      <td>$2,256.91</td>\n",
       "      <td>64.12%</td>\n",
       "    </tr>\n",
       "    <tr>\n",
       "      <th>380</th>\n",
       "      <td>Tenant-Based Rental Assistance (TBRA)</td>\n",
       "      <td>TENANT-BASED RENTAL ASSISTANCE</td>\n",
       "      <td>39508</td>\n",
       "      <td>1539</td>\n",
       "      <td></td>\n",
       "      <td>Open</td>\n",
       "      <td>5/18/18</td>\n",
       "      <td>0</td>\n",
       "      <td>1</td>\n",
       "      <td>2/26/18</td>\n",
       "      <td>$7,805.20</td>\n",
       "      <td>$1,704.08</td>\n",
       "      <td>21.83%</td>\n",
       "    </tr>\n",
       "    <tr>\n",
       "      <th>381</th>\n",
       "      <td>Tenant-Based Rental Assistance (TBRA)</td>\n",
       "      <td>TENANT-BASED RENTAL ASSISTANCE</td>\n",
       "      <td>39508</td>\n",
       "      <td>1540</td>\n",
       "      <td></td>\n",
       "      <td>Open</td>\n",
       "      <td>5/18/18</td>\n",
       "      <td>0</td>\n",
       "      <td>1</td>\n",
       "      <td>2/27/18</td>\n",
       "      <td>$3,547.20</td>\n",
       "      <td>$1,322.94</td>\n",
       "      <td>37.30%</td>\n",
       "    </tr>\n",
       "  </tbody>\n",
       "</table>\n",
       "</div>"
      ],
      "text/plain": [
       "                               Tenure Type                   Activity Type  \\\n",
       "377  Tenant-Based Rental Assistance (TBRA)  TENANT-BASED RENTAL ASSISTANCE   \n",
       "378  Tenant-Based Rental Assistance (TBRA)  TENANT-BASED RENTAL ASSISTANCE   \n",
       "379  Tenant-Based Rental Assistance (TBRA)  TENANT-BASED RENTAL ASSISTANCE   \n",
       "380  Tenant-Based Rental Assistance (TBRA)  TENANT-BASED RENTAL ASSISTANCE   \n",
       "381  Tenant-Based Rental Assistance (TBRA)  TENANT-BASED RENTAL ASSISTANCE   \n",
       "\n",
       "     Grantee  IDIS Activity Activity Address Activity Status Status Date  \\\n",
       "377    39508           1531                             Open     5/18/18   \n",
       "378    39508           1532                             Open     5/18/18   \n",
       "379    39508           1538                             Open     5/18/18   \n",
       "380    39508           1539                             Open     5/18/18   \n",
       "381    39508           1540                             Open     5/18/18   \n",
       "\n",
       "     Total Units  Home Units Initial Funding Date Committed Amount  \\\n",
       "377            0           1             12/28/17       $6,166.00    \n",
       "378            0           1               1/2/18       $6,917.00    \n",
       "379            0           1               2/2/18       $3,520.00    \n",
       "380            0           1              2/26/18       $7,805.20    \n",
       "381            0           1              2/27/18       $3,547.20    \n",
       "\n",
       "    Drawn Amount     PCT  \n",
       "377   $2,879.59   46.70%  \n",
       "378   $3,341.59   48.31%  \n",
       "379   $2,256.91   64.12%  \n",
       "380   $1,704.08   21.83%  \n",
       "381   $1,322.94   37.30%  "
      ]
     },
     "execution_count": 281,
     "metadata": {},
     "output_type": "execute_result"
    }
   ],
   "source": [
    "df_home.tail()"
   ]
  },
  {
   "cell_type": "code",
   "execution_count": 282,
   "metadata": {},
   "outputs": [],
   "source": [
    "df_house_home = df_house_home[df_house_home['Program'] == \"HOME\"]"
   ]
  },
  {
   "cell_type": "code",
   "execution_count": 286,
   "metadata": {},
   "outputs": [],
   "source": [
    "df_house_home.index = range(len(df_house_home))"
   ]
  },
  {
   "cell_type": "code",
   "execution_count": 289,
   "metadata": {},
   "outputs": [
    {
     "data": {
      "text/plain": [
       "1125"
      ]
     },
     "execution_count": 289,
     "metadata": {},
     "output_type": "execute_result"
    }
   ],
   "source": [
    "df_house_home['IDISActivityID'][0]"
   ]
  },
  {
   "cell_type": "code",
   "execution_count": 291,
   "metadata": {},
   "outputs": [
    {
     "data": {
      "text/html": [
       "<div>\n",
       "<style scoped>\n",
       "    .dataframe tbody tr th:only-of-type {\n",
       "        vertical-align: middle;\n",
       "    }\n",
       "\n",
       "    .dataframe tbody tr th {\n",
       "        vertical-align: top;\n",
       "    }\n",
       "\n",
       "    .dataframe thead th {\n",
       "        text-align: right;\n",
       "    }\n",
       "</style>\n",
       "<table border=\"1\" class=\"dataframe\">\n",
       "  <thead>\n",
       "    <tr style=\"text-align: right;\">\n",
       "      <th></th>\n",
       "      <th>Tenure Type</th>\n",
       "      <th>Activity Type</th>\n",
       "      <th>Grantee</th>\n",
       "      <th>IDIS Activity</th>\n",
       "      <th>Activity Address</th>\n",
       "      <th>Activity Status</th>\n",
       "      <th>Status Date</th>\n",
       "      <th>Total Units</th>\n",
       "      <th>Home Units</th>\n",
       "      <th>Initial Funding Date</th>\n",
       "      <th>Committed Amount</th>\n",
       "      <th>Drawn Amount</th>\n",
       "      <th>PCT</th>\n",
       "    </tr>\n",
       "  </thead>\n",
       "  <tbody>\n",
       "    <tr>\n",
       "      <th>0</th>\n",
       "      <td>Rental</td>\n",
       "      <td>NEW CONSTRUCTION</td>\n",
       "      <td>39508</td>\n",
       "      <td>28</td>\n",
       "      <td>720 Bonny View Ave</td>\n",
       "      <td>Completed</td>\n",
       "      <td>6/1/96</td>\n",
       "      <td>4</td>\n",
       "      <td>4</td>\n",
       "      <td>5/8/95</td>\n",
       "      <td>$171,421.03</td>\n",
       "      <td>$171,421.03</td>\n",
       "      <td>100.00%</td>\n",
       "    </tr>\n",
       "    <tr>\n",
       "      <th>1</th>\n",
       "      <td>Rental</td>\n",
       "      <td>NEW CONSTRUCTION</td>\n",
       "      <td>39508</td>\n",
       "      <td>178</td>\n",
       "      <td>302 Adkins St</td>\n",
       "      <td>Completed</td>\n",
       "      <td>7/2/97</td>\n",
       "      <td>13</td>\n",
       "      <td>4</td>\n",
       "      <td>7/1/97</td>\n",
       "      <td>$23,987.70</td>\n",
       "      <td>$23,987.70</td>\n",
       "      <td>100.00%</td>\n",
       "    </tr>\n",
       "    <tr>\n",
       "      <th>2</th>\n",
       "      <td>Rental</td>\n",
       "      <td>NEW CONSTRUCTION</td>\n",
       "      <td>39508</td>\n",
       "      <td>285</td>\n",
       "      <td>700 N Davis St</td>\n",
       "      <td>Completed</td>\n",
       "      <td>4/1/02</td>\n",
       "      <td>4</td>\n",
       "      <td>4</td>\n",
       "      <td>5/10/01</td>\n",
       "      <td>$281,081.26</td>\n",
       "      <td>$281,081.26</td>\n",
       "      <td>100.00%</td>\n",
       "    </tr>\n",
       "    <tr>\n",
       "      <th>3</th>\n",
       "      <td>Rental</td>\n",
       "      <td>NEW CONSTRUCTION</td>\n",
       "      <td>39508</td>\n",
       "      <td>286</td>\n",
       "      <td>215 N Broadway St</td>\n",
       "      <td>Completed</td>\n",
       "      <td>8/1/04</td>\n",
       "      <td>24</td>\n",
       "      <td>24</td>\n",
       "      <td>5/10/01</td>\n",
       "      <td>$1,804,882.55</td>\n",
       "      <td>$1,804,882.55</td>\n",
       "      <td>100.00%</td>\n",
       "    </tr>\n",
       "    <tr>\n",
       "      <th>4</th>\n",
       "      <td>Rental</td>\n",
       "      <td>NEW CONSTRUCTION</td>\n",
       "      <td>39508</td>\n",
       "      <td>367</td>\n",
       "      <td>208-212 SOUTH MADISON AND 506, 527 HIGHLAND</td>\n",
       "      <td>Completed</td>\n",
       "      <td>11/1/04</td>\n",
       "      <td>6</td>\n",
       "      <td>6</td>\n",
       "      <td>5/31/03</td>\n",
       "      <td>$534,569.40</td>\n",
       "      <td>$534,569.40</td>\n",
       "      <td>100.00%</td>\n",
       "    </tr>\n",
       "  </tbody>\n",
       "</table>\n",
       "</div>"
      ],
      "text/plain": [
       "  Tenure Type     Activity Type  Grantee  IDIS Activity  \\\n",
       "0      Rental  NEW CONSTRUCTION    39508             28   \n",
       "1      Rental  NEW CONSTRUCTION    39508            178   \n",
       "2      Rental  NEW CONSTRUCTION    39508            285   \n",
       "3      Rental  NEW CONSTRUCTION    39508            286   \n",
       "4      Rental  NEW CONSTRUCTION    39508            367   \n",
       "\n",
       "                               Activity Address Activity Status Status Date  \\\n",
       "0                           720 Bonny View Ave        Completed      6/1/96   \n",
       "1                                302 Adkins St        Completed      7/2/97   \n",
       "2                               700 N Davis St        Completed      4/1/02   \n",
       "3                            215 N Broadway St        Completed      8/1/04   \n",
       "4  208-212 SOUTH MADISON AND 506, 527 HIGHLAND        Completed     11/1/04   \n",
       "\n",
       "   Total Units  Home Units Initial Funding Date Committed Amount  \\\n",
       "0            4           4               5/8/95     $171,421.03    \n",
       "1           13           4               7/1/97      $23,987.70    \n",
       "2            4           4              5/10/01     $281,081.26    \n",
       "3           24          24              5/10/01   $1,804,882.55    \n",
       "4            6           6              5/31/03     $534,569.40    \n",
       "\n",
       "     Drawn Amount      PCT  \n",
       "0    $171,421.03   100.00%  \n",
       "1     $23,987.70   100.00%  \n",
       "2    $281,081.26   100.00%  \n",
       "3  $1,804,882.55   100.00%  \n",
       "4    $534,569.40   100.00%  "
      ]
     },
     "execution_count": 291,
     "metadata": {},
     "output_type": "execute_result"
    }
   ],
   "source": [
    "df_home.head()"
   ]
  },
  {
   "cell_type": "code",
   "execution_count": 293,
   "metadata": {},
   "outputs": [],
   "source": [
    "dates_home = []\n",
    "addresses_home = []\n",
    "for i in range(len(df_house_home)):\n",
    "    completed_addresses_home = df_home[df_house_home['IDISActivityID'][i] == df_home['IDIS Activity']]\n",
    "    if len(completed_addresses_home) == 1:\n",
    "        completed_addresses_home.index = range(len(completed_addresses_home))\n",
    "        date_home = completed_addresses_home['Status Date'][0]\n",
    "        addr_home = completed_addresses_home['Activity Address'][0] # for checking purposes\n",
    "        if completed_addresses_home['Activity Status'][0] == \"Open\":\n",
    "            dates_home.append(\"Continuing\")\n",
    "        else:\n",
    "            dates_home.append(date_home)\n",
    "        addresses_home.append(addr_home)\n",
    "    elif len(completed_addresses_home) == 0:\n",
    "        dates_home.append(\"NA\")\n",
    "    elif len(completed_addresses_home) == 2:\n",
    "        print(\"multiple\")"
   ]
  },
  {
   "cell_type": "code",
   "execution_count": 294,
   "metadata": {},
   "outputs": [
    {
     "data": {
      "text/plain": [
       "['9/2/16',\n",
       " 'NA',\n",
       " 'NA',\n",
       " '3/9/15',\n",
       " '9/2/16',\n",
       " '9/29/16',\n",
       " 'NA',\n",
       " '12/3/15',\n",
       " '2/5/14',\n",
       " 'NA',\n",
       " '12/3/15',\n",
       " '4/3/15',\n",
       " '9/14/12',\n",
       " '6/10/13',\n",
       " '2/5/14',\n",
       " '10/27/17',\n",
       " 'Continuing',\n",
       " '12/31/13',\n",
       " '2/1/13',\n",
       " '4/3/15',\n",
       " '10/22/13',\n",
       " '10/23/13',\n",
       " '4/3/15',\n",
       " '3/3/16',\n",
       " '10/22/13',\n",
       " '10/22/13',\n",
       " '10/22/13',\n",
       " '10/22/13',\n",
       " '10/22/13',\n",
       " '10/24/13',\n",
       " '9/6/13',\n",
       " '12/13/13',\n",
       " '10/27/17',\n",
       " '9/29/16',\n",
       " '9/29/16',\n",
       " '12/16/14',\n",
       " '9/16/14',\n",
       " '9/29/16',\n",
       " '9/29/16',\n",
       " '9/29/16',\n",
       " '9/29/16',\n",
       " '9/29/16',\n",
       " '9/29/16',\n",
       " '3/10/17',\n",
       " '7/14/16',\n",
       " '9/1/16',\n",
       " '3/3/16',\n",
       " '3/3/16',\n",
       " '7/14/16',\n",
       " '7/27/11',\n",
       " '4/3/15',\n",
       " '8/4/17',\n",
       " 'Continuing',\n",
       " '3/3/16',\n",
       " '3/28/17',\n",
       " '9/2/16',\n",
       " '11/30/17',\n",
       " '3/9/15',\n",
       " '4/3/15',\n",
       " 'Continuing',\n",
       " 'Continuing',\n",
       " '4/10/12',\n",
       " '9/29/16',\n",
       " '6/14/13',\n",
       " '9/19/13',\n",
       " '7/14/16',\n",
       " '4/26/18',\n",
       " '6/22/11',\n",
       " 'NA',\n",
       " '11/23/11',\n",
       " 'NA',\n",
       " 'NA',\n",
       " 'NA',\n",
       " 'NA',\n",
       " 'NA',\n",
       " 'NA',\n",
       " 'NA',\n",
       " 'NA',\n",
       " '2/5/14',\n",
       " '11/23/11',\n",
       " '5/30/18',\n",
       " '4/3/15',\n",
       " '2/1/13',\n",
       " '2/1/13',\n",
       " '12/9/11',\n",
       " '8/21/13',\n",
       " '7/31/11',\n",
       " 'Continuing',\n",
       " 'Continuing',\n",
       " 'Continuing',\n",
       " 'Continuing',\n",
       " '4/26/18',\n",
       " '10/17/17',\n",
       " '10/27/17',\n",
       " 'Continuing',\n",
       " '11/18/11',\n",
       " '7/9/10',\n",
       " '7/9/10',\n",
       " '7/9/10',\n",
       " '7/9/10',\n",
       " '1/25/13',\n",
       " '6/30/16',\n",
       " '7/23/12',\n",
       " '6/29/11',\n",
       " '3/26/18',\n",
       " 'Continuing',\n",
       " '11/30/17',\n",
       " '3/10/17',\n",
       " 'Continuing',\n",
       " 'Continuing',\n",
       " '9/1/16',\n",
       " '4/3/15',\n",
       " 'Continuing',\n",
       " '7/14/16',\n",
       " '2/5/14',\n",
       " '7/14/16',\n",
       " '6/22/11',\n",
       " '12/28/12',\n",
       " '4/3/15',\n",
       " '4/3/15',\n",
       " 'Continuing',\n",
       " '4/3/15',\n",
       " '4/7/11',\n",
       " '9/1/16',\n",
       " 'Continuing',\n",
       " 'Continuing',\n",
       " '12/6/17',\n",
       " '12/18/08',\n",
       " 'Continuing',\n",
       " '10/30/17',\n",
       " 'Continuing',\n",
       " 'Continuing',\n",
       " '12/3/15',\n",
       " '3/28/17',\n",
       " '8/4/17',\n",
       " '3/20/18',\n",
       " '3/27/17',\n",
       " '5/2/18',\n",
       " 'Continuing',\n",
       " '9/6/13',\n",
       " '9/2/16',\n",
       " '8/4/17',\n",
       " '5/12/15',\n",
       " 'Continuing',\n",
       " 'Continuing',\n",
       " '11/30/17',\n",
       " '4/26/18',\n",
       " '3/3/16',\n",
       " '4/3/15',\n",
       " '4/3/15',\n",
       " '2/5/14',\n",
       " '4/3/15',\n",
       " '6/30/16',\n",
       " '12/3/15',\n",
       " '9/2/16',\n",
       " '9/1/16',\n",
       " '3/20/18',\n",
       " '9/1/16',\n",
       " '7/14/16',\n",
       " '3/28/17',\n",
       " '8/4/17',\n",
       " '9/2/16',\n",
       " '12/3/15',\n",
       " '7/28/11',\n",
       " '6/10/10',\n",
       " '4/3/15',\n",
       " 'Continuing',\n",
       " 'Continuing',\n",
       " 'Continuing',\n",
       " '5/18/18',\n",
       " '5/23/18',\n",
       " '3/20/18',\n",
       " '10/30/17',\n",
       " '10/30/17',\n",
       " '5/2/18',\n",
       " '3/28/17',\n",
       " '3/28/17',\n",
       " '3/3/16',\n",
       " '3/3/16',\n",
       " 'Continuing',\n",
       " 'Continuing',\n",
       " 'Continuing',\n",
       " '7/14/16',\n",
       " '10/31/10',\n",
       " '2/7/18',\n",
       " '5/20/13',\n",
       " 'Continuing',\n",
       " '1/22/14',\n",
       " '7/6/10',\n",
       " '5/2/18',\n",
       " '3/20/18',\n",
       " '8/4/17',\n",
       " '8/4/17',\n",
       " 'Continuing',\n",
       " '10/27/17',\n",
       " '1/29/18',\n",
       " 'Continuing',\n",
       " 'Continuing',\n",
       " '12/3/15',\n",
       " '7/14/16',\n",
       " 'Continuing',\n",
       " '4/3/14',\n",
       " 'Continuing',\n",
       " '8/4/17',\n",
       " '11/30/17',\n",
       " '12/17/09',\n",
       " '2/7/18',\n",
       " '3/3/16',\n",
       " '4/9/12',\n",
       " '9/29/09',\n",
       " '11/21/08',\n",
       " '4/3/15',\n",
       " '9/29/09',\n",
       " '5/2/13',\n",
       " '3/20/18',\n",
       " '8/10/11',\n",
       " '9/29/09',\n",
       " '1/29/18',\n",
       " '10/30/17',\n",
       " 'Continuing',\n",
       " '4/26/18',\n",
       " '5/30/18',\n",
       " 'Continuing',\n",
       " '3/10/17',\n",
       " '8/4/17',\n",
       " '1/19/18',\n",
       " '9/29/09',\n",
       " '2/19/13',\n",
       " '4/3/15',\n",
       " '2/10/11',\n",
       " '5/2/13',\n",
       " '1/15/10',\n",
       " '7/31/11',\n",
       " '7/7/10',\n",
       " '8/30/13',\n",
       " '12/23/09',\n",
       " '4/3/15',\n",
       " '12/22/09',\n",
       " '11/28/11',\n",
       " '4/3/15',\n",
       " '12/3/15',\n",
       " '10/27/17',\n",
       " 'Continuing',\n",
       " '3/3/16',\n",
       " '3/3/16',\n",
       " '4/3/15',\n",
       " '12/3/15',\n",
       " '11/30/17',\n",
       " '6/30/11',\n",
       " 'Continuing',\n",
       " '5/3/18',\n",
       " '11/29/17',\n",
       " '7/7/17',\n",
       " '5/3/18',\n",
       " '2/13/14',\n",
       " '7/31/11',\n",
       " '11/29/17',\n",
       " '11/30/17',\n",
       " 'Continuing',\n",
       " '2/20/13',\n",
       " '9/29/09',\n",
       " '4/16/14',\n",
       " 'Continuing',\n",
       " '2/5/14',\n",
       " '1/27/12',\n",
       " '4/3/15',\n",
       " '12/23/09',\n",
       " '7/29/11',\n",
       " '9/12/12',\n",
       " '5/31/11',\n",
       " '5/31/11',\n",
       " '7/25/11',\n",
       " '7/27/12',\n",
       " 'Continuing',\n",
       " '10/30/17',\n",
       " '9/16/10',\n",
       " '10/27/17',\n",
       " '5/30/18',\n",
       " '4/3/15',\n",
       " '12/3/15',\n",
       " '3/9/15',\n",
       " '7/14/16',\n",
       " '8/4/17',\n",
       " 'Continuing',\n",
       " '5/23/18',\n",
       " 'Continuing']"
      ]
     },
     "execution_count": 294,
     "metadata": {},
     "output_type": "execute_result"
    }
   ],
   "source": [
    "dates_home"
   ]
  },
  {
   "cell_type": "code",
   "execution_count": 296,
   "metadata": {},
   "outputs": [
    {
     "data": {
      "text/plain": [
       "'NA'"
      ]
     },
     "execution_count": 296,
     "metadata": {},
     "output_type": "execute_result"
    }
   ],
   "source": [
    "dates_home[1]"
   ]
  },
  {
   "cell_type": "code",
   "execution_count": 297,
   "metadata": {},
   "outputs": [
    {
     "data": {
      "text/plain": [
       "'300 S CARROLL ST'"
      ]
     },
     "execution_count": 297,
     "metadata": {},
     "output_type": "execute_result"
    }
   ],
   "source": [
    "addresses[1]"
   ]
  },
  {
   "cell_type": "code",
   "execution_count": 304,
   "metadata": {},
   "outputs": [
    {
     "data": {
      "text/plain": [
       "PrimaryID                         68\n",
       "ParcelID             0000C/00005/027\n",
       "PlanYear                        2012\n",
       "IDISProject                       20\n",
       "Project             New Construction\n",
       "IDISActivityID                  1125\n",
       "ActivityStatus             Completed\n",
       "Program                         HOME\n",
       "FundedAmount                  158828\n",
       "DrawAmount                    158828\n",
       "Balance                            0\n",
       "MultihomeType                    NaN\n",
       "Multihome                        NaN\n",
       "Address           252 BONNY VIEW AVE\n",
       "Name: 0, dtype: object"
      ]
     },
     "execution_count": 304,
     "metadata": {},
     "output_type": "execute_result"
    }
   ],
   "source": [
    "df_house_home.loc[0]"
   ]
  },
  {
   "cell_type": "code",
   "execution_count": null,
   "metadata": {},
   "outputs": [],
   "source": []
  }
 ],
 "metadata": {
  "kernelspec": {
   "display_name": "Python [conda env:cds] *",
   "language": "python",
   "name": "conda-env-cds-py"
  },
  "language_info": {
   "codemirror_mode": {
    "name": "ipython",
    "version": 3
   },
   "file_extension": ".py",
   "mimetype": "text/x-python",
   "name": "python",
   "nbconvert_exporter": "python",
   "pygments_lexer": "ipython3",
   "version": "3.7.3"
  }
 },
 "nbformat": 4,
 "nbformat_minor": 2
}
