{
 "cells": [
  {
   "cell_type": "code",
   "execution_count": 422,
   "metadata": {},
   "outputs": [],
   "source": [
    "import numpy as np\n",
    "import pandas as pd\n",
    "import Levenshtein"
   ]
  },
  {
   "cell_type": "code",
   "execution_count": 423,
   "metadata": {},
   "outputs": [],
   "source": [
    "pd.options.display.max_rows = 600\n",
    "pd.options.display.max_columns = 85"
   ]
  },
  {
   "cell_type": "code",
   "execution_count": 424,
   "metadata": {},
   "outputs": [],
   "source": [
    "df = pd.read_csv('~/Dropbox (Amherst College)/CDS-2019-AlbanyHub/Old Files dump/new_totalprojects.csv')\n",
    "xlsx = pd.ExcelFile('~/Dropbox (Amherst College)/CDS-2019-AlbanyHub/Raw-Data/Housing/All CED Funded Projects 2007-2017.xlsx')\n",
    "df1_original = pd.read_excel(xlsx, 'HOME Funded Projects')\n",
    "df2_original = pd.read_excel(xlsx, 'CDBG Funded Projects')\n",
    "df_original = pd.concat([df1_original, df2_original])\n",
    "df_original.index = range(850)\n",
    "df1_fixed = pd.read_csv('/Users/william/Dropbox (Amherst College)/CDS-2019-AlbanyHub/Processed-Data/HOME_2007-2017_fixed_address.csv')\n",
    "df2_fixed = pd.read_csv('/Users/william/Dropbox (Amherst College)/CDS-2019-AlbanyHub/Processed-Data/CDBG_2007-2017_fixed_address.csv')\n",
    "df1_fixed = df1_fixed.drop('Unnamed: 0', axis = 1, errors='ignore')\n",
    "df2_fixed = df2_fixed.drop('Unnamed: 0', axis = 1, errors='ignore')\n",
    "df_fixed = pd.concat([df1_fixed, df2_fixed])\n",
    "df_fixed.index = range(850)\n",
    "df_truth = pd.read_csv('/Users/william/Dropbox (Amherst College)/CDS-2019-AlbanyHub/ToDatabase/TestDB/Ship/Project_v02.csv')"
   ]
  },
  {
   "cell_type": "code",
   "execution_count": 425,
   "metadata": {},
   "outputs": [],
   "source": [
    "def hasNumbers(inputString):\n",
    "    return any(char.isdigit() for char in inputString)"
   ]
  },
  {
   "cell_type": "code",
   "execution_count": 426,
   "metadata": {},
   "outputs": [],
   "source": [
    "fixed = df_fixed['Address']\n",
    "truth = df_truth['Address']"
   ]
  },
  {
   "cell_type": "code",
   "execution_count": 427,
   "metadata": {},
   "outputs": [
    {
     "data": {
      "text/plain": [
       "98              2515 BRIERWOOD DR APT 209\n",
       "132              2010 W BROAD AVE APT 124\n",
       "133                2200 CHAMPAGNE DRAPT C\n",
       "135           525 DON CUTLER SR DR APT 38\n",
       "138               2006 LAFAYETTE CR APT C\n",
       "140                 2527 HILLTOP DR APT 2\n",
       "141                  2533 HILLTOP DRAPT 5\n",
       "142                 1308 HOBSON ST APT 40\n",
       "144                  901 LEISURE CT APT D\n",
       "159       1404 WHISPERING PINES RD APT Q2\n",
       "160       1404 WHISPERING PINES RD APT N3\n",
       "172              2010 W BROAD AVE APT 109\n",
       "177              2206 HABERSHAM RD APT 58\n",
       "182              320 S JACKSON ST APT 566\n",
       "185               2010 W BROAD AVE APT 87\n",
       "186               2010 W BROAD AVE APT 61\n",
       "187               2010 W BROAD AVE APT 88\n",
       "188                 215 BROADWAY ST APT 4\n",
       "192               2206 HABERSHAM RDAPT 25\n",
       "196             1336 MERCANTILE DR APT 57\n",
       "197              2016 LAFAYETTE CIR APT D\n",
       "198                  901 LEISURE CT APT D\n",
       "199    2368 MEADOWLARK COMMONS CT APT 202\n",
       "204           509 N WESTOVE BLVD APT 1106\n",
       "205           509 N WESTOVER BLVD APT 724\n",
       "207                 1904 ELKHORN LN APT A\n",
       "208                  2202 LIONEL LN APT D\n",
       "209                1700 SHOREHAM DR APT C\n",
       "210              2000 TOMPKINS AVE APT Y2\n",
       "211              1019 UNIVERSITY DR APT B\n",
       "212            509 WESTOVER BLVD APT 1206\n",
       "213       1404 WHISPERING PINES RD APT B3\n",
       "214       1404 WHISPERING PINES RD APT N2\n",
       "215       1404 WHISPERING PINES RD APT R6\n",
       "216               320 S JACKSON ST APT 17\n",
       "218              2010 W BROAD AVE APT 137\n",
       "219               2010 W BROAD AVE APT 24\n",
       "220               2010 W BROAD AVE APT 79\n",
       "223                 2415 DAWSON RD APT D4\n",
       "224            525 DON CUTLER SR DR APT 9\n",
       "225           525 DON CUTLER SR DRAPT 110\n",
       "228              1200 KINGSTOWN CT APT A7\n",
       "229              2206 HABERSHAM RD APT 56\n",
       "230               2206 HABERSHAM RD APT 7\n",
       "231             2415 BRIERWOOD DR APT 186\n",
       "232               2312 GLENEAGLE DR APT B\n",
       "235                320 S JACKSON STAPT 10\n",
       "236               320 S JACKSON ST APT 64\n",
       "238                1624 MARYLAND DR APT A\n",
       "241          509 N WESTOVER BLVD APT 1201\n",
       "242              215 N BROADWAY ST APT 23\n",
       "245                    1901 BUCK LN APT B\n",
       "246                    810 PINE AVE APT B\n",
       "249            421 S WESTOVER BLVD APT 84\n",
       "250            421 S WESTOVER BLVD APT 11\n",
       "251            421 S WESTOVER BLVD APT 34\n",
       "252            421 S WESTOVER BLVD APT 14\n",
       "253                1605 SCHLEY AVE APT 9A\n",
       "254            4000 GILLIONVILLE RD APT 3\n",
       "256              2010 W BROAD AVE APT 113\n",
       "257       1404 WHISPERING PINES RD APT G5\n",
       "258       1404 WHISPERING PINES RD APT Q3\n",
       "259      1404 WHISPERING PINES AVE APT M2\n",
       "260       1404 WHISPERING PINES RD APT M6\n",
       "262         321 STATION CROSSING DR APT A\n",
       "266            4000 GILLIONVILLE RD APT 3\n",
       "268             2415 BRIERWOOD DR APT 186\n",
       "269               3202 FERNRIDGE DR APT A\n",
       "270              2312 GLENEAGLES DR APT B\n",
       "271             1336 MERCANTILE DR APT 80\n",
       "272         313 STATION CROSSING DR APT A\n",
       "273         321 STATION CROSSING DR APT A\n",
       "274              215 N BROADWAY ST APT 18\n",
       "276            421 S WESTOVER BLVD APT 34\n",
       "277            421 S WESTOVER BLVD APT 80\n",
       "280              2010 W BROAD AVE APT 188\n",
       "281               2010 W BROAD AVE APT 24\n",
       "282               2010 W BROAD AVE APT 71\n",
       "283               2010 W BROAD AVE APT 79\n",
       "284       1404 WHISPERING PINES RD APT G5\n",
       "471          2206 HABERSHAM RD APTS 31-40\n",
       "674             2206 HABERSHAM RD APTS 41\n",
       "675             2206 HABERSHAM RD APTS 42\n",
       "676             2206 HABERSHAM RD APTS 43\n",
       "677             2206 HABERSHAM RD APTS 44\n",
       "678             2206 HABERSHAM RD APTS 45\n",
       "679             2206 HABERSHAM RD APTS 46\n",
       "680             2206 HABERSHAM RD APTS 47\n",
       "681             2206 HABERSHAM RD APTS 48\n",
       "682             2206 HABERSHAM RD APTS 49\n",
       "683             2206 HABERSHAM RD APTS 50\n",
       "684             2206 HABERSHAM RD APTS 51\n",
       "685             2206 HABERSHAM RD APTS 52\n",
       "686             2206 HABERSHAM RD APTS 53\n",
       "687             2206 HABERSHAM RD APTS 54\n",
       "688             2206 HABERSHAM RD APTS 55\n",
       "689             2206 HABERSHAM RD APTS 56\n",
       "690             2206 HABERSHAM RD APTS 57\n",
       "691             2206 HABERSHAM RD APTS 58\n",
       "692             2206 HABERSHAM RD APTS 59\n",
       "693             2206 HABERSHAM RD APTS 60\n",
       "694             2206 HABERSHAM RD APTS 61\n",
       "Name: Address, dtype: object"
      ]
     },
     "execution_count": 427,
     "metadata": {},
     "output_type": "execute_result"
    }
   ],
   "source": [
    "fixed[fixed.str.contains(\"APT\")]"
   ]
  },
  {
   "cell_type": "code",
   "execution_count": 428,
   "metadata": {},
   "outputs": [],
   "source": [
    "fixed.iloc[118] = '1112 A PEACHTREE TER'\n",
    "fixed.iloc[121] = '305 A STATION CROSSING'\n",
    "fixed.iloc[130] = '2517 B CARDINAL DR'\n",
    "fixed.iloc[173] = '2201 C CHAMPAGNE DR'\n",
    "fixed.iloc[175] = '2200 D CHAMPAGNE DR'\n",
    "fixed.iloc[206] = '2200 C CHAMPAGNE LN'\n",
    "fixed.iloc[226] = '3201 A FERNRIDGE DR'\n",
    "fixed.iloc[233] = '2316 B GLENEAGLES DR'\n",
    "fixed.iloc[133] = '2200 CHAMPAGNE DR APT C'\n",
    "fixed.iloc[141] = '2533 HILLTOP DR APT 5'\n",
    "fixed.iloc[192] = '2206 HABERSHAM RD APT 25'\n",
    "fixed.iloc[225] = '525 DON CUTLER SR DR APT 110'\n",
    "fixed.iloc[235] = '320 S JACKSON ST APT 10'"
   ]
  },
  {
   "cell_type": "code",
   "execution_count": 429,
   "metadata": {},
   "outputs": [],
   "source": [
    "number_streets = {'1ST', '2ND', '3RD', '4TH', '5TH', '6TH', '7TH', '8TH', '9TH',\n",
    "              '10TH', '11TH', '12TH', '13TH', '14TH', '15TH', '16TH', '17TH',\n",
    "              '18TH', '19TH', '20TH'}"
   ]
  },
  {
   "cell_type": "code",
   "execution_count": 430,
   "metadata": {},
   "outputs": [],
   "source": [
    "fixed_addresses = []\n",
    "mh = []\n",
    "for i in range(len(fixed)):\n",
    "    address = fixed.iloc[i]\n",
    "    split_address = address.split()\n",
    "    new_address = \"\"\n",
    "    contains_mh = False\n",
    "    for j in range(1,len(split_address)):\n",
    "        word = split_address[j]\n",
    "        if hasNumbers(word) and word not in number_streets:\n",
    "            if not contains_mh:\n",
    "                mh.append(word)\n",
    "            contains_mh = True\n",
    "        elif len(word) == 1:\n",
    "            if word != 'N' and word != 'W' and word != 'S' and word != 'E':\n",
    "                if not contains_mh:\n",
    "                    mh.append(word)\n",
    "                contains_mh = True\n",
    "            else:\n",
    "                new_address += word + \" \"\n",
    "        else:\n",
    "            if not contains_mh:\n",
    "                contains_mh=True\n",
    "                mh.append(\"NA\")\n",
    "            new_address += split_address[j] + \" \"\n",
    "    fixed_addresses.append((split_address[0] + \" \" + new_address).strip())\n",
    "mh = pd.Series(mh)\n",
    "fixed_addresses = pd.Series(fixed_addresses)"
   ]
  },
  {
   "cell_type": "code",
   "execution_count": 431,
   "metadata": {},
   "outputs": [],
   "source": [
    "dic = {} \n",
    "for i in range(850):\n",
    "    fixedaddr = fixed_addresses.iloc[i]\n",
    "    truthaddr = truth.iloc[i]\n",
    "    if fixedaddr != truthaddr:\n",
    "        dic[fixedaddr] = truthaddr"
   ]
  },
  {
   "cell_type": "code",
   "execution_count": 434,
   "metadata": {},
   "outputs": [],
   "source": [
    "dic = {'1118 WHITNEY AVE': '1118 W WHITNEY AVE',\n",
    " '1403 GREENBRIAR CT': '1403 GREENBRIER CT',\n",
    " '1602 ESTELLE AVE': '1602 ESTELLE ST',\n",
    " '1330 MOBILE RD': '1330 MOBILE AVE',\n",
    " '504 MAGNOLIA ST': '504 S MAGNOLIA ST',\n",
    " '1110 WADDELL AVE': '1110 W WADDELL AVE',\n",
    " '2226 OLD DOMINION DR': '2226 OLD DOMINION RD',\n",
    " '2701 DONCASTER RD': '2701 DONCASTER DR',\n",
    " '2515 BRIERWOOD DR APT': '2515 BRIERWOOD DR',\n",
    " '323 INDEPENDENCE AVE': '323 INDEPENDENCE DR',\n",
    " '2010 LAFAYETTE CR': '2010 LAFAYETTE CIR',\n",
    " '909 HIGHLAND AVE': '909 W HIGHLAND AVE',\n",
    " '603 N HALEY ST': '603 HALEY ST',\n",
    " '305 STATION CROSSING': '305 STATION CROSSING DR',\n",
    " '2517 CARDINAL DR': '2517 CARDINAL ST',\n",
    " '2010 W BROAD AVE APT': '2010 W BROAD AVE',\n",
    " '2200 CHAMPAGNE DR APT': '2200 CHAMPAGNE DR',\n",
    " '525 DON CUTLER SR DR APT': '525 DON CUTLER SR DR',\n",
    " '1902 FLINTLOCK DR': '1902 S FLINTLOCK DR',\n",
    " '2006 LAFAYETTE CR APT': '2006 LAFAYETTE CIR',\n",
    " '2527 HILLTOP DR APT': '2527 HILLTOP DR',\n",
    " '2533 HILLTOP DR APT': '2533 HILLTOP DR',\n",
    " '1308 HOBSON ST APT': '1308 HOBSON ST',\n",
    " '427 KINGSWOOD DR': '427 KINGSWOOD CT',\n",
    " '901 LEISURE CT APT': '901 LEISURE CT',\n",
    " '2501 REDWOOD CR UNIT': '2501 REDWOOD CT',\n",
    " '1404 WHISPERING PINES RD APT': '1404 WHISPERING PINES RD',\n",
    " '933 RANDOLPH DR': '933 RANDOLPH ST',\n",
    " '826 FERRELL CT': '826 FARRELL CT',\n",
    " '2206 HABERSHAM RD APT': '2206 HABERSHAM RD',\n",
    " '320 S JACKSON ST APT': '320 S JACKSON ST',\n",
    " '215 BROADWAY ST APT': '215 N BROADWAY ST',\n",
    " '1005 E FOURTH AVE': '1005 E 4TH AVE',\n",
    " '1336 MERCANTILE DR APT': '1336 MERCANTILE DR',\n",
    " '2016 LAFAYETTE CIR APT': '2016 LAFAYETTE CIR',\n",
    " '2368 MEADOWLARK COMMONS CT APT': '2368 MEADOWLARK COMMONS CT',\n",
    " '509 N WESTOVE BLVD APT': '509 N WESTOVER BLVD',\n",
    " '509 N WESTOVER BLVD APT': '509 N WESTOVER BLVD',\n",
    " '2200 CHAMPAGNE LN': '2200 CHAMPAGNE DR',\n",
    " '1904 ELKHORN LN APT': '1904 ELKHORN LN',\n",
    " '2202 LIONEL LN APT': '2202 LIONEL LN',\n",
    " '1700 SHOREHAM DR APT': '1700 SHOREHAM DR',\n",
    " '2000 TOMPKINS AVE APT': '2000 TOMPKINS AVE',\n",
    " '1019 UNIVERSITY DR APT': '1019 UNIVERSITY ST',\n",
    " '509 WESTOVER BLVD APT': '509 N WESTOVER BLVD',\n",
    " '2415 DAWSON RD APT': '2415 DAWSON RD',\n",
    " '1200 KINGSTOWN CT APT': '1200 KINGSTOWN CT',\n",
    " '2415 BRIERWOOD DR APT': '2415 BRIERWOOD DR',\n",
    " '2312 GLENEAGLE DR APT': '2312 GLENEAGLES DR',\n",
    " '1624 MARYLAND DR APT': '1624 MARYLAND DR',\n",
    " '215 N BROADWAY ST APT': '215 N BROADWAY ST',\n",
    " '1901 BUCK LN APT': '1901 BUCK LN',\n",
    " '810 PINE AVE APT': '810 PINE AVE',\n",
    " '2732 MCCLAIN LN': '2732 MCLAIN LN',\n",
    " '421 S WESTOVER BLVD APT': '421 S WESTOVER BLVD',\n",
    " '1605 SCHLEY AVE APT': '1605 SCHLEY AVE',\n",
    " '4000 GILLIONVILLE RD APT': '4000 GILLIONVILLE RD',\n",
    " '2710 W OAKRDIGE DR': '2710 W OAKRIDGE DR',\n",
    " '1404 WHISPERING PINES AVE APT': '1404 WHISPERING PINES RD',\n",
    " '321 STATION CROSSING DR APT': '321 STATION CROSSING DR',\n",
    " '1015 AMSTERDAM DR': '1015 AMSTERDAM LN',\n",
    " '3202 FERNRIDGE DR APT': '3202 FERNRIDGE DR',\n",
    " '2312 GLENEAGLES DR APT': '2312 GLENEAGLES DR',\n",
    " '313 STATION CROSSING DR APT': '313 STATION CROSSING DR',\n",
    " '200 S VALENCIA DR': '200 S VALENCIA ST',\n",
    " '1117 WADDELL AVE': '1117 W WADDELL AVE',\n",
    " '1316 E FOURTH AVE': '1316 E 4TH AVE',\n",
    " '1419 HIGHLAND AVE': '1419 W HIGHLAND AVE',\n",
    " '1712 HIGHLAND AVE': '1712 W HIGHLAND AVE',\n",
    " '1925 RIVERVIEW DR': '1925 S RIVERVIEW CIR',\n",
    " '2002 SKYLANE DR': '2002 N SKYLANE DR',\n",
    " '305 SHADOWLAWN DR': '305 S SHADOWLAWN DR',\n",
    " '823 SHADOWLAWN': '823 S SHADOWLAWN DR',\n",
    " '1400 WHITNEY AVE': '1400 W WHITNEY AVE',\n",
    " '307 SHADOWLAWN DR': '307 S SHADOWLAWN DR',\n",
    " '706 EASTTOWN RD': '706 E TOWN RD',\n",
    " '105 HILLSIDE AVE': '105 HILLSIDE DR',\n",
    " '1918 HIGHLAND AVE': '1918 W HIGHLAND AVE',\n",
    " '2207 OXFORD DR': '2207 OXFORD RD',\n",
    " '700 COLQUITT CR': '700 COLQUITT CIR',\n",
    " '701 WILLIARD AVE': '701 WILLARD AVE',\n",
    " '425 W SOCIETY AVE': '106 N MONROE ST',\n",
    " '302 S CASON AVE': '302 CASON ST',\n",
    " '1105 JORDAN AVE': '1105 JORDAN ST',\n",
    " '1120 LINCOLN AVE': '1120 W LINCOLN AVE',\n",
    " '1400 ESTELLE AVE': '1400 ESTELLE ST',\n",
    " '1401 E CAMPBELL CARROLL ST': '1401 E CAMPBELL ST/108 CARROLL ST',\n",
    " '1501 WADDELL AVE': '1501 W WADDELL AVE',\n",
    " '1907 GROVELAND DR': '1907 GROVELAND RD',\n",
    " '1914 HIGHLAND AVE': '1914 W HIGHLAND AVE',\n",
    " '2016 MLK JR DR': '2016 MARTIN LUTHER KING JR DR',\n",
    " '219 TALAFAX ST': '219 TALAFAX RD',\n",
    " '2206 HABERSHAM RD APTS': '2206 HABERSHAM RD',\n",
    " '303 INDEPENDENCE AVE': '303 INDEPENDENCE DR',\n",
    " '507 EMILY ST': '507 EMILY AVE',\n",
    " '614 ROADWAY ST': '614 ROADWAY RD',\n",
    " '706 E TOWNE RD': '706 E TOWN RD',\n",
    " '719 BARKLEY AVE': '719 BARKLEY BLVD',\n",
    " '804 HIGHLAND AVE': '804 W HIGHLAND AVE',\n",
    " '919 LINCOLN AVE': '919 W LINCOLN AVE',\n",
    " '1210 TENTH AVE': '1210 10TH AVE',\n",
    " '1105 ST ANDREWS DR': '1105 SAINT ANDREWS DR',\n",
    " '1901 GREENVALE RD': '1901 GREENVALE AVE',\n",
    " '2004 WHITNEY AVE': '2004 W WHITNEY AVE',\n",
    " '108 INGLESIDE DR': '108 S INGLESIDE DR',\n",
    " '1817 GREENVALE RD': '1817 GREENVALE AVE',\n",
    " '2116 WADDELL AVE': '2116 W WADDELL AVE',\n",
    " '610 LINCOLN AVE': '610 W LINCOLN AVE',\n",
    " '1302 E SECOND AVE': '1302 E 2ND AVE',\n",
    " '1921 EDGERLY DR': '1921 EDGERLY AVE',\n",
    " '202 N W RD': '202 N WEST RD',\n",
    " '2020 N RIVERVIEW CR': '2020 N RIVERVIEW CIR',\n",
    " '214 N BROADAY ST': '214 N BROADWAY ST',\n",
    " '2208 OXFORD DR': '2208 OXFORD RD',\n",
    " '502 LINCOLN AVE': '502 W LINCOLN AVE',\n",
    " '422 LOIUS AVE': '422 LOUIS AVE',\n",
    " '410 MERCER AVE': 'MERCER AVE',\n",
    " '1012 W MERCER AVE': '1012 MERCER AVE',\n",
    " '1312 MOBILE RD': '1312 MOBILE AVE',\n",
    " '1934 S RIVERVIEW CR': '1934 S RIVERVIEW CIR',\n",
    " '2028 N RIVERVIEW DR': '2028 N RIVERVIEW CIR',\n",
    " '411 BONNYVIEW AVE': '411 BONNY VIEW AVE'}"
   ]
  },
  {
   "cell_type": "code",
   "execution_count": 435,
   "metadata": {},
   "outputs": [],
   "source": [
    "fixed_addresses = fixed_addresses.replace(dic, regex=True)"
   ]
  },
  {
   "cell_type": "code",
   "execution_count": 436,
   "metadata": {},
   "outputs": [
    {
     "data": {
      "text/plain": [
       "'2206 HABERSHAM RDS'"
      ]
     },
     "execution_count": 436,
     "metadata": {},
     "output_type": "execute_result"
    }
   ],
   "source": [
    "fixed_addresses.iloc[471]"
   ]
  },
  {
   "cell_type": "code",
   "execution_count": 438,
   "metadata": {},
   "outputs": [],
   "source": [
    "habershams = fixed_addresses[~fixed_addresses.isin(truth)]"
   ]
  },
  {
   "cell_type": "code",
   "execution_count": 442,
   "metadata": {},
   "outputs": [],
   "source": [
    "for i in habershams.index:\n",
    "    fixed_addresses.iloc[i] = fixed_addresses.iloc[i][:-1]"
   ]
  },
  {
   "cell_type": "code",
   "execution_count": 445,
   "metadata": {},
   "outputs": [],
   "source": [
    "df_fixed['Address'] = fixed_addresses"
   ]
  },
  {
   "cell_type": "code",
   "execution_count": 446,
   "metadata": {},
   "outputs": [],
   "source": [
    "df_fixed['Multihome'] = mh"
   ]
  },
  {
   "cell_type": "code",
   "execution_count": 447,
   "metadata": {},
   "outputs": [],
   "source": [
    "df_fixed.to_csv('/Users/william/Dropbox (Amherst College)/CDS-2019-AlbanyHub/Test-Replication/Project.csv', index=False)"
   ]
  }
 ],
 "metadata": {
  "kernelspec": {
   "display_name": "Python [conda env:cds] *",
   "language": "python",
   "name": "conda-env-cds-py"
  },
  "language_info": {
   "codemirror_mode": {
    "name": "ipython",
    "version": 3
   },
   "file_extension": ".py",
   "mimetype": "text/x-python",
   "name": "python",
   "nbconvert_exporter": "python",
   "pygments_lexer": "ipython3",
   "version": "3.7.3"
  }
 },
 "nbformat": 4,
 "nbformat_minor": 2
}
