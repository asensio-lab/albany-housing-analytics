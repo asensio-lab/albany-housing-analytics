{
 "cells": [
  {
   "cell_type": "code",
   "execution_count": 1,
   "metadata": {},
   "outputs": [],
   "source": [
    "import pandas as pd"
   ]
  },
  {
   "cell_type": "code",
   "execution_count": 2,
   "metadata": {},
   "outputs": [],
   "source": [
    "df_junction_table = pd.read_csv('~/Dropbox/CDS-2019-AlbanyHub/ToDatabase/addr_db.csv')"
   ]
  },
  {
   "cell_type": "code",
   "execution_count": 3,
   "metadata": {},
   "outputs": [
    {
     "name": "stderr",
     "output_type": "stream",
     "text": [
      "/anaconda3/envs/cds_env/lib/python3.7/site-packages/IPython/core/interactiveshell.py:3049: DtypeWarning: Columns (0) have mixed types. Specify dtype option on import or set low_memory=False.\n",
      "  interactivity=interactivity, compiler=compiler, result=result)\n"
     ]
    }
   ],
   "source": [
    "df_utilities = pd.read_csv('~/Dropbox/CDS-2019-AlbanyHub/ToDatabase/TotalUtilities.csv')"
   ]
  },
  {
   "cell_type": "code",
   "execution_count": 4,
   "metadata": {},
   "outputs": [],
   "source": [
    "s_utilities = df_utilities['Premise Address']"
   ]
  },
  {
   "cell_type": "code",
   "execution_count": 5,
   "metadata": {},
   "outputs": [],
   "source": [
    "s_junction_table = df_junction_table['Address']"
   ]
  },
  {
   "cell_type": "code",
   "execution_count": 11,
   "metadata": {},
   "outputs": [],
   "source": [
    "df_junction_table['PrimaryID'] = df_junction_table['Unnamed: 0']\n",
    "df_junction_table.drop('Unnamed: 0', axis=1, inplace=True)\n",
    "s_primaryid = df_junction_table['PrimaryID']"
   ]
  },
  {
   "cell_type": "code",
   "execution_count": 15,
   "metadata": {},
   "outputs": [],
   "source": [
    "cols = list(df_junction_table)\n",
    "cols = cols[-1:] + cols[:-1]\n",
    "df_junction_table = df_junction_table[cols]"
   ]
  },
  {
   "cell_type": "code",
   "execution_count": 16,
   "metadata": {},
   "outputs": [
    {
     "data": {
      "text/html": [
       "<div>\n",
       "<style scoped>\n",
       "    .dataframe tbody tr th:only-of-type {\n",
       "        vertical-align: middle;\n",
       "    }\n",
       "\n",
       "    .dataframe tbody tr th {\n",
       "        vertical-align: top;\n",
       "    }\n",
       "\n",
       "    .dataframe thead th {\n",
       "        text-align: right;\n",
       "    }\n",
       "</style>\n",
       "<table border=\"1\" class=\"dataframe\">\n",
       "  <thead>\n",
       "    <tr style=\"text-align: right;\">\n",
       "      <th></th>\n",
       "      <th>PrimaryID</th>\n",
       "      <th>Address</th>\n",
       "      <th>Xcoord</th>\n",
       "      <th>Ycoord</th>\n",
       "      <th>Tract</th>\n",
       "      <th>BlockGroup</th>\n",
       "    </tr>\n",
       "  </thead>\n",
       "  <tbody>\n",
       "    <tr>\n",
       "      <th>0</th>\n",
       "      <td>0</td>\n",
       "      <td>1486 US HIGHWAY 19 S</td>\n",
       "      <td>31.732116</td>\n",
       "      <td>-84.170742</td>\n",
       "      <td>20300.0</td>\n",
       "      <td>1037.0</td>\n",
       "    </tr>\n",
       "    <tr>\n",
       "      <th>1</th>\n",
       "      <td>1</td>\n",
       "      <td>1064 US HIGHWAY 19 S</td>\n",
       "      <td>31.665719</td>\n",
       "      <td>-84.173577</td>\n",
       "      <td>20402.0</td>\n",
       "      <td>3003.0</td>\n",
       "    </tr>\n",
       "    <tr>\n",
       "      <th>2</th>\n",
       "      <td>2</td>\n",
       "      <td>905 US HIGHWAY 19 S</td>\n",
       "      <td>31.676679</td>\n",
       "      <td>-84.172067</td>\n",
       "      <td>20402.0</td>\n",
       "      <td>1001.0</td>\n",
       "    </tr>\n",
       "    <tr>\n",
       "      <th>3</th>\n",
       "      <td>3</td>\n",
       "      <td>501 S MADISON ST</td>\n",
       "      <td>31.570488</td>\n",
       "      <td>-84.162164</td>\n",
       "      <td>1500.0</td>\n",
       "      <td>1013.0</td>\n",
       "    </tr>\n",
       "    <tr>\n",
       "      <th>4</th>\n",
       "      <td>4</td>\n",
       "      <td>525 LINCOLN AVE</td>\n",
       "      <td>31.569466</td>\n",
       "      <td>-84.161175</td>\n",
       "      <td>1500.0</td>\n",
       "      <td>1012.0</td>\n",
       "    </tr>\n",
       "  </tbody>\n",
       "</table>\n",
       "</div>"
      ],
      "text/plain": [
       "   PrimaryID               Address     Xcoord     Ycoord    Tract  BlockGroup\n",
       "0          0  1486 US HIGHWAY 19 S  31.732116 -84.170742  20300.0      1037.0\n",
       "1          1  1064 US HIGHWAY 19 S  31.665719 -84.173577  20402.0      3003.0\n",
       "2          2   905 US HIGHWAY 19 S  31.676679 -84.172067  20402.0      1001.0\n",
       "3          3      501 S MADISON ST  31.570488 -84.162164   1500.0      1013.0\n",
       "4          4       525 LINCOLN AVE  31.569466 -84.161175   1500.0      1012.0"
      ]
     },
     "execution_count": 16,
     "metadata": {},
     "output_type": "execute_result"
    }
   ],
   "source": [
    "df_junction_table.head()"
   ]
  },
  {
   "cell_type": "code",
   "execution_count": null,
   "metadata": {},
   "outputs": [],
   "source": [
    "primaryid_list = [None] * 14748395\n",
    "notfound_list = []\n",
    "count = 0\n",
    "for i in range(14748395):\n",
    "    count += 1\n",
    "    if count % 100000 == 0:\n",
    "        print(str(count))\n",
    "    try:\n",
    "        index = s_junction_table[s_junction_table == s_utilities[i]].index[0]\n",
    "        primaryid_list[i] = index\n",
    "    except:\n",
    "        primaryid_list[i] = 'NA'\n",
    "        notfound_list.append(s_utilities[i])\n",
    "primaryID = pd.Series(primaryid_list)\n",
    "notFound = pd.Series(notfound_list)"
   ]
  },
  {
   "cell_type": "code",
   "execution_count": null,
   "metadata": {},
   "outputs": [],
   "source": []
  }
 ],
 "metadata": {
  "kernelspec": {
   "display_name": "Python [conda env:cds_env] *",
   "language": "python",
   "name": "conda-env-cds_env-py"
  },
  "language_info": {
   "codemirror_mode": {
    "name": "ipython",
    "version": 3
   },
   "file_extension": ".py",
   "mimetype": "text/x-python",
   "name": "python",
   "nbconvert_exporter": "python",
   "pygments_lexer": "ipython3",
   "version": "3.7.3"
  }
 },
 "nbformat": 4,
 "nbformat_minor": 2
}
