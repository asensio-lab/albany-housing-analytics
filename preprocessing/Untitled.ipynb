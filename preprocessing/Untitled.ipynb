{
 "cells": [
  {
   "cell_type": "code",
   "execution_count": 3,
   "metadata": {},
   "outputs": [],
   "source": [
    "import pandas as pd"
   ]
  },
  {
   "cell_type": "code",
   "execution_count": 7,
   "metadata": {},
   "outputs": [],
   "source": [
    "path = '~/Dropbox (Amherst College)/CDS-2019-AlbanyHub/Raw-Data/UtilitiesReformattedYears/'"
   ]
  },
  {
   "cell_type": "code",
   "execution_count": 9,
   "metadata": {},
   "outputs": [
    {
     "name": "stderr",
     "output_type": "stream",
     "text": [
      "/anaconda3/envs/cds/lib/python3.7/site-packages/IPython/core/interactiveshell.py:3049: DtypeWarning: Columns (3,5,6,7,8,9,10,11,12,13,14,16,18) have mixed types. Specify dtype option on import or set low_memory=False.\n",
      "  interactivity=interactivity, compiler=compiler, result=result)\n"
     ]
    }
   ],
   "source": [
    "df = pd.read_csv(path+'Total.csv')"
   ]
  },
  {
   "cell_type": "code",
   "execution_count": 10,
   "metadata": {},
   "outputs": [
    {
     "data": {
      "text/html": [
       "<div>\n",
       "<style scoped>\n",
       "    .dataframe tbody tr th:only-of-type {\n",
       "        vertical-align: middle;\n",
       "    }\n",
       "\n",
       "    .dataframe tbody tr th {\n",
       "        vertical-align: top;\n",
       "    }\n",
       "\n",
       "    .dataframe thead th {\n",
       "        text-align: right;\n",
       "    }\n",
       "</style>\n",
       "<table border=\"1\" class=\"dataframe\">\n",
       "  <thead>\n",
       "    <tr style=\"text-align: right;\">\n",
       "      <th></th>\n",
       "      <th>ChargeID</th>\n",
       "      <th>Unnamed: 0</th>\n",
       "      <th>ChargeID.1</th>\n",
       "      <th>Premise</th>\n",
       "      <th>Premise Address</th>\n",
       "      <th>City</th>\n",
       "      <th>State</th>\n",
       "      <th>Customer</th>\n",
       "      <th>Service Type</th>\n",
       "      <th>Service Number</th>\n",
       "      <th>Service Rate</th>\n",
       "      <th>Consumption</th>\n",
       "      <th>Days of Service</th>\n",
       "      <th>Unit of Measure</th>\n",
       "      <th>Charge Amount</th>\n",
       "      <th>Charge Date</th>\n",
       "      <th>Year</th>\n",
       "      <th>Month</th>\n",
       "      <th>Day</th>\n",
       "      <th>PrimaryID</th>\n",
       "    </tr>\n",
       "  </thead>\n",
       "  <tbody>\n",
       "    <tr>\n",
       "      <th>0</th>\n",
       "      <td>0</td>\n",
       "      <td>0</td>\n",
       "      <td>0</td>\n",
       "      <td>10002</td>\n",
       "      <td>212 ACORN ST</td>\n",
       "      <td>ALBANY</td>\n",
       "      <td>GA</td>\n",
       "      <td>10002</td>\n",
       "      <td>DELC</td>\n",
       "      <td>100</td>\n",
       "      <td>216</td>\n",
       "      <td>340</td>\n",
       "      <td>30</td>\n",
       "      <td>KWH</td>\n",
       "      <td>79.85</td>\n",
       "      <td>2012-01-09</td>\n",
       "      <td>2012</td>\n",
       "      <td>1.0</td>\n",
       "      <td>9</td>\n",
       "      <td>28073</td>\n",
       "    </tr>\n",
       "    <tr>\n",
       "      <th>1</th>\n",
       "      <td>1</td>\n",
       "      <td>1</td>\n",
       "      <td>1</td>\n",
       "      <td>10002</td>\n",
       "      <td>212 ACORN ST</td>\n",
       "      <td>ALBANY</td>\n",
       "      <td>GA</td>\n",
       "      <td>10002</td>\n",
       "      <td>NaN</td>\n",
       "      <td>150</td>\n",
       "      <td>NaN</td>\n",
       "      <td>NaN</td>\n",
       "      <td>NaN</td>\n",
       "      <td>NaN</td>\n",
       "      <td>17.12</td>\n",
       "      <td>2012-01-09</td>\n",
       "      <td>2012</td>\n",
       "      <td>1.0</td>\n",
       "      <td>9</td>\n",
       "      <td>28073</td>\n",
       "    </tr>\n",
       "    <tr>\n",
       "      <th>2</th>\n",
       "      <td>2</td>\n",
       "      <td>2</td>\n",
       "      <td>2</td>\n",
       "      <td>10002</td>\n",
       "      <td>212 ACORN ST</td>\n",
       "      <td>ALBANY</td>\n",
       "      <td>GA</td>\n",
       "      <td>10002</td>\n",
       "      <td>CGAS</td>\n",
       "      <td>200</td>\n",
       "      <td>220</td>\n",
       "      <td>37</td>\n",
       "      <td>30</td>\n",
       "      <td>CCF</td>\n",
       "      <td>47.13</td>\n",
       "      <td>2012-01-09</td>\n",
       "      <td>2012</td>\n",
       "      <td>1.0</td>\n",
       "      <td>9</td>\n",
       "      <td>28073</td>\n",
       "    </tr>\n",
       "    <tr>\n",
       "      <th>3</th>\n",
       "      <td>3</td>\n",
       "      <td>3</td>\n",
       "      <td>3</td>\n",
       "      <td>10002</td>\n",
       "      <td>212 ACORN ST</td>\n",
       "      <td>ALBANY</td>\n",
       "      <td>GA</td>\n",
       "      <td>10002</td>\n",
       "      <td>CWTR</td>\n",
       "      <td>300</td>\n",
       "      <td>230</td>\n",
       "      <td>1</td>\n",
       "      <td>30</td>\n",
       "      <td>TGAL</td>\n",
       "      <td>9.67</td>\n",
       "      <td>2012-01-09</td>\n",
       "      <td>2012</td>\n",
       "      <td>1.0</td>\n",
       "      <td>9</td>\n",
       "      <td>28073</td>\n",
       "    </tr>\n",
       "    <tr>\n",
       "      <th>4</th>\n",
       "      <td>4</td>\n",
       "      <td>4</td>\n",
       "      <td>4</td>\n",
       "      <td>10002</td>\n",
       "      <td>212 ACORN ST</td>\n",
       "      <td>ALBANY</td>\n",
       "      <td>GA</td>\n",
       "      <td>10002</td>\n",
       "      <td>CSWR</td>\n",
       "      <td>400</td>\n",
       "      <td>250</td>\n",
       "      <td>1</td>\n",
       "      <td>30</td>\n",
       "      <td>NONE</td>\n",
       "      <td>10.93</td>\n",
       "      <td>2012-01-09</td>\n",
       "      <td>2012</td>\n",
       "      <td>1.0</td>\n",
       "      <td>9</td>\n",
       "      <td>28073</td>\n",
       "    </tr>\n",
       "  </tbody>\n",
       "</table>\n",
       "</div>"
      ],
      "text/plain": [
       "   ChargeID  Unnamed: 0  ChargeID.1 Premise Premise Address    City State  \\\n",
       "0         0           0           0   10002    212 ACORN ST  ALBANY    GA   \n",
       "1         1           1           1   10002    212 ACORN ST  ALBANY    GA   \n",
       "2         2           2           2   10002    212 ACORN ST  ALBANY    GA   \n",
       "3         3           3           3   10002    212 ACORN ST  ALBANY    GA   \n",
       "4         4           4           4   10002    212 ACORN ST  ALBANY    GA   \n",
       "\n",
       "  Customer Service Type Service Number Service Rate Consumption  \\\n",
       "0    10002         DELC            100          216         340   \n",
       "1    10002          NaN            150          NaN         NaN   \n",
       "2    10002         CGAS            200          220          37   \n",
       "3    10002         CWTR            300          230           1   \n",
       "4    10002         CSWR            400          250           1   \n",
       "\n",
       "  Days of Service Unit of Measure Charge Amount Charge Date  Year  Month Day  \\\n",
       "0              30             KWH         79.85  2012-01-09  2012    1.0   9   \n",
       "1             NaN             NaN         17.12  2012-01-09  2012    1.0   9   \n",
       "2              30             CCF         47.13  2012-01-09  2012    1.0   9   \n",
       "3              30            TGAL          9.67  2012-01-09  2012    1.0   9   \n",
       "4              30            NONE         10.93  2012-01-09  2012    1.0   9   \n",
       "\n",
       "   PrimaryID  \n",
       "0      28073  \n",
       "1      28073  \n",
       "2      28073  \n",
       "3      28073  \n",
       "4      28073  "
      ]
     },
     "execution_count": 10,
     "metadata": {},
     "output_type": "execute_result"
    }
   ],
   "source": [
    "df.head()"
   ]
  },
  {
   "cell_type": "code",
   "execution_count": null,
   "metadata": {},
   "outputs": [],
   "source": [
    "df[df['Charge Year']==]"
   ]
  },
  {
   "cell_type": "code",
   "execution_count": 11,
   "metadata": {},
   "outputs": [
    {
     "name": "stderr",
     "output_type": "stream",
     "text": [
      "/anaconda3/envs/cds/lib/python3.7/site-packages/IPython/core/interactiveshell.py:3049: DtypeWarning: Columns (1,4,6,9) have mixed types. Specify dtype option on import or set low_memory=False.\n",
      "  interactivity=interactivity, compiler=compiler, result=result)\n"
     ]
    }
   ],
   "source": [
    "df_2 = pd.read_csv('/Users/william/Dropbox (Amherst College)/CDS-2019-AlbanyHub/ToDatabase/TestDB/Ship/Utility_v03.csv')"
   ]
  },
  {
   "cell_type": "code",
   "execution_count": 13,
   "metadata": {},
   "outputs": [
    {
     "data": {
      "text/html": [
       "<div>\n",
       "<style scoped>\n",
       "    .dataframe tbody tr th:only-of-type {\n",
       "        vertical-align: middle;\n",
       "    }\n",
       "\n",
       "    .dataframe tbody tr th {\n",
       "        vertical-align: top;\n",
       "    }\n",
       "\n",
       "    .dataframe thead th {\n",
       "        text-align: right;\n",
       "    }\n",
       "</style>\n",
       "<table border=\"1\" class=\"dataframe\">\n",
       "  <thead>\n",
       "    <tr style=\"text-align: right;\">\n",
       "      <th></th>\n",
       "      <th>ChargeID</th>\n",
       "      <th>Premise</th>\n",
       "      <th>PremiseAddress</th>\n",
       "      <th>Customer</th>\n",
       "      <th>ServiceType</th>\n",
       "      <th>ServiceNumber</th>\n",
       "      <th>ServiceRate</th>\n",
       "      <th>Consumption</th>\n",
       "      <th>DaysOfService</th>\n",
       "      <th>UnitOfMeasure</th>\n",
       "      <th>ChargeAmount</th>\n",
       "      <th>ChargeDate</th>\n",
       "      <th>Year</th>\n",
       "      <th>Month</th>\n",
       "      <th>Day</th>\n",
       "      <th>AddressID</th>\n",
       "      <th>YearMonth</th>\n",
       "      <th>WeatherID</th>\n",
       "    </tr>\n",
       "  </thead>\n",
       "  <tbody>\n",
       "  </tbody>\n",
       "</table>\n",
       "</div>"
      ],
      "text/plain": [
       "Empty DataFrame\n",
       "Columns: [ChargeID, Premise, PremiseAddress, Customer, ServiceType, ServiceNumber, ServiceRate, Consumption, DaysOfService, UnitOfMeasure, ChargeAmount, ChargeDate, Year, Month, Day, AddressID, YearMonth, WeatherID]\n",
       "Index: []"
      ]
     },
     "execution_count": 13,
     "metadata": {},
     "output_type": "execute_result"
    }
   ],
   "source": [
    "df_2[df_2['YearMonth']==\"2012_5\"]"
   ]
  },
  {
   "cell_type": "code",
   "execution_count": null,
   "metadata": {},
   "outputs": [],
   "source": []
  }
 ],
 "metadata": {
  "kernelspec": {
   "display_name": "Python [conda env:cds] *",
   "language": "python",
   "name": "conda-env-cds-py"
  },
  "language_info": {
   "codemirror_mode": {
    "name": "ipython",
    "version": 3
   },
   "file_extension": ".py",
   "mimetype": "text/x-python",
   "name": "python",
   "nbconvert_exporter": "python",
   "pygments_lexer": "ipython3",
   "version": "3.7.3"
  }
 },
 "nbformat": 4,
 "nbformat_minor": 2
}
