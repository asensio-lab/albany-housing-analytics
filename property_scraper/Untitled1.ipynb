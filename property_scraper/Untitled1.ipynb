{
 "cells": [
  {
   "cell_type": "code",
   "execution_count": 22,
   "metadata": {},
   "outputs": [],
   "source": [
    "import pandas as pd\n",
    "import os\n",
    "import json"
   ]
  },
  {
   "cell_type": "code",
   "execution_count": 23,
   "metadata": {},
   "outputs": [],
   "source": [
    "#Read in the address junction table \n",
    "df = pd.read_csv('~/Dropbox/CDS-2019-AlbanyHub/ToDatabase/addr_junct_table.csv')\n",
    "directory = '/Users/oliviafiol/Dropbox/CDS-2019-AlbanyHub/Processed-Data/attom_json' #dir of json files"
   ]
  },
  {
   "cell_type": "code",
   "execution_count": 24,
   "metadata": {},
   "outputs": [],
   "source": [
    "#read all json files into a single list\n",
    "j_list=[]\n",
    "for filename in os.listdir(directory):\n",
    "    if filename.endswith('.json'):\n",
    "        f = open(directory+'/'+filename)\n",
    "        j_list.append(json.load(f))\n",
    "        f.close()"
   ]
  },
  {
   "cell_type": "code",
   "execution_count": 25,
   "metadata": {},
   "outputs": [
    {
     "data": {
      "text/plain": [
       "dict_keys(['identifier', 'lot', 'area', 'address', 'location', 'summary', 'utilities', 'sale', 'building', 'assessment', 'vintage'])"
      ]
     },
     "execution_count": 25,
     "metadata": {},
     "output_type": "execute_result"
    }
   ],
   "source": [
    "#Look at all the values available for a single home\n",
    "example_entry = j_list[0][0]\n",
    "example_entry.keys()"
   ]
  },
  {
   "cell_type": "code",
   "execution_count": 26,
   "metadata": {},
   "outputs": [
    {
     "data": {
      "text/plain": [
       "13000"
      ]
     },
     "execution_count": 26,
     "metadata": {},
     "output_type": "execute_result"
    }
   ],
   "source": [
    "#concatenate j_list into a single list\n",
    "data = [y for x in j_list for y in x]\n",
    "len(data)"
   ]
  },
  {
   "cell_type": "code",
   "execution_count": 27,
   "metadata": {},
   "outputs": [
    {
     "data": {
      "text/plain": [
       "10798"
      ]
     },
     "execution_count": 27,
     "metadata": {},
     "output_type": "execute_result"
    }
   ],
   "source": [
    "#separate these out by the major keys\n",
    "all_identifiers = [x['identifier'] for x in data if len(x)>0]\n",
    "all_lot = [x['lot'] for x in data if len(x)>0]\n",
    "all_area = [x['area'] for x in data if len(x)>0]\n",
    "all_addresses = [x['address'] for x in data if len(x)>0]\n",
    "all_location = [x['location'] for x in data if len(x)>0]\n",
    "all_summary = [x['summary'] for x in data if len(x)>0]\n",
    "all_utilities = [x['utilities']for x in data if len(x)>0]\n",
    "all_sale = [x['sale'] for x in data if len(x)>0]\n",
    "all_building = [x['building'] for x in data if len(x)>0]\n",
    "all_assessment = [x['assessment'] for x in data if len(x)>0]\n",
    "all_vintage = [x['vintage'] for x in data if len(x)>0]\n",
    "len(all_identifiers) #25030 rows were not found when making api calls"
   ]
  },
  {
   "cell_type": "code",
   "execution_count": 28,
   "metadata": {},
   "outputs": [],
   "source": [
    "#convert data from a multi-layered dict into a single dict for a pandas dataframe\n",
    "dict_full = {\n",
    "    'address':[x['line1'] for x in all_addresses],\n",
    "    'lot_size':[x['lotSize1'] for x in all_lot],\n",
    "    'zoningType': [x.get('zoningType') for x in all_lot],\n",
    "    'siteZoningIdent': [x.get('siteZoningIdent') for x in all_lot],\n",
    "    'propClass': [x['propClass'] for x in all_summary],\n",
    "    'yearBuilt':[x['yearBuilt'] for x in all_summary],\n",
    "    'size':[x['size']['grossSizeAdjusted'] for x in all_building],\n",
    "    'baths':[x['rooms']['bathsTotal'] for x in all_building],\n",
    "    'beds':[x['rooms']['beds'] for x in all_building],\n",
    "    'rooms':[x['rooms']['roomsTotal'] for x in all_building],\n",
    "    'floors':[x['interior'].get('floors') for x in all_building],\n",
    "    'condition':[x['construction'].get('condition') for x in all_building],\n",
    "    'foundationType':[x['construction'].get('foundationType') for x in all_building],\n",
    "    'roofCover':[x['construction'].get('roofCover') for x in all_building],\n",
    "    'wallType':[x['construction'].get('wallType') for x in all_building],\n",
    "    'improvementYear':[x['construction'].get('propertyStructureMajorImprovementsYear') for x in all_building],\n",
    "    'assessment':[x['assessed']['assdTtlValue'] for x in all_assessment],\n",
    "    'assessment':[x['market']['mktTtlValue'] for x in all_assessment]\n",
    "}"
   ]
  },
  {
   "cell_type": "code",
   "execution_count": 29,
   "metadata": {},
   "outputs": [
    {
     "data": {
      "text/plain": [
       "10798"
      ]
     },
     "execution_count": 29,
     "metadata": {},
     "output_type": "execute_result"
    }
   ],
   "source": [
    "#Convert to pandas dataframe\n",
    "dfp = pd.DataFrame(data=dict_full)\n",
    "dfp.drop_duplicates(subset=\"address\")\n",
    "dfp.index = range(len(dfp))\n",
    "len(dfp)"
   ]
  },
  {
   "cell_type": "code",
   "execution_count": 30,
   "metadata": {},
   "outputs": [],
   "source": [
    "#get the primary ids in the junction table for each address returned\n",
    "id_dict = {df.loc[x,'Address']:df.loc[x, 'Id'] for x in range(len(df))} #maps address to id, from junct table\n",
    "NOT_FOUND = id_dict['NOT FOUND']\n",
    "prim_ids=[id_dict.get(x, NOT_FOUND) for x in dfp['address']] #id of each addresss in new dataframe"
   ]
  },
  {
   "cell_type": "code",
   "execution_count": 31,
   "metadata": {},
   "outputs": [],
   "source": [
    "#find the locs where x is not in the address junction table\n",
    "nf = [dfp.loc[x, 'address'] for x in range(len(prim_ids)) if prim_ids[x]==NOT_FOUND]"
   ]
  },
  {
   "cell_type": "code",
   "execution_count": 32,
   "metadata": {},
   "outputs": [
    {
     "data": {
      "text/plain": [
       "323"
      ]
     },
     "execution_count": 32,
     "metadata": {},
     "output_type": "execute_result"
    }
   ],
   "source": [
    "len(nf)"
   ]
  },
  {
   "cell_type": "code",
   "execution_count": 33,
   "metadata": {},
   "outputs": [
    {
     "data": {
      "text/plain": [
       "10798"
      ]
     },
     "execution_count": 33,
     "metadata": {},
     "output_type": "execute_result"
    }
   ],
   "source": [
    "len(prim_ids) # about 3% of addresses were not found"
   ]
  },
  {
   "cell_type": "code",
   "execution_count": 34,
   "metadata": {},
   "outputs": [],
   "source": [
    "dfp['PrimaryID'] = prim_ids"
   ]
  },
  {
   "cell_type": "code",
   "execution_count": 35,
   "metadata": {},
   "outputs": [],
   "source": [
    "#replace 0's with None for clarity\n",
    "dfp[dfp['yearBuilt'] == 0]=None\n",
    "dfp[dfp['size']==0] = None\n",
    "dfp[dfp['lot_size'] == 0] = None\n",
    "#Drop rows where address is Nan\n",
    "dfp = dfp.dropna(how='all')"
   ]
  },
  {
   "cell_type": "code",
   "execution_count": 36,
   "metadata": {},
   "outputs": [],
   "source": [
    "dfp.to_csv(directory+'/property_data.csv', index=False)"
   ]
  },
  {
   "cell_type": "code",
   "execution_count": 38,
   "metadata": {},
   "outputs": [
    {
     "data": {
      "text/plain": [
       "0.7307692307692307"
      ]
     },
     "execution_count": 38,
     "metadata": {},
     "output_type": "execute_result"
    }
   ],
   "source": [
    "len(dfp)/len(data) # about 75% of addresses have data"
   ]
  },
  {
   "cell_type": "code",
   "execution_count": 39,
   "metadata": {},
   "outputs": [
    {
     "data": {
      "text/html": [
       "<div>\n",
       "<style scoped>\n",
       "    .dataframe tbody tr th:only-of-type {\n",
       "        vertical-align: middle;\n",
       "    }\n",
       "\n",
       "    .dataframe tbody tr th {\n",
       "        vertical-align: top;\n",
       "    }\n",
       "\n",
       "    .dataframe thead th {\n",
       "        text-align: right;\n",
       "    }\n",
       "</style>\n",
       "<table border=\"1\" class=\"dataframe\">\n",
       "  <thead>\n",
       "    <tr style=\"text-align: right;\">\n",
       "      <th></th>\n",
       "      <th>address</th>\n",
       "      <th>lot_size</th>\n",
       "      <th>zoningType</th>\n",
       "      <th>siteZoningIdent</th>\n",
       "      <th>propClass</th>\n",
       "      <th>yearBuilt</th>\n",
       "      <th>size</th>\n",
       "      <th>baths</th>\n",
       "      <th>beds</th>\n",
       "      <th>rooms</th>\n",
       "      <th>floors</th>\n",
       "      <th>condition</th>\n",
       "      <th>foundationType</th>\n",
       "      <th>roofCover</th>\n",
       "      <th>wallType</th>\n",
       "      <th>improvementYear</th>\n",
       "      <th>assessment</th>\n",
       "      <th>PrimaryID</th>\n",
       "    </tr>\n",
       "  </thead>\n",
       "  <tbody>\n",
       "    <tr>\n",
       "      <th>0</th>\n",
       "      <td>2316 GAIL AVE</td>\n",
       "      <td>0.36</td>\n",
       "      <td>Residential</td>\n",
       "      <td>R1A</td>\n",
       "      <td>Single Family Residence / Townhouse</td>\n",
       "      <td>1968.0</td>\n",
       "      <td>1790.0</td>\n",
       "      <td>2.0</td>\n",
       "      <td>3.0</td>\n",
       "      <td>0.0</td>\n",
       "      <td>WOOD</td>\n",
       "      <td>AVERAGE</td>\n",
       "      <td>MASONRY</td>\n",
       "      <td>ASPHALT</td>\n",
       "      <td>BRICK VENEER</td>\n",
       "      <td>0</td>\n",
       "      <td>110100.0</td>\n",
       "      <td>17000.0</td>\n",
       "    </tr>\n",
       "    <tr>\n",
       "      <th>1</th>\n",
       "      <td>2318 GAIL AVE</td>\n",
       "      <td>0.36</td>\n",
       "      <td>Residential</td>\n",
       "      <td>R1A</td>\n",
       "      <td>Single Family Residence / Townhouse</td>\n",
       "      <td>1966.0</td>\n",
       "      <td>1455.0</td>\n",
       "      <td>2.0</td>\n",
       "      <td>3.0</td>\n",
       "      <td>0.0</td>\n",
       "      <td>WOOD</td>\n",
       "      <td>AVERAGE</td>\n",
       "      <td>MASONRY</td>\n",
       "      <td>ASPHALT</td>\n",
       "      <td>BRICK VENEER</td>\n",
       "      <td>1990</td>\n",
       "      <td>109200.0</td>\n",
       "      <td>17001.0</td>\n",
       "    </tr>\n",
       "    <tr>\n",
       "      <th>2</th>\n",
       "      <td>2307 BARNESDALE WAY</td>\n",
       "      <td>0.35</td>\n",
       "      <td>Residential</td>\n",
       "      <td>R1A</td>\n",
       "      <td>Single Family Residence / Townhouse</td>\n",
       "      <td>1964.0</td>\n",
       "      <td>1560.0</td>\n",
       "      <td>1.5</td>\n",
       "      <td>3.0</td>\n",
       "      <td>0.0</td>\n",
       "      <td>WOOD</td>\n",
       "      <td>AVERAGE</td>\n",
       "      <td>MASONRY</td>\n",
       "      <td>ASPHALT</td>\n",
       "      <td>BRICK VENEER</td>\n",
       "      <td>0</td>\n",
       "      <td>91600.0</td>\n",
       "      <td>17002.0</td>\n",
       "    </tr>\n",
       "    <tr>\n",
       "      <th>3</th>\n",
       "      <td>2305 BARNESDALE WAY</td>\n",
       "      <td>0.32</td>\n",
       "      <td>Residential</td>\n",
       "      <td>R1A</td>\n",
       "      <td>Single Family Residence / Townhouse</td>\n",
       "      <td>1964.0</td>\n",
       "      <td>1653.0</td>\n",
       "      <td>2.0</td>\n",
       "      <td>3.0</td>\n",
       "      <td>0.0</td>\n",
       "      <td>WOOD</td>\n",
       "      <td>AVERAGE</td>\n",
       "      <td>MASONRY</td>\n",
       "      <td>ASPHALT</td>\n",
       "      <td>BRICK VENEER</td>\n",
       "      <td>0</td>\n",
       "      <td>94300.0</td>\n",
       "      <td>17003.0</td>\n",
       "    </tr>\n",
       "    <tr>\n",
       "      <th>4</th>\n",
       "      <td>2303 BARNESDALE WAY</td>\n",
       "      <td>0.32</td>\n",
       "      <td>Residential</td>\n",
       "      <td>R1A</td>\n",
       "      <td>Single Family Residence / Townhouse</td>\n",
       "      <td>1964.0</td>\n",
       "      <td>1175.0</td>\n",
       "      <td>1.5</td>\n",
       "      <td>3.0</td>\n",
       "      <td>0.0</td>\n",
       "      <td>WOOD</td>\n",
       "      <td>AVERAGE</td>\n",
       "      <td>MASONRY</td>\n",
       "      <td>ASPHALT</td>\n",
       "      <td>BRICK VENEER</td>\n",
       "      <td>0</td>\n",
       "      <td>75400.0</td>\n",
       "      <td>17004.0</td>\n",
       "    </tr>\n",
       "  </tbody>\n",
       "</table>\n",
       "</div>"
      ],
      "text/plain": [
       "               address  lot_size   zoningType siteZoningIdent  \\\n",
       "0        2316 GAIL AVE      0.36  Residential             R1A   \n",
       "1        2318 GAIL AVE      0.36  Residential             R1A   \n",
       "2  2307 BARNESDALE WAY      0.35  Residential             R1A   \n",
       "3  2305 BARNESDALE WAY      0.32  Residential             R1A   \n",
       "4  2303 BARNESDALE WAY      0.32  Residential             R1A   \n",
       "\n",
       "                             propClass  yearBuilt    size  baths  beds  rooms  \\\n",
       "0  Single Family Residence / Townhouse     1968.0  1790.0    2.0   3.0    0.0   \n",
       "1  Single Family Residence / Townhouse     1966.0  1455.0    2.0   3.0    0.0   \n",
       "2  Single Family Residence / Townhouse     1964.0  1560.0    1.5   3.0    0.0   \n",
       "3  Single Family Residence / Townhouse     1964.0  1653.0    2.0   3.0    0.0   \n",
       "4  Single Family Residence / Townhouse     1964.0  1175.0    1.5   3.0    0.0   \n",
       "\n",
       "  floors condition foundationType roofCover      wallType improvementYear  \\\n",
       "0   WOOD   AVERAGE        MASONRY   ASPHALT  BRICK VENEER               0   \n",
       "1   WOOD   AVERAGE        MASONRY   ASPHALT  BRICK VENEER            1990   \n",
       "2   WOOD   AVERAGE        MASONRY   ASPHALT  BRICK VENEER               0   \n",
       "3   WOOD   AVERAGE        MASONRY   ASPHALT  BRICK VENEER               0   \n",
       "4   WOOD   AVERAGE        MASONRY   ASPHALT  BRICK VENEER               0   \n",
       "\n",
       "   assessment  PrimaryID  \n",
       "0    110100.0    17000.0  \n",
       "1    109200.0    17001.0  \n",
       "2     91600.0    17002.0  \n",
       "3     94300.0    17003.0  \n",
       "4     75400.0    17004.0  "
      ]
     },
     "execution_count": 39,
     "metadata": {},
     "output_type": "execute_result"
    }
   ],
   "source": [
    "dfp.head()"
   ]
  },
  {
   "cell_type": "code",
   "execution_count": null,
   "metadata": {},
   "outputs": [],
   "source": []
  }
 ],
 "metadata": {
  "kernelspec": {
   "display_name": "Python [conda env:cds_env] *",
   "language": "python",
   "name": "conda-env-cds_env-py"
  },
  "language_info": {
   "codemirror_mode": {
    "name": "ipython",
    "version": 3
   },
   "file_extension": ".py",
   "mimetype": "text/x-python",
   "name": "python",
   "nbconvert_exporter": "python",
   "pygments_lexer": "ipython3",
   "version": "3.7.3"
  }
 },
 "nbformat": 4,
 "nbformat_minor": 2
}
