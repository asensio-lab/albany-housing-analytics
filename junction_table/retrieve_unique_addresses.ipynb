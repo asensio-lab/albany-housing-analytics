{
 "cells": [
  {
   "cell_type": "markdown",
   "metadata": {},
   "source": [
    "### note: change all of the paths to your correct path when loading in data\n",
    "This file retrieves the unique addresses from Total.csv and exports them to be geocoded"
   ]
  },
  {
   "cell_type": "code",
   "execution_count": 1,
   "metadata": {},
   "outputs": [],
   "source": [
    "import numpy as np\n",
    "import pandas as pd\n"
   ]
  },
  {
   "cell_type": "code",
   "execution_count": 2,
   "metadata": {},
   "outputs": [],
   "source": [
    "pd.options.display.max_rows = 600\n",
    "pd.options.display.max_columns = 85\n",
    "path = '~/Dropbox/CDS-2019-AlbanyHub/'\n",
    "in_file = '/home/mirabel/Dropbox (GaTech)/CDS-2019-AlbanyHub/Raw-Data/ReformattedYears/Total.csv'"
   ]
  },
  {
   "cell_type": "code",
   "execution_count": 3,
   "metadata": {},
   "outputs": [
    {
     "name": "stderr",
     "output_type": "stream",
     "text": [
      "/home/mirabel/Documents/cds/cds_env/lib/python3.7/site-packages/IPython/core/interactiveshell.py:3049: DtypeWarning: Columns (3,5,6,7,8,9,10,11,12,13,14,16,18) have mixed types. Specify dtype option on import or set low_memory=False.\n",
      "  interactivity=interactivity, compiler=compiler, result=result)\n"
     ]
    }
   ],
   "source": [
    "df= pd.read_csv(in_file)"
   ]
  },
  {
   "cell_type": "code",
   "execution_count": 5,
   "metadata": {},
   "outputs": [
    {
     "data": {
      "text/plain": [
       "(30722,)"
      ]
     },
     "execution_count": 5,
     "metadata": {},
     "output_type": "execute_result"
    }
   ],
   "source": [
    "s_utilities = df['Premise Address'].unique()\n",
    "del df\n",
    "s_utilities.shape"
   ]
  },
  {
   "cell_type": "code",
   "execution_count": 31,
   "metadata": {},
   "outputs": [],
   "source": [
    "#Convert list of unique addresses to csvs\n",
    "#CSVs are in blocks of 2500 for ease of geocoding\n",
    "for i in range(1, 12):\n",
    "    start = i*2500\n",
    "    end = (i+1)*2500\n",
    "    df_dict = {'Address':s_utilities[start:end], 'City':city_arr, 'State':state_arr}\n",
    "    df = pd.DataFrame(data=df_dict)\n",
    "    df.to_csv(path+\"addr\"+str(start)+\"_\"+str(end)+\".csv\")"
   ]
  },
  {
   "cell_type": "code",
   "execution_count": 39,
   "metadata": {},
   "outputs": [],
   "source": [
    "#Sampe\n",
    "l = len(s_utilities)-30000\n",
    "city_arr = np.array(['ALBANY']*l)\n",
    "state_arr = np.array(['GA']*l)\n",
    "df_dict = {'Address':s_utilities[30000:], 'City':city_arr, 'State':state_arr}\n",
    "df = pd.DataFrame(data=df_dict)\n",
    "df.to_csv(path+\"addr\"+str(30000)+\".csv\")"
   ]
  },
  {
   "cell_type": "code",
   "execution_count": 38,
   "metadata": {},
   "outputs": [
    {
     "data": {
      "text/plain": [
       "714"
      ]
     },
     "execution_count": 38,
     "metadata": {},
     "output_type": "execute_result"
    }
   ],
   "source": [
    "len(s_utilities[30000:])"
   ]
  },
  {
   "cell_type": "code",
   "execution_count": null,
   "metadata": {},
   "outputs": [],
   "source": []
  }
 ],
 "metadata": {
  "kernelspec": {
   "display_name": "cds_env",
   "language": "python",
   "name": "cds_env"
  },
  "language_info": {
   "codemirror_mode": {
    "name": "ipython",
    "version": 3
   },
   "file_extension": ".py",
   "mimetype": "text/x-python",
   "name": "python",
   "nbconvert_exporter": "python",
   "pygments_lexer": "ipython3",
   "version": "3.7.1"
  }
 },
 "nbformat": 4,
 "nbformat_minor": 2
}
