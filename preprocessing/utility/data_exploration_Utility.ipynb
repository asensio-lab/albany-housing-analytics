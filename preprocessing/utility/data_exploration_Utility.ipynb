{
 "cells": [
  {
   "cell_type": "code",
   "execution_count": 14,
   "metadata": {},
   "outputs": [
    {
     "data": {
      "text/plain": [
       "(14748395, 18)"
      ]
     },
     "execution_count": 14,
     "metadata": {},
     "output_type": "execute_result"
    }
   ],
   "source": [
    "import pandas as pd\n",
    "import numpy as np\n",
    "import matplotlib.pyplot as plt\n",
    "import datetime as dt\n",
    "pathstring=\"~/Dropbox/CDS-2019-AlbanyHub/ToDatabase/TotalUtilities_v02.csv\"\n",
    "# df_array = []\n",
    "# for i in range(2012, 2020):\n",
    "#     df_array.append(pd.read_csv(pathstring+str(i)+\".csv\"))\n",
    "# df = pd.concat(df_array)\n",
    "df = pd.read_csv(pathstring)\n",
    "df.shape"
   ]
  },
  {
   "cell_type": "markdown",
   "metadata": {},
   "source": [
    "## Questions:\n",
    "Consumption<0<br>\n",
    "Very high consumption numbers (19999999)<br>\n",
    "Negative Charge amounts <br>\n",
    "Zero Days of Service<br>\n",
    "Charge with no consumption/consumption with no charge<br>\n",
    "Missing data<br>\n",
    "Meaning of Service Rate?\n",
    "## To Do:\n",
    "<ul>\n",
    "<li>Recode units of measure<br>\n",
    "<li>Decide relevant type categories\n"
   ]
  },
  {
   "cell_type": "code",
   "execution_count": null,
   "metadata": {},
   "outputs": [],
   "source": [
    "df.head()"
   ]
  },
  {
   "cell_type": "markdown",
   "metadata": {},
   "source": [
    "# 1. Identifiers"
   ]
  },
  {
   "cell_type": "markdown",
   "metadata": {},
   "source": [
    "Premise Address, Month, Year, Service Type"
   ]
  },
  {
   "cell_type": "markdown",
   "metadata": {},
   "source": [
    "# 2. Date Range"
   ]
  },
  {
   "cell_type": "markdown",
   "metadata": {},
   "source": [
    "2012-2019"
   ]
  },
  {
   "cell_type": "markdown",
   "metadata": {},
   "source": [
    "# 3. Counts of Observations"
   ]
  },
  {
   "cell_type": "code",
   "execution_count": null,
   "metadata": {},
   "outputs": [],
   "source": [
    "df.shape"
   ]
  },
  {
   "cell_type": "markdown",
   "metadata": {},
   "source": [
    "# 4. Validate Data"
   ]
  },
  {
   "cell_type": "code",
   "execution_count": null,
   "metadata": {},
   "outputs": [],
   "source": [
    "df.columns"
   ]
  },
  {
   "cell_type": "markdown",
   "metadata": {},
   "source": [
    "# 5. Inspect Values"
   ]
  },
  {
   "cell_type": "markdown",
   "metadata": {},
   "source": [
    "#### Negative Consumption Values"
   ]
  },
  {
   "cell_type": "code",
   "execution_count": null,
   "metadata": {},
   "outputs": [],
   "source": [
    "#c_less0= df[df['Consumption']<0]\n",
    "df.sort_values(by='Consumption').head(20)"
   ]
  },
  {
   "cell_type": "markdown",
   "metadata": {},
   "source": [
    "Both consumption and charge amount can be less than or equal to 0\n",
    "#### High Consumption Values"
   ]
  },
  {
   "cell_type": "code",
   "execution_count": null,
   "metadata": {},
   "outputs": [],
   "source": [
    "df.sort_values(by='Consumption', ascending=False).head(20)"
   ]
  },
  {
   "cell_type": "markdown",
   "metadata": {},
   "source": [
    "Some consumption values seem to be maxed out at 9999999. High values are all DELC =  Demand Commercial Electric(?)\n",
    "#### Negative Charge Amounts"
   ]
  },
  {
   "cell_type": "code",
   "execution_count": null,
   "metadata": {},
   "outputs": [],
   "source": [
    "df.sort_values(by='Charge Amount').head(20)"
   ]
  },
  {
   "cell_type": "markdown",
   "metadata": {},
   "source": [
    "Repayments with NaN service types - 300 Pine Ave seems to get monthly repayments"
   ]
  },
  {
   "cell_type": "code",
   "execution_count": null,
   "metadata": {},
   "outputs": [],
   "source": [
    "df.sort_values(by='Charge Amount', ascending=False).head(20)"
   ]
  },
  {
   "cell_type": "markdown",
   "metadata": {},
   "source": [
    "#### Zero Days of Service"
   ]
  },
  {
   "cell_type": "code",
   "execution_count": null,
   "metadata": {},
   "outputs": [],
   "source": [
    "df.sort_values(by='Days of Service').head(20)"
   ]
  },
  {
   "cell_type": "code",
   "execution_count": null,
   "metadata": {},
   "outputs": [],
   "source": [
    "df.sort_values(by='Days of Service', ascending=False).head(20)"
   ]
  },
  {
   "cell_type": "markdown",
   "metadata": {},
   "source": [
    "Can have projects with 0 days of service. Consumption/Charge Amount is not always 0"
   ]
  },
  {
   "cell_type": "code",
   "execution_count": null,
   "metadata": {},
   "outputs": [],
   "source": [
    "df[(df['Days of Service']==0)&(df['Charge Amount']>0)]"
   ]
  },
  {
   "cell_type": "markdown",
   "metadata": {},
   "source": [
    "#### Consumption with no charge"
   ]
  },
  {
   "cell_type": "code",
   "execution_count": null,
   "metadata": {},
   "outputs": [],
   "source": [
    "df[(df['Consumption']>0)&(df['Charge Amount']==0)]"
   ]
  },
  {
   "cell_type": "markdown",
   "metadata": {},
   "source": [
    "Negative consumption with positive charge, vice versa"
   ]
  },
  {
   "cell_type": "code",
   "execution_count": null,
   "metadata": {},
   "outputs": [],
   "source": [
    "df[(df['Consumption']<0)&(df['Charge Amount']>0)].head()"
   ]
  },
  {
   "cell_type": "code",
   "execution_count": null,
   "metadata": {},
   "outputs": [],
   "source": [
    "df[(df['Consumption']<0)].shape"
   ]
  },
  {
   "cell_type": "markdown",
   "metadata": {},
   "source": [
    "#### Percent of data which is complete (no nan)"
   ]
  },
  {
   "cell_type": "code",
   "execution_count": null,
   "metadata": {
    "scrolled": true
   },
   "outputs": [],
   "source": [
    "df2 = df.drop(['City', 'State'], axis=1).dropna()\n",
    "l1 = df.shape[0]\n",
    "df2.shape[0]/l1"
   ]
  },
  {
   "cell_type": "code",
   "execution_count": null,
   "metadata": {},
   "outputs": [],
   "source": [
    "df = df.fillna(value=0)"
   ]
  },
  {
   "cell_type": "code",
   "execution_count": null,
   "metadata": {},
   "outputs": [],
   "source": [
    "def recode(series):\n",
    "    if series == 'Jan':\n",
    "        return 1\n",
    "    elif series == 'Feb':\n",
    "        return 2\n",
    "    elif series== 'Mar':\n",
    "        return 3\n",
    "    elif series == 'Apr':\n",
    "        return 4\n",
    "    elif series== 'May':\n",
    "        return 5\n",
    "    elif series == 'Jun':\n",
    "        return 6\n",
    "    elif series== 'Jul':\n",
    "        return 7\n",
    "    elif series == 'Aug':\n",
    "        return 8\n",
    "    elif series== 'Sep':\n",
    "        return 9\n",
    "    elif series == 'Oct':\n",
    "        return 10\n",
    "    elif series== 'Nov':\n",
    "        return 11\n",
    "    elif series == 'Dec':\n",
    "        return 12\n",
    "df['Month']=df['Month'].apply(recode)"
   ]
  },
  {
   "cell_type": "code",
   "execution_count": null,
   "metadata": {},
   "outputs": [],
   "source": [
    "# Other zero values\n",
    "df[df['Charge Date'].isnull()].shape"
   ]
  },
  {
   "cell_type": "markdown",
   "metadata": {},
   "source": [
    "# 6. Temporal Distributions"
   ]
  },
  {
   "cell_type": "code",
   "execution_count": null,
   "metadata": {
    "scrolled": true
   },
   "outputs": [],
   "source": [
    "df_group = df.groupby(['Service Type', 'Month'])\n",
    "mns = df_group.mean()\n",
    "vals = mns.loc['CELC']['Consumption']"
   ]
  },
  {
   "cell_type": "code",
   "execution_count": null,
   "metadata": {},
   "outputs": [],
   "source": [
    "plt.bar(range(12), vals)\n",
    "plt.title(\"Average CELC over 12 months\")"
   ]
  },
  {
   "cell_type": "code",
   "execution_count": null,
   "metadata": {},
   "outputs": [],
   "source": [
    "vals = mns.loc['CGAS']['Consumption']\n",
    "plt.bar(range(12), vals)\n",
    "plt.title(\"Average CGAS over 12 months\")"
   ]
  },
  {
   "cell_type": "code",
   "execution_count": null,
   "metadata": {},
   "outputs": [],
   "source": [
    "vals = mns.loc['RELC']['Consumption']\n",
    "plt.bar(range(12), vals)\n",
    "plt.title(\"Average RELC over 12 months\")"
   ]
  },
  {
   "cell_type": "markdown",
   "metadata": {},
   "source": [
    "# 7. Misc Questions"
   ]
  },
  {
   "cell_type": "markdown",
   "metadata": {},
   "source": [
    "#### correlation between service type and unit of measure\n",
    "Service type corresponds to one unit of measure (except a few values in CGAS)<br>\n",
    "MCF = Thousand Cubic Feet, #CCF = Hundred Cubic Feet<br>\n",
    "standardize this?<br>"
   ]
  },
  {
   "cell_type": "code",
   "execution_count": null,
   "metadata": {},
   "outputs": [],
   "source": [
    "\n",
    "df_group = df.groupby(['Service Type', 'Unit of Measure'])\n",
    "df_counts = df_group.count()\n",
    "df_counts"
   ]
  },
  {
   "cell_type": "markdown",
   "metadata": {},
   "source": [
    "#### Other way around"
   ]
  },
  {
   "cell_type": "code",
   "execution_count": null,
   "metadata": {
    "scrolled": true
   },
   "outputs": [],
   "source": [
    "\n",
    "df_group = df.groupby(['Unit of Measure', 'Service Type'])\n",
    "df_counts = df_group.count()\n",
    "df_counts"
   ]
  },
  {
   "cell_type": "markdown",
   "metadata": {},
   "source": [
    "From the data dictionary:<br>\n",
    "CELC\t100-149\tCommerical Electric<br>\n",
    "CGAR\t500-599\tCommerical Garbage <b>not in data set</b><br> \n",
    "CGAS\t200-299\tCommercial Gas<br>\n",
    "CO\t    200-299\tCash Out<br>\n",
    "CSWR\t400-499\tCommercial Sewer<br>\n",
    "CTEL\t800-899\tCommercial Telecom <b> not in data set</b><br>\n",
    "CWTR\t300-399\tCommercial Water<br>\n",
    "DELC\t100-149\tDemand Commercial Electric<br>\n",
    "FGAS\t200-299\tFirm Gas<br>\n",
    "GELC\t100-149\tGoverment Electric<br>\n",
    "GGAS\t200-299\tGoverment Gas<br>\n",
    "GWTR\t300-399\tGovernment Water<br>\n",
    "IGAS\t200-299\tInterruptible Gas<br>\n",
    "MSWR\t400-499\tMetered Sewer<br>\n",
    "RELC\t100-149\tResidential Electric<br>\n",
    "RGAR\t500-599\tResidential Garbage<b> not in data set</b><br>\n",
    "RGAS\t200-299\tResidential Gas<br>\n",
    "RSWR\t400-499\tResidential Sewer<br>\n",
    "RTEL\t800-899\tResidential Telecom <b> not in data set</b><br> \n",
    "RWTR\t300-399\tResidential Water<br>\n",
    "SCLT\t150-199\tSecurity Light <b> not in data set</b><br>\n",
    "SLCM\t150-199\tSecurity Light Commercial <b> not in data set</b><br>\n",
    "SLRE\t150-199\tSecurity Light Residential <b> not in data set</b><br>\n",
    "STRM\t700-799\tStorm water <b> not in data set</b><br>\n",
    "TEMP\t100-149\tTemporary Services<br>\n",
    "UELC\t100-149\tUnmetered Electric <b> not in data set</b><br>\n",
    "USWR\t400-499\tUnmetered Sewer<br>\n",
    "WCOM\t300-399\tWater - Compound Meter<br>\n",
    "\n",
    "#### Check to see if the service codes correspond"
   ]
  },
  {
   "cell_type": "code",
   "execution_count": null,
   "metadata": {
    "scrolled": true
   },
   "outputs": [],
   "source": [
    "def get_stats(group):\n",
    "    return {'max': group.max(), 'min': group.min(), 'count': group.count()}\n",
    "df['Service Number'].groupby(df['Service Type']).apply(get_stats).unstack()"
   ]
  },
  {
   "cell_type": "code",
   "execution_count": null,
   "metadata": {},
   "outputs": [],
   "source": [
    "df.shape"
   ]
  },
  {
   "cell_type": "markdown",
   "metadata": {},
   "source": [
    "#### Service Rates"
   ]
  },
  {
   "cell_type": "code",
   "execution_count": null,
   "metadata": {},
   "outputs": [],
   "source": [
    "df_group = df.groupby(['Service Type', 'Service Rate'])\n",
    "df_counts = df_group.count()\n",
    "df_counts.iloc[81:120]"
   ]
  },
  {
   "cell_type": "code",
   "execution_count": null,
   "metadata": {},
   "outputs": [],
   "source": [
    "df_group = df.groupby(['Service Rate', 'Service Type'])\n",
    "df_counts = df_group['Premise Address'].count()\n",
    "df_counts[50:90]"
   ]
  },
  {
   "cell_type": "markdown",
   "metadata": {},
   "source": [
    "#### What Service types have consumption less than 0?"
   ]
  },
  {
   "cell_type": "code",
   "execution_count": null,
   "metadata": {},
   "outputs": [],
   "source": [
    "df_cless0 = df.loc[df[\"Consumption\"]<0, :]\n",
    "df_cless0_gp = df_cless0.groupby(['Service Type'])\n",
    "df_cless0_gp.count()\n",
    "#No clear pattern"
   ]
  },
  {
   "cell_type": "code",
   "execution_count": null,
   "metadata": {},
   "outputs": [],
   "source": [
    "df_eq0 = df.loc[df[\"Consumption\"]==0, :]\n",
    "df_eq0_gp = df_eq0.groupby(['Service Type'])\n",
    "df_eq0_gp.count()\n",
    "#No clear pattern"
   ]
  },
  {
   "cell_type": "markdown",
   "metadata": {},
   "source": [
    "#### Looking at individual projects"
   ]
  },
  {
   "cell_type": "code",
   "execution_count": null,
   "metadata": {},
   "outputs": [],
   "source": []
  },
  {
   "cell_type": "code",
   "execution_count": null,
   "metadata": {},
   "outputs": [],
   "source": [
    "def toDate(series):\n",
    "    return dt.datetime.strptime(series, '%Y-%m-%d')\n",
    "def toDate2(series):\n",
    "    return dt.datetime.strptime(series[:-9], '%Y-%m-%d')\n",
    "#shift the year and month back by one to account for discrepencies in billing time\n",
    "def shift_ym(series):\n",
    "    if series['Month'] == 1:\n",
    "        return {'YearShift':y-1, 'MonthShift':12}\n",
    "    else:\n",
    "        return {'YearShift':y, 'MonthShift':m-1}\n"
   ]
  },
  {
   "cell_type": "code",
   "execution_count": null,
   "metadata": {},
   "outputs": [],
   "source": [
    "w0 = pd.read_csv(\"~/Dropbox/CDS-2019-AlbanyHub/ToDatabase/LCD_month.csv\")\n",
    "df.drop(columns=['ChargeID','ChargeID.1', 'ChargeID.1.1'], inplace=True, errors='ignore')\n",
    "w = w0.loc[w0['YEAR']>=2012, :].copy()\n",
    "w['DATE2'] = w['DATE'].apply(toDate2)\n",
    "w.head()"
   ]
  },
  {
   "cell_type": "code",
   "execution_count": null,
   "metadata": {},
   "outputs": [],
   "source": [
    "#o = df[df['Premise Address'] == '2116 W WADDELL AVE']\n",
    "#o = df[df['Premise Address'] == '1921 EDGERLY AVE'].copy()\n",
    "o = df[df['Premise Address'] == '912 JEFFERIES AVE']\n",
    "#o = df[df['Premise Address'] == '923 W GORDON AVE']\n",
    "o.groupby(by=['Year', 'Service Type']).count()"
   ]
  },
  {
   "cell_type": "code",
   "execution_count": null,
   "metadata": {
    "scrolled": true
   },
   "outputs": [],
   "source": [
    "sr = o.loc[o['Service Type']=='RELC', :].copy()\n",
    "sr['Charge Date'] = sr['Charge Date'].apply(toDate)"
   ]
  },
  {
   "cell_type": "code",
   "execution_count": null,
   "metadata": {
    "scrolled": true
   },
   "outputs": [],
   "source": [
    "p = sr.plot(x='Charge Date', y='Consumption')"
   ]
  },
  {
   "cell_type": "code",
   "execution_count": null,
   "metadata": {},
   "outputs": [],
   "source": [
    "p = w.plot(x='DATE2', y='CLDD')"
   ]
  },
  {
   "cell_type": "code",
   "execution_count": null,
   "metadata": {},
   "outputs": [],
   "source": []
  },
  {
   "cell_type": "code",
   "execution_count": null,
   "metadata": {},
   "outputs": [],
   "source": [
    "#Get consumption and weather normalized by days per month\n",
    "sr2 = sr.loc[:, ['Year', 'Month', 'Service Type', 'Premise Address', 'Charge Amount', 'Consumption']].groupby(by=['Year', 'Month', 'Service Type', 'Premise Address'])\n",
    "sr2 = sr2.sum().reset_index()\n",
    "days_per_month = [31,28,31,30,31,30,31,31,30,31,30,31]\n",
    "days_per_month_ly =[31,29,31,30,31,30,31,31,30,31,30,31]\n",
    "w0['HTDD_norm'] = w0['HTDD']\n",
    "w0['CLDD_norm'] = w0['CLDD']\n",
    "sr2['Consumption_norm'] = sr2['Consumption']\n",
    "#Also print months which have more than one record \n",
    "for y in range(2001, 2019):\n",
    "    for m in range(1,13):\n",
    "        record_w = w0.loc[(w0['YEAR']==y)&(w0['MONTH']==m), :]\n",
    "        record_u = sr2.loc[(sr2['Year']==y)&(sr2['Month']==m), :]\n",
    "        if len(record_u)>1:\n",
    "            print((m, y))\n",
    "        if y%4 == 0:\n",
    "            w0.loc[record_w.index, 'HTDD_norm'] = w0.loc[record_w.index, 'HTDD']/days_per_month_ly[m-1]\n",
    "            w0.loc[record_w.index, 'CLDD_norm'] = w0.loc[record_w.index, 'CLDD']/days_per_month_ly[m-1]\n",
    "            sr2.loc[record_u.index, 'Consumption_norm'] = sr2.loc[record_u.index, 'Consumption']/days_per_month_ly[m-1]\n",
    "        else:\n",
    "            w0.loc[record_w.index, 'HTDD_norm'] = w0.loc[record_w.index, 'HTDD']/days_per_month[m-1]\n",
    "            w0.loc[record_w.index, 'CLDD_norm'] = w0.loc[record_w.index, 'CLDD']/days_per_month[m-1]\n",
    "            sr2.loc[record_u.index, 'Consumption_norm'] = sr2.loc[record_u.index, 'Consumption']/days_per_month[m-1]"
   ]
  },
  {
   "cell_type": "code",
   "execution_count": null,
   "metadata": {},
   "outputs": [],
   "source": [
    "new_df = pd.merge(w0, sr2,  how='left', left_on=['YEAR', 'MONTH'], right_on=['Year','Month'])\n",
    "new_df_sub = new_df.loc[new_df['YEAR']==2013, :]"
   ]
  },
  {
   "cell_type": "code",
   "execution_count": null,
   "metadata": {},
   "outputs": [],
   "source": [
    "new_df_sub.plot(x='CLDD_norm', y='Consumption_norm', kind='scatter')"
   ]
  },
  {
   "cell_type": "code",
   "execution_count": null,
   "metadata": {},
   "outputs": [],
   "source": [
    "sr[sr['Year']==2018]"
   ]
  },
  {
   "cell_type": "code",
   "execution_count": null,
   "metadata": {},
   "outputs": [],
   "source": [
    "df[(df['Year']==2018) & (df['Service Type']=='RGAS')].shape"
   ]
  },
  {
   "cell_type": "code",
   "execution_count": null,
   "metadata": {},
   "outputs": [],
   "source": [
    "df[(df['Year']==2017) & (df['Service Type']=='RGAS')]"
   ]
  },
  {
   "cell_type": "code",
   "execution_count": null,
   "metadata": {},
   "outputs": [],
   "source": [
    "w0"
   ]
  },
  {
   "cell_type": "code",
   "execution_count": null,
   "metadata": {},
   "outputs": [],
   "source": []
  }
 ],
 "metadata": {
  "kernelspec": {
   "display_name": "Python [conda env:cds] *",
   "language": "python",
   "name": "conda-env-cds-py"
  },
  "language_info": {
   "codemirror_mode": {
    "name": "ipython",
    "version": 3
   },
   "file_extension": ".py",
   "mimetype": "text/x-python",
   "name": "python",
   "nbconvert_exporter": "python",
   "pygments_lexer": "ipython3",
   "version": "3.7.3"
  }
 },
 "nbformat": 4,
 "nbformat_minor": 2
}
